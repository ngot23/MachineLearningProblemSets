{
  "nbformat": 4,
  "nbformat_minor": 0,
  "metadata": {
    "kernelspec": {
      "display_name": "Python 3",
      "language": "python",
      "name": "python3"
    },
    "language_info": {
      "codemirror_mode": {
        "name": "ipython",
        "version": 3
      },
      "file_extension": ".py",
      "mimetype": "text/x-python",
      "name": "python",
      "nbconvert_exporter": "python",
      "pygments_lexer": "ipython3",
      "version": "3.6.5"
    },
    "colab": {
      "name": "Week5_Project.ipynb",
      "provenance": [],
      "collapsed_sections": [],
      "toc_visible": true,
      "include_colab_link": true
    }
  },
  "cells": [
    {
      "cell_type": "markdown",
      "metadata": {
        "id": "view-in-github",
        "colab_type": "text"
      },
      "source": [
        "<a href=\"https://colab.research.google.com/github/ngot23/MachineLearningProblemSets/blob/master/Week5_Project.ipynb\" target=\"_parent\"><img src=\"https://colab.research.google.com/assets/colab-badge.svg\" alt=\"Open In Colab\"/></a>"
      ]
    },
    {
      "cell_type": "markdown",
      "metadata": {
        "id": "ofzy8xHIXdQF",
        "colab_type": "text"
      },
      "source": [
        "[Bag of Words Meets Bags of Popcorn](https://www.kaggle.com/c/word2vec-nlp-tutorial/data)\n",
        "======\n",
        "\n",
        "## Data Set\n",
        "\n",
        "The labeled data set consists of 50,000 IMDB movie reviews, specially selected for sentiment analysis. The sentiment of reviews is binary, meaning the IMDB rating < 5 results in a sentiment score of 0, and rating >=7 have a sentiment score of 1. No individual movie has more than 30 reviews. The 25,000 review labeled training set does not include any of the same movies as the 25,000 review test set. In addition, there are another 50,000 IMDB reviews provided without any rating labels.\n",
        "\n",
        "## File descriptions\n",
        "\n",
        "labeledTrainData - The labeled training set. The file is tab-delimited and has a header row followed by 25,000 rows containing an id, sentiment, and text for each review.\n",
        "## Data fields\n",
        "\n",
        "* id - Unique ID of each review\n",
        "* sentiment - Sentiment of the review; 1 for positive reviews and 0 for negative reviews\n",
        "* review - Text of the review\n",
        "\n",
        "## Objective\n",
        "Objective of this dataset is base on **review** we predict **sentiment** (positive or negative) so X is **review** column and y is **sentiment** column"
      ]
    },
    {
      "cell_type": "code",
      "metadata": {
        "id": "LMCql3mUL3-A",
        "colab_type": "code",
        "colab": {
          "base_uri": "https://localhost:8080/",
          "height": 124
        },
        "outputId": "4b878933-2040-4595-bf83-77b84ededfe4"
      },
      "source": [
        "from google.colab import drive\n",
        "drive.mount('/content/gdrive')"
      ],
      "execution_count": 2,
      "outputs": [
        {
          "output_type": "stream",
          "text": [
            "Go to this URL in a browser: https://accounts.google.com/o/oauth2/auth?client_id=947318989803-6bn6qk8qdgf4n4g3pfee6491hc0brc4i.apps.googleusercontent.com&redirect_uri=urn%3aietf%3awg%3aoauth%3a2.0%3aoob&response_type=code&scope=email%20https%3a%2f%2fwww.googleapis.com%2fauth%2fdocs.test%20https%3a%2f%2fwww.googleapis.com%2fauth%2fdrive%20https%3a%2f%2fwww.googleapis.com%2fauth%2fdrive.photos.readonly%20https%3a%2f%2fwww.googleapis.com%2fauth%2fpeopleapi.readonly\n",
            "\n",
            "Enter your authorization code:\n",
            "··········\n",
            "Mounted at /content/gdrive\n"
          ],
          "name": "stdout"
        }
      ]
    },
    {
      "cell_type": "markdown",
      "metadata": {
        "id": "dub6uxUzXdQH",
        "colab_type": "text"
      },
      "source": [
        "## 1. Load Dataset\n",
        "\n",
        "Let's first of all have a look at the data. You can download the file `labeledTrainData.tsv` on the [Kaggle website of the competition](https://www.kaggle.com/c/word2vec-nlp-tutorial/data), or on our [Google Drive](https://drive.google.com/file/d/1a1Lyn7ihikk3klAX26fgO3YsGdWHWoK5/view?usp=sharing)\n"
      ]
    },
    {
      "cell_type": "code",
      "metadata": {
        "id": "y1WU9XkYXdQI",
        "colab_type": "code",
        "colab": {}
      },
      "source": [
        "# Import pandas, numpy\n",
        "import pandas as pd\n",
        "import numpy as np"
      ],
      "execution_count": 3,
      "outputs": []
    },
    {
      "cell_type": "code",
      "metadata": {
        "id": "_iH9rAw7XdQL",
        "colab_type": "code",
        "colab": {}
      },
      "source": [
        "# Read dataset with extra params sep='\\t', encoding=\"latin-1\"\n",
        "sentiment = pd.read_csv('/content/gdrive/My Drive/week5/labeledTrainData.tsv', sep='\\t', encoding='latin-1')"
      ],
      "execution_count": 4,
      "outputs": []
    },
    {
      "cell_type": "code",
      "metadata": {
        "id": "DZ0oMFj4MiYG",
        "colab_type": "code",
        "colab": {
          "base_uri": "https://localhost:8080/",
          "height": 363
        },
        "outputId": "447aa3a5-3c0a-4906-b05b-10a162d3fa0c"
      },
      "source": [
        "sentiment.sample(10)"
      ],
      "execution_count": 6,
      "outputs": [
        {
          "output_type": "execute_result",
          "data": {
            "text/html": [
              "<div>\n",
              "<style scoped>\n",
              "    .dataframe tbody tr th:only-of-type {\n",
              "        vertical-align: middle;\n",
              "    }\n",
              "\n",
              "    .dataframe tbody tr th {\n",
              "        vertical-align: top;\n",
              "    }\n",
              "\n",
              "    .dataframe thead th {\n",
              "        text-align: right;\n",
              "    }\n",
              "</style>\n",
              "<table border=\"1\" class=\"dataframe\">\n",
              "  <thead>\n",
              "    <tr style=\"text-align: right;\">\n",
              "      <th></th>\n",
              "      <th>id</th>\n",
              "      <th>sentiment</th>\n",
              "      <th>review</th>\n",
              "    </tr>\n",
              "  </thead>\n",
              "  <tbody>\n",
              "    <tr>\n",
              "      <th>18256</th>\n",
              "      <td>1905_10</td>\n",
              "      <td>1</td>\n",
              "      <td>Quite simply the funniest and shiniest film-co...</td>\n",
              "    </tr>\n",
              "    <tr>\n",
              "      <th>14265</th>\n",
              "      <td>3006_3</td>\n",
              "      <td>0</td>\n",
              "      <td>The movie opens with a flashback to Doddsville...</td>\n",
              "    </tr>\n",
              "    <tr>\n",
              "      <th>24275</th>\n",
              "      <td>5929_2</td>\n",
              "      <td>0</td>\n",
              "      <td>The people who are praising this film are the ...</td>\n",
              "    </tr>\n",
              "    <tr>\n",
              "      <th>17326</th>\n",
              "      <td>3419_10</td>\n",
              "      <td>1</td>\n",
              "      <td>Having Just \\Welcomed Home\\\" my 23 YR old daug...</td>\n",
              "    </tr>\n",
              "    <tr>\n",
              "      <th>16728</th>\n",
              "      <td>7517_7</td>\n",
              "      <td>1</td>\n",
              "      <td>Although The Notorious Bettie Page is well act...</td>\n",
              "    </tr>\n",
              "    <tr>\n",
              "      <th>21574</th>\n",
              "      <td>2678_8</td>\n",
              "      <td>1</td>\n",
              "      <td>Hey now, I can't claim to have seen all of the...</td>\n",
              "    </tr>\n",
              "    <tr>\n",
              "      <th>1883</th>\n",
              "      <td>1211_7</td>\n",
              "      <td>1</td>\n",
              "      <td>I grew up on this movie and I can remember whe...</td>\n",
              "    </tr>\n",
              "    <tr>\n",
              "      <th>23845</th>\n",
              "      <td>3192_1</td>\n",
              "      <td>0</td>\n",
              "      <td>What reviewers and MST3K left out is the best ...</td>\n",
              "    </tr>\n",
              "    <tr>\n",
              "      <th>99</th>\n",
              "      <td>1864_1</td>\n",
              "      <td>0</td>\n",
              "      <td>I may not be a critic, but here is what I thin...</td>\n",
              "    </tr>\n",
              "    <tr>\n",
              "      <th>15860</th>\n",
              "      <td>5730_1</td>\n",
              "      <td>0</td>\n",
              "      <td>Where to even start? The horrendous acting? Th...</td>\n",
              "    </tr>\n",
              "  </tbody>\n",
              "</table>\n",
              "</div>"
            ],
            "text/plain": [
              "            id  sentiment                                             review\n",
              "18256  1905_10          1  Quite simply the funniest and shiniest film-co...\n",
              "14265   3006_3          0  The movie opens with a flashback to Doddsville...\n",
              "24275   5929_2          0  The people who are praising this film are the ...\n",
              "17326  3419_10          1  Having Just \\Welcomed Home\\\" my 23 YR old daug...\n",
              "16728   7517_7          1  Although The Notorious Bettie Page is well act...\n",
              "21574   2678_8          1  Hey now, I can't claim to have seen all of the...\n",
              "1883    1211_7          1  I grew up on this movie and I can remember whe...\n",
              "23845   3192_1          0  What reviewers and MST3K left out is the best ...\n",
              "99      1864_1          0  I may not be a critic, but here is what I thin...\n",
              "15860   5730_1          0  Where to even start? The horrendous acting? Th..."
            ]
          },
          "metadata": {
            "tags": []
          },
          "execution_count": 6
        }
      ]
    },
    {
      "cell_type": "markdown",
      "metadata": {
        "id": "bbuaIdhWXdQO",
        "colab_type": "text"
      },
      "source": [
        "## 2. Preprocessing"
      ]
    },
    {
      "cell_type": "code",
      "metadata": {
        "id": "wJr6juwHXdQP",
        "colab_type": "code",
        "colab": {
          "base_uri": "https://localhost:8080/",
          "height": 69
        },
        "outputId": "0a26be7e-f836-40b9-af8b-fac8b83bfa56"
      },
      "source": [
        "# stop words\n",
        "import nltk\n",
        "nltk.download('stopwords')\n"
      ],
      "execution_count": 7,
      "outputs": [
        {
          "output_type": "stream",
          "text": [
            "[nltk_data] Downloading package stopwords to /root/nltk_data...\n",
            "[nltk_data]   Unzipping corpora/stopwords.zip.\n"
          ],
          "name": "stdout"
        },
        {
          "output_type": "execute_result",
          "data": {
            "text/plain": [
              "True"
            ]
          },
          "metadata": {
            "tags": []
          },
          "execution_count": 7
        }
      ]
    },
    {
      "cell_type": "code",
      "metadata": {
        "id": "IAwZGXFIQv0b",
        "colab_type": "code",
        "colab": {}
      },
      "source": [
        "from collections import Counter\n",
        "\n",
        "vocab = Counter()\n",
        "for twit in sentiment['review']:\n",
        "    for word in twit.split(' '):\n",
        "        vocab[word] += 1\n",
        "\n",
        "# vocab.most_common(20)"
      ],
      "execution_count": 9,
      "outputs": []
    },
    {
      "cell_type": "code",
      "metadata": {
        "id": "TGkad8fLQl4A",
        "colab_type": "code",
        "colab": {
          "base_uri": "https://localhost:8080/",
          "height": 364
        },
        "outputId": "e561b505-5e4c-425d-86ac-c1d55b283a81"
      },
      "source": [
        "from nltk.corpus import stopwords\n",
        "stop_words = stopwords.words('english')\n",
        "\n",
        "vocab_reduced = Counter()\n",
        "# Go through all of the items of vocab using vocab.items() and pick only words that are not in 'stop_words' \n",
        "# and save them in vocab_reduced\n",
        "\n",
        "for w, c in vocab.items():\n",
        "    if not w in stop_words:\n",
        "        vocab_reduced[w]=c\n",
        "\n",
        "vocab_reduced.most_common(20)"
      ],
      "execution_count": 10,
      "outputs": [
        {
          "output_type": "execute_result",
          "data": {
            "text/plain": [
              "[('I', 65971),\n",
              " ('/><br', 50935),\n",
              " ('The', 33760),\n",
              " ('movie', 30496),\n",
              " ('film', 27394),\n",
              " ('one', 20685),\n",
              " ('like', 18133),\n",
              " ('This', 12279),\n",
              " ('would', 11922),\n",
              " ('good', 11435),\n",
              " ('It', 10950),\n",
              " ('really', 10814),\n",
              " ('even', 10605),\n",
              " ('see', 10154),\n",
              " ('-', 9355),\n",
              " ('get', 8776),\n",
              " ('story', 8523),\n",
              " ('much', 8506),\n",
              " ('time', 7762),\n",
              " ('make', 7485)]"
            ]
          },
          "metadata": {
            "tags": []
          },
          "execution_count": 10
        }
      ]
    },
    {
      "cell_type": "code",
      "metadata": {
        "id": "3v220Tp_XdQS",
        "colab_type": "code",
        "colab": {
          "base_uri": "https://localhost:8080/",
          "height": 34
        },
        "outputId": "127a07e2-e7ab-4ebd-cd0e-de76afa9656a"
      },
      "source": [
        "# Removing special characters and \"trash\"\n",
        "import re\n",
        "def preprocessor(text):\n",
        "    # Remove HTML markup\n",
        "    # text = None # Your code here\n",
        "    text = re.sub('<[^>]*>', '', text)\n",
        "\n",
        "    # Save emoticons for later appending\n",
        "    # Your code here\n",
        "    emoticons = re.findall('(?::|;|=)(?:-)?(?:\\)|\\(|D|P)', text)\n",
        "\n",
        "    # Remove any non-word character and append the emoticons,\n",
        "    # removing the nose character for standarization. Convert to lower case\n",
        "    # Your code here\n",
        "    text = (re.sub('[\\W]+', ' ', text.lower()) + ' ' + ' '.join(emoticons).replace('-', ''))\n",
        "    \n",
        "    return text\n",
        "\n",
        "print(preprocessor('I like it :), |||<><>'))"
      ],
      "execution_count": 11,
      "outputs": [
        {
          "output_type": "stream",
          "text": [
            "i like it  :)\n"
          ],
          "name": "stdout"
        }
      ]
    },
    {
      "cell_type": "code",
      "metadata": {
        "id": "-o5ED67LXdQV",
        "colab_type": "code",
        "colab": {}
      },
      "source": [
        "# tokenizer and stemming\n",
        "# tokenizer: to break down our twits in individual words\n",
        "# stemming: reducing a word to its root\n",
        "from nltk.stem import PorterStemmer\n",
        "# Your code here\n",
        "\n",
        "porter = PorterStemmer()\n",
        "\n",
        "\n",
        "\n",
        "def tokenizer_porter(text):\n",
        "    return [porter.stem(word) for word in text.split()]"
      ],
      "execution_count": 12,
      "outputs": []
    },
    {
      "cell_type": "code",
      "metadata": {
        "id": "zjzOxu4MXdQZ",
        "colab_type": "code",
        "colab": {}
      },
      "source": [
        "# split the dataset in train and test\n",
        "# Your code here\n",
        "from sklearn.model_selection import train_test_split\n",
        "\n",
        "X = sentiment['review']\n",
        "y = sentiment['sentiment']\n",
        "X_train, X_test, y_train, y_test = train_test_split(X, y, test_size=0.2, random_state=102)"
      ],
      "execution_count": 15,
      "outputs": []
    },
    {
      "cell_type": "markdown",
      "metadata": {
        "id": "COr1xR7PXdQc",
        "colab_type": "text"
      },
      "source": [
        "## 3. Create Model and Train \n",
        "\n",
        "Using **Pipeline** to concat **tfidf** step and **LogisticRegression** step"
      ]
    },
    {
      "cell_type": "code",
      "metadata": {
        "id": "tOpwINJmXdQd",
        "colab_type": "code",
        "colab": {
          "base_uri": "https://localhost:8080/",
          "height": 471
        },
        "outputId": "d3eca23f-2ec7-40fb-ff04-b2f21a953dd6"
      },
      "source": [
        "# Import Pipeline, LogisticRegression, TfidfVectorizer\n",
        "from sklearn.pipeline import Pipeline\n",
        "from sklearn.linear_model import LogisticRegression\n",
        "from sklearn.feature_extraction.text import TfidfVectorizer\n",
        "\n",
        "tfidf = TfidfVectorizer(stop_words=stop_words,\n",
        "                        tokenizer=tokenizer_porter,\n",
        "                        preprocessor=preprocessor)\n",
        "\n",
        "clf = Pipeline([('vect', tfidf),\n",
        "                ('clf', LogisticRegression(random_state=0))])\n",
        "clf.fit(X_train, y_train)"
      ],
      "execution_count": 16,
      "outputs": [
        {
          "output_type": "stream",
          "text": [
            "/usr/local/lib/python3.6/dist-packages/sklearn/feature_extraction/text.py:385: UserWarning: Your stop_words may be inconsistent with your preprocessing. Tokenizing the stop words generated tokens ['abov', 'ani', 'becaus', 'befor', 'doe', 'dure', 'ha', 'hi', 'onc', 'onli', 'ourselv', 'themselv', 'thi', 'veri', 'wa', 'whi', 'yourselv'] not in stop_words.\n",
            "  'stop_words.' % sorted(inconsistent))\n"
          ],
          "name": "stderr"
        },
        {
          "output_type": "execute_result",
          "data": {
            "text/plain": [
              "Pipeline(memory=None,\n",
              "         steps=[('vect',\n",
              "                 TfidfVectorizer(analyzer='word', binary=False,\n",
              "                                 decode_error='strict',\n",
              "                                 dtype=<class 'numpy.float64'>,\n",
              "                                 encoding='utf-8', input='content',\n",
              "                                 lowercase=True, max_df=1.0, max_features=None,\n",
              "                                 min_df=1, ngram_range=(1, 1), norm='l2',\n",
              "                                 preprocessor=<function preprocessor at 0x7fc0f9bb4f28>,\n",
              "                                 smooth_idf=True,\n",
              "                                 stop_words=['i', 'me', 'my', 'myself', '...\n",
              "                                 token_pattern='(?u)\\\\b\\\\w\\\\w+\\\\b',\n",
              "                                 tokenizer=<function tokenizer_porter at 0x7fc0f9bb4ea0>,\n",
              "                                 use_idf=True, vocabulary=None)),\n",
              "                ('clf',\n",
              "                 LogisticRegression(C=1.0, class_weight=None, dual=False,\n",
              "                                    fit_intercept=True, intercept_scaling=1,\n",
              "                                    l1_ratio=None, max_iter=100,\n",
              "                                    multi_class='auto', n_jobs=None,\n",
              "                                    penalty='l2', random_state=0,\n",
              "                                    solver='lbfgs', tol=0.0001, verbose=0,\n",
              "                                    warm_start=False))],\n",
              "         verbose=False)"
            ]
          },
          "metadata": {
            "tags": []
          },
          "execution_count": 16
        }
      ]
    },
    {
      "cell_type": "markdown",
      "metadata": {
        "id": "KYdoVMx_XdQf",
        "colab_type": "text"
      },
      "source": [
        "## 4. Evaluate Model"
      ]
    },
    {
      "cell_type": "code",
      "metadata": {
        "id": "Z2ZOzHoaXdQg",
        "colab_type": "code",
        "colab": {
          "base_uri": "https://localhost:8080/",
          "height": 260
        },
        "outputId": "a685e350-56c7-4a1e-bfba-44f402a18f1b"
      },
      "source": [
        "# Using Test dataset to evaluate model\n",
        "# classification_report\n",
        "# confusion matrix\n",
        "\n",
        "from sklearn.metrics import accuracy_score, confusion_matrix, classification_report\n",
        "\n",
        "\n",
        "predictions = clf.predict(X_test)\n",
        "print('accuracy:',accuracy_score(y_test,predictions))\n",
        "print('confusion matrix:\\n',confusion_matrix(y_test,predictions))\n",
        "print('classification report:\\n',classification_report(y_test,predictions))\n"
      ],
      "execution_count": 17,
      "outputs": [
        {
          "output_type": "stream",
          "text": [
            "accuracy: 0.8854\n",
            "confusion matrix:\n",
            " [[2164  339]\n",
            " [ 234 2263]]\n",
            "classification report:\n",
            "               precision    recall  f1-score   support\n",
            "\n",
            "           0       0.90      0.86      0.88      2503\n",
            "           1       0.87      0.91      0.89      2497\n",
            "\n",
            "    accuracy                           0.89      5000\n",
            "   macro avg       0.89      0.89      0.89      5000\n",
            "weighted avg       0.89      0.89      0.89      5000\n",
            "\n"
          ],
          "name": "stdout"
        }
      ]
    },
    {
      "cell_type": "markdown",
      "metadata": {
        "id": "NCAuLC0aXdQi",
        "colab_type": "text"
      },
      "source": [
        "## 5. Export Model "
      ]
    },
    {
      "cell_type": "code",
      "metadata": {
        "id": "sYHo_x67XdQj",
        "colab_type": "code",
        "colab": {}
      },
      "source": [
        "# Using pickle to export our trained model\n",
        "import pickle\n",
        "import os\n",
        "os.chdir('gdrive/My Drive/week5')\n",
        "pickle.dump(clf, open('MylogisticRegression.pkl', 'wb'))"
      ],
      "execution_count": 18,
      "outputs": []
    },
    {
      "cell_type": "code",
      "metadata": {
        "id": "oHVy2cIvSA4N",
        "colab_type": "code",
        "colab": {
          "base_uri": "https://localhost:8080/",
          "height": 72
        },
        "outputId": "cbf46e86-d8d4-46c4-acf4-65553fcb2c78"
      },
      "source": [
        "with open('MylogisticRegression.pkl', 'rb') as model:\n",
        "    reload_model = pickle.load(model)\n",
        "preds = reload_model.predict(X_test)\n",
        "\n"
      ],
      "execution_count": 21,
      "outputs": [
        {
          "output_type": "stream",
          "text": [
            "/usr/local/lib/python3.6/dist-packages/sklearn/feature_extraction/text.py:385: UserWarning: Your stop_words may be inconsistent with your preprocessing. Tokenizing the stop words generated tokens ['abov', 'ani', 'becaus', 'befor', 'doe', 'dure', 'ha', 'hi', 'onc', 'onli', 'ourselv', 'themselv', 'thi', 'veri', 'wa', 'whi', 'yourselv'] not in stop_words.\n",
            "  'stop_words.' % sorted(inconsistent))\n"
          ],
          "name": "stderr"
        }
      ]
    },
    {
      "cell_type": "code",
      "metadata": {
        "id": "I7OCb7ccSZIA",
        "colab_type": "code",
        "colab": {
          "base_uri": "https://localhost:8080/",
          "height": 34
        },
        "outputId": "868a7ce8-c30e-46a5-ef9b-e2586e5b74eb"
      },
      "source": [
        "print('accuracy:',accuracy_score(y_test,preds))"
      ],
      "execution_count": 22,
      "outputs": [
        {
          "output_type": "stream",
          "text": [
            "accuracy: 0.8854\n"
          ],
          "name": "stdout"
        }
      ]
    }
  ]
}