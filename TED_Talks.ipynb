{
  "nbformat": 4,
  "nbformat_minor": 0,
  "metadata": {
    "kernelspec": {
      "display_name": "Python 3",
      "language": "python",
      "name": "python3"
    },
    "language_info": {
      "codemirror_mode": {
        "name": "ipython",
        "version": 3
      },
      "file_extension": ".py",
      "mimetype": "text/x-python",
      "name": "python",
      "nbconvert_exporter": "python",
      "pygments_lexer": "ipython3",
      "version": "3.7.3"
    },
    "colab": {
      "name": "TED Talks.ipynb",
      "provenance": [],
      "collapsed_sections": [],
      "toc_visible": true,
      "include_colab_link": true
    }
  },
  "cells": [
    {
      "cell_type": "markdown",
      "metadata": {
        "id": "view-in-github",
        "colab_type": "text"
      },
      "source": [
        "<a href=\"https://colab.research.google.com/github/ngot23/MachineLearningProblemSets/blob/master/TED_Talks.ipynb\" target=\"_parent\"><img src=\"https://colab.research.google.com/assets/colab-badge.svg\" alt=\"Open In Colab\"/></a>"
      ]
    },
    {
      "cell_type": "markdown",
      "metadata": {
        "id": "dRlWowfwL6uk",
        "colab_type": "text"
      },
      "source": [
        "# Team 4 - TED Talks\n",
        "\n",
        "![](https://psmarketingimages.s3.amazonaws.com/blog/wp-content/uploads/2017/04/23103819/TED-Talks-for-Small-Business-and-Entrepreneurs.jpg)\n",
        "\n",
        "_For more information about the dataset, read [here](https://www.kaggle.com/rounakbanik/ted-talks)._\n",
        "\n",
        "## Your tasks\n",
        "- Name your team!\n",
        "- Read the source and do some quick research to understand more about the dataset and its topic\n",
        "- Clean the data\n",
        "- Perform Exploratory Data Analysis on the dataset\n",
        "- Analyze the data more deeply and extract insights\n",
        "- Visualize your analysis on Google Data Studio\n",
        "- Present your works in front of the class and guests next Monday\n",
        "\n",
        "## Submission Guide\n",
        "- Create a Github repository for your project\n",
        "- Upload the dataset (.csv file) and the Jupyter Notebook to your Github repository. In the Jupyter Notebook, **include the link to your Google Data Studio report**.\n",
        "- Submit your works through this [Google Form](https://forms.gle/oxtXpGfS8JapVj3V8).\n",
        "\n",
        "## Tips for Data Cleaning, Manipulation & Visualization\n",
        "- Here are some of our tips for Data Cleaning, Manipulation & Visualization. [Click here](https://hackmd.io/cBNV7E6TT2WMliQC-GTw1A)\n",
        "\n",
        "_____________________________\n",
        "\n",
        "## Some Hints for This Dataset:\n",
        "- The `ratings` column is in dictionary format. How should we handle them?\n",
        "- Same for `related_talks` and `tags` column\n",
        "- Can you find the `year` of the talks?\n",
        "- And more..."
      ]
    },
    {
      "cell_type": "markdown",
      "metadata": {
        "id": "4h99huqkuvlp",
        "colab_type": "text"
      },
      "source": [
        "**refer to TED Data Analysis**"
      ]
    },
    {
      "cell_type": "code",
      "metadata": {
        "id": "fKguEo23L6uo",
        "colab_type": "code",
        "colab": {
          "base_uri": "https://localhost:8080/",
          "height": 122
        },
        "outputId": "cbe87a7d-edb6-4252-fb61-f65d4a7d6084"
      },
      "source": [
        "# Start your codes here!\n",
        "from google.colab import drive\n",
        "drive.mount('/content/gdrive')\n",
        "\n"
      ],
      "execution_count": null,
      "outputs": [
        {
          "output_type": "stream",
          "text": [
            "Go to this URL in a browser: https://accounts.google.com/o/oauth2/auth?client_id=947318989803-6bn6qk8qdgf4n4g3pfee6491hc0brc4i.apps.googleusercontent.com&redirect_uri=urn%3aietf%3awg%3aoauth%3a2.0%3aoob&response_type=code&scope=email%20https%3a%2f%2fwww.googleapis.com%2fauth%2fdocs.test%20https%3a%2f%2fwww.googleapis.com%2fauth%2fdrive%20https%3a%2f%2fwww.googleapis.com%2fauth%2fdrive.photos.readonly%20https%3a%2f%2fwww.googleapis.com%2fauth%2fpeopleapi.readonly\n",
            "\n",
            "Enter your authorization code:\n",
            "··········\n",
            "Mounted at /content/gdrive\n"
          ],
          "name": "stdout"
        }
      ]
    },
    {
      "cell_type": "code",
      "metadata": {
        "id": "Tp_04itkV0d8",
        "colab_type": "code",
        "colab": {}
      },
      "source": [
        "import pandas as pd\n",
        "df = pd.read_csv('/content/gdrive/My Drive/Colab Notebooks/ted.csv')\n",
        "\n",
        "# df.head(10)"
      ],
      "execution_count": null,
      "outputs": []
    },
    {
      "cell_type": "code",
      "metadata": {
        "id": "GylxXl4mWXda",
        "colab_type": "code",
        "colab": {
          "base_uri": "https://localhost:8080/",
          "height": 102
        },
        "outputId": "4b8eeafc-0194-44dc-ec8b-0d8004cae2d4"
      },
      "source": [
        "print (df.columns)"
      ],
      "execution_count": null,
      "outputs": [
        {
          "output_type": "stream",
          "text": [
            "Index(['comments', 'description', 'duration', 'event', 'film_date',\n",
            "       'languages', 'main_speaker', 'name', 'num_speaker', 'published_date',\n",
            "       'ratings', 'related_talks', 'speaker_occupation', 'tags', 'title',\n",
            "       'url', 'views'],\n",
            "      dtype='object')\n"
          ],
          "name": "stdout"
        }
      ]
    },
    {
      "cell_type": "code",
      "metadata": {
        "id": "kzjZSicZWjER",
        "colab_type": "code",
        "colab": {}
      },
      "source": [
        "df = df[['name', 'title', 'description', 'main_speaker', 'speaker_occupation', 'num_speaker', 'duration', 'event', 'film_date', 'published_date', 'comments', 'tags', 'languages', 'ratings', 'related_talks', 'url', 'views']]"
      ],
      "execution_count": null,
      "outputs": []
    },
    {
      "cell_type": "code",
      "metadata": {
        "id": "vldAU2L6aSSd",
        "colab_type": "code",
        "colab": {}
      },
      "source": [
        "import datetime\n",
        "df['film_date'] = df['film_date'].apply(lambda x: datetime.datetime.fromtimestamp( int(x)).strftime('%d-%m-%Y'))\n",
        "df['published_date'] = df['published_date'].apply(lambda x: datetime.datetime.fromtimestamp( int(x)).strftime('%d-%m-%Y'))"
      ],
      "execution_count": null,
      "outputs": []
    },
    {
      "cell_type": "code",
      "metadata": {
        "id": "-tRDR3OzazyB",
        "colab_type": "code",
        "colab": {
          "base_uri": "https://localhost:8080/",
          "height": 34
        },
        "outputId": "b843ba6c-e87a-4617-980c-adb3331c0298"
      },
      "source": [
        "# df.head(1)\n",
        "len(df)"
      ],
      "execution_count": null,
      "outputs": [
        {
          "output_type": "execute_result",
          "data": {
            "text/plain": [
              "2550"
            ]
          },
          "metadata": {
            "tags": []
          },
          "execution_count": 6
        }
      ]
    },
    {
      "cell_type": "markdown",
      "metadata": {
        "id": "TcOVL0okbbsD",
        "colab_type": "text"
      },
      "source": [
        "# Most Viewed Talks of All Time"
      ]
    },
    {
      "cell_type": "code",
      "metadata": {
        "id": "PeUZYTo5bgBB",
        "colab_type": "code",
        "colab": {}
      },
      "source": [
        "mydata = df[['name', 'title', 'published_date', 'duration', 'languages', 'views']].sort_values(by='views', ascending=False)[:15]"
      ],
      "execution_count": null,
      "outputs": []
    },
    {
      "cell_type": "code",
      "metadata": {
        "id": "zrEnn5nceocZ",
        "colab_type": "code",
        "colab": {
          "base_uri": "https://localhost:8080/",
          "height": 71
        },
        "outputId": "3fef7a08-4771-4bb0-909a-f6c06019c1a7"
      },
      "source": [
        "import matplotlib.pyplot as plt\n",
        "import seaborn as sns"
      ],
      "execution_count": null,
      "outputs": [
        {
          "output_type": "stream",
          "text": [
            "/usr/local/lib/python3.6/dist-packages/statsmodels/tools/_testing.py:19: FutureWarning: pandas.util.testing is deprecated. Use the functions in the public API at pandas.testing instead.\n",
            "  import pandas.util.testing as tm\n"
          ],
          "name": "stderr"
        }
      ]
    },
    {
      "cell_type": "code",
      "metadata": {
        "id": "XODZgR4icULB",
        "colab_type": "code",
        "colab": {
          "base_uri": "https://localhost:8080/",
          "height": 449
        },
        "outputId": "16a39dfb-a791-4a82-a6ab-7b2dd1fb457b"
      },
      "source": [
        "# mydata.head(10)\n",
        "plt.figure(figsize = (10, 6))\n",
        "\n",
        "plt.xticks(rotation = 75)\n",
        "sns.barplot(x = 'published_date', y = 'views', data = mydata)\n",
        "plt.show()"
      ],
      "execution_count": null,
      "outputs": [
        {
          "output_type": "display_data",
          "data": {
            "image/png": "[encoded data removed]",
            "text/plain": [
              "<Figure size 720x432 with 1 Axes>"
            ]
          },
          "metadata": {
            "tags": [],
            "needs_background": "light"
          }
        }
      ]
    },
    {
      "cell_type": "markdown",
      "metadata": {
        "id": "XOM6b8ARgbak",
        "colab_type": "text"
      },
      "source": [
        "**views distributions**"
      ]
    },
    {
      "cell_type": "code",
      "metadata": {
        "id": "DFkZiq-DgSzF",
        "colab_type": "code",
        "colab": {
          "base_uri": "https://localhost:8080/",
          "height": 307
        },
        "outputId": "dadbdced-16c6-445e-8cbc-c395a198d2b0"
      },
      "source": [
        "sns.distplot(df['views'])"
      ],
      "execution_count": null,
      "outputs": [
        {
          "output_type": "execute_result",
          "data": {
            "text/plain": [
              "<matplotlib.axes._subplots.AxesSubplot at 0x7f74bbff62b0>"
            ]
          },
          "metadata": {
            "tags": []
          },
          "execution_count": 10
        },
        {
          "output_type": "display_data",
          "data": {
            "image/png": "[encoded data removed]",
            "text/plain": [
              "<Figure size 432x288 with 1 Axes>"
            ]
          },
          "metadata": {
            "tags": [],
            "needs_background": "light"
          }
        }
      ]
    },
    {
      "cell_type": "code",
      "metadata": {
        "id": "Y-eJtLS2gzP9",
        "colab_type": "code",
        "colab": {
          "base_uri": "https://localhost:8080/",
          "height": 307
        },
        "outputId": "ed1fc1eb-1504-4935-809e-8c9dbe46de73"
      },
      "source": [
        "sns.distplot(df[ df['views'] < 0.4e7 ]['views'])"
      ],
      "execution_count": null,
      "outputs": [
        {
          "output_type": "execute_result",
          "data": {
            "text/plain": [
              "<matplotlib.axes._subplots.AxesSubplot at 0x7f74bb94a668>"
            ]
          },
          "metadata": {
            "tags": []
          },
          "execution_count": 11
        },
        {
          "output_type": "display_data",
          "data": {
            "image/png": "[encoded data removed]",
            "text/plain": [
              "<Figure size 432x288 with 1 Axes>"
            ]
          },
          "metadata": {
            "tags": [],
            "needs_background": "light"
          }
        }
      ]
    },
    {
      "cell_type": "code",
      "metadata": {
        "id": "wTdRiupwg8CM",
        "colab_type": "code",
        "colab": {
          "base_uri": "https://localhost:8080/",
          "height": 170
        },
        "outputId": "0f771894-9eca-44a4-a433-e4738c5e9bbf"
      },
      "source": [
        "df['views'].describe()"
      ],
      "execution_count": null,
      "outputs": [
        {
          "output_type": "execute_result",
          "data": {
            "text/plain": [
              "count    2.550000e+03\n",
              "mean     1.698297e+06\n",
              "std      2.498479e+06\n",
              "min      5.044300e+04\n",
              "25%      7.557928e+05\n",
              "50%      1.124524e+06\n",
              "75%      1.700760e+06\n",
              "max      4.722711e+07\n",
              "Name: views, dtype: float64"
            ]
          },
          "metadata": {
            "tags": []
          },
          "execution_count": 12
        }
      ]
    },
    {
      "cell_type": "markdown",
      "metadata": {
        "id": "JPyRyZCasLDQ",
        "colab_type": "text"
      },
      "source": [
        "**Analysing TED Talks by the month and the year**"
      ]
    },
    {
      "cell_type": "code",
      "metadata": {
        "id": "J75SwFHgsaDt",
        "colab_type": "code",
        "colab": {}
      },
      "source": [
        "month_order = ['Jan', 'Feb', 'Mar', 'Apr', 'May', 'Jun', 'Jul', 'Aug', 'Sep', 'Oct', 'Nov', 'Dec']\n",
        "day_order = ['Mon', 'Tue', 'Wed', 'Thu', 'Fri', 'Sat', 'Sun']"
      ],
      "execution_count": null,
      "outputs": []
    },
    {
      "cell_type": "code",
      "metadata": {
        "id": "xVqvkqzqsKMm",
        "colab_type": "code",
        "colab": {}
      },
      "source": [
        "df['month'] = df['film_date'].apply(lambda x: month_order[int(x.split('-')[1]) - 1])"
      ],
      "execution_count": null,
      "outputs": []
    },
    {
      "cell_type": "code",
      "metadata": {
        "id": "mUMY5WV8sgE9",
        "colab_type": "code",
        "colab": {}
      },
      "source": [
        "month_df = pd.DataFrame(df['month'].value_counts()).reset_index()\n",
        "# month_df.reset_index()\n",
        "# month_df = \n",
        "month_df.columns = ['month', 'talks']"
      ],
      "execution_count": null,
      "outputs": []
    },
    {
      "cell_type": "code",
      "metadata": {
        "id": "GgTlcQm2s90-",
        "colab_type": "code",
        "colab": {
          "base_uri": "https://localhost:8080/",
          "height": 388
        },
        "outputId": "78fdfd36-aa2b-4403-a896-befc14e54f2e"
      },
      "source": [
        "# month_df\n",
        "plt.figure(figsize = (10, 6))\n",
        "sns.barplot(x = 'month', y = 'talks', data = month_df, order = month_order)\n",
        "plt.show()"
      ],
      "execution_count": null,
      "outputs": [
        {
          "output_type": "display_data",
          "data": {
            "image/png": "[encoded data removed]",
            "text/plain": [
              "<Figure size 720x432 with 1 Axes>"
            ]
          },
          "metadata": {
            "tags": [],
            "needs_background": "light"
          }
        }
      ]
    },
    {
      "cell_type": "markdown",
      "metadata": {
        "id": "ppqxdLfw7ZQg",
        "colab_type": "text"
      },
      "source": [
        "**distribution for tedx only**"
      ]
    },
    {
      "cell_type": "code",
      "metadata": {
        "id": "yyt2T-eA7fzy",
        "colab_type": "code",
        "colab": {
          "base_uri": "https://localhost:8080/",
          "height": 497
        },
        "outputId": "3925e508-8c71-43cd-c5a5-fc6b14b25682"
      },
      "source": [
        "df_tedx = df[df['event'].str.contains('TEDx')]\n",
        "month_df_tedx = pd.DataFrame(df_tedx['month'].value_counts()).reset_index()\n",
        "month_df_tedx.columns = ['month', 'talk']\n",
        "plt.figure(figsize = (10, 8))\n",
        "sns.barplot(x = 'month', y = 'talk', data = month_df_tedx, order = month_order)\n",
        "plt.show()"
      ],
      "execution_count": null,
      "outputs": [
        {
          "output_type": "display_data",
          "data": {
            "image/png": "[encoded data removed]",
            "text/plain": [
              "<Figure size 720x576 with 1 Axes>"
            ]
          },
          "metadata": {
            "tags": [],
            "needs_background": "light"
          }
        }
      ]
    },
    {
      "cell_type": "code",
      "metadata": {
        "id": "1e5iloys9zMX",
        "colab_type": "code",
        "colab": {}
      },
      "source": [
        "def getday(x):\n",
        "    day, month, year = (int(i) for i in x.split('-'))    \n",
        "    answer = datetime.date(year, month, day).weekday()\n",
        "    return day_order[answer]"
      ],
      "execution_count": null,
      "outputs": []
    },
    {
      "cell_type": "code",
      "metadata": {
        "id": "MjU2iDgW92qx",
        "colab_type": "code",
        "colab": {}
      },
      "source": [
        "df['day'] = df['film_date'].apply(getday)\n"
      ],
      "execution_count": null,
      "outputs": []
    },
    {
      "cell_type": "code",
      "metadata": {
        "id": "NzH7BlHe-AMC",
        "colab_type": "code",
        "colab": {}
      },
      "source": [
        "day_df = pd.DataFrame(df['day'].value_counts()).reset_index()\n",
        "day_df.columns = ['day', 'talks']"
      ],
      "execution_count": null,
      "outputs": []
    },
    {
      "cell_type": "code",
      "metadata": {
        "id": "Owc_CnyM-CxM",
        "colab_type": "code",
        "colab": {
          "base_uri": "https://localhost:8080/",
          "height": 296
        },
        "outputId": "908e1c8e-5b82-491c-b9d3-abe4e2afd039"
      },
      "source": [
        "sns.barplot(x='day', y='talks', data=day_df, order=day_order)"
      ],
      "execution_count": null,
      "outputs": [
        {
          "output_type": "execute_result",
          "data": {
            "text/plain": [
              "<matplotlib.axes._subplots.AxesSubplot at 0x7f74b93fdf98>"
            ]
          },
          "metadata": {
            "tags": []
          },
          "execution_count": 29
        },
        {
          "output_type": "display_data",
          "data": {
            "image/png": "[encoded data removed]",
            "text/plain": [
              "<Figure size 432x288 with 1 Axes>"
            ]
          },
          "metadata": {
            "tags": [],
            "needs_background": "light"
          }
        }
      ]
    },
    {
      "cell_type": "markdown",
      "metadata": {
        "id": "AeFnu1E4-VXR",
        "colab_type": "text"
      },
      "source": [
        "**Lets visualize the number of TED talks through the years and check if our hunch that they have grown significantly is indeed true.**"
      ]
    },
    {
      "cell_type": "code",
      "metadata": {
        "id": "XuXVUABJ-eiN",
        "colab_type": "code",
        "colab": {}
      },
      "source": [
        "df['year'] = df['film_date'].apply(lambda x: x.split('-')[2])\n",
        "year_df = pd.DataFrame(df['year'].value_counts().reset_index())\n",
        "year_df.columns = ['year', 'talks']"
      ],
      "execution_count": null,
      "outputs": []
    },
    {
      "cell_type": "code",
      "metadata": {
        "id": "4oKrjEBe-gz4",
        "colab_type": "code",
        "colab": {
          "base_uri": "https://localhost:8080/",
          "height": 300
        },
        "outputId": "7dfca107-ea98-4f8f-bf0d-a92941d119c3"
      },
      "source": [
        "plt.figure(figsize=(18,5))\n",
        "sns.pointplot(x='year', y='talks', data=year_df)"
      ],
      "execution_count": null,
      "outputs": [
        {
          "output_type": "execute_result",
          "data": {
            "text/plain": [
              "<matplotlib.axes._subplots.AxesSubplot at 0x7f74bb887a58>"
            ]
          },
          "metadata": {
            "tags": []
          },
          "execution_count": 31
        },
        {
          "output_type": "display_data",
          "data": {
            "image/png": "[encoded data removed]",
            "text/plain": [
              "<Figure size 1296x360 with 1 Axes>"
            ]
          },
          "metadata": {
            "tags": [],
            "needs_background": "light"
          }
        }
      ]
    },
    {
      "cell_type": "markdown",
      "metadata": {
        "id": "w862vWLB-1-d",
        "colab_type": "text"
      },
      "source": [
        "# TED Speakers"
      ]
    },
    {
      "cell_type": "code",
      "metadata": {
        "id": "llROpJet-4qP",
        "colab_type": "code",
        "colab": {
          "base_uri": "https://localhost:8080/",
          "height": 359
        },
        "outputId": "a08db2df-a4c7-4a02-eb57-3476293835e0"
      },
      "source": [
        "speaker_df = df.groupby('main_speaker').count().reset_index()[['main_speaker', 'comments']]\n",
        "speaker_df.columns = ['main_speaker', 'appearances']\n",
        "speaker_df = speaker_df.sort_values('appearances', ascending=False)\n",
        "speaker_df.head(10)"
      ],
      "execution_count": null,
      "outputs": [
        {
          "output_type": "execute_result",
          "data": {
            "text/html": [
              "<div>\n",
              "<style scoped>\n",
              "    .dataframe tbody tr th:only-of-type {\n",
              "        vertical-align: middle;\n",
              "    }\n",
              "\n",
              "    .dataframe tbody tr th {\n",
              "        vertical-align: top;\n",
              "    }\n",
              "\n",
              "    .dataframe thead th {\n",
              "        text-align: right;\n",
              "    }\n",
              "</style>\n",
              "<table border=\"1\" class=\"dataframe\">\n",
              "  <thead>\n",
              "    <tr style=\"text-align: right;\">\n",
              "      <th></th>\n",
              "      <th>main_speaker</th>\n",
              "      <th>appearances</th>\n",
              "    </tr>\n",
              "  </thead>\n",
              "  <tbody>\n",
              "    <tr>\n",
              "      <th>770</th>\n",
              "      <td>Hans Rosling</td>\n",
              "      <td>9</td>\n",
              "    </tr>\n",
              "    <tr>\n",
              "      <th>1066</th>\n",
              "      <td>Juan Enriquez</td>\n",
              "      <td>7</td>\n",
              "    </tr>\n",
              "    <tr>\n",
              "      <th>1693</th>\n",
              "      <td>Rives</td>\n",
              "      <td>6</td>\n",
              "    </tr>\n",
              "    <tr>\n",
              "      <th>1278</th>\n",
              "      <td>Marco Tempest</td>\n",
              "      <td>6</td>\n",
              "    </tr>\n",
              "    <tr>\n",
              "      <th>397</th>\n",
              "      <td>Clay Shirky</td>\n",
              "      <td>5</td>\n",
              "    </tr>\n",
              "    <tr>\n",
              "      <th>1487</th>\n",
              "      <td>Nicholas Negroponte</td>\n",
              "      <td>5</td>\n",
              "    </tr>\n",
              "    <tr>\n",
              "      <th>1075</th>\n",
              "      <td>Julian Treasure</td>\n",
              "      <td>5</td>\n",
              "    </tr>\n",
              "    <tr>\n",
              "      <th>424</th>\n",
              "      <td>Dan Ariely</td>\n",
              "      <td>5</td>\n",
              "    </tr>\n",
              "    <tr>\n",
              "      <th>850</th>\n",
              "      <td>Jacqueline Novogratz</td>\n",
              "      <td>5</td>\n",
              "    </tr>\n",
              "    <tr>\n",
              "      <th>248</th>\n",
              "      <td>Bill Gates</td>\n",
              "      <td>5</td>\n",
              "    </tr>\n",
              "  </tbody>\n",
              "</table>\n",
              "</div>"
            ],
            "text/plain": [
              "              main_speaker  appearances\n",
              "770           Hans Rosling            9\n",
              "1066         Juan Enriquez            7\n",
              "1693                 Rives            6\n",
              "1278         Marco Tempest            6\n",
              "397            Clay Shirky            5\n",
              "1487   Nicholas Negroponte            5\n",
              "1075       Julian Treasure            5\n",
              "424             Dan Ariely            5\n",
              "850   Jacqueline Novogratz            5\n",
              "248             Bill Gates            5"
            ]
          },
          "metadata": {
            "tags": []
          },
          "execution_count": 37
        }
      ]
    },
    {
      "cell_type": "code",
      "metadata": {
        "id": "eDr0vP7iEsAA",
        "colab_type": "code",
        "colab": {
          "base_uri": "https://localhost:8080/",
          "height": 419
        },
        "outputId": "22de8d8b-ead9-498f-c782-f697761aeebe"
      },
      "source": [
        "occupation_df = df.groupby('speaker_occupation').count().reset_index()[['speaker_occupation', 'comments']]\n",
        "occupation_df.columns = ['occupation', 'appearances']\n",
        "occupation_df = occupation_df.sort_values('appearances', ascending=False)\n",
        "occupation_df"
      ],
      "execution_count": null,
      "outputs": [
        {
          "output_type": "execute_result",
          "data": {
            "text/html": [
              "<div>\n",
              "<style scoped>\n",
              "    .dataframe tbody tr th:only-of-type {\n",
              "        vertical-align: middle;\n",
              "    }\n",
              "\n",
              "    .dataframe tbody tr th {\n",
              "        vertical-align: top;\n",
              "    }\n",
              "\n",
              "    .dataframe thead th {\n",
              "        text-align: right;\n",
              "    }\n",
              "</style>\n",
              "<table border=\"1\" class=\"dataframe\">\n",
              "  <thead>\n",
              "    <tr style=\"text-align: right;\">\n",
              "      <th></th>\n",
              "      <th>occupation</th>\n",
              "      <th>appearances</th>\n",
              "    </tr>\n",
              "  </thead>\n",
              "  <tbody>\n",
              "    <tr>\n",
              "      <th>1426</th>\n",
              "      <td>Writer</td>\n",
              "      <td>45</td>\n",
              "    </tr>\n",
              "    <tr>\n",
              "      <th>83</th>\n",
              "      <td>Artist</td>\n",
              "      <td>34</td>\n",
              "    </tr>\n",
              "    <tr>\n",
              "      <th>413</th>\n",
              "      <td>Designer</td>\n",
              "      <td>34</td>\n",
              "    </tr>\n",
              "    <tr>\n",
              "      <th>753</th>\n",
              "      <td>Journalist</td>\n",
              "      <td>33</td>\n",
              "    </tr>\n",
              "    <tr>\n",
              "      <th>515</th>\n",
              "      <td>Entrepreneur</td>\n",
              "      <td>31</td>\n",
              "    </tr>\n",
              "    <tr>\n",
              "      <th>...</th>\n",
              "      <td>...</td>\n",
              "      <td>...</td>\n",
              "    </tr>\n",
              "    <tr>\n",
              "      <th>554</th>\n",
              "      <td>Eye surgeon, inventor</td>\n",
              "      <td>1</td>\n",
              "    </tr>\n",
              "    <tr>\n",
              "      <th>553</th>\n",
              "      <td>Explorer, inventor and outer space dreamer</td>\n",
              "      <td>1</td>\n",
              "    </tr>\n",
              "    <tr>\n",
              "      <th>552</th>\n",
              "      <td>Explorer, ethnographer</td>\n",
              "      <td>1</td>\n",
              "    </tr>\n",
              "    <tr>\n",
              "      <th>551</th>\n",
              "      <td>Explorer and filmmaker</td>\n",
              "      <td>1</td>\n",
              "    </tr>\n",
              "    <tr>\n",
              "      <th>1457</th>\n",
              "      <td>physicist</td>\n",
              "      <td>1</td>\n",
              "    </tr>\n",
              "  </tbody>\n",
              "</table>\n",
              "<p>1458 rows × 2 columns</p>\n",
              "</div>"
            ],
            "text/plain": [
              "                                      occupation  appearances\n",
              "1426                                      Writer           45\n",
              "83                                        Artist           34\n",
              "413                                     Designer           34\n",
              "753                                   Journalist           33\n",
              "515                                 Entrepreneur           31\n",
              "...                                          ...          ...\n",
              "554                        Eye surgeon, inventor            1\n",
              "553   Explorer, inventor and outer space dreamer            1\n",
              "552                       Explorer, ethnographer            1\n",
              "551                       Explorer and filmmaker            1\n",
              "1457                                   physicist            1\n",
              "\n",
              "[1458 rows x 2 columns]"
            ]
          },
          "metadata": {
            "tags": []
          },
          "execution_count": 39
        }
      ]
    },
    {
      "cell_type": "code",
      "metadata": {
        "id": "J64kSwrrE1Vq",
        "colab_type": "code",
        "colab": {
          "base_uri": "https://localhost:8080/",
          "height": 334
        },
        "outputId": "cee80c6d-6763-4444-8b61-3adde8b27169"
      },
      "source": [
        "plt.figure(figsize=(15,5))\n",
        "sns.barplot(x='occupation', y='appearances', data=occupation_df.head(10))\n",
        "plt.show()\n"
      ],
      "execution_count": null,
      "outputs": [
        {
          "output_type": "display_data",
          "data": {
            "image/png": "[encoded data removed]",
            "text/plain": [
              "<Figure size 1080x360 with 1 Axes>"
            ]
          },
          "metadata": {
            "tags": [],
            "needs_background": "light"
          }
        }
      ]
    },
    {
      "cell_type": "markdown",
      "metadata": {
        "id": "pVL4T9zGFIep",
        "colab_type": "text"
      },
      "source": [
        "# ted event"
      ]
    },
    {
      "cell_type": "code",
      "metadata": {
        "id": "bR59C-v8FLe6",
        "colab_type": "code",
        "colab": {
          "base_uri": "https://localhost:8080/",
          "height": 359
        },
        "outputId": "87a354ba-129d-471b-e551-c2930712d472"
      },
      "source": [
        "events_df = df[['title', 'event']].groupby('event').count().reset_index()\n",
        "events_df.columns = ['event', 'talks']\n",
        "events_df = events_df.sort_values('talks', ascending=False)\n",
        "events_df.head(10)"
      ],
      "execution_count": null,
      "outputs": [
        {
          "output_type": "execute_result",
          "data": {
            "text/html": [
              "<div>\n",
              "<style scoped>\n",
              "    .dataframe tbody tr th:only-of-type {\n",
              "        vertical-align: middle;\n",
              "    }\n",
              "\n",
              "    .dataframe tbody tr th {\n",
              "        vertical-align: top;\n",
              "    }\n",
              "\n",
              "    .dataframe thead th {\n",
              "        text-align: right;\n",
              "    }\n",
              "</style>\n",
              "<table border=\"1\" class=\"dataframe\">\n",
              "  <thead>\n",
              "    <tr style=\"text-align: right;\">\n",
              "      <th></th>\n",
              "      <th>event</th>\n",
              "      <th>talks</th>\n",
              "    </tr>\n",
              "  </thead>\n",
              "  <tbody>\n",
              "    <tr>\n",
              "      <th>64</th>\n",
              "      <td>TED2014</td>\n",
              "      <td>84</td>\n",
              "    </tr>\n",
              "    <tr>\n",
              "      <th>59</th>\n",
              "      <td>TED2009</td>\n",
              "      <td>83</td>\n",
              "    </tr>\n",
              "    <tr>\n",
              "      <th>63</th>\n",
              "      <td>TED2013</td>\n",
              "      <td>77</td>\n",
              "    </tr>\n",
              "    <tr>\n",
              "      <th>66</th>\n",
              "      <td>TED2016</td>\n",
              "      <td>77</td>\n",
              "    </tr>\n",
              "    <tr>\n",
              "      <th>65</th>\n",
              "      <td>TED2015</td>\n",
              "      <td>75</td>\n",
              "    </tr>\n",
              "    <tr>\n",
              "      <th>99</th>\n",
              "      <td>TEDGlobal 2012</td>\n",
              "      <td>70</td>\n",
              "    </tr>\n",
              "    <tr>\n",
              "      <th>61</th>\n",
              "      <td>TED2011</td>\n",
              "      <td>70</td>\n",
              "    </tr>\n",
              "    <tr>\n",
              "      <th>60</th>\n",
              "      <td>TED2010</td>\n",
              "      <td>68</td>\n",
              "    </tr>\n",
              "    <tr>\n",
              "      <th>98</th>\n",
              "      <td>TEDGlobal 2011</td>\n",
              "      <td>68</td>\n",
              "    </tr>\n",
              "    <tr>\n",
              "      <th>57</th>\n",
              "      <td>TED2007</td>\n",
              "      <td>68</td>\n",
              "    </tr>\n",
              "  </tbody>\n",
              "</table>\n",
              "</div>"
            ],
            "text/plain": [
              "             event  talks\n",
              "64         TED2014     84\n",
              "59         TED2009     83\n",
              "63         TED2013     77\n",
              "66         TED2016     77\n",
              "65         TED2015     75\n",
              "99  TEDGlobal 2012     70\n",
              "61         TED2011     70\n",
              "60         TED2010     68\n",
              "98  TEDGlobal 2011     68\n",
              "57         TED2007     68"
            ]
          },
          "metadata": {
            "tags": []
          },
          "execution_count": 46
        }
      ]
    },
    {
      "cell_type": "markdown",
      "metadata": {
        "id": "C0lYHSrCFqot",
        "colab_type": "text"
      },
      "source": [
        "#ted languages"
      ]
    },
    {
      "cell_type": "code",
      "metadata": {
        "id": "Oo8bseoUFp78",
        "colab_type": "code",
        "colab": {
          "base_uri": "https://localhost:8080/",
          "height": 170
        },
        "outputId": "7e1decba-3ed1-4778-efa0-38fe78d8d013"
      },
      "source": [
        "df['languages'].describe()"
      ],
      "execution_count": null,
      "outputs": [
        {
          "output_type": "execute_result",
          "data": {
            "text/plain": [
              "count    2550.000000\n",
              "mean       27.326275\n",
              "std         9.563452\n",
              "min         0.000000\n",
              "25%        23.000000\n",
              "50%        28.000000\n",
              "75%        33.000000\n",
              "max        72.000000\n",
              "Name: languages, dtype: float64"
            ]
          },
          "metadata": {
            "tags": []
          },
          "execution_count": 47
        }
      ]
    },
    {
      "cell_type": "code",
      "metadata": {
        "id": "R0Mw4cqSGMvQ",
        "colab_type": "code",
        "colab": {
          "base_uri": "https://localhost:8080/",
          "height": 168
        },
        "outputId": "935e7fcd-8b60-4d44-ca33-fc0dd06815f1"
      },
      "source": [
        "df[df['languages'] == 72]"
      ],
      "execution_count": null,
      "outputs": [
        {
          "output_type": "execute_result",
          "data": {
            "text/html": [
              "<div>\n",
              "<style scoped>\n",
              "    .dataframe tbody tr th:only-of-type {\n",
              "        vertical-align: middle;\n",
              "    }\n",
              "\n",
              "    .dataframe tbody tr th {\n",
              "        vertical-align: top;\n",
              "    }\n",
              "\n",
              "    .dataframe thead th {\n",
              "        text-align: right;\n",
              "    }\n",
              "</style>\n",
              "<table border=\"1\" class=\"dataframe\">\n",
              "  <thead>\n",
              "    <tr style=\"text-align: right;\">\n",
              "      <th></th>\n",
              "      <th>name</th>\n",
              "      <th>title</th>\n",
              "      <th>description</th>\n",
              "      <th>main_speaker</th>\n",
              "      <th>speaker_occupation</th>\n",
              "      <th>num_speaker</th>\n",
              "      <th>duration</th>\n",
              "      <th>event</th>\n",
              "      <th>film_date</th>\n",
              "      <th>published_date</th>\n",
              "      <th>comments</th>\n",
              "      <th>tags</th>\n",
              "      <th>languages</th>\n",
              "      <th>ratings</th>\n",
              "      <th>related_talks</th>\n",
              "      <th>url</th>\n",
              "      <th>views</th>\n",
              "      <th>month</th>\n",
              "      <th>day</th>\n",
              "      <th>year</th>\n",
              "    </tr>\n",
              "  </thead>\n",
              "  <tbody>\n",
              "    <tr>\n",
              "      <th>973</th>\n",
              "      <td>Matt Cutts: Try something new for 30 days</td>\n",
              "      <td>Try something new for 30 days</td>\n",
              "      <td>Is there something you've always meant to do, ...</td>\n",
              "      <td>Matt Cutts</td>\n",
              "      <td>Technologist</td>\n",
              "      <td>1</td>\n",
              "      <td>207</td>\n",
              "      <td>TED2011</td>\n",
              "      <td>03-03-2011</td>\n",
              "      <td>01-07-2011</td>\n",
              "      <td>736</td>\n",
              "      <td>['culture', 'success']</td>\n",
              "      <td>72</td>\n",
              "      <td>[{'id': 10, 'name': 'Inspiring', 'count': 6171...</td>\n",
              "      <td>[{'id': 947, 'hero': 'https://pe.tedcdn.com/im...</td>\n",
              "      <td>https://www.ted.com/talks/matt_cutts_try_somet...</td>\n",
              "      <td>8838874</td>\n",
              "      <td>Mar</td>\n",
              "      <td>Thu</td>\n",
              "      <td>2011</td>\n",
              "    </tr>\n",
              "  </tbody>\n",
              "</table>\n",
              "</div>"
            ],
            "text/plain": [
              "                                          name  ...  year\n",
              "973  Matt Cutts: Try something new for 30 days  ...  2011\n",
              "\n",
              "[1 rows x 20 columns]"
            ]
          },
          "metadata": {
            "tags": []
          },
          "execution_count": 48
        }
      ]
    }
  ]
}