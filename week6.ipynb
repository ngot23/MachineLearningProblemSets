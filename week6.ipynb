{
  "nbformat": 4,
  "nbformat_minor": 0,
  "metadata": {
    "colab": {
      "name": "Weekly-Project-Solution.ipynb",
      "provenance": [],
      "collapsed_sections": [],
      "include_colab_link": true
    },
    "kernelspec": {
      "display_name": "Python 3",
      "language": "python",
      "name": "python3"
    },
    "language_info": {
      "codemirror_mode": {
        "name": "ipython",
        "version": 3
      },
      "file_extension": ".py",
      "mimetype": "text/x-python",
      "name": "python",
      "nbconvert_exporter": "python",
      "pygments_lexer": "ipython3",
      "version": "3.7.6"
    }
  },
  "cells": [
    {
      "cell_type": "markdown",
      "metadata": {
        "id": "view-in-github",
        "colab_type": "text"
      },
      "source": [
        "<a href=\"https://colab.research.google.com/github/ngot23/MachineLearningProblemSets/blob/master/week6.ipynb\" target=\"_parent\"><img src=\"https://colab.research.google.com/assets/colab-badge.svg\" alt=\"Open In Colab\"/></a>"
      ]
    },
    {
      "cell_type": "code",
      "metadata": {
        "id": "d-m6dMxCTWGl",
        "colab_type": "code",
        "colab": {
          "base_uri": "https://localhost:8080/",
          "height": 351
        },
        "outputId": "245e78fa-5e06-4366-d257-b952a8b98de4"
      },
      "source": [
        "pip install -U scikit-learn"
      ],
      "execution_count": 66,
      "outputs": [
        {
          "output_type": "stream",
          "text": [
            "Collecting scikit-learn\n",
            "\u001b[?25l  Downloading https://files.pythonhosted.org/packages/5c/a1/273def87037a7fb010512bbc5901c31cfddfca8080bc63b42b26e3cc55b3/scikit_learn-0.23.2-cp36-cp36m-manylinux1_x86_64.whl (6.8MB)\n",
            "\u001b[K     |████████████████████████████████| 6.8MB 2.8MB/s \n",
            "\u001b[?25hRequirement already satisfied, skipping upgrade: numpy>=1.13.3 in /usr/local/lib/python3.6/dist-packages (from scikit-learn) (1.18.5)\n",
            "Collecting threadpoolctl>=2.0.0\n",
            "  Downloading https://files.pythonhosted.org/packages/f7/12/ec3f2e203afa394a149911729357aa48affc59c20e2c1c8297a60f33f133/threadpoolctl-2.1.0-py3-none-any.whl\n",
            "Requirement already satisfied, skipping upgrade: scipy>=0.19.1 in /usr/local/lib/python3.6/dist-packages (from scikit-learn) (1.4.1)\n",
            "Requirement already satisfied, skipping upgrade: joblib>=0.11 in /usr/local/lib/python3.6/dist-packages (from scikit-learn) (0.16.0)\n",
            "Installing collected packages: threadpoolctl, scikit-learn\n",
            "  Found existing installation: scikit-learn 0.22.2.post1\n",
            "    Uninstalling scikit-learn-0.22.2.post1:\n",
            "      Successfully uninstalled scikit-learn-0.22.2.post1\n",
            "Successfully installed scikit-learn-0.23.2 threadpoolctl-2.1.0\n"
          ],
          "name": "stdout"
        },
        {
          "output_type": "display_data",
          "data": {
            "application/vnd.colab-display-data+json": {
              "pip_warning": {
                "packages": [
                  "sklearn"
                ]
              }
            }
          },
          "metadata": {
            "tags": []
          }
        }
      ]
    },
    {
      "cell_type": "code",
      "metadata": {
        "id": "tPzAkuuqTki3",
        "colab_type": "code",
        "colab": {}
      },
      "source": [
        "import sklearn"
      ],
      "execution_count": 2,
      "outputs": []
    },
    {
      "cell_type": "code",
      "metadata": {
        "id": "RCxEKq2hTg88",
        "colab_type": "code",
        "colab": {
          "base_uri": "https://localhost:8080/",
          "height": 35
        },
        "outputId": "c90a4ff4-3177-4eb3-ee58-66882c4dec6a"
      },
      "source": [
        "sklearn.__version__"
      ],
      "execution_count": 3,
      "outputs": [
        {
          "output_type": "execute_result",
          "data": {
            "application/vnd.google.colaboratory.intrinsic+json": {
              "type": "string"
            },
            "text/plain": [
              "'0.23.2'"
            ]
          },
          "metadata": {
            "tags": []
          },
          "execution_count": 3
        }
      ]
    },
    {
      "cell_type": "markdown",
      "metadata": {
        "colab_type": "text",
        "id": "Ps5x-gYUCf9_"
      },
      "source": [
        "# Handwritten Digits Classification"
      ]
    },
    {
      "cell_type": "markdown",
      "metadata": {
        "colab_type": "text",
        "id": "0glR10XBCxNy"
      },
      "source": [
        "## Overview\n",
        "\n",
        "The MNIST database (Modified National Institute of Standards and Technology database) is a large database of handwritten digits that is commonly used for training various image processing systems. MNIST is like the \"Hello World\" of machine learning with which you can try out a few machine learning algorithms.\n",
        "\n",
        "![](https://upload.wikimedia.org/wikipedia/commons/2/27/MnistExamples.png)\n",
        "\n",
        "Each image is 28 pixels in height and 28 pixels in width, for a total of 784 pixels in total. Each pixel has a single pixel-value associated with it, indicating the lightness or darkness of that pixel, with higher numbers meaning lighter. This pixel-value is an integer between 0 and 255, inclusive.\n",
        "\n",
        "Visually, if we omit the \"pixel\" prefix, the pixels make up the image like this:\n",
        "```\n",
        "000 001 002 003 ... 026 027\n",
        "028 029 030 031 ... 054 055\n",
        "056 057 058 059 ... 082 083\n",
        " |   |   |   |  ...  |   |\n",
        "728 729 730 731 ... 754 755\n",
        "756 757 758 759 ... 782 783 \n",
        "```"
      ]
    },
    {
      "cell_type": "markdown",
      "metadata": {
        "colab_type": "text",
        "id": "-3hGXfqVDRna"
      },
      "source": [
        "## Get Data"
      ]
    },
    {
      "cell_type": "code",
      "metadata": {
        "colab_type": "code",
        "id": "4IWx_-bBEYAT",
        "colab": {
          "base_uri": "https://localhost:8080/",
          "height": 72
        },
        "outputId": "68abfdf8-bab0-4dbd-81cc-ed6c40d45e87"
      },
      "source": [
        "import numpy as np\n",
        "import pandas as pd\n",
        "import seaborn as sns\n",
        "import matplotlib.pyplot as plt\n",
        "%matplotlib inline\n",
        "\n",
        "import warnings\n",
        "warnings.filterwarnings('ignore')\n",
        "\n",
        "sns.set_style(\"whitegrid\")"
      ],
      "execution_count": 4,
      "outputs": [
        {
          "output_type": "stream",
          "text": [
            "/usr/local/lib/python3.6/dist-packages/statsmodels/tools/_testing.py:19: FutureWarning: pandas.util.testing is deprecated. Use the functions in the public API at pandas.testing instead.\n",
            "  import pandas.util.testing as tm\n"
          ],
          "name": "stderr"
        }
      ]
    },
    {
      "cell_type": "code",
      "metadata": {
        "colab_type": "code",
        "id": "BNhUbXb9CSbh",
        "colab": {
          "base_uri": "https://localhost:8080/",
          "height": 52
        },
        "outputId": "c3f4b346-bdf6-4ab7-fed2-1503cdaddcdf"
      },
      "source": [
        "from tensorflow.keras.datasets import mnist\n",
        "\n",
        "(X_train, y_train), (X_test, y_test) = mnist.load_data()\n",
        "\n",
        "print('Training data:', X_train.shape, y_train.shape)\n",
        "print('Test data:', X_test.shape, y_test.shape)"
      ],
      "execution_count": 5,
      "outputs": [
        {
          "output_type": "stream",
          "text": [
            "Training data: (60000, 28, 28) (60000,)\n",
            "Test data: (10000, 28, 28) (10000,)\n"
          ],
          "name": "stdout"
        }
      ]
    },
    {
      "cell_type": "markdown",
      "metadata": {
        "colab_type": "text",
        "id": "VYTtM9VlGs31"
      },
      "source": [
        "## EDA"
      ]
    },
    {
      "cell_type": "code",
      "metadata": {
        "colab_type": "code",
        "id": "xcZURSKuDcvm",
        "colab": {}
      },
      "source": [
        "def plot_images(images, labels):\n",
        "    '''Plot images with their labels. Ten each row'''\n",
        "    plt.figure(figsize=(20, 10))\n",
        "    columns = 10\n",
        "    for i, image in enumerate(images):\n",
        "        ax = plt.subplot(len(images) / columns + 1, columns, i + 1)\n",
        "        ax.set_title(f\"{labels[i]}\", fontsize=16)\n",
        "        plt.axis('off')\n",
        "        plt.subplots_adjust(bottom=0.1)\n",
        "        plt.imshow(image, cmap='gray')\n",
        "\n",
        "def get_samples(n_samples, X, y):\n",
        "    '''Get n_samples images randomly'''\n",
        "    samples = np.random.choice(np.arange(len(y)), n_samples, replace=False)\n",
        "    return X[samples], y[samples]\n",
        "\n",
        "def get_digit(digit, n_samples, X, y):\n",
        "    '''Get n_samples images of the class digit randomly'''\n",
        "    y_digit = y[y == digit]\n",
        "    samples = np.random.choice(np.arange(len(y_digit)), n_samples, replace=False)\n",
        "    return X[y == digit][samples], y_digit[samples]"
      ],
      "execution_count": 6,
      "outputs": []
    },
    {
      "cell_type": "code",
      "metadata": {
        "colab_type": "code",
        "id": "OpMe7EMCEF01",
        "colab": {
          "base_uri": "https://localhost:8080/",
          "height": 436
        },
        "outputId": "ea18d4f9-19d9-4f3d-ef73-e3a7fea9ca9b"
      },
      "source": [
        "n_samples = 30\n",
        "# images, labels = get_samples(n_samples, X_train, y_train)\n",
        "images, labels = get_digit(1, n_samples, X_train, y_train)\n",
        "plot_images(images, labels)"
      ],
      "execution_count": 7,
      "outputs": [
        {
          "output_type": "display_data",
          "data": {
            "image/png": "[encoded data removed]",
            "text/plain": [
              "<Figure size 1440x720 with 30 Axes>"
            ]
          },
          "metadata": {
            "tags": []
          }
        }
      ]
    },
    {
      "cell_type": "markdown",
      "metadata": {
        "id": "7Ld_PUJxrzN1",
        "colab_type": "text"
      },
      "source": [
        "**Plot the barplot of number of images of each class (0 to 9)**"
      ]
    },
    {
      "cell_type": "code",
      "metadata": {
        "colab_type": "code",
        "id": "xjVYEat8EJTd",
        "colab": {
          "base_uri": "https://localhost:8080/",
          "height": 282
        },
        "outputId": "8d103304-7ea2-43f7-dc7a-20730134886f"
      },
      "source": [
        "# Your code here\n",
        "sns.countplot(y_test)"
      ],
      "execution_count": 8,
      "outputs": [
        {
          "output_type": "execute_result",
          "data": {
            "text/plain": [
              "<matplotlib.axes._subplots.AxesSubplot at 0x7f432d64e518>"
            ]
          },
          "metadata": {
            "tags": []
          },
          "execution_count": 8
        },
        {
          "output_type": "display_data",
          "data": {
            "image/png": "[encoded data removed]",
            "text/plain": [
              "<Figure size 432x288 with 1 Axes>"
            ]
          },
          "metadata": {
            "tags": []
          }
        }
      ]
    },
    {
      "cell_type": "markdown",
      "metadata": {
        "id": "7M_TfQZUrzOG",
        "colab_type": "text"
      },
      "source": [
        "**Print out the range of pixel values (min, max)**"
      ]
    },
    {
      "cell_type": "code",
      "metadata": {
        "colab_type": "code",
        "id": "d0rZBlU8FmtE",
        "colab": {
          "base_uri": "https://localhost:8080/",
          "height": 34
        },
        "outputId": "99389cbc-27ac-4da7-d84f-3977042e665c"
      },
      "source": [
        "# Your code here\n",
        "print('Pixel value range:', X_train.min(), X_train.max())"
      ],
      "execution_count": 9,
      "outputs": [
        {
          "output_type": "stream",
          "text": [
            "Pixel value range: 0 255\n"
          ],
          "name": "stdout"
        }
      ]
    },
    {
      "cell_type": "markdown",
      "metadata": {
        "colab_type": "text",
        "id": "XC2sFqfcJjQ1"
      },
      "source": [
        "## Transform data for training"
      ]
    },
    {
      "cell_type": "markdown",
      "metadata": {
        "id": "6W5AWXE2rzOj",
        "colab_type": "text"
      },
      "source": [
        "**Get the first `n_samples` images randomly from training set and test set. Then reshape them into long vectors**"
      ]
    },
    {
      "cell_type": "code",
      "metadata": {
        "colab_type": "code",
        "id": "XF1XGXrvJlri",
        "colab": {}
      },
      "source": [
        "n_samples = 1000\n",
        "n_test_samples = 200\n",
        "# Your code here\n",
        "X_train_flat, y_train_flat = get_samples(n_samples, X_train, y_train)\n",
        "X_test_flat, y_test_flat = get_samples(n_test_samples, X_test, y_test)\n",
        "\n",
        "# Normalization\n",
        "X_train_flat = X_train_flat.reshape((n_samples, -1))/255\n",
        "X_test_flat = X_test_flat.reshape((n_test_samples, -1))/255"
      ],
      "execution_count": 10,
      "outputs": []
    },
    {
      "cell_type": "code",
      "metadata": {
        "colab_type": "code",
        "id": "66rNQGgnK1MX",
        "colab": {
          "base_uri": "https://localhost:8080/",
          "height": 52
        },
        "outputId": "b092c026-5de9-47d8-9a2b-0b812060ec3d"
      },
      "source": [
        "print('Training data', X_train_flat.shape)\n",
        "print('Test data', X_test_flat.shape)"
      ],
      "execution_count": 11,
      "outputs": [
        {
          "output_type": "stream",
          "text": [
            "Training data (1000, 784)\n",
            "Test data (200, 784)\n"
          ],
          "name": "stdout"
        }
      ]
    },
    {
      "cell_type": "code",
      "metadata": {
        "id": "59B4UG39o5N1",
        "colab_type": "code",
        "colab": {}
      },
      "source": [
        "# Get all the data\n",
        "# Run it after you finish training with the 1000 samples\n",
        "# X_train_flat = X_train.reshape((-1, 784))\n",
        "# X_test_flat = X_test.reshape((-1, 784))\n",
        "# y_train_flat = y_train\n",
        "# y_test_flat = y_test\n",
        "\n",
        "# print('Training data', X_train_flat.shape)\n",
        "# print('Test data', X_test_flat.shape)\n",
        "# print('Training label', y_train_flat.shape)\n",
        "# print('Test label', y_test_flat.shape)"
      ],
      "execution_count": null,
      "outputs": []
    },
    {
      "cell_type": "markdown",
      "metadata": {
        "colab_type": "text",
        "id": "bmxGMEGGLaJI"
      },
      "source": [
        "## Train models"
      ]
    },
    {
      "cell_type": "code",
      "metadata": {
        "colab_type": "code",
        "id": "4tJcSPEbLRsh",
        "colab": {}
      },
      "source": [
        "from sklearn.svm import SVC\n",
        "from sklearn.metrics import confusion_matrix, accuracy_score\n",
        "from sklearn.model_selection import cross_val_score\n",
        "from sklearn.model_selection import GridSearchCV"
      ],
      "execution_count": 12,
      "outputs": []
    },
    {
      "cell_type": "markdown",
      "metadata": {
        "id": "blM8JAmirzPb",
        "colab_type": "text"
      },
      "source": [
        "**Train a SVM model**: Set up the training process and train with the small samples of data first before you take the full training dataset to train."
      ]
    },
    {
      "cell_type": "code",
      "metadata": {
        "id": "CIafedeOrzPe",
        "colab_type": "code",
        "colab": {
          "base_uri": "https://localhost:8080/",
          "height": 34
        },
        "outputId": "5280fe87-3618-422a-cc18-d978583fee39"
      },
      "source": [
        "# Your code here\n",
        "clf = SVC(kernel='linear')\n",
        "clf.fit(X_train_flat, y_train_flat)"
      ],
      "execution_count": 13,
      "outputs": [
        {
          "output_type": "execute_result",
          "data": {
            "text/plain": [
              "SVC(kernel='linear')"
            ]
          },
          "metadata": {
            "tags": []
          },
          "execution_count": 13
        }
      ]
    },
    {
      "cell_type": "code",
      "metadata": {
        "id": "ENUgYnAIv7BA",
        "colab_type": "code",
        "colab": {
          "base_uri": "https://localhost:8080/",
          "height": 86
        },
        "outputId": "3ae52308-38cf-423a-a86b-5941ec5cd9bc"
      },
      "source": [
        "parameters = {'gamma': [0.0001, 0.001, 0.01],\n",
        "              'C':[0.01, 0.1, 1, 10, 100]}\n",
        "\n",
        "model = SVC(kernel='rbf')\n",
        "\n",
        "gridsearch_models = GridSearchCV(estimator=model,\n",
        "                                 param_grid=parameters,\n",
        "                                 scoring='accuracy',\n",
        "                                 cv=5, n_jobs=-1)\n",
        "\n",
        "gridsearch_models.fit(X_train_flat, y_train_flat)"
      ],
      "execution_count": 14,
      "outputs": [
        {
          "output_type": "execute_result",
          "data": {
            "text/plain": [
              "GridSearchCV(cv=5, estimator=SVC(), n_jobs=-1,\n",
              "             param_grid={'C': [0.01, 0.1, 1, 10, 100],\n",
              "                         'gamma': [0.0001, 0.001, 0.01]},\n",
              "             scoring='accuracy')"
            ]
          },
          "metadata": {
            "tags": []
          },
          "execution_count": 14
        }
      ]
    },
    {
      "cell_type": "code",
      "metadata": {
        "id": "xakJOw-uxZZZ",
        "colab_type": "code",
        "colab": {
          "base_uri": "https://localhost:8080/",
          "height": 1000
        },
        "outputId": "d3367e81-8d28-4776-bc04-a4c7481e46db"
      },
      "source": [
        "pd.DataFrame(gridsearch_models.cv_results_)"
      ],
      "execution_count": 15,
      "outputs": [
        {
          "output_type": "execute_result",
          "data": {
            "text/html": [
              "<div>\n",
              "<style scoped>\n",
              "    .dataframe tbody tr th:only-of-type {\n",
              "        vertical-align: middle;\n",
              "    }\n",
              "\n",
              "    .dataframe tbody tr th {\n",
              "        vertical-align: top;\n",
              "    }\n",
              "\n",
              "    .dataframe thead th {\n",
              "        text-align: right;\n",
              "    }\n",
              "</style>\n",
              "<table border=\"1\" class=\"dataframe\">\n",
              "  <thead>\n",
              "    <tr style=\"text-align: right;\">\n",
              "      <th></th>\n",
              "      <th>mean_fit_time</th>\n",
              "      <th>std_fit_time</th>\n",
              "      <th>mean_score_time</th>\n",
              "      <th>std_score_time</th>\n",
              "      <th>param_C</th>\n",
              "      <th>param_gamma</th>\n",
              "      <th>params</th>\n",
              "      <th>split0_test_score</th>\n",
              "      <th>split1_test_score</th>\n",
              "      <th>split2_test_score</th>\n",
              "      <th>split3_test_score</th>\n",
              "      <th>split4_test_score</th>\n",
              "      <th>mean_test_score</th>\n",
              "      <th>std_test_score</th>\n",
              "      <th>rank_test_score</th>\n",
              "    </tr>\n",
              "  </thead>\n",
              "  <tbody>\n",
              "    <tr>\n",
              "      <th>0</th>\n",
              "      <td>1.428641</td>\n",
              "      <td>0.020830</td>\n",
              "      <td>0.207422</td>\n",
              "      <td>0.004972</td>\n",
              "      <td>0.01</td>\n",
              "      <td>0.0001</td>\n",
              "      <td>{'C': 0.01, 'gamma': 0.0001}</td>\n",
              "      <td>0.125</td>\n",
              "      <td>0.125</td>\n",
              "      <td>0.125</td>\n",
              "      <td>0.120</td>\n",
              "      <td>0.120</td>\n",
              "      <td>0.123</td>\n",
              "      <td>0.002449</td>\n",
              "      <td>10</td>\n",
              "    </tr>\n",
              "    <tr>\n",
              "      <th>1</th>\n",
              "      <td>1.430440</td>\n",
              "      <td>0.010696</td>\n",
              "      <td>0.205090</td>\n",
              "      <td>0.002055</td>\n",
              "      <td>0.01</td>\n",
              "      <td>0.001</td>\n",
              "      <td>{'C': 0.01, 'gamma': 0.001}</td>\n",
              "      <td>0.125</td>\n",
              "      <td>0.125</td>\n",
              "      <td>0.125</td>\n",
              "      <td>0.120</td>\n",
              "      <td>0.120</td>\n",
              "      <td>0.123</td>\n",
              "      <td>0.002449</td>\n",
              "      <td>10</td>\n",
              "    </tr>\n",
              "    <tr>\n",
              "      <th>2</th>\n",
              "      <td>1.443348</td>\n",
              "      <td>0.006866</td>\n",
              "      <td>0.206925</td>\n",
              "      <td>0.001962</td>\n",
              "      <td>0.01</td>\n",
              "      <td>0.01</td>\n",
              "      <td>{'C': 0.01, 'gamma': 0.01}</td>\n",
              "      <td>0.125</td>\n",
              "      <td>0.125</td>\n",
              "      <td>0.125</td>\n",
              "      <td>0.120</td>\n",
              "      <td>0.120</td>\n",
              "      <td>0.123</td>\n",
              "      <td>0.002449</td>\n",
              "      <td>10</td>\n",
              "    </tr>\n",
              "    <tr>\n",
              "      <th>3</th>\n",
              "      <td>1.446977</td>\n",
              "      <td>0.025361</td>\n",
              "      <td>0.207474</td>\n",
              "      <td>0.004599</td>\n",
              "      <td>0.1</td>\n",
              "      <td>0.0001</td>\n",
              "      <td>{'C': 0.1, 'gamma': 0.0001}</td>\n",
              "      <td>0.125</td>\n",
              "      <td>0.125</td>\n",
              "      <td>0.125</td>\n",
              "      <td>0.120</td>\n",
              "      <td>0.120</td>\n",
              "      <td>0.123</td>\n",
              "      <td>0.002449</td>\n",
              "      <td>10</td>\n",
              "    </tr>\n",
              "    <tr>\n",
              "      <th>4</th>\n",
              "      <td>1.422262</td>\n",
              "      <td>0.009712</td>\n",
              "      <td>0.207344</td>\n",
              "      <td>0.006709</td>\n",
              "      <td>0.1</td>\n",
              "      <td>0.001</td>\n",
              "      <td>{'C': 0.1, 'gamma': 0.001}</td>\n",
              "      <td>0.125</td>\n",
              "      <td>0.125</td>\n",
              "      <td>0.125</td>\n",
              "      <td>0.120</td>\n",
              "      <td>0.120</td>\n",
              "      <td>0.123</td>\n",
              "      <td>0.002449</td>\n",
              "      <td>10</td>\n",
              "    </tr>\n",
              "    <tr>\n",
              "      <th>5</th>\n",
              "      <td>1.323875</td>\n",
              "      <td>0.012473</td>\n",
              "      <td>0.207713</td>\n",
              "      <td>0.006145</td>\n",
              "      <td>0.1</td>\n",
              "      <td>0.01</td>\n",
              "      <td>{'C': 0.1, 'gamma': 0.01}</td>\n",
              "      <td>0.700</td>\n",
              "      <td>0.635</td>\n",
              "      <td>0.630</td>\n",
              "      <td>0.700</td>\n",
              "      <td>0.655</td>\n",
              "      <td>0.664</td>\n",
              "      <td>0.030561</td>\n",
              "      <td>9</td>\n",
              "    </tr>\n",
              "    <tr>\n",
              "      <th>6</th>\n",
              "      <td>1.423210</td>\n",
              "      <td>0.008832</td>\n",
              "      <td>0.208207</td>\n",
              "      <td>0.005614</td>\n",
              "      <td>1</td>\n",
              "      <td>0.0001</td>\n",
              "      <td>{'C': 1, 'gamma': 0.0001}</td>\n",
              "      <td>0.125</td>\n",
              "      <td>0.125</td>\n",
              "      <td>0.125</td>\n",
              "      <td>0.120</td>\n",
              "      <td>0.120</td>\n",
              "      <td>0.123</td>\n",
              "      <td>0.002449</td>\n",
              "      <td>10</td>\n",
              "    </tr>\n",
              "    <tr>\n",
              "      <th>7</th>\n",
              "      <td>1.047459</td>\n",
              "      <td>0.010783</td>\n",
              "      <td>0.193751</td>\n",
              "      <td>0.005398</td>\n",
              "      <td>1</td>\n",
              "      <td>0.001</td>\n",
              "      <td>{'C': 1, 'gamma': 0.001}</td>\n",
              "      <td>0.825</td>\n",
              "      <td>0.730</td>\n",
              "      <td>0.750</td>\n",
              "      <td>0.815</td>\n",
              "      <td>0.740</td>\n",
              "      <td>0.772</td>\n",
              "      <td>0.039825</td>\n",
              "      <td>8</td>\n",
              "    </tr>\n",
              "    <tr>\n",
              "      <th>8</th>\n",
              "      <td>0.717726</td>\n",
              "      <td>0.011324</td>\n",
              "      <td>0.161509</td>\n",
              "      <td>0.004177</td>\n",
              "      <td>1</td>\n",
              "      <td>0.01</td>\n",
              "      <td>{'C': 1, 'gamma': 0.01}</td>\n",
              "      <td>0.880</td>\n",
              "      <td>0.875</td>\n",
              "      <td>0.905</td>\n",
              "      <td>0.935</td>\n",
              "      <td>0.900</td>\n",
              "      <td>0.899</td>\n",
              "      <td>0.021307</td>\n",
              "      <td>3</td>\n",
              "    </tr>\n",
              "    <tr>\n",
              "      <th>9</th>\n",
              "      <td>1.021031</td>\n",
              "      <td>0.015135</td>\n",
              "      <td>0.195035</td>\n",
              "      <td>0.008798</td>\n",
              "      <td>10</td>\n",
              "      <td>0.0001</td>\n",
              "      <td>{'C': 10, 'gamma': 0.0001}</td>\n",
              "      <td>0.830</td>\n",
              "      <td>0.725</td>\n",
              "      <td>0.780</td>\n",
              "      <td>0.820</td>\n",
              "      <td>0.745</td>\n",
              "      <td>0.780</td>\n",
              "      <td>0.040866</td>\n",
              "      <td>7</td>\n",
              "    </tr>\n",
              "    <tr>\n",
              "      <th>10</th>\n",
              "      <td>0.518431</td>\n",
              "      <td>0.011448</td>\n",
              "      <td>0.147823</td>\n",
              "      <td>0.005059</td>\n",
              "      <td>10</td>\n",
              "      <td>0.001</td>\n",
              "      <td>{'C': 10, 'gamma': 0.001}</td>\n",
              "      <td>0.885</td>\n",
              "      <td>0.835</td>\n",
              "      <td>0.865</td>\n",
              "      <td>0.915</td>\n",
              "      <td>0.885</td>\n",
              "      <td>0.877</td>\n",
              "      <td>0.026382</td>\n",
              "      <td>5</td>\n",
              "    </tr>\n",
              "    <tr>\n",
              "      <th>11</th>\n",
              "      <td>0.714147</td>\n",
              "      <td>0.014174</td>\n",
              "      <td>0.153891</td>\n",
              "      <td>0.001960</td>\n",
              "      <td>10</td>\n",
              "      <td>0.01</td>\n",
              "      <td>{'C': 10, 'gamma': 0.01}</td>\n",
              "      <td>0.905</td>\n",
              "      <td>0.900</td>\n",
              "      <td>0.895</td>\n",
              "      <td>0.945</td>\n",
              "      <td>0.920</td>\n",
              "      <td>0.913</td>\n",
              "      <td>0.018055</td>\n",
              "      <td>1</td>\n",
              "    </tr>\n",
              "    <tr>\n",
              "      <th>12</th>\n",
              "      <td>0.504093</td>\n",
              "      <td>0.013221</td>\n",
              "      <td>0.141659</td>\n",
              "      <td>0.005543</td>\n",
              "      <td>100</td>\n",
              "      <td>0.0001</td>\n",
              "      <td>{'C': 100, 'gamma': 0.0001}</td>\n",
              "      <td>0.865</td>\n",
              "      <td>0.830</td>\n",
              "      <td>0.865</td>\n",
              "      <td>0.905</td>\n",
              "      <td>0.880</td>\n",
              "      <td>0.869</td>\n",
              "      <td>0.024372</td>\n",
              "      <td>6</td>\n",
              "    </tr>\n",
              "    <tr>\n",
              "      <th>13</th>\n",
              "      <td>0.465157</td>\n",
              "      <td>0.018879</td>\n",
              "      <td>0.136993</td>\n",
              "      <td>0.004149</td>\n",
              "      <td>100</td>\n",
              "      <td>0.001</td>\n",
              "      <td>{'C': 100, 'gamma': 0.001}</td>\n",
              "      <td>0.890</td>\n",
              "      <td>0.880</td>\n",
              "      <td>0.885</td>\n",
              "      <td>0.890</td>\n",
              "      <td>0.880</td>\n",
              "      <td>0.885</td>\n",
              "      <td>0.004472</td>\n",
              "      <td>4</td>\n",
              "    </tr>\n",
              "    <tr>\n",
              "      <th>14</th>\n",
              "      <td>0.707685</td>\n",
              "      <td>0.018770</td>\n",
              "      <td>0.151959</td>\n",
              "      <td>0.003189</td>\n",
              "      <td>100</td>\n",
              "      <td>0.01</td>\n",
              "      <td>{'C': 100, 'gamma': 0.01}</td>\n",
              "      <td>0.905</td>\n",
              "      <td>0.900</td>\n",
              "      <td>0.895</td>\n",
              "      <td>0.945</td>\n",
              "      <td>0.920</td>\n",
              "      <td>0.913</td>\n",
              "      <td>0.018055</td>\n",
              "      <td>1</td>\n",
              "    </tr>\n",
              "  </tbody>\n",
              "</table>\n",
              "</div>"
            ],
            "text/plain": [
              "    mean_fit_time  std_fit_time  ...  std_test_score  rank_test_score\n",
              "0        1.428641      0.020830  ...        0.002449               10\n",
              "1        1.430440      0.010696  ...        0.002449               10\n",
              "2        1.443348      0.006866  ...        0.002449               10\n",
              "3        1.446977      0.025361  ...        0.002449               10\n",
              "4        1.422262      0.009712  ...        0.002449               10\n",
              "5        1.323875      0.012473  ...        0.030561                9\n",
              "6        1.423210      0.008832  ...        0.002449               10\n",
              "7        1.047459      0.010783  ...        0.039825                8\n",
              "8        0.717726      0.011324  ...        0.021307                3\n",
              "9        1.021031      0.015135  ...        0.040866                7\n",
              "10       0.518431      0.011448  ...        0.026382                5\n",
              "11       0.714147      0.014174  ...        0.018055                1\n",
              "12       0.504093      0.013221  ...        0.024372                6\n",
              "13       0.465157      0.018879  ...        0.004472                4\n",
              "14       0.707685      0.018770  ...        0.018055                1\n",
              "\n",
              "[15 rows x 15 columns]"
            ]
          },
          "metadata": {
            "tags": []
          },
          "execution_count": 15
        }
      ]
    },
    {
      "cell_type": "code",
      "metadata": {
        "id": "DtTjXahsxpgh",
        "colab_type": "code",
        "colab": {
          "base_uri": "https://localhost:8080/",
          "height": 52
        },
        "outputId": "695b09a4-1cdb-4930-f13b-514c52fd8b50"
      },
      "source": [
        "print('Best params', gridsearch_models.best_params_)\n",
        "print('Best score', gridsearch_models.best_score_)"
      ],
      "execution_count": 16,
      "outputs": [
        {
          "output_type": "stream",
          "text": [
            "Best params {'C': 10, 'gamma': 0.01}\n",
            "Best score 0.913\n"
          ],
          "name": "stdout"
        }
      ]
    },
    {
      "cell_type": "code",
      "metadata": {
        "id": "yYoBam-Mx0xF",
        "colab_type": "code",
        "colab": {}
      },
      "source": [
        "best_model = gridsearch_models.best_estimator_"
      ],
      "execution_count": 19,
      "outputs": []
    },
    {
      "cell_type": "markdown",
      "metadata": {
        "colab_type": "text",
        "id": "rupa4m2jX5rm"
      },
      "source": [
        "## Evaluation"
      ]
    },
    {
      "cell_type": "markdown",
      "metadata": {
        "id": "UBh0Et0erzPs",
        "colab_type": "text"
      },
      "source": [
        "**Get the predictions on test data**"
      ]
    },
    {
      "cell_type": "code",
      "metadata": {
        "colab_type": "code",
        "id": "1rwL5VCIX9qi",
        "colab": {
          "base_uri": "https://localhost:8080/",
          "height": 34
        },
        "outputId": "adaf699a-7ae6-48d6-f718-f407786d50a0"
      },
      "source": [
        "# Your code here\n",
        "predictions = best_model.predict(X_test_flat)\n",
        "print('Accuracy Score:', accuracy_score(y_test_flat, predictions))"
      ],
      "execution_count": 20,
      "outputs": [
        {
          "output_type": "stream",
          "text": [
            "Accuracy Score: 0.93\n"
          ],
          "name": "stdout"
        }
      ]
    },
    {
      "cell_type": "markdown",
      "metadata": {
        "id": "su0pvdthrzP9",
        "colab_type": "text"
      },
      "source": [
        "**Plot the confusion matrix in form of a heatmap**"
      ]
    },
    {
      "cell_type": "code",
      "metadata": {
        "colab_type": "code",
        "id": "2RyKjfmHX7SN",
        "colab": {
          "base_uri": "https://localhost:8080/",
          "height": 612
        },
        "outputId": "792336f2-9361-44ec-d868-c4af453708e3"
      },
      "source": [
        "# Your code here\n",
        "plt.figure(figsize=(10,10))\n",
        "sns.heatmap(confusion_matrix(y_test_flat, predictions), cmap=\"YlGnBu\", annot=True, fmt=\"d\")\n",
        "plt.title(f'Accuracy score: {accuracy_score(y_test_flat, predictions)}', fontsize=20)\n",
        "plt.show()"
      ],
      "execution_count": 21,
      "outputs": [
        {
          "output_type": "display_data",
          "data": {
            "image/png": "[encoded data removed]",
            "text/plain": [
              "<Figure size 720x720 with 2 Axes>"
            ]
          },
          "metadata": {
            "tags": []
          }
        }
      ]
    },
    {
      "cell_type": "markdown",
      "metadata": {
        "id": "mpMUVV4VrzQP",
        "colab_type": "text"
      },
      "source": [
        "**Plot the samples that the model predicts incorrectly**"
      ]
    },
    {
      "cell_type": "code",
      "metadata": {
        "colab_type": "code",
        "id": "-_uUXSpazDLu",
        "colab": {
          "base_uri": "https://localhost:8080/",
          "height": 540
        },
        "outputId": "ce0aafda-62b8-4f29-a266-4b31bf0d2067"
      },
      "source": [
        "# Your code here\n",
        "wrong_predicted_images = X_test_flat[y_test_flat != predictions].reshape((-1, 28, 28))\n",
        "wrong_predictions = predictions[y_test_flat != predictions]\n",
        "\n",
        "plot_images(wrong_predicted_images, wrong_predictions)"
      ],
      "execution_count": 17,
      "outputs": [
        {
          "output_type": "display_data",
          "data": {
            "image/png": "[encoded data removed]",
            "text/plain": [
              "<Figure size 1440x720 with 22 Axes>"
            ]
          },
          "metadata": {
            "tags": [],
            "needs_background": "light"
          }
        }
      ]
    },
    {
      "cell_type": "markdown",
      "metadata": {
        "colab_type": "text",
        "id": "Y8O1Hh7LYNjP"
      },
      "source": [
        "## Save model"
      ]
    },
    {
      "cell_type": "code",
      "metadata": {
        "id": "CGWduD9i6XUj",
        "colab_type": "code",
        "colab": {
          "base_uri": "https://localhost:8080/",
          "height": 34
        },
        "outputId": "f0046ee0-7ccd-4dcb-9882-66d11998fc67"
      },
      "source": [
        "from google.colab import drive\n",
        "drive.mount('/content/gdrive')"
      ],
      "execution_count": 22,
      "outputs": [
        {
          "output_type": "stream",
          "text": [
            "Drive already mounted at /content/gdrive; to attempt to forcibly remount, call drive.mount(\"/content/gdrive\", force_remount=True).\n"
          ],
          "name": "stdout"
        }
      ]
    },
    {
      "cell_type": "code",
      "metadata": {
        "id": "h5rFJm_08r0Y",
        "colab_type": "code",
        "colab": {
          "base_uri": "https://localhost:8080/",
          "height": 34
        },
        "outputId": "0c8749ca-6bd4-4351-dbb0-928177d6f890"
      },
      "source": [
        "cd '/content/gdrive/My Drive/week6'"
      ],
      "execution_count": 23,
      "outputs": [
        {
          "output_type": "stream",
          "text": [
            "/content/gdrive/My Drive/week6\n"
          ],
          "name": "stdout"
        }
      ]
    },
    {
      "cell_type": "code",
      "metadata": {
        "colab_type": "code",
        "id": "C7cNiWsLYPTE",
        "colab": {}
      },
      "source": [
        "import pickle\n",
        "\n",
        "pickle.dump(clf, open('svm_mnist.pkl', 'wb'))"
      ],
      "execution_count": 24,
      "outputs": []
    },
    {
      "cell_type": "markdown",
      "metadata": {
        "colab_type": "text",
        "id": "5B-g57XIYuH0"
      },
      "source": [
        "**Re-load model for testing**"
      ]
    },
    {
      "cell_type": "code",
      "metadata": {
        "colab_type": "code",
        "id": "WDsYcxfzYd8F",
        "colab": {
          "base_uri": "https://localhost:8080/",
          "height": 34
        },
        "outputId": "db3ee5d3-4d05-4a29-e6ed-21fae6c5f704"
      },
      "source": [
        "# Your code here\n",
        "with open('svm_mnist.pkl', 'rb') as model:\n",
        "    reload_model = pickle.load(model)\n",
        "\n",
        "predictions = reload_model.predict(X_test_flat)\n",
        "print(f'Accuracy score: {accuracy_score(y_test_flat, predictions)}')"
      ],
      "execution_count": 25,
      "outputs": [
        {
          "output_type": "stream",
          "text": [
            "Accuracy score: 0.895\n"
          ],
          "name": "stdout"
        }
      ]
    },
    {
      "cell_type": "code",
      "metadata": {
        "id": "AMjcxtA4Xg5u",
        "colab_type": "code",
        "colab": {}
      },
      "source": [
        "from google.colab import files\n",
        "from IPython.display import Image"
      ],
      "execution_count": 27,
      "outputs": []
    },
    {
      "cell_type": "code",
      "metadata": {
        "id": "b3t7_3J8XrJc",
        "colab_type": "code",
        "colab": {
          "resources": {
            "http://localhost:8080/nbextensions/google.colab/files.js": {
              "data": "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",
              "ok": true,
              "headers": [
                [
                  "content-type",
                  "application/javascript"
                ]
              ],
              "status": 200,
              "status_text": "OK"
            }
          },
          "base_uri": "https://localhost:8080/",
          "height": 112
        },
        "outputId": "aef20678-9884-4992-864a-70ab2019fe78"
      },
      "source": [
        "files.upload()"
      ],
      "execution_count": 29,
      "outputs": [
        {
          "output_type": "display_data",
          "data": {
            "text/html": [
              "\n",
              "     <input type=\"file\" id=\"files-d6e90d9f-0eae-45db-8647-6e9477932bb4\" name=\"files[]\" multiple disabled\n",
              "        style=\"border:none\" />\n",
              "     <output id=\"result-d6e90d9f-0eae-45db-8647-6e9477932bb4\">\n",
              "      Upload widget is only available when the cell has been executed in the\n",
              "      current browser session. Please rerun this cell to enable.\n",
              "      </output>\n",
              "      <script src=\"/nbextensions/google.colab/files.js\"></script> "
            ],
            "text/plain": [
              "<IPython.core.display.HTML object>"
            ]
          },
          "metadata": {
            "tags": []
          }
        },
        {
          "output_type": "stream",
          "text": [
            "Saving image.png to image.png\n"
          ],
          "name": "stdout"
        },
        {
          "output_type": "execute_result",
          "data": {
            "text/plain": [
              "{'image.png': b'\\x89PNG\\r\\n\\x1a\\n\\x00\\x00\\x00\\rIHDR\\x00\\x00\\x05V\\x00\\x00\\x03\\x00\\x08\\x06\\x00\\x00\\x00\\xcf><\\xc2\\x00\\x00\\x00\\x04sBIT\\x08\\x08\\x08\\x08|\\x08d\\x88\\x00\\x00\\x00\\x19tEXtSoftware\\x00gnome-screenshot\\xef\\x03\\xbf>\\x00\\x00\\x00BiTXtCreation Time\\x00\\x00\\x00\\x00\\x00Ch\\xe1\\xbb\\xa7 nh\\xe1\\xba\\xadt, 09 Th\\xc3\\xa1ng 8 N\\xc4\\x83m 2020 01:29:10 +07\\xb0\\xe7\\x0c\\xdb\\x00\\x00 \\x00IDATx\\x9c\\xec\\xddwx\\x14U\\xdb\\x06\\xf0{gk6=\\xd9\\r]\\x10\\x94\\xf6\\x82\\x80\\xbc\\x10\\xa5\\x04\\xa5( \\xddB\\x11\\x04\\x04A,\\xa84\\x95\\xae\\xa0\"**\\xa8\\x88\\rD\\x01\\x0b \\n(\\x06\\x04I\\x00I\\x14\\t\\xe53\\xa0\\x12\\xe4MB\\xc9nz\\xdb:\\xfb\\xfd\\x11P\\x84\\xb03\\x93\\xddM \\xb9\\x7f\\xd7\\xe5u\\xa9y\\xe6\\x9c\\'\\x9b\\xc9*\\xf7\\x9e9G\\x05\\xc0\\x03\"\"\"\"\"\"\"\"\"\"\\x92M\\xe3\\xf10W%\"\"\"\"\"\"\"\"\"RB\\xa8\\xea\\x06\\x88\\x88\\x88\\x88\\x88\\x88\\x88\\x88\\x88\\x88\\xae5\\x0cV\\x89\\x88\\x88\\x88\\x88\\x88\\x88\\x88\\x88\\x88\\x14b\\xb0JDDDDDDDDD\\xa4\\x10\\x83U\"\"\"\"\"\"\"\"\"\"\\x85\\x18\\xac\\x12\\x11\\x11\\x11\\x11\\x11\\x11\\x11\\x11\\x11)\\xc4`\\x95\\x88\\x88\\x88\\x88\\x88\\x88\\x88\\x88\\x88H!\\x06\\xabDDDDDDDDDD\\n1X%\"\"\"\"\"\"\"\"\"R\\x88\\xc1*\\x11\\x11\\x11\\x11\\x11\\x11\\x11\\x11\\x11\\x91B\\x0cV\\x89\\x88\\x88\\x88\\x88\\x88\\x88\\x88\\x88\\x88\\x14b\\xb0JDDDDDDDDD\\xa4\\x10\\x83U\"\"\"\"\"\"\"\"\"\"\\x85\\x18\\xac\\x12\\x11\\x11\\x11\\x11\\x11\\x11\\x11\\x11\\x11)\\xc4`\\x95\\x88\\x88\\x88\\x88\\x88\\x88\\x88\\x88\\x88H!\\x06\\xabDDDDDDDDDD\\n1X%\"\"\"\"\"\"\"\"\"R\\x88\\xc1*\\x11\\x11\\x11\\x11\\x11\\x11\\x11\\x11\\x11\\x91B\\x0cV\\x89\\x88\\x88\\x88\\x88\\x88\\x88\\x88\\x88\\x88\\x14b\\xb0JDDDDDDDDD\\xa4\\x10\\x83U\"\"\"\"\"\"\"\"\"\"\\x85\\x18\\xac\\x12\\x11\\x11\\x11\\x11\\x11\\x11\\x11\\x11\\x11)\\xc4`\\x95\\x88\\x88\\x88\\x88\\x88\\x88\\x88\\x88\\x88H!\\x06\\xabDDDDDDDDDD\\n1X%\"\"\"\"\"\"\"\"\"R\\x88\\xc1*\\x11\\x11\\x11\\x11\\x11\\x11\\x11\\x11\\x11\\x91B\\x0cV\\x89\\x88\\x88\\x88\\x88\\x88\\x88\\x88\\x88\\x88\\x14b\\xb0JDDDDDDDDD\\xa4\\x10\\x83U\"\"\"\"\"\"\"\"\"\"\\x85\\x18\\xac\\x12\\x11\\x11\\x11\\x11\\x11\\x11\\x11\\x11\\x11)\\xc4`\\x95\\x88\\x88\\x88\\x88\\x88\\x88\\x88\\x88\\x88H!\\x06\\xabDDDDDDDDDD\\n1X%\"\"\"\"\"\"\"\"\"R\\x88\\xc1*\\x11\\x11\\x11\\x11\\x11\\x11\\x11\\x11\\x11\\x91B\\x0cV\\x89\\x88\\x88\\x88\\x88\\x88\\x88\\x88\\x88\\x88\\x14b\\xb0JDDDDDDDDD\\xa4\\x10\\x83U\"\"\"\"\"\"\"\"\"\"\\x85\\x18\\xac\\x12\\x11\\x11\\x11\\x11\\x11\\x11\\x11\\x11\\x11)\\xc4`\\x95\\x88\\x88\\x88\\x88\\x88\\x88\\x88\\x88\\x88H!\\x06\\xabDDDDDDDDDD\\n1X%\"\"\"\"\"\"\"\"\"R\\x88\\xc1*\\x11\\x11\\x11\\x11\\x11\\x11\\x11\\x11\\x11\\x91B\\x0cV\\x89\\x88\\x88\\x88\\x88\\x88\\x88\\x88\\x88\\x88\\x14b\\xb0JDDDDDDDDD\\xa4\\x10\\x83U\"\"\"\"\"\"\"\"\"\"\\x85\\x18\\xac\\x12\\x11\\x11\\x11\\x11\\x11\\x11\\x11\\x11\\x11)\\xc4`\\x95\\x88\\x88\\x88\\x88\\x88\\x88\\x88\\x88\\x88H!\\x06\\xabDDDDDDDDDD\\n1X%\"\"\"\"\"\"\"\"\"R\\x88\\xc1*\\x11\\x11\\x11\\x11\\x11\\x11\\x11\\x11\\x11\\x91B\\x9a\\xaan\\x80\\x88\\x88\\xe8j\\xe1\\xc9\\xceC\\xc9\\x86\\x1d\\xb0\\'%\\xc3\\xf9\\xeb\\t\\x88gs\\xe0),\\x84\\xe8\\xc7\\x8f!#\\x97\\xcc@\\xf0\\xf8\\xfb\\xfc7 \\xc9b\\xe9;\\x06\\xf6=G\\xbd\\xd6\\xd4>\\xbc\\x11\\x9aF\\xd7URG\\xe4\\x13\\x87\\x13\\xce_R\\xe1\\xd8w\\x08\\xf6\\xff;\\x02\\xf7\\xb9,\\x88g\\n\\xe1\\xb1\\x16\\xc0]R\\x08u\\xad\\x10\\x08\\xe6h\\x08\\xb5LP\\x9b\\xa2\\xa0nX\\x0fA\\xddo\\x85\\xb6}k@\\xe0\\xba\\x02)Y\\xdd\\x86\\xc2q\\xf0\\x84\\xd7\\x9a\\xba\\'\\xb6A0\\x9b*\\xa9#\\xba\\x16\\x9dn\\xd6\\x1d\\xe2\\x99\\x02\\xaf5\\xf5\\x0b~\\xa9\\xa4n\\x88\\x88\\x88\\x02\\x83\\xc1*\\x11\\x11\\xd5x\\xf6]?\\xa1\\xe8\\xed\\xcfa\\xdb\\xb9\\x1f\\x1e\\x97\\xeb\\xdf_d\\x06Ct\\xd5p$\\xfc\\x8c\\xc2\\x95_\\xc0\\xb6c/<\\xf9\\x8e+\\xd6\\xb92\\xf2\\x80\\x8c<\\x00\\xff\\x84\\x83\\x05/|\\x00!\"\\x14\\x86\\xdbo\\x85\\xa1og\\x18\\x07\\xf4\\x04\\x82\\xf4\\x95\\xd05\\x11\\x11\\x11\\x11UW\\x0cV\\x89\\x88\\xa8\\xc6r\\xffq\\x12y\\xd3\\x97\\xa0t\\xe7OU\\xdd\\n\\x11yQ\\xb2\\xeek\\x14-\\xfa\\x04\\x8e\\x93\\x7f\\xf94\\x8e\\x98W\\x88\\x92\\xaf\\xe2Q\\xf2U<\\xf2\\x17.C\\xd8\\x94\\x87\\x10\\xfc\\xc0 @\\xad\\xf6O\\xa3DDDDT\\xa3p\\x1d\\x0e\\x11\\x11\\xd5H\\xc5\\xef\\xad\\xc7\\xd9\\xee\\xf73T%\\xba\\x8a\\xb9O\\xfc\\x05\\xcb\\x9d\\xe3\\x913q\\x81\\xcf\\xa1\\xeaec\\x9f\\xb2\"\\xf7\\x89\\x97p\\xee\\x96\\xc1\\xb0\\xad\\xff\\xd6\\xafc\\x13\\x11\\x11\\x11Q\\xcd\\xc0`\\x95\\x88\\x88j\\x9c\\xa2\\xa5\\x1f#w\\xda\"\\xaf\\x8f\\x12\\x13Q\\xd5*Z\\xba\\x16go\\x1b\\x01\\xfbO)\\x01\\x9d\\xc7y\\xfc4\\xac\\x0f\\xceE\\xce\\xd8\\x19@\\xa9=\\xa0s\\x11\\x11\\x11\\x11Q\\xf5\\xc2`\\x95\\x88\\x88j\\x14\\xdb\\xd7;Q0sYU\\xb7AD^\\x14\\xbc\\xf06\\xf2f/\\xa9\\xd4\\x0f?J6\\xec\\x84\\xa5\\xffx\\x88Y\\x96J\\x9b\\x93\\x88\\x88\\x88\\x88\\xaem\\x0cV\\x89\\x88\\xa8\\xc6p\\x9f\\xf8\\x0b9\\xe3\\xe6@\\xe4\\x7f\\xfd\\x88\\xaeZ\\xf9\\xb3\\x16\\xa3\\xe0\\xe5\\x95U2\\xb7=9\\x15Y\\x9dF\\xc3y\\xf4x\\x95\\xccODDDD\\xd7\\x16\\xfe\\xd1\\x92\\x88\\x88j\\x8c\\xbc\\xa9\\xafAt\\xf0Q_\\xa2\\xabU\\xc1\\xa2\\xe5(\\\\\\xf6E\\x95\\xf6\\xe0\\xca\\xca\\x82\\xe5\\xeeIp\\x9f\\xca\\xa8\\xd2>\\x88\\x88\\x88\\x88\\xe8\\xea\\xa7\\xa9\\xea\\x06\\x88\\x88\\x88*\\x83}\\xe7\\xde\\n\\x1fT%\\x04\\xfb\\xf1?\\x97j\\x95\\xff\\xc6\"\\xaaF\\x9cG\\x8f\\xa3p\\xf1\\xc7>\\x8f#\\x18\\xd5\\x10K\\xdc>\\x8d!\\x9e)\\x80\\xf5\\x81i\\xa8\\xb5m\\x15\\x10d\\xf0\\xb9\\'\"\"\"\"\\xaa\\x9e\\x18\\xac\\x12\\x11Q\\x8dP\\xf4\\xee:\\xd9\\xb5\\xba\\xce\\xad\\x106\\xee>\\xa8\\x9b7\\x81\\xb6IC\\x06+D\\x81\\xe6v#w\\xf2\\xf3\\xf0\\xb8\\\\\\x8a.\\xd36o\\x82\\xa0\\x1e\\x9d\\xa0\\xed\\xd8\\x0c\\xea\\xfau\\xa1iX\\x07\\x82\\xd9\\x04O\\xa9\\r\\x9e39p\\x9d=\\x0b\\xfb\\xde\\x03(\\xdd\\xb5\\x0f\\xae\\x83\\xa9\\x8a\\x02W\\xe7\\xc1?\\x917s1\"^\\x9f\\xab\\xf4\\xbb!\"\"\"\\xa2\\x1a\\x82\\xc1*\\x11\\x11U{\\x9e\\xfc\"\\xd8v\\xfc\"Y\\xa7\\xd2j\\x10\\xb5l>\\x82F\\xf4\\xae\\x84\\xae\\x88\\xe8\\x82\\xe2\\x95\\x1b\\xe0\\xf8E\\xfe\\xbe\\xa6ACnC\\xd8\\xd4\\xf1\\xd0\\xb6n^\\xee\\xd7U\\xc6 \\xa8\\x9a\\xd4\\x83\\xaeI=\\xe8:\\xb7G\\xe8\\x8c\\tpg\\x9cE\\xd1\\x0b\\x1f\\xa2\\xe8\\xf3\\xcd\\xb2\\x03\\xdc\\xa2\\x0f\\xbf\\x81\\xa1\\xcf\\xed0\\xdc\\xd1UvoDDDDTsp\\x8fU\"\"\\xaa\\xf6\\xec\\xdb\\x13d\\x05)\\xd1\\x1f\\xbd\\xc8P\\x95\\xa8\\n\\x94|\\xfe\\x8d\\xac:M\\xfd\\x08\\x98\\xd6\\xbf\\x81\\xe8U\\xaf^1T\\xbd\\x12u\\xfd\\xda\\x08_>\\x0b\\xb5\\x0fm\\x84\\xa1[\\x1b\\xd9\\xd7\\xe5N}\\x01\\x9e\\xa2\\x12Es\\x11\\x11\\x11\\x11Q\\xcd\\xc0`\\x95\\x88\\x88\\xaa=\\xe7\\xc14\\xc9\\x1ac\\xef\\xdb`\\x18\\xd8\\xbd\\x12\\xba!\\xa2\\x8b\\x89\\xa7\\xd2aO:&Y\\xa7nh\\x829\\xfeS\\x18\\xee\\xe8\\xe2\\xd3|\\xea\\x06ua\\xda\\xb8\\x02!#\\x06\\xca\\xaaw\\x9f\\xb2\\xa2`\\xe9\\x07>\\xcdIDDDD\\xd5\\x13\\x83U\"\"\\xaa\\xf6\\\\y\\xd9\\x925\\xc6a\\\\\\xa9JT\\x15\\x8a?\\xff^\\xb2F\\x08\\xd6\\xc0\\xb4\\xf6\\r\\xa8\\xeb\\xd7\\xf6\\xcf\\xa4Z\\r\"\\xde\\x9d\\x83\\xb0\\x99\\xe3d\\x95\\x17/\\xff\\x1c\\xee\\x8c\\xb3\\xfe\\x99\\x9b\\x88\\x88\\x88\\x88\\xaa\\r\\x06\\xabDDT\\xed\\x89\\x16\\x8bd\\x8d\\xfa\\xc6\\xfa\\x95\\xd0\\t\\x11]\\xca\\x91|T\\xb2&hP/\\xc5\\x8f\\xfe\\xcb\\x11\\xf6\\xcc$\\x04\\x0f\\x97\\xfePE\\xcc\\xb7\\xa3h\\xf9\\xa7~\\x9f\\x9f\\x88\\x88\\x88\\x88\\xaem\\x0cV\\x89\\x88\\xa8\\xda\\x13\\x1dN\\xc9\\x1a\\x95^[\\t\\x9d\\x10\\xd1\\xa5\\xdcg\\xa5W\\x94\\x87\\x8c\\x1c\\x12\\xb0\\xf9#^\\x9b\\tM\\x83\\xba\\x92u\\xa5\\xab\\xbf\\x07\\x9c\\xf2\\x0e\\xbd\"\"\"\"\\xa2\\x9aAS\\xd5\\r\\x10\\x11\\x11\\x05\\x9c\\xc7S\\xd5\\x1dT*1?\\x1f\\xaeci\\x103r\\xe0.\\xc8\\x81h\\xc9\\x85h\\xb3C\\x1d\\x13\\x05uX4\\xd4\\xf5\\xa3!\\\\W\\x0b\\x9aF\\xd7Uu\\xab\\xd2<\\x1e\\x88i\\xa7\\xe1\\xf8\\xe3\\x04\\\\\\xbf\\xa7\\xc1s\\xae\\x08\\x1e\\xa3\\np\\xa9\\xa0\\n\\xd6BsC#\\xe8\\xfes\\x03\\xd4M\\x1a\\x02\\xc2\\xd5\\xffy\\xb1\\xfbT\\x06\\\\\\x7fe\\xc2}\\xd6\\nwv6<\\x99V@\\xa7\\x82::\\x1a\\xea\\xda&\\xa8\"\\xa3\\xa1m\\xde\\x10B=?=\\xf2~\\x05\\xae\\xd4?Q\\xf4\\xc1\\x17^k\\xf4\\x1dZ#hX\\xff+~\\xddSR\\n\\xc7\\xcf\\x87\\xe1>\\x91\\x0e1\\xaf\\x00\\xa2\\xa5\\x10\\xa2\\xb3\\x08\\xf0\\xa8\\xfe\\xae\\xd1\\xdc\\xd8\\x10!\\x0f\\xdf\\xefu\\x1e17\\xcb\\xeb\\xd7\\x85`\\r\\xb4m[x\\xad\\xf1\\x85*\\xc4\\x88\\xe8\\xf7\\x9e\\x83\\xe5\\xce\\x87 \\x96s\\x0b\\xe9\\xda7\\x85qX?\\x04\\xdf\\xd3\\x17\\xd0\\x06\\xfe\\x7f\\x9d]\\x7f\\xfd\\x0f\\xee\\x93\\x99pgfC\\xcc\\xc9\\x86x.\\x1b\\x1e\\x17 \\x98C!D\\x84A\\xdb\\xb0\\x014\\x1d\\xff\\x03!<<\\xe0\\xbd(\\xe1),\\x86\\xfd\\xa7_\\xe1\\xce<\\x0b\\xf7\\xe9,\\x88\\x05EP\\x85\\x07A\\x1d\\x12\\x06u\\x83\\xda\\xd0\\xdd\\xdc\\x06\\xea\\x86u\\xaa\\xba\\xcdr\\xb9\\xd3O\\xc3\\x95\\x96\\x01OV\\x0e\\\\gr\\xe09\\x97\\x03\\x8fN\\x80\\xba\\x9e\\t\\xea\\xc8h\\xa8kGA\\xd3\\xbc!T\\xd1QU\\xdd\\xaa$OQ\\t\\\\\\xff\\xf7;\\xdc\\xd6\\\\\\xb8\\xb3r Zs\\xe0))\\x85:8\\x12\\xaaFQPG\\x9a\\xa0\\xb9.\\x06\\xea\\x1b\\xaf\\xaf\\xeaV\\x89\\x88\\x88\\xaa\\x05\\x06\\xabDDT\\xed\\xa9DwU\\xb7\\x10p\\xee\\x13\\x7f\\xc1\\xf6U\"J\\x12\\x13\\xe1L>\\x0c\\xb1Xze\\x9d\\xb6i\\x1d\\x18\\xba\\xc5\\xc1\\xd07\\x0e\\xfa\\xb8\\xf6\\x95\\x12\\x1a\\xc9\\xe2t\\xc2\\xf6m\"\\x8a7}\\x07\\xfb\\xe6}\\x10\\x1dv\\xc9K\\x04\\xad\\x0e\\xba\\x0e\\xad\\x10<\\xaa\\x1f\\x0c\\x83{Ae\\x0c\\xaa\\x84Fe\\x10E8\\x7f:\\x84\\xd2\\x1d\\x89\\xb0}\\x9f\\x08\\xc7\\xd1\\x93\\xb2.\\xd3\\xb5k\\x02C\\xafn0\\xdc\\xd9\\x05\\xba\\xff\\xb6\\x06T*\\xe9\\x8b\\x14p\\xa5\\x9fA\\xd1\\xfb\\x1b\\xbd\\xd6xl\\xce\\xcb\\x82U\\xf7\\xa9\\x0c\\x14\\xad\\xd9\\x08\\xfb\\xb7?\\xc3u\\xe2\\x0f\\xc9\\xfb\\xcc\\xd0\\xe9f\\xef\\xc1\\xaa\\xdb\\r\\xf1T\\xb6\\xd7g\\xa8\\x84\\x90h \\xd8\\xe0u\\x1e_i;\\xb7\\x83q\\xd2\\x10\\x14\\xad({M4\\xe1\\x91\\x08z\\xe0N\\x04\\x8f\\x18\\x00\\xcd\\x7f\\x9a\\x06tn\\xb8\\xddp\\xec\\xfd\\x15\\xa5\\xdf\\xef\\x86m\\xd3^8\\xd3\\xd3e]\\xa6i\\xd9\\x00\\xc6>q0\\xde\\xd7\\x1f\\x9a\\x167\\x04\\xb6\\xc7+\\xf0\\x14\\x17\\xa3d\\xe5\\x06\\x94l\\xd8\\x05\\xe7\\xb1T\\xc9\\xfbA\\xdd\\xd0\\x04c\\xdf;\\x10\\xf2\\xe0 \\xa8\\x9b5\\xae\\xa4.\\xcb!\\x8ap\\xfe|\\x18%\\xdf\\'\\xc2\\xfe\\xfdn8\\x8e\\xfc%y\\x89 \\x02\\xdav-`\\x18|\\x1b\\x82\\xee\\xec\\x1a\\xf8\\xfbB\\x01w\\xfai\\xd8\\xbeODi|\\x02\\xec?\\x1c\\x80G\\xc6\\xcajML\\x0c\\x0c\\x03\\xbb\\xc0pgW\\x18\\xba\\xc5\\x02z]%tJDDT\\xfd\\xa8<\\x9e\\x1a\\xb6\\x8c\\x87\\x88\\x88j\\x1c\\xcb\\xedca?p\\xc4kM\\xed_>\\x87\\xa6i\\x93J\\xea\\xc8\\x7f\\x1c)\\xff\\x87\\xfcyo\\xc2\\xbe\\xebW\\x9f\\xc6\\xd14\\x88F\\xe8\\xb4\\xf1\\x08~`\\x08\\xa0V\\xfb\\xa9;e<\\xd9y(X\\xf2\\x1eJ>\\xfb\\x0enKa\\x85\\xc7\\x11\\xa2\\x83\\x10\\xd4\\xab\\x07\\xc2g\\x8d\\x83\\xd0\\xb0\\x01\\x00\\xc0\\xd2w\\x0c\\xec{\\xbc\\xef\\xe5Y\\xfb\\xf0F\\xbf\\xae\\xe2-\\xfd&\\x1e\\x05\\x0b\\xde\\x82\\xf3\\xf8i\\x9f\\xc6\\xd1\\xb5n\\x84\\xb09\\x93a\\xe8\\x1d\\xe7\\xa7\\xce\\x00[|\"\\xac\\xf7<\\xe5\\xb5&xT\\x7fD\\xbe=\\x0f\\x00`\\xdf\\x9d\\x8c\\xa2w?\\x81}\\xf3O\\xe5\\xae\\xea\\xbc\\x12C\\xa7\\x9ba\\xda\\xf6\\xde\\x95\\x0b\\xdcndD\\xc6z\\x1dC0\\x19Q7-A\\xfe\\xa4\\x15\\xe4),F\\xde\\xb4\\x97\\x104\\xb8\\x07\\x0c=\\xba\\x06\\xfe\\x83\\x06QD\\xc9\\xe7\\x9bQ0g\\x05\\\\Y\\xdeW\\xedJ\\xd1wl\\x81\\xb0\\xa7\\x1f\\x82\\xbe\\x97\\x7f\\xee\\x91\\xacnC\\xe18x\\xc2kM\\xf0\\x83\\x83`\\xfb&\\x1enkI\\x85\\xe60\\xdc\\xd6\\x11\\x11\\x8b\\xa7A\\xd3\\xbc\\x12\\x03V\\x8f\\x07\\xb6\\r\\xdf!o\\xde\\xbbp\\xa5\\xfb\\xf8{\\xd9\\xa1\\x19\\xc2gN\\x86\\xbe\\x87\\xf7\\xfb7\\x90\\\\\\xa9\\x7f\"\\x7f\\xce[(\\x8d\\xdf\\xe3\\xd38\\xea\\xe0P\\x84>;\\x06!\\x13\\x87\\xfb5`=\\xdd\\xac;\\xc43\\x05^k\\xea\\x17\\xfc\\xe2\\xb7\\xf9\\x88\\x88\\x88\\xaa\\xc2\\xd5\\xff\\xcc\\x1c\\x11\\x11\\x91\\xaf\\xdc\\xd2\\x9f!\\xaa\\xf4\\xc6Jh\\xc4\\x7f\\xdci\\xa7\\x903\\xe2id\\xc5\\x8d\\xf69T\\x05\\x00Wz6r\\x9fx\\x19g;\\xdf\\x03\\xdb\\xe6\\xed~\\xe8P\\x01\\xa7\\x0b\\xc5o\\xad\\xc6\\xd9\\x8e\\x83Q\\xb8\\xec\\x0b\\x9fBU\\x00\\x10\\xb3KQ\\xfc\\xd9\\x16\\x9c\\xe92\\x14\\x05\\x0b\\xdf\\x01\\x8am~jT\\x1e\\xc7\\x9e_`\\xe95\\x12\\xd9#g\\xfa\\x1c\\xaa\\x02\\x80\\xe3\\xc8_\\xb0\\xde7\\x05\\xd6\\xfe\\xe3\\xe0\\xf8\\xf9\\xb0\\x1f:\\x94O\\xb4X\\x913\\xfe\\x19X\\xfa?\\x82\\xd2\\xad\\xcaBUY\\xd4j\\xa8\\xcd\\xa1\\xde{\\xb0\\x96\\xc0}\\xe2/?O|9Uh0\"W,\\x84\\xa1\\xf7\\xed\\x01\\x0fU\\xed\\xdb\\x13p.v\\x18r&.\\xf09T\\x05\\x00{r*,wO\\x81e\\xd0D8\\x8f\\x1e\\xf7C\\x87\\xd2\\x8a?\\xdaT\\xe1P\\x15\\x00l?&\\xe3\\\\\\xa7\\x11(x\\xeeu@\\xc6>\\xd8\\xberl\\xdf\\x87\\xac\\xee\\xf7\\xc3\\xfa\\xe0\\\\\\x9fCU\\x00p\\xfc|\\x1c\\x96\\xc1\\x8f\\xc2z\\xdf\\xa3\\x95\\xf6\\x9a_ \\x9e9\\x87\\xdcG\\x9fC\\xd6\\xed\\xf7\\xfb\\x1c\\xaa\\x02\\x80\\xbb\\xb8\\x10y\\xb3\\x97\\xe1l\\xab\\xc1(]\\xf3\\r \\x8a~\\xe8\\x92\\x88\\x88\\xa8f`\\xb0JDD\\xd5\\x9e\\xc7&\\xfd(\\xb9:&\\xb2\\x12:\\xf1\\x8f\\xd2O\\xbe\\xc1\\xd9\\x0eCQ\\xb2\\xe5\\x07\\xbf\\x8f\\xed\\xfa-\\x1d\\xd6\\xfb\\x9fE\\xce\\xb8\\x19@\\xa9\\xf4\\xeb\\xe6+\\xf7\\x1f\\'\\x91\\xf5\\xdfa\\xc8\\x9d\\xb9\\xd4\\xe7@\\xf5R\\x9e|\\x07\\n\\x16\\x7f\\x84\\xb3\\x9d\\x87\\xc0\\x95~\\xd6\\xafc\\x97K\\x14\\x91?\\xf7ud\\xf5}\\x18\\xf6\\xa4c~\\x1f\\xde\\xb6\\xfb\\x10\\xac\\xb7?\\x88\\xc2%\\x1f\\xfa}\\xec\\xf2\\xd8\\x0f\\xa4\\xe0\\xdc-\\xf7\\xa2\\xe4\\x8b\\x1d\\x01\\x9dG];Z\\xb2\\xa6\\xe0\\xd5\\xca\\xf9\\x9e\\x03\\xce\\xe9B\\xde\\xe4\\xf9\\xb0\\xdc=\\x05\\xce\\xe3i~\\x1f\\xde\\xbe\\xf3\\x00\\xb2\\xba\\x8dF\\xd1\\xd2\\xb5~\\x1f;\\x10<.\\x17\\n^[\\x03K\\xffI\\xf0\\xe4z_\\xd9Xan7r\\x9f\\\\\\x88\\xac\\xbb\\'\\xc3q\\xe0w\\xbf\\x0fo\\xdb\\x96\\x04K\\xcf\\x07P\\xf4\\xce\\xa7~\\x1f\\xbb\\xdc\\xf96\\xff\\x88\\xb3\\x9d\\xeeA\\xf1\\'\\x9b!\\x96\\xf8w\\x9b\\x1b\\xd7\\xb9s\\xc8\\x9e\\xf4<\\xac\\x83\\x1e\\x83\\'\\xbf\\xc8\\xafc\\x13\\x11\\x11UW\\x0cV\\x89\\x88\\xa8\\xda\\x13\\xcfY\\xbc~]\\xd0\\xea\\x80\\xa0\\xc0\\xee\\xe1\\xe8\\x17\\x1e\\x0f\\n\\x9e[\\x8a\\xecG\\x9f\\x97\\xb5\\x87\\x9e/J\\xbe\\xdc\\x89\\xac^\\xe3!\\x9e\\xf1\\xfe\\xda\\xf9\\xc2\\xbe\\xeb\\'d\\xc5=\\x08\\xc7\\xc9\\xbf\\x026\\x07\\x00\\xb8\\xd2\\xb2\\xe0>e\\r\\xe8\\x1c\\x9e\\xe2bd\\xdf\\xff\\x04\\n\\xdfX\\x13\\xd0yD\\x01\\xc8\\x9f\\xbf\\x1c9\\x13g\\x02vG@\\xe7r\\xfd\\x96\\xee\\xf7\\xb0\\xbb<\\xda\\xd8\\xb6\\x925\\xc5k\\xbeC\\xd1\\xd2\\x8f\\x03\\xdeK y\\xb2\\xf3`\\x1d2\\x11E\\xab\\xb6\\x04v\\x1e\\xa7\\x0by\\xb3\\x97 \\xe7\\xbei\\x95\\xf2\\xe1\\x88?\\xd8\\x7fJ\\xc1\\xb9\\xde\\xa3!\\x9e9\\xe7\\xd7q\\xc5\\xfc|X\\xef\\x9a\\x84\\xe2\\x8f6\\xf9u\\xdc\\xcb\\xe6)q#\\xef\\x997\\x90\\xf7\\xf0\\x02 \\x80\\xef\\xcdEK?F\\xce\\xf0i\\x10\\xb3K\\x036\\x07P\\xb6\\x9a8\\xeb\\xb6\\xd1p\\xa7\\x9d\\n\\xe8<DDD\\xd5\\x01\\x83U\"\"\\xaa\\xd6\\x9cG\\x8f\\xc3\\x95\\x9b\\xe7\\xb5F\\xd3\\xe6\\x1a8\\x1d\\xd9\\xee@\\xce\\x03\\xd3P\\xf0\\xda\\xeaJ\\x9b\\xd2q8\\x15\\xe7\\xee\\x18\\x05\\xe7\\x11\\xff\\xaf\\xbe,~o=\\xb2G<\\x05wq\\xe0\\x83\\xbb@s\\x9f:\\x83\\xac\\xdb\\xc6\\xa2t\\xebO\\x956g\\xc9\\xbaxXzM\\x80\\'+\\xb7\\xd2\\xe6\\x0c\\x14\\xc3\\x7f\\xff+\\xab.o\\xf62\\xe4\\x8c\\x9e\\t1+;\\xc0\\x1d\\xf9\\x9f\\xfb\\x8f\\x93\\xc8\\xbas\\x14l\\xbb\\x0fU\\xda\\x9c%\\xdb~\\x84u\\xe4S\\x01\\x0f\\xe0\\xfd\\xc5\\x95\\x9a\\x0e\\xeb\\x88\\xa7\\x80R\\xffl\\xdd!\\x9eJG\\xd6\\x9dc`\\xdb\\xe7\\xfbV)r\\x15\\xad\\xfd\\x1a\\x96~\\x0f\\x039~^}+\\x8a\\xc8\\x9b<\\x1fy\\xb3\\x97\\xf9\\x7f;\\x8e+p\\x9e8\\x85s\\xb7\\x8d\\x81#\\x91{\\xa0\\x12\\x11\\x11y\\xc3`\\x95\\x88\\x88\\xaa/QD\\xde\\xec%\\x92e\\x86n\\xf2\\x82\\x9d\\xaa\\x943n\\x1eJ\\xbe\\xde]\\xe9\\xf3\\xbaOY\\x91=\\xf41\\xb83\\xfc\\xf7(\\xbdm\\xf3v\\xe4OY$y\\x82\\xf8\\xb5\\xc0SX\\x8c\\xec\\xe1\\x93\\x03\\xf2X\\xb7\\x14{\\xcaQX\\x87N\\xa9\\x94\\xfd)\\x03)h\\xf0\\xed\\x10\\xeaF\\xc8\\xaa-\\xf9*\\x1egc\\x07!w\\xcaB8\\x0f\\xfe_\\x80;\\xf3\\x0fOv\\x0e,C\\x1f\\x87\\xf3\\xf73\\x95>\\xb7m{2\\xb2G];\\xf7\\x88\\xe3\\xc0\\xef\\xc8\\x9e4\\x1b\\xf0\\xf1l]1?\\x1f\\x96\\xbe\\x93\\xe1\\xfa-\\xddO\\x9d\\xc9g\\xff)\\x05\\xd6\\x11\\xd3\\x00\\xb7\\xff\\x1e\\xd3\\xcf\\x9f\\xf3j\\xc0W:\\x97G\\xcc+\\x84u\\xe8\\x14\\xb8R\\xff\\xac\\xf4\\xb9\\x89\\x88\\x88\\xae\\x15\\x0cV\\x89\\x88\\xa8Z\\x12-Vd?8\\x03\\xf6\\x9d\\x07$k\\r\\x9d\\xaa\\xeeTg9\\n_y\\x1f%\\xdfT\\xf2\\x81R\\x17qe\\xe4!\\xfb\\xfe\\'\\xe0)\\xf1\\xfd\\xf1S\\xe7\\xe1T\\xe4\\x8c\\x9d_i\\xab\\xae\\x02J\\x14\\x91=n\\x06\\x1cGOVY\\x0b\\xf6\\x03G\\x90\\xfb\\xe4\\xf3U6\\xbf_\\x04\\xe9\\x112\\xe6n\\xd9\\xe5bv)\\x8a?\\xd8\\x84s\\xddF\\xe3\\xec\\x7f\\xeeD\\xee\\xc4\\xd9(^\\xf9%\\x1c{\\x0f\\xc0\\x93\\x9d\\x13\\xc0F+\\xc0\\xe1D\\xf6\\x03\\xd3\\xe1\\xfa\\xb3\\x12\\xf6\\xf8\\xbd\\x82\\xd2m\\xfb\\x91\\xf7\\xf4kU6\\xbfR\\xa5\\x1b\\x7fD\\xf1\\x87_V|\\x00\\xb7\\x1b9\\xc3f\\xc0\\x99^\\xf9\\xa1\\xea\\x05\\xb6}\\xbf\"\\xff\\xb1E~\\x19\\xabd\\xf5\\x06\\x14.\\xfb\\xc2/cU\\x84XT\\x02\\xeb\\xddOU\\x8b\\xd5\\xf1DDD\\x81\\x10\\xd8#O\\x89\\x88\\x88*\\x89\\xb5\\xff8\\xa8LQPA\\x05\\xd7\\x1fg\\xe0\\xfa\\xf3wY\\x07{\\x08!F\\xe8\\xba\\xdc\\\\\\t\\x1dV\\x8cm\\xc3\\x0f(|n\\x85\\xe2\\x8fB511\\xd0\\xdf\\x19\\x0b\\xdd\\xf5\\x8d!41\\x03\\x00<E%p\\x1d\\xfb\\x0b\\x8e\\x94\\xff\\x83c\\xf7!E\\xe1\\xa6\\xe3\\xe0\\t\\xe4N\\x98\\x85\\xa8O^\\x03T*e\\xcd\\x9c\\'Z\\xac\\xc8\\x1e2\\x15\\xa2C\\xd9\\xbe\\x8f\\x9a\\xfa\\x110\\xf4\\xe9\\x0em\\x8b\\x1b\\xa0i\\\\\\x0fBp0\\xdc\\xf9E\\x10\\xb3\\xf2\\xe08x\\x18\\xf6m?WI\\x88\\x92\\xff\\xcc+\\xb0mKR|\\x9d\\xaeC3\\xe8oi\\x07\\xcd\\r\\xd7Cm\\n\\x83\\xc7\\r\\x88\\xb9yp\\xfe\\xdf\\xefp\\xfct\\x10\\x8e#\\x7f)\\x1a\\xaf\\xf8\\xd3\\xef\\xa0m\\xd6\\x18!O\\x8cU\\xdc\\x8b\\xaf\\xd4\\xe6P\\xe8o\\xeb\\x00m\\xe3&\\x10\\xea\\x9a D\\x86A%\\xfes\\x7f\\x08\\xb5\\xe4\\x1d\\n\\x17:y\\x0cJ\\xd7\\x7f\\xabxU\\xa7+=\\x1b\\xaeu\\xdbP\\xbcn\\xdb?s\\x9a\\x8c\\x10\\xcc\\xd1\\xd0\\xc4DA\\x08\\x8f\\x81\\xb6a=\\xa8[5\\x80\\xe6\\xba\\xfa\\xd0\\\\\\xd7\\x00B\\x83\\x18Es\\xf8\"w\\xcaB\\xd8\\x12\\x95?\\xfe\\xafk\\xdd\\x08\\xda\\x0em\\xa11\\x9b\\xa1nT\\x0b\\xd0k\\xe1\\xfa\\xbfSp\\xfd\\xef/8\\x8e\\xfe\\x01W\\xaa\\xb2\\xfb\\xbd\\xe8\\xc3\\xf50t\\xe9\\x00\\xc3\\xdd=\\x14\\xf7\\xa2\\x84\\xbem+\\x18\\x86u\\x87\\xee?\\xcd\\xa1\\x8e\\x89\\x82\\xa7\\xa0\\x08\\xae\\x93\\xe9(\\xdd\\x9e\\x88\\xd2\\xf8=\\xf0\\xe4\\xcb\\xdb\\x96\\xa0p\\xc9{0\\x8e\\xe8\\x0f\\x951Hq\\x0fy3^\\x86m\\xaf\\xf4\\x07j\\x97\\xd2\\xb6\\xbb\\x01\\x86\\xff\\xb6\\x87\\xbaE}\\xa8c\\xa2\\xe1q8!\\x9e\\xce\\x873-\\r\\x8e\\xbd\\xc9p\\x1e?\\xadh\\xbc\\xc25_A\\xdd\\xbe1B\\xc6\\x0fW\\xdc\\xcb\\x05\\x8e\\xc4_\\x90\\xfb\\xe4+\\x8a\\xaf\\xd3\\x84GB\\xd7\\xb7\\x03t\\xcdn\\x80p]-\\xa8\\x1cjx\\xdc%p\\xa5\\x9d\\x82\\xfd\\xd7T8\\x93\\x0e):\\xf8\\xca\\x95q\\x06\\xd9\\x0fN\\x87i\\xe3r@\\xa7U\\xdc\\x0f\\x11\\x11Qu\\xa6\\xf2x||\\xd6\\x86\\x88\\x88\\xe8*\\x90\\x11V\\xb1\\xc7\\xf9C\\xa7\\x8dF\\xf8\\xdc\\xc7\\xfd\\xdc\\x8d\\x7fx\\xb2sp\\xa6\\xf5 \\x88E%\\xb2\\xaf1\\x0e\\x88C\\xc8c#\\xa1\\xbb\\xc5{X,fYP\\xbc\\xea+\\x14\\xadX\\xa7\\xe8\\x80\\xa2\\xc87\\x9fF\\xf0\\xd8{e\\xd7_,g\\xe4\\x14\\x94|\\x93 \\xbb^\\xdf\\xa6\\x05\\xc2\\x9e\\x7f\\x04\\xfan\\xb1\\x80\\xe0=\\x05v\\xec\\xff\\x15\\x85K>B\\xe9\\xb6\\xfd\\x15\\xea\\r\\x00j\\x1f\\xde\\x08M\\xa3\\xebd\\xd5\\xda\\xe2\\xf7\\xc0z\\xcf\\x93\\xb2\\xc7V\\x85\\xeb\\x10\\xf2\\xc0\\x10\\x84\\x8c\\xbb\\x17\\xea\\xc6\\r\\xbd\\xd6:\\x8f\\x1eG\\xf1[_\\xa0d\\xd3\\x16\\xd9\\xe1\\x87`T#f\\xdb\\xa7\\xd0\\xb4\\xbdQV\\xbd->\\x11\\xd6{\\x9e\\x92U[\\x1e}\\xfb\\xd6\\x08\\x9b3\\x1e\\xfan\\xb7\\x00ju\\x85\\xc7\\xb9\\x983)\\x05\\x96\\x81\\x13\\xfd~\\xd2\\xf9\\xa5\\x84\\xba\\x11\\x08\\x8a\\xeb\\x82\\xa0\\x81\\xdd`\\xe8~k\\xc0\\x0e\\xae+\\xfd&\\x1e\\xd9#g\\xca\\xefK\\xa7\\x87qD/\\x04\\x0f\\x1b\\x02m\\xa7\\x9b\\xbc\\xd6\\xda\\x7fHB\\xd1\\xb2OQ\\xbaS\\xfe\\xbe\\xbe\\xea\\xe0P\\xd4\\xfa\\xf53\\x08ujI\\xd6fu\\x1b\\n\\xc7\\xc1\\x13\\xb2\\xc7\\xd6\\xb4h\\x80\\xc8E3\\xa0\\xbf\\xfd\\xd6+\\xd6\\xb83\\xce\"o\\xcek(\\xdd\\xb0K\\xd6\\x98\\xe1\\xb3\\' t\\xc6\\x04\\xd9=\\x00\\x80}\\xcbnXFL\\x95]/hu\\x08\\x1e3\\x18\\xa1\\x93\\x87Ah\\xd8\\xc0k\\xad\\xf3\\xc81\\x14\\xbe\\xb5\\x1a\\xb65\\xf1\\xb2?\\x94\\x12\\x825\\xa8\\x95\\xb0\\x0e\\xea\\x1b+\\xb0\\x8fw\\xb1\\rgn\\x1a\\x04\\xb7E\\xfe\\xc1{\\x86\\xce\\xed\\x11\\xf2\\xd4(\\x18zu\\xf6\\xfa\\x01\\x98\\';\\x07\\xc5k\\xbeA\\xc1;\\x9fB<\\xed}\\x0f\\xf2\\x8b\\x85\\xcd\\x1a\\x8f\\xb0\\xa7\\x1f\\x96]\\x7f\\xbaYw\\x88g\\xbc\\xef7[\\xbf\\x80{\\xb8\\x12\\x11\\xd1\\xb5\\x8d\\xc1*\\x11\\x11U\\x0b\\x15\\tV5\\xe1\\x91\\xa8\\xf5\\xdb&\\xa8B\\x83\\x03\\xd0\\x91\\xef\\xf2\\x9e~\\x19E\\xcb\\xe5=\\x12\\xab\\xa9_\\x07\\x91o\\xcf\\xf4\\x1al\\x94\\xc7\\x93[\\x80\\xdcG_@\\xc9\\x96\\x1fd\\xce\\x13\\x81Z\\xbflV\\xbc\\x92\\xcc\\xb9\\xf7 \\xce\\xf5yHV\\xad\\x10\\x1d\\x84\\xc8\\xe7\\xa7#h\\xd4\\x00Es\\x00\\x80m\\xf3\\x8f\\xc8\\x99\\xf6\\xbc\\xe4\\x1f\\xe6\\xcb#;X\\x15E\\x9c\\xbbe8\\x9c\\xc7\\xe4\\x05O\\xfa\\xee\\xed\\x11\\xf9\\xc6,\\xd9\\xa1\\xed\\x05\\xce\\xc3\\xa9\\xc8}r!\\x1c\\xbf\\x1c\\x97U\\x1f\\xd4\\xe7VD\\x7f\\xbeLVmE\\x83U\\xa1N\\x18\\xa2\\xde\\x9c\\x03C\\xef\\xdb\\x15_+G\\xd1\\xd2\\xb5\\xb2\\xf6E\\xf6\\x17!\\\\\\x0fC\\xb7X\\x84L\\x1b\\x07]\\xdb\\xff\\xf8o`\\xa7\\x0b\\xe7\\xda\\xde+{%\\xb5\\xae\\xf9\\x8d\\x88\\xfet\\x11\\xd4M\\xbd\\x87\\xee\\x97Ms\\xf48r\\'\\xce\\x92\\xbd\\xca\\xd98\\xa0\\x17\\xa2>}I\\xb2NI\\xb0\\xaa\\xbf\\xb5-\\xcc\\xeb\\x96\\x00Qa\\xb2\\xea\\x0b_y\\x1f\\xf9\\x0bVH\\xd6\\t\\x11\\xa1\\xa8{r\\x87\\xfc\\xe0^\\x14\\x91\\xd5\\xf5>\\xd9\\xaf\\x85\\xa1s{D\\xbd;[2P\\xbd\\x94\\xf3p*r\\'\\xcd\\x91\\xff\\x9a\\x0f\\xecV\\xb6\\xd2_\\xa1\\xc2%\\x1f\"\\x7f\\xferY\\xb5\\x9a\\xfa\\x11\\x88X\\xf8\\x0c\\x0cCz*\\x9a\\xc3ST\\x82\\xfc\\x99\\x8be\\xef\\xdf*D\\x07\\xa1v\\xd2&\\x081\\xd1\\xb2\\xea\\x19\\xac\\x12\\x11QMP\\x1dv8#\"\"\\xaa\\x90\\xd0y\\x0f]\\xb5\\xa1\\xaax*\\x1d\\xc5\\xef\\x7f%\\xabV\\xdf\\xbe5j\\xfd\\xb8Zq\\xa8\\n\\x00\\xaa\\xc80D\\xad}\\x19\\xe1\\xf3\\'\\xc9\\xaawe\\xe4\\xa1\\xe8\\xadO\\x14\\xcf\\x93\\xf7\\xc2\\x9b\\xb2\\xea\\xd4f\\x13\\xcc\\xdf\\xbc_\\xa1P\\x15\\x00\\x0c\\xfdoC\\xed\\x9dk\\xa1k\\xdd\\xa8B\\xd7\\xcbQ\\xf2\\xf9f\\xd9\\xa1\\xaa\\xf1\\xde\\xee0\\x7f\\xf9\\xb6\\xe2P\\x15\\x00\\xb47\\xb5\\x80y\\xcb\\x070\\xdc\\xd6QV}\\xe9w?\\xc1\\xb1\\'p!\\x85\\xee\\xbf\\xcdP\\xeb\\x87\\xb5\\x01\\x0bU\\x01 d\\xf2\\x08D\\xad\\x98\\x03!\\xb8rv\\xab\\x12\\xf3\\xed(\\xf9&\\x01Yq\\xa3\\x91=v:\\xdc\\'\\xfe\\xf2\\xcb\\xb8%\\x1fm\\x90\\x1d\\xaa\\x86\\xde?\\x181\\x89\\x1f+\\x0eU\\x01@\\xdb\\xaa\\x19b\\xe2?\\x85\\xa1\\xb7\\xbc}\\xa2K\\xbe\\xd9\\x0e\\xe7\\xcf\\xca\\xb7&\\xb8\\x12M\\xcb\\x060}\\xf1\\x86\\xecP\\x15\\x00B\\xa7?\\x84\\x90\\x89C$\\xeb\\xc4\\xbcB8~:({\\xdc\\x92u\\xdf\\xc8\\x0e;C\\x1f\\xbe\\x17\\xa6\\xad\\xcb\\x15\\x87\\xaa@\\xd9\\xefe\\xcc\\x8e50\\xf4\\x92\\xf7{Y\\xf2\\xf5n8\\x93R\\x14\\xcd\\xe1\\xc9\\xcaE\\xe1\\xab\\x1f\\xcb\\xeb\\xa7y\\x13\\x98\\xe3?U\\x1c\\xaa\\x02\\x80*\\xc4\\x88\\x88\\xa5\\xf3\\x11\\xf9\\xea3\\xb2\\xea\\xc5\\xecR\\x14,~W\\xf1<DDD\\xd5\\x19\\x83U\"\"\\xaa\\x91\\xb4\\xcd\\xea\"\\xf8\\xc1{\\xaa\\xba\\x8d+\\xca\\x9b\\xbb\\x1c\\x1e\\x97K\\xb2N\\xd7\\xae\\t\\xcc\\xdf.\\x87*F\\xde^\\x96W\\x12:e\\x1cB\\x1f\\xbfOVm\\xe1\\xbb\\x9f*:\\xc8\\xc4\\xbee7\\xec{\\x8eJ\\xd6\\xa9\\xcd\\xa1\\x88\\xd9\\xbe\\x02\\xda\\xd6\\xcde\\x8f]\\x1e\\xa1^m\\x98>{\\x07\\x9a\\xfau|\\x1a\\xa7\\\\N\\'\\n\\xe6H\\xaf\\xb6\\x03\\x80\\x90q\\x03\\x10\\xf5\\xfe\"@[\\xf1\\x90Pe\\x0c\\x82i\\xc3R\\x18\\xef\\x93\\x17\\x9a\\xe4?+/\\xc0VJ\\xd3\\xb2\\x01\\xcc\\x9f\\xbd\\x05u\\xfd\\xda\\x01\\x19\\xffb\\xc6\\xe1\\x03\\x11\\xf5\\xe9\\x12\\x08\\xd1\\xca\\xf7\\xd7\\xf4E\\xe9\\x86]8\\xd7e\\x18\\nf-\\x01D\\xd1\\x87\\x81l(x\\xf1}Y\\xa5\\xc1\\xe3\\x07!|\\xf9,@\\xaf\\xab\\xf8|\\xc1\\x06\\x98>^\\x02C\\\\[Y\\xe5y/\\xbcS\\xf1\\xb9.\\x11\\xf5\\xca,\\xa8\\xc2C\\x14_\\x17\\xb1p\\x1a4\\xb5\\xa4\\xb7$(\\xfd\\xeeGy\\x03:\\x9d(X$/\\xf0\\x0b\\xbd\\x7f0\\xc2\\x17?-\\xb9\\xbd\\x88WAzD\\x7f\\xfc*t\\x1d\\x9a\\xc9*\\xcf_\\xf0\\x96\\xa2\\xe1\\x0b\\xde\\xfcP\\xd6\\x160\\x9a\\xfau\\x10\\xb3\\xe5]\\x9f\\x7f/\\x83\\'\\xdc\\x83\\xf0\\xa7\\xe5=QP\\xfc\\xd1f\\x88\\xa7\\xaa\\xee`0\"\"\\xa2\\xab\\r\\x83U\"\"\\xaa\\x91\\xdc\\'\\xb3!\\x9e\\xcb\\xae\\xea6\\xca\\xe5))E\\xe9\\xce\\x1f%\\xeb4\\xe1\\x91\\x88^\\xfd\\x86\\xdf\\xf6\\x88\\x0c_8\\x1d\\xc6{\\xbbK\\xd6\\x89\\xd6\\x12\\x94n\\xdb){\\xdc\\xe2\\xb5\\xdfJ\\xd6\\x08\"\\x10\\xf5\\xees\\x92\\xfb\\x8f\\xca%4\\x88\\x81i\\xfd\\x12\\xa84\\xfe]\\xf9h\\xdb\\x95\\x04WV\\x96d\\x9d\\xbe}kD\\xbc6\\xdb\\xb7\\xf0\\xe6\\x02\\xad\\x06Q\\xef,\\x80\\xae\\xb9\\xf4\\xfe\\xa9\\xf6C\\xa9p\\xff~\\xca\\xf79/\"\\x84\\x18a\\xfe|\\x99\\xcf\\xe1\\xbd\\x12\\x86\\x1e\\x9d\\x10\\xb3\\xf5#\\x18zv\\xa8\\xb49\\x01@,v\\xa1`\\xd9Z\\xe4\\x8c\\x9e\\x0e\\x94*;d\\xed\\x02[\\xfc>\\xb8r\\xa5\\xf7\\xad\\xd4\\xc76G\\xe4\\xa2\\xa7+4\\xc7e\\x82\\xf4\\x88\\xfa\\xe8%h\"#\\xaeX\\xa2iP\\x17\\x91/N\\x86\\xe9c\\xe5\\x8f\\xa5\\x97G\\x7f\\xfb\\xcd\\xd0u\\xad\\xd8\\xde\\xd6\\xd0\\xeb\\x106\\xed\\x01\\xc92\\x9b\\xcc\\x15\\xd8\\xb6]Ip\\x9d\\x92\\xde\\x8bT\\x7fk[\\x84\\xbf%ou\\xa6\\x14U\\x88\\x11\\xe6\\xcf\\x96A\\xdb\\xac\\xaed\\xad-!\\x05\\xeeS\\x19\\xf2\\x06\\x16E\\x94\\xae\\xfe^\\xb2L\\x88\\x0e\\x82i\\xed\\x12\\xbf\\xfd^\\x86\\xce\\x9a\\x88\\x90\\x87\\xa4W\\x12{\\\\.\\x14\\x7f\\xb9M\\xb2\\x8e\\x88\\x88\\xa8\\xa6`\\xb0JDD5\\x92\\xe8\\xb0#\\x7f\\xde\\xdbU\\xddF\\xb9\\xec\\xbb\\xf6\\xcb:=;\\xfc\\xc5\\xc7\\xa1n\\xe8\\xc7U\\x99*\\x15\"\\x97=\\x07\\xb5\\xd9$YZ\\xfaM\\xa2\\xbc1\\x9d.\\xd8\\xf7K\\x1f\\xb0\\x134\\xaa\\x0f\\xf4\\xbd\\xe2\\xe4\\x8d)\\x93\\xa6\\xe5\\x8d\\x08y\\xf2~\\xbf\\x8ei\\x8b\\xdf-Y\\xa3\\xd2h\\x106g<\\xdc\\x7f\\xa6\\xc3\\xfd\\xfb)\\xff\\xfc\\xf5\\xd7i\\x84\\xcdy\\x10\\x82\\x8c\\x85\\x94\\xa5;d\\xfeld\\n\\x9b;\\x11\\xea\\x86\\xf5\\xfd:\\xa6\\x1c\\x9a\\x967\\xc2\\xb4q9\\xcc\\x9b\\xdf\\x86\\xee\\xa6\\x16\\x95:w\\xc9\\xd7\\xbba\\xb9{\"<\\xb9\\xca\\xf7\\xea-\\x8d\\x97~\\xfd\\x85\\xe8 D\\xafz\\xd5\\xaf\\'\\xac\\x0b1fD\\xac\\x98u\\xd9\\xbf\\xd7wo\\x0f\\xd3\\x17\\xaf\\xa0\\xf6\\x91M\\x08~\\xec\\x81\\n\\xad0-\\x8f\\xb1\\x7f\\x0f\\x9f\\xae7\\x0c\\xee.y?\\x8b\\xbf\\x9f\\x935\\x96m\\xbb\\xf4\\xa1x*\\xad\\x06Q\\xef\\xcd\\xf7\\xdbak\\x00\\xa02G!\\xea\\x8d\\xe7d\\xd5\\xda\\xb6\\xef\\x95U\\xe7<p\\x04\\xae|\\xe9\\'\\x02\\xc2\\x1e\\x1f+\\xfb\\xb0:\\xb9\"\\x16\\xcd\\x80\\xa6\\xa5\\xf4\\xf6\\x08\\xb6\\xaf\\xe5\\x1fBHDDT\\xddU\\xce\\x06VDDDW\\xa1\\xd2\\xb5[\\x10\\xf2\\xd8Ph+9\\xb4\\x91b\\x93\\x11\\x8c\\xe9Z7B\\xd0\\xfd\\xfd\\xfc>\\xb7\\xca\\x18\\x84\\xf0Y\\xe3\\x91\\xf3\\xe4\"\\xafu\\xf6\\x1f\\x7f.[\\xd1\\x17\\xa4\\xf7^\\xb7\\xefW\\xb8\\xad\\xde\\x1fiUi4\\x08\\x9f&\\xff\\xa4i%\\xc2\\xa7>\\x84\\x92\\x8f7\\xc2m)\\xf4\\xcbx\\xb6M\\xd2\\xe1\\x88\\xc7\\xe5\\x82e\\xd0\\x13~\\x99\\xef22>\\x12\\xb7}\\x93\\x80\\x90GF\\xfae:M\\x8b\\x06\\x08\\x990\\xdc/cU\\x94\\xbe[,b\\xf6\\xc4\\xc2\\x16\\x9f\\x08\\xdb\\x96\\x1f`\\xfbj\\xaf\\xac\\xe0\\xc9W\\xf6=Ga\\xbd\\xef\\x11\\x98\\xb7\\xae\\x94\\x1f\\x80z<\\xb0\\xef\\x92\\xfe\\xfd5\\xde\\xdd\\x1bB=\\xffo\\xab`\\xe8};\\x0c\\xbdc\\xe1\\xf8)\\x05\\xc6{\\xeeD\\xc8\\xe8\\xe1~\\x0f\\xdf.\\xd0\\xb6\\xf1\\xed}S\\x881C\\xa8\\x1d\\x03\\xd1\\xcb\\npwq!`wHn\\x95 \\xe7\\xf72d\\xdc\\xe0\\x80|@\\xa0\\xed\\xdc\\x0e\\xc6\\x81\\xddP\\xf2\\xb5\\xf7\\x0f]J\\xe3\\x13\\x10<~\\xa8\\xe4x\\xb6M\\xd2\\xf7\\x8f\\xba\\xa1\\t!\\x93\\xfc\\xfb\\xa1\\x11\\x00@\\xabA\\xc4\\xf4\\xc7`\\x1d\\xeb}%\\xb5\\xf3`*\\xc4\\xacl\\xd9\\x87X\\x11\\x11\\x11Ug\\\\\\xb1JDD5\\x96(\\x00\\x05\\x0b\\xaf\\xbeU\\xab\\xb6x\\x19!\\xc1\\xd8\\xfb\\xfd\\xf3\\x98y9\\x8c\\xc3\\xfbA\\x081z\\xad\\x11\\x1dv\\xd8\\xf6\\x1d\\x90\\x1c\\xcb\\x1e\\xbfG\\xb2\\xc60\\xa0\\x0b\\x84&\\xf5d\\xf7\\xa7H\\xb0\\x01ACz\\xf9e(\\xd7\\xff\\xfd.k\\x1b\\x80\\xaafO>\\x0c\\x8f\\x8c\\xfd\\x19\\xe5\\x08\\xb9\\x7f`\\xc0\\xee3\\xa5\\x0cwtE\\xc4\\xd2\\xf9\\xa8}\\xea{\\xd4\\xfa\\xee}\\x84M}\\x00\\x86\\xdb:B\\xdb\\xb4N\\xc0\\x0e\\xbb\\xb2\\'\\x1dC\\xbe\\xcc\\xbd;\\x01\\xc0\\xf5s*\\\\\\x19\\xd2\\xdb\\x00\\x84\\x8c\\x0f\\\\X\\x1d\\xf5\\xe6|\\xd4I\\xd9\\x8a\\x88\\xd7\\xe7\\x06,T\\x05\\x00u\\x8c\\xd9\\xf71\\x1aI\\x07s\\xee\\xb3\\xde\\xb7lq\\xfd\\xf6\\x07\\\\\\xe7\\xa4W\\xb6\\x86<>Jv_J\\x05\\x8f\\x97\\xde\\x9f\\xda\\xfe\\xc3\\x01\\xa0\\xd8&YW\\xbaG:X\\r\\x19{\\xaf\\xe4\\x87Z\\x15e\\x18|;\\xd4\\r\\xbd?\\xb5 \\n\\x80]\\xe6\\n\\\\\"\"\\xa2\\xea\\x8e+V\\x89\\x88\\xa8Z\\x88Z>\\x1b\\xea\\xf0Hxtj\\xb83\\xcf\\xc1\\xfe\\xc3^\\x94|#\\xfd\\xb8b\\xe9\\xb6\\xfdpg\\x9c\\xad\\x94Cy\\xe4\\xf0\\x14\\x17\\xc3\\x95\\xee=H\\x10D\\xc00\\xb0k\\xe0\\x9a\\x082 \\xa8\\x7f\\x1c\\x8a\\xd7y\\xdfG\\xcfu\\xf2\\x14\\x80N^k\\x9c\\xc7\\xff\\'=\\xdd\\x9d\\x01\\xfc^\\x00\\x04\\xdf\\xd3\\x17E+6\\xfa<\\x8e+\\xcd\\xbf{\\x97\\x06\\x8a\\xc7\\xe5\\x82;\\xfd44-n\\xf0y,\\xe3\\xbdw\\xf9\\xa1#?\\x13\\x04h;\\xb7\\x83\\xb6s\\xbb\\x7f\\xfe\\x9d\\xd3\\x05W\\xe6i\\x88\\x7fd\\xc0}\\xd6\\n\\xb7\\xc5\\nw\\xb6\\x15\\xae\\xe3\\xa7\\xe1LM\\x83x\\xea4\\xc4\\n\\xe6\\xc3\\xc5\\xef|\\nc\\x9f8h;\\xb4\\x91\\xacu\\xfe)}\\xbf\\x1b\\xba\\xb5\\x81\\xa6y\\xe3\\x8a5#\\x83P\\xc7\\xf7\\xc0S\\x0e\\x95\\xd1\\xf7m\\x0cTr\\x0e\\xed\\xb2{\\xdf\\x16\\xc5\\xf5\\x87\\xf4AJ\\xdav7@\\xdd@z/\\xd4\\x8a\\xd2\\xc7u\\x84&<\\xd2\\xebJj\\x8f\\xd3\\x05w\\xc6i\\xa8\\x9by\\xff\\xd9\\xbb\\xd2\\xa4\\xf7b\\r\\xea\\xee\\xdfmS\\xfeE\\x10`\\x1c\\xd0\\x13\\x85\\xcb>\\xf3Z\\xe6\\xfc+\\x1d\\x95{\\xbc\\x1c\\x11\\x11\\xd1\\xd5\\x89\\xc1*\\x11\\x11U\\x0b\\xc6\\xfb\\x07\\xfd\\xeb\\x9f\\x83\\xc7\\xde\\r\\xe3\\xb6]\\xc8\\x19\\xfb,\\xc4b\\x97\\xd7k\\x1d\\xbb\\x92\\x114j@ \\xdb\\x93M<\\'}\\x00\\x8b\\xa6CS\\x082\\xf6A\\xf5\\x85\\xae}[\\xc9`U<\\x97#9\\x8e\\x9c\\x03\\xc2\\x0cq\\xb1\\xb2\\xfb\\xaa\\x08m\\xab\\xe6\\x10DT8X\\xbb\\xc0}.\\xf0\\x8f\\x9f\\xfb\\x8b;+\\x07\\x1a\\x1fw\\xb8\\xd0\\xc4\\xc4TZH\\xe73\\xad\\x06\\x9aF\\xd7\\x01\\x8d\\xae+\\xff\\xeb\\xa568~>\\x02\\xfb\\xf7I(\\xdd\\xbe\\x17\\x8ec\\x7f\\xc8\\x1eZ,q#\\x7f\\xd1\\n\\x986\\xbc#Y\\xeb\\xce\\x93\\xfe\\xfd\\xd56m.{n\\x92\\xe6\\xce\\x91~\\x8f\\t\\xeatk`\\x9bP\\xa9\\xa0\\xeb\\xd6\\x1a.\\x89\\x0f\\xf3\\xdcY9^\\x83UOq1\\xc4|\\xef\\x87\\xa6\\xa9\\x1b\\x9a\\x02\\xba\\x12\\x19\\x00\\xf4\\xb7\\xb4\\x91\\x0cV\\xc5t\\xe9\\xf7\\x7f\"\"\\xa2\\x9a\\xe0\\xeax\\xb6\\x8b\\x88\\x88(\\x00\\x0c\\xbdoG\\xe8\\x83\\xd2{M\\xda\\xf6$WB7\\xf2\\x88g\\xa4\\xff\\xb0\\xaan\\x18\\xb8\\x95W\\x17h\\xffs\\xbdd\\x8dh\\x95\\x0e4\\xdc\\xc5\\xde\\xc3H\\xc1\\xa8\\x86P\\'Fv_\\x15\\x12l\\x80\\xba\\xa1\\xf4\\x81,R\\xdc\\x99\\xd2\\xa1\\xd9\\xd5\\xc2c\\xf1\\xbdWm\\xab&~\\xe8\\xe4*\\x11d\\x80.\\xae\\x03B_x\\x0c1\\xc9\\xebP{\\xc7j\\x04\\x0f\\xe9-\\xfbr\\xdb\\xf6d\\xb8R\\xa4\\xc3X\\xd1\"\\xfd\\xfb\\xabiq\\x85\\xf0\\x97*\\xc4\\x9d%\\xfd>\\xa4\\xbe>@[\\x8d\\\\D\\xdbPz\\x15\\xb2;\\xd7\\xfb\\xfd!\\xeb\\x835\\x93\\x1f\\x0f,\\xbc\\xd2\\x1c7J\\xff\\xee\\xbb\\x0b\\xa4_w\"\"\\xa2\\x9a\\x80\\xc1*\\x11\\x11Uk!O\\xdc/y\\xf2\\xb4\\xfd\\x87_+\\xa7\\x19\\x19\\xdc9\\xd2\\x7f\\xb0VG\\x06v\\xb5*\\x00\\x08Q\\xe1\\x925n\\x19+V\\xdd\\x12A\\x93\\x10\\x1dQ){x\\n\\r\\xa5\\xbf\\x1f)R\\xa1\\xa1\\xa1\\xf2f\\x00\\x00 \\x00IDAT\\xc8\\xd5\\xc4\\x95\\xe5{\\xafB\\xbd\\xc0\\xdfgUE\\xd3\\xb1%\"W-DL\\xfc{\\xd04\\x96\\x17\\xec\\x97\\xc6\\xef\\x92\\xacq[d\\x84|\\xd7\\x05>\\xe4\\xabI<\\x7f\\xc9y\\xcd\\x03\\x7f\\xc8\\x92P\\'L\\xb2\\xc6}\\xc6\\xfb\\xfb\\xbb\\xd4\\xfb%\\x00\\xa8\\x1b\\x05~\\x15\\xb9::B\\xb2F\\x94\\x11h\\x13\\x11\\x11\\xd5\\x04\\x0cV\\x89\\x88\\xa8ZS\\xc5DB\\xa8S\\xcbk\\x8dX\\x94\\rx<\\x95\\xd4\\x91\\x04\\xa7J\\xbaF\\'\\xa3\\xc6Wr^\\x0f\\x8f\\xdb\\xf7il\\x95\\xf0\\xbd\\xd4D\\xa5\\xde\\x1f\\'\\xa62\\xba[nF\\xcc\\x86\\xf7%\\x0f\\xeb\\x01 \\xeb\\xb06\\x88\\x12\\x9f\\xe2\\x90\\xdf\\x89A2\\xde\\xab\\xe4\\xbc\\xaf\\xfa\\xda\\x87\\x9c?UI\\xfdZ\\xcay\\xdf\\xb5\\x07\\xfe{\\xf1@\\xfa>\\xf6H\\x9f\\xc3EDDT#0X%\"\\xa2jO\\xa8\\x1b\\xe2\\xf5\\xebb\\x89\\x1b\\x9e\\xbc\\xc2J\\xea\\xc6;\\xa1n\\x94d\\x8d;+\\xf0\\x8f\\xa4\\xbb-\\xd2\\xfb\\x89\\xaa\\xcd\\xd2\\xab\\xc0\\xa4V>\\x89y\\xd2\\'\\xa8\\xfb\\x83;;\\xdf\\xe71\\xd4\\xb5\\x03\\xbf\\xea\\xcdo\\x02tbxu$4\\xa9\\x87\\xf0\\xd9\\x8fK\\xd6\\xb9\\x8e\\xfc.Y\\xa3\\xae%\\xfd\\xfb+\\x9e\\xcc\\x94\\xd5\\x17\\xc9\\xa3\\x0e\\x97\\xf1\\x9e)c\\xdb\\x12_y\\xd2\\xa5\\xdf35u\\xbc\\xf7\\xaa6\\xcb\\xb8\\x7f\\xf2\\x03\\xff\\xfe/f\\xcax\\xff7I\\xafj%\"\"\\xaa\\txx\\x15\\x11\\x11U\\x7fj\\xe9\\xff\\xdc\\x89\\x96\\\\\\xa8#\\xa5\\x1f\\xe5\\x0c4ut\\xa4d\\x8d\\xfb\\x7f\\xa7\\x03\\xde\\x87\\x98qV\\xb2Fe\\x92\\x11\\xac\\x9a\\xa2\\xe1J\\xcb\\xba\\xe2\\xd7=N\\x17\\xc4S\\xe9\\x10\\xfc\\xb0\\x07\\xea\\x159\\x9c\\x10\\xffw\\xc6\\xe7a\\xd4\\xb5\\xa4W5j\\x1a\\xc7@s]#\\x9f\\xe7\\xf2\\x95\\xa6A\\xfd\\xaan\\xc1?Jm@\\x90!\\xe0\\xd3\\x18\\xef\\xed\\x83\\xbcG^\\x80\\xe8\\xbc\\xf2\\t\\xf4nK!\\xe0t\\x01\\xda+\\xbf\\x9f\\xa8d|\\xd8\\xe0\\xfa\\x1f\\x83U\\x7fR\\xd7\\x93\\xf1\\x9a\\xa7\\x07\\xfe=\\xd3u\\xfa\\x9cd\\x8d*\\xc6{p\\xaa2I\\xbf\\xffW\\xc6\\xfd\\xe3\\xca\\x92~\\xff\\xaf\\xce[\\x85\\x10\\x11\\x11)\\xc1`\\x95\\x88\\x88\\xaa?\\x87\\xf4\\x03\\x1a\\x1e\\xb8*\\xa1\\x11iR\\x7f\\xf0\\x06\\x00W\\xd2qx\\xb2s\\xa0\\x8a\\x96\\xae\\xad([\\x82\\xf4\\x81^j\\x19!\\x80`\\x96^\\xd5d\\xff)\\x05A\\x01\\x0cV\\x9d\\xbf\\xa4B,\\xf6\\xfd\\xe7\\xab\\x8e\\x91\\x11\\xac6i$\\xeb\\xf4x\\xf2\\xc2\\xe3\\x81=!\\x19%k7\\xa3t\\xfdND\\x7f\\xf1:\\xf4=b\\x03;\\xa7 @\\xdd\\xb8>\\xc4\\xe3i\\xde[\\xcb-\\x84*\\xe6\\xca\\xf7\\xbd&J\\xfaw\\xc2q\\xe0\\x98\\xe2\\xf6\\xe8\\xca\\x04/?\\x8f\\x0b\\xec?\\xee\\x07\\xe6J\\xafJ\\xae0\\x8f\\x07\\x8e\\x1fe\\xbcgJ\\xbc\\xbf\\x0b\\xe1\\xe1Pi4\\xf0\\xb8\\xae\\xfc~\\xe5:e\\x85\\xeb\\xf7\\x13\\xd04\\r\\xdc\\xe1r\\xf6\\xddI\\x925j\\x19\\xaf;\\x11\\x11QM\\xc0\\xad\\x00\\x88\\x88\\xa8\\xdaS]C\\xdbx\\n\\xe1\\xe1\\x10\\xeaJ<>/\\x00\\xa5\\xf1\\x89\\x81kB\\x14Q\\xfa\\xdd^\\xc92\\xed\\x8d\\xd2\\xa7\\x9bk\\xae\\xbb^\\xb2\\xa6\\xe4\\xabxYmUT\\xc9\\x86\\xef\\xfd2\\x8e\\xa6\\xb1t\\xf8\\xebH>\\x04On\\x81_\\xe6+\\x8f\\x98\\x9e\\x05\\x8f\\x8c\\x03n\\xaeE\\xae\\xbf\\xfe\\x87\\x82\\x85\\xef\\xe0l\\xd3~\\xb0\\xf4\\x7f\\x14\\xc5\\xeb\\xb6At:\\x907y\\x11`\\xbf\\xf2JR\\x7f\\xf1\\xe4\\x15K\\xd6\\xa8\"\\xbco+\\xa2\\xb9\\xae\\xa1\\xe4\\x18\\x8e=\\xbf\\xc2\\x9dvJv_J\\x89\\xe9Y\\x10\\xb3,\\x01\\x1b\\xffj\\xa3\\xb9^\\xfa}\\xc8\\xf1\\xcbq\\x88\\x99\\xd2\\xab0+\\xca\\xf1\\xcb\\x11\\xb8r\\xbdok\\xa2\\xd2h\\xa0nPWr,m\\x0b\\xe9\\xd5\\xe6\\xb6-\\xbbe\\xf7V\\x11\\xb6M\\xd2\\xef\\xff\\x9a\\xc6\\xd5dU<\\x11\\x11\\x91\\x8f\\x18\\xac\\x12\\x11Q\\xb5\\xe7\\tQWu\\x0b\\x8a\\x04\\xf5\\xec,YS\\xf4\\xfag\\x01;p\\xab\\xe4\\xf3\\xcd\\x10%\\xf6\\x9c\\x15\\xc2\\xf5\\xd0w\\xea(9\\x96\\xa1o\\x17\\xc9\\x1a\\xfb\\xeed\\x88\\xa7\\xd2e\\xf7\\xa7\\x84\\xa7\\xa4\\x14\\xa5\\xeb\\xfd\\x14\\xac\\xb6\\xb8A\\xf2\\x04y1\\xdf\\x8e\\xc2\\xf7\\xd6\\xfae\\xbe\\xf2\\xe4>\\xbe\\x00\\xa7o\\xee\\x87\\xdc\\xc7\\xe6\\xc1y\\xa4z\\xac|,Y\\xb3\\t\\xd6~\\xe3q\\xf6\\xa6!(X\\xfc\\x11\\\\\\xe7\\xfe\\xfdH\\xb53=\\x1d\\xf9s\\xdf\\nl\\x13n7\\xc4B\\xef{Wj\\xc2#\\x01\\x9d\\xd6k\\x8d\\xf6\\x96V\\xb2>\\x18)\\xfa\\xf0K\\xc5-\\xca\\x95\\xfb\\xf8\\x02\\x9ci\\xd1\\x1f\\xb9cf\\xc3\\x95\\xfc[\\xc0\\xe6\\xb9Zh[7\\x97u\\xf8X\\xe1\\xd2\\xc0\\xfd^\\x16\\xbd\\xb9N\\xb2F\\x7f[;\\xa8B\\x8c\\x92u\\x86\\xb8\\xae\\xd2\\xf3\\xad^\\x0f8\\x9d\\xb2zS\\xca\\xbe=\\x01\\xcet\\xe9\\xf7cCO\\xe9>\\x89\\x88\\x88j\\x02\\x06\\xabDDT\\xed\\xa9\\xae\\xb1\\x93\\xe7\\x83\\xbaK\\xff\\x81\\xd5q\\xec\\x0f\\x94l\\xf8\\xd6\\xff\\x93;\\x9d(xy\\x85d\\x99\\xbe\\xcb\\xcd@\\xb0\\xf4\\xde\\x97\\xfaN7Cm\\xf2\\x1e&\\x88%n\\xe4\\xce_*\\xbbE%\\x8a^\\xf8Pr%\\x99\\x12\\x86;\\xbbI\\xcf\\xb9b-\\xdc\\xa72\\xfc6\\xe7\\x05\\xf6\\xed\\t(\\xdd\\xf9\\x13<\\xf9\\x0e\\x14\\xaf\\xde\\x8as\\x9dG\\xc2\\xdao<l\\x9b\\xb7_\\xd3\\xa7\\xd1\\x17\\xaf\\xde\\x02[B\\x8a\\xf7\\x9a\\xb7\\xd7\\xc2\\xbe[\\xfaQ\\xeb\\x8a\\xb2\\x7f\\xb7\\x07b\\x89\\xdbk\\x8dPG\\xc6\\x9e\\x92\\x82 \\xeb\\x83\\x91\\x92\\xcf\\xb6B\\xb4\\xf8\\xff\\x10\"\\xdb\\xb6\\xf3\\xf7\\x88\\xd3\\x85\\xe2\\x8d\\xdbp\\xb6\\xe7\\x03\\xb0\\xdc>\\x16\\xa5\\x9b\\xae\\xed{D\\x8a\\xa1\\x97\\xf4\\x078Ek\\xd7\\x07d\\xd5\\xaa\\xf3p*l\\x9b\\xb6K\\xd6\\x19n\\x93\\x17D\\x1a\\x06J\\xd7\\xb9\\xd2\\xb2P\\xbcB:\\xccU\\xcc\\xe3A\\xfe\\xc2\\xb7%\\xcbt7\\xb5\\x80P\\xc7\\xec\\xff\\xf9\\x89\\x88\\x88\\xaeA\\x0cV\\x89\\x88\\xa8\\xda\\x13\\xea\\x84K\\xd6x\\xf2\\x8b*\\xa1\\x13y\\xf4w\\xde\\n\\x95\\x97\\x03r.\\xc8\\x7fz\\x19\\xc43\\xfe}\\xe47\\x7f\\xfe\\xeb^\\x0f\\x9b\\xba\\xc0p\\xc7m\\xf2\\x06\\xd4j\\xa0\\xef\\xdeI\\xb2\\xact\\xc3.\\x94|\\xb2Q\\xde\\x9829\\x8f\\x1cC\\xc1j\\xff\\xaeR3\\xcaX\\xa5%ZK\\x90\\xfb\\xd8<\\xbf\\x06Y\\x1eK\\x0er\\x9f|\\xe1\\xb2\\x7foKH\\x81\\xf5\\xfegq\\xf6\\xe6~(zs%\\xc4\\xfc|\\xbf\\xcdYYB\\'\\x0e\\x93\\xac\\x11\\x05 \\xe7\\xc1\\xb9\\x10\\xd3\\xa5\\xef\\xcd\\x8a(|\\xefs\\xc9\\x1a\\xf5u\\xb5d\\x8d%\\xe7\\x83\\x11\\xb7\\xa5\\x109\\x0f>\\r\\xb8\\xbd\\x87\\xb9J\\x88Y\\xd9\\xc8\\x9b\\xf2\\xfce\\xff\\xde~\\xe0\\x08\\xb2\\x1f\\xb8\\xb6\\xef\\x11)Aw\\xc4I\\xd6x\\xf2\\x1d\\xc8\\x99\\xf4\\xbc\\x7f\\x03\\xe6R;r\\x9fZ\\x08Q\\xc6\\x9f\\xa8\\x8c2\\x02S\\x00\\xd0ul\\x0b!\"T\\xb2\\xae`\\xc9\\x07p\\xffqR\\xd6\\x98r\\x15\\xbe\\xfe\\x11\\x1c\\x07OH\\xd6\\x05\\xf5\\x91\\x0e\\xb2\\x89\\x88\\x88j\\n\\x06\\xabDDT\\xed\\t\\xb5\\xa5W\\x9a\\xd9\\x7f\\xfd\\xbfJ\\xe8D\\x1eUp0\\x0c\\x03\\xe4\\x843Vd\\x8f\\x9a\\xe2\\xb7\\xfd\\'KVo@\\xe1\\xb2/$\\xeb\\x04\\x9d\\x1e\\xc6~\\xb7\\xcb\\x1e\\xd7xO_Yuy3\\x16\\xc3\\xee\\xa7\\xbd\\x03\\xc53\\x16d\\x8fx\\x12\\x9e|\\xff\\xee\\xcd\\xa9\\xeb\\xd6\\x01\\x9a\\x18\\xef\\xdb\\x01\\x00\\x80m\\xf7!\\xe4Ny\\xd1?\\x93\\xda\\x1d\\xb0\\x8e\\x7f\\x06\\xae\\xf4\\xec+\\x96\\xb8\\xd2\\xb2\\x907\\xe7md\\xdf7\\xd5?sV\"\\xc3\\xe0\\x1e\\xd0\\xb5o*Y\\xe7\\xb6Xa\\x1d\\xfa(\\xdc\\x19\\xfe]uX\\xbc\\xf2K\\xd8d\\x1c<\\x14$c[\\x0b\\x00\\xd0\\xf7\\xee,\\xb9\\x1d\\x00Pv\\x8f\\xe4\\xcf|S\\xd6\\x98\\x92J\\xed\\xc8\\x197\\x03\\xae\\x8c+\\xaf\\xce\\xfe\\xfb\\x1e\\x19=\\xc3?s^E\\x0c\\xddb\\xa1\\xa9/\\xe35\\xff1\\x19\\xf9s\\x96\\xf8m\\xde\\x9c\\xc7\\xe6\\xc0\\xf1\\xf3q\\xc9:]\\xe7V\\x10\\xe4\\x1e\\xd0\\'\\x080\\xde}\\xa7d\\x99\\xdbZ\\x02\\xcb\\xc8)@\\x8e\\x7f\\xf6t\\xb6m\\xdd\\x85\\xc2\\xb9\\xcb%\\xeb\\x04\\xa3\\x1a\\xc6a\\xd2\\xfd\\x11\\x11\\x11\\xd5\\x14\\x0cV\\x89\\x88\\xa8\\xda\\xd3\\xd4\\x96\\x0e\\xc2\\x8a>\\xfa2`{\\xd6UD\\xc43\\x93 \\x04K\\xafZ\\xb5\\'\\xa7\\xc22\\xe0\\x11x\\xb2r}\\x9a\\xaf\\xe8\\x83u\\xc8{\\xfa\\x15Y\\xb5\\xa1\\x13\\x87Ce\\xf6~\\xba\\xf5\\xc5\\x0c\\xbd\\xe3\\xa0o\\xdfZ\\xb2N,v!{\\xf4\\xb3p\\xee=({\\xec\\xf2\\xb8\\xd3N!k\\xd0\\x04\\xb8N\\xf9\\xffQk\\xe8\\xb4\\x08[0QVi\\xf1G\\x9b\\x90?\\xf7u\\xdfV\\xc8\\x15\\xdb\\x90=j\\n\\xec\\xbb~\\x95U\\x1e\\xf1\\xfcc\\x15\\x9f\\xab\\xaa\\xa8T\\x88X0EV\\xa9\\xe3\\xe8IX:\\x8f\\xf4\\xf9\\x1e\\xb9\\xa0\\xf4\\x9bx\\xe4M}M\\xb2N\\xa5\\xd1 h`OYc\\xaa\\x8cA\\x08\\x9b<FVm\\xe1\\xf2\\xb5(\\x98\\xb5\\xc4\\xa7\\x95\\xab\\x9e\\x92RXG>\\x05\\xdb\\xeeC\\xb2\\xea#f<Z\\xe1\\xb9\\xaeZAz\\x84N\\x99 \\xab\\xb4p\\xd9g\\xc8\\x9f\\xf5\\xaao\\xbf\\x97v\\x07r&\\xceD\\xc9\\x97;e\\x95G\\xccR\\xf6{\\x196s<\\x04\\x9d^\\xb2\\xce\\x95\\x9a\\x8e\\xac\\xbb\\x1f\\xf6\\xf9\\xc3\\x06\\xdb\\xfao\\x91\\xf3\\xf0ly+o\\x87\\xdf\\x05u\\x93F>\\xcdGDDT\\x9d0X%\"\\xa2jO\\x7f\\xeb\\xcd\\x925\\xae\\xd4t\\xe4N~>`\\x07B)\\xa5n\\xd6\\x18\\xc6\\x81w\\xc9\\xaa\\xb5\\xff\\x94\\x82s\\xbdG\\xc1\\xf9\\xb3\\xbc`\\xe5b\\x9e\\xc2b\\xe4M\\x9e\\x8f\\xbc)\\xafA,vI\\xd6\\x0bu#\\x10\\xf2\\xccX\\xc5\\xf3D,zBV\\x9d\\xe8t k\\xc0$\\x14\\xbe\\xb3\\xbaB\\xc1\\x87m\\xfd\\xb78\\xd7g,\\\\\\xa9\\x819\\x0c\\x0b\\x00\\x8cC\\xfbC\\xdb\\xac\\xb1\\xac\\xda\\xc27\\xd6\\xc0:\\xec\\xf1\\nm\\xd9\\xe0<r\\x0cY\\xbdF\\xa1t\\xdb~y}\\xdd\\xd7\\x13\\xda\\xd8\\xb6\\x8a\\xe7\\xb9\\x1a\\xe8\\xba\\xfc\\x17\\xc6\\x01\\xbdd\\xd5\\xbar\\xf3\\x905`\\x12\\n\\x16-\\xaf\\xf0\\x16\\x1e\\x9e\\xc2b\\xe4NY\\x88\\xec\\x913\\xe1qI\\xdf\\xf7\\x86\\xb8\\x0ePEK\\xaf\\x88\\xbc \\xe4\\xa1\\xa1\\xd0\\xdcP[Vm\\xc1\\xb2\\xb5\\xc8\\xea7\\xaeB\\xe1\\x98\\xe3\\xd7#8\\xd7}\\x04l\\xdb\\xe5\\xed?k\\x1c|\\x07\\xb4\\x9dnR<\\xcf\\xb5 x\\xec\\xdd\\xd06\\x90\\xb7*\\xb4p\\xd9g\\xb0\\x0ez\\xacB[K\\xb8\\x7f?\\x05\\xcb]\\xe3P\\xb2.^V}P\\x9f[\\xa1\\xeb\\xf2_Es\\x08f\\x13B\\x9e\\x1a!\\xab\\xd6q\\xe0wX:\\x8f\\x84}\\xe7^Es\\x00\\x00\\x8am\\xc8\\x9f\\xfb:\\xac\\x0f\\xce\\x85\\x98o\\x97\\xeeK\\xabC\\xd8\\x94\\x87\\x95\\xcfCDDT\\x8d1X%\"\\xa2jO\\xd7\\xf9\\xe6\\xb2\\x13\\xbd%\\x14\\xaf\\xf9\\x0e\\xd9#&\\xc3}<\\xad\\x12\\xba\\x92\\x166\\xefa\\x08Z\\x9d\\xacZ\\xd7\\x9fgq\\xae\\xc78\\xe4\\x8c\\x9a*\\xef\\xb4\\xf8\\x9c\\x02\\x14\\xbd\\xb9\\x12g\\xfe\\xd3\\x0fE\\xab\\xb6\\xc8\\xefi\\xf2\\x18\\xa8B\\x83e\\xd7_\\xa0\\x8dm\\x8b\\xa0;\\xe4=J\\xedq\\xba\\x90\\xff\\xccRdu\\x19\\n\\xdb\\x97\\xdbd\\xad$\\xb6\\xc5\\'\\xc22pBY@p\\xc6?\\x8f\\xc6^\\x91  \\xe2E\\xf9+\\xd0l\\xdb\\x92p\\xb6\\xf5 \\x14\\xcez\\x0b\\xe2\\x99s\\x92\\xf5\\xae\\xdf\\xfe@\\xee\\xc4\\xd9\\xb0\\xdc:\\x12\\x8e\\xa3\\xf2\\xf6PT\\x9bC\\x11>\\xffI\\xd9=]\\x8d\"\\x97=\\x0bM\\x83hY\\xb5\\x1e\\xa7\\x0b\\x05/~\\x88\\xb3\\xcd\\xfb\\xa3p\\xf1{\\xb2\\x7fg]\\xc7\\xd2P\\xf0\\xc2\\xdb8\\xdb\\xb6\\x1f\\x8a?\\xd8$\\xbb\\xb7\\xd0G\\x87\\xcb\\xae\\x05\\x00h\\xb5\\x8a\\x02(\\xc7\\xde\\xa3\\xc8\\x8a\\xbb\\x0fyO-\\x82\\xf3p\\xaad\\xbd}\\xe7^X\\x87LB\\xd6mc\\xe1\\xfaM\\xde\\x87\\x08\\xea\\xe0P\\xd9\\x1fp\\\\\\x93\\xd4j\\x84\\xbd4Iv\\xb9\\xed\\xc7d\\x9c\\xed4\\x18\\xf9s_\\x97\\xf5\\xc1\\x87x*\\x1d\\xb9O.\\xc4\\xb9nCaO\\x96\\xfe\\x19\\x01\\x80 \\x02\\xe1\\xcfN\\x96\\xdd\\xd3\\xc5B\\x9f\\x1c#kK\\t\\xa0\\xec\\xc3\\x06\\xcb\\xa0\\'`\\xed3Q\\xd6jnOI)\\x8a?\\xf8\\x02gn\\x1a\\x84\\xc27\\xd6\\xc8\\xee)d\\xf20\\x08\\r\\xa4\\x9f\\x00!\"\"\\xaaIT\\x1e\\xcfU\\xb24\\x87\\x88\\x88(\\x80\\xf2\\xa6\\xbe\\x88\\xa2\\xf7\\xe5\\x1d\\x8e$\\x18\\xd5\\xd0\\xc5\\xfd\\x17\\xda\\x1b\\xaf\\x87\\xe6\\x86\\xeb!D(\\x0f\\x12\\xafD\\xdb\\xae%4\\x8d\\xae\\x93]_\\xb2f\\x13r&-T<\\x8f\\xe6\\x86\\xda0t\\xeb\\x02]\\xf3\\xeb!\\xd4\\x8d\\x02\\xf4\\x06\\x88\\xd99pgd\\xc1\\xb6\\xe7g8\\x93\\x0f\\xcbZ\\xa1z1C\\xa7\\x9ba\\xda\\xba\\x1cP\\xab\\x15\\xf7\\x03\\x94\\xed{\\x9au\\xc7(\\xc5\\x8f\\xe8\\x0b!F\\x18\\xfa\\xdc\\x02]\\x9b\\x96\\xd0\\\\_\\x0f*\\x83\\x1e\\x9e\\x12\\x17\\\\\\xa7\\xce\\xc2y,\\x15\\xf6\\xdd\\xc9^\\xf7\\x1f\\x95\\xab\\xf6\\xe1\\x8d\\x8a~6J\\xee\\xa9\\x0b\\x04\\x11\\xd0\\xdd\\xd6\\x16\\xba\\xd6\\xad\\xa1m\\xd3\\x18\\xaa\\x88\\x10\\xc0\\xa9\\x82\\xfb\\x8c\\x15\\xae\\xe3\\'a\\xdf\\x91\\x04\\xc7\\xc9\\xbf\\x14v\\x0eD\\xaf~\\tA\\x83\\xe4\\xad\\xf8\\x04\\xca\\x82h\\xeb=Oy\\xad\\t\\x1e\\xd5\\x1f\\x91o\\xcfS\\xdc\\x8b/\\xec\\xdb\\x13`\\xb9[\\xde\\xb6\\x00\\x97\\xd24\\x8e\\x81\\xbes,4\\r\\xeb@\\x88\\x88\\x82:2\\x04.\\x8b\\x15\\xee\\xcc\\xd3p\\x1d?\\rg\\xda\\x9fp\\xfd\\xa9|Uh\\xf0\\xc8>\\x88|gA\\x85z\\xca\\x1e;\\x1d\\xa5\\x1bv)\\xbeN\\xd7\\xa1\\x19t7\\xb5\\x86\\xa6\\xbe\\x19\\xeaz1P\\xa9\\xb5p\\xa4\\xfd\\x05\\xd7\\xefip\\x1e>\\x06\\xe7\\xf1\\xd3\\x8a\\xc74\\xady\\t\\x86\\xfe\\xf2\\xee\\x91\\xacnC%\\x0f1\\xaa{b\\x1b\\x04\\xb3\\xf4\\xfe\\xd5\\xdeX\\xef\\x1a\\x07[\\xa2\\xf7\\x95\\xf6u~\\xd9\\x00u\\xd3\\x86\\xb2\\xc7\\xcc\\x19\\xf9,J\\xbe\\xd9\\xae\\xb8\\x17\\xddM-\\x10\\xd4-\\x16\\xeafu \\xc4\\x98\\x01\\xb8\\xe1\\xfe_6\\\\\\x19\\xe9\\xb0}\\xf7\\x13\\x9c\\x15\\xf8\\xc0-|\\xceD\\x84N\\x7fH\\xf1u\\x17\\xd8\\xb7\\xecF\\xf6\\xb0\\xa9\\xb2\\x1e\\xd1\\xbf\\x98\\xdalBP\\xaf\\xce\\xd0\\xb4k\\x02u-3T\\xc6 x,9p\\x9f\\xb5\\xc0\\x96\\xf4+\\xec?\\x1dT\\xbc\\xff\\xb4\\xee\\xbf\\xcd\\x10\\xb3\\xf5C \\xc8 \\xfb\\x9a\\xd3\\xcd\\xbaK~\\xd0U\\xbf\\xe0\\x17E}\\x10\\x11\\x11]m\\x18\\xac\\x12\\x11Q\\x8d \\x9e9\\x87\\xb3\\xad\\x87@tH?\\xee\\x18H\\x91Kf x\\xfc}\\x8a\\xae)\\x98\\xb5\\x04\\x05\\xcb\\xfc{\\xba\\xbdR\\x9a\\x16\\r\\x10\\x13\\xbf\\nBx\\xb8O\\xe3\\xb8\\x0e\\xa5\"\\xab\\xc7\\xf8*\\xff9\\x94Gi\\xb0\\n\\xb7\\x1b\\xd6\\xbb&\\xc1\\xb6O\\xde\\xfe\\xa7\\x81\\x12z\\xff`\\x84/\\x9f\\xa5\\xe8\\x9a\\xab5X\\x05\\x80\\x82\\xe7\\xdeA\\xc1k\\x1fU\\xfa\\xbc\\xe5\\xd14\\x88F\\xcc\\xbe/*~\\xdf\\x17\\xdb\\x905`\\x9c\\xac\\x03\\x8e\\x02)d\\xe2\\x10D\\xbc2Sv\\xfd\\xb5\\x1c\\xac\\xc2\\xee\\x80\\xa5\\xe78\\xd8\\x0f\\xc9[U\\x1a(\\xc6\\xc1w \\xeac\\xdf\\x0f\\xb0+Z\\xfa1\\xf2f/\\xf3CG\\x15\\xa76\\x9bPk\\xcf\\xc7\\x10\\xea\\xd4Rt\\x1d\\x83U\"\"\\xaa\\t\\xb8\\x15\\x00\\x11\\x11\\xd5\\x08B\\x9dZ\\x08\\x99>\\xaa\\xaa\\xdb\\xa8\\x90\\xb0\\x85O\\xc9~\\x8c>\\x10\\xd4\\xc1\\xa10\\x7f\\xf2\\x86\\xcf\\xa1*\\x00h\\xda\\xb4@\\xd4\\xca\\xf9\\x10|87\\xe6\\xaa\\xa1V#\\xea\\xf3Wd\\xef\\xeb\\x18\\x08\\x86\\x9e\\x1d\\x10\\xbe\\xb4z\\x9d\\xf2\\x1e6w\\x12\\x82\\xee\\xbe\\xbd\\xaa\\xdb\\x80*\\\\\\x87\\xc8es}\\xbb\\xef\\x83\\r0}\\xfa\\x06\\xd4\\r}\\x0b }a\\xb8\\xad#\"^\\x9c^e\\xf3W:\\xbd\\x0e\\xd1\\x1b\\xde\\x80\\xa6\\x96\\xb2\\x10\\xd0\\xaf-\\xb4m\\x85\\xa8\\xf7\\xe6\\xfbe\\xac\\x90\\xc9\\xa3\\x11<\\xaa\\xbf_\\xc6\\xaa\\x08A\\xabC\\xf4\\x86\\xd7\\x14\\x87\\xaaDDD5\\x05\\x83U\"\"\\xaa1\\xc2&\\x8f\\x85\\xee\\xa6\\x16U\\xdd\\x86r*\\x15\\xa2V\\xbf\\x04C\\xaf\\x8e\\x95>\\xb5P7\\x02\\xa6M\\xaf+[1&\\xc1\\xd0\\xbf\\x17\\xc2\\x97=\\x0b!X\\xe3\\xb71\\xab\\x8a\\x10\\x1e\\x8e\\xe8\\xadoVI\\xb8\\xaa\\xef\\xde\\x1e\\xa65o\\x00Zm\\xa5\\xcf\\x1dP*\\x15\\xa2?|\\x19\\xa1\\x8f+[\\xd9\\xedO\\x82N\\x0f\\xd3\\xea\\xd7\\xa0\\xef\\xde\\xd9\\xf7\\xb1\\xea\\x98a\\xfedY\\x95\\x04}\\x86N7\\xc3\\xf4\\xf9\\xeb\\xd5\\xef\\x1e\\x91 \\xc4D\\xc3\\xb4u)4\\x8d+\\x7f?P}\\xc7\\x160mX\\x02\\xe8\\xe5\\xed\\x8f-G\\xe4\\x1b\\xb3`\\xec\\xd7\\xc3o\\xe3\\xc9%\\x98\\x8c\\x88Z\\xf72tm\\xffS\\xe9s\\x13\\x11\\x11]+\\x18\\xac\\x12\\x11Q\\xcd\\x11\\xa4\\x87i\\xe3\\x12hb\\xae\\xbd\\xc37T\\xc6 \\x98\\xbe|\\x0b!\\x13\\x06W\\xda\\x9c\\xba\\xd6\\x8dP{\\xeb\\xc7\\x019i>x\\xec\\xdd\\x88\\xfe\\xecM\\xa8\\x83C\\xfd>ve\\xd34\\xba\\x0e\\xe6}\\xab`\\xe8ts\\xa5\\xcd\\x19\\xd4\\xaf\\x0b\\xcc\\xeb\\xde\\x04\\x82\\xf4\\x956g\\xa5\\x12\\x04\\x84\\xbf0\\x03\\x91KfTz\\x00\\xaf6\\x19a\\xfe\\xfa-\\xe8o\\xbf\\xd5ocj\\xda\\xde\\x88\\x98\\xbd\\xab\\xa1\\xeb\\xdc\\xcaocJ\\t\\xba\\xa3\\x0bL\\x1b\\x96V\\xdf{D\\x82\\xa6i\\x13\\xc4\\xc4\\x7f\\x02}\\xdb\\xca{\\xcd\\x8d\\xf7v\\x87y\\xf3\\x07P\\x99\\xa3\\xfc;\\xb0V\\x83\\xa8\\xb5/#l\\xc6\\x83\\xfe\\x1d\\xd7\\x0b\\xcd\\r\\xb5\\x11\\xb3\\xf1C\\x18\\xee\\xe8Zis\\x12\\x11\\x11]\\x8b\\x18\\xac\\x12\\x11Q\\x8d\"\\xc4\\x98aZ\\xff&4\\xf5\\xe5\\x9d\\xb6|U\\x11\\x04D\\xbc:\\x0b\\x11\\xafL\\x81`\\xac\\xd8\\x01Rr\\x05\\xf5\\xb9\\x15\\xe6\\xf8\\x8f!4\\xa9\\x17\\xb09\\xf4\\xddb\\x11\\xb3g%t\\xad\\xae\\x0f\\xd8\\x1c@Y@\\x10\\xe8G\\xb1\\x85\\xf0p\\x98\\xb6.G\\xc8CC\\x02:\\x8fJ\\xa3A\\xf8\\xa2\\xc9\\x88^\\xfb\\x86\\xa2Cd\\xaeU\\xc1\\xe3\\xef\\x83i\\xf5\\x92J\\xfb}\\xd5wi\\x85\\x98\\xefVA\\xdb\\xb9\\x9d\\xdf\\xc7\\x16b\\xa2\\x11\\xf3\\xcd\\xfb\\x08\\xbe\\xbf\\x8f\\xdf\\xc7\\xbe\\x98J\\xa3A\\xe4\\xdc\\'\\x10\\xbd\\xfe\\r \\xb8\\xfa\\xdf#\\xde\\x081\\xd10o\\x7f\\x0f\\xc6\\x01\\xf2\\x0fv\\xab\\xa8\\xf0\\xd9\\x13\\x10\\xf5\\xe1\\xe2\\x80\\x06\\xd9a\\xb3\\x1fA\\xd4G\\xcfA\\x15\\xee\\xbf\\xd5\\xb0\\xe5\\xd1\\xb7o\\x8dZ\\xdf\\xaf\\x86\\xa6\\xed\\x8d\\x01\\x9d\\x87\\x88\\x88\\xa8:`\\xb0JDD5\\x8e\\xa6\\xed\\x8d\\x88\\xf9a\\r\\x0c\\x9d\\xdbWu+\\x15\\x122q\\x04\\xcc\\xf1\\xab`\\xb8\\xcd\\xff[\\x03hbb\\x10\\xb5|6\\xa2\\xd7\\xbd\\tUp\\xb0\\xdf\\xc7\\xbf\\x94\\xbaI#\\xc4\\xec^\\x87\\x88EO\\xfa}\\xf5\\xaa\\x10\\xaeG\\xd8\\xd4\\x07Q{\\xef\\x06h\\x1a\\xd4\\xf6\\xeb\\xd8\\xe5R\\xab\\x11\\xf1\\xdaL\\x987,\\x81\\xb6y\\x13\\xbf\\x0fo\\xe8\\xda\\x061?|\\x88\\xd0G\\x1e\\xf0\\xfb\\xd8W3]\\xafN\\xa8}`\\x0b\\xc2\\xe7O\\x82\\xda\\x1c\\x98\\x15\\xceB\\x88\\x11Q\\xafL\\x87y\\xebJ\\xa8\\x9b5\\x0e\\xc8\\x1c\\x00\\x00\\xad\\x16\\x91\\xcb\\x17\\xc0\\xb4\\xf2eh\\x9b\\xf8o{\\x8d\\x0b\\x0cqmQk\\xd7J\\x04O\\xbb6\\xf7\\x93\\x0e\\x08\\xbd\\x0eQ\\x9f\\xbe\\x04\\xd3\\xaaE\\xd0\\xb4\\xf0\\xff\\x96\\x1d\\xba\\xce\\xad\\x10\\xb3\\xfd}\\x84\\xce\\x98\\xe0\\xf7\\xb1\\xcbc\\xbc\\xe7.\\xd4\\xfeqm@\\xf6!\\xd6\\x84G\"\\xe2\\x95)0\\xc7\\xbf\\xef\\xffU\\xb7DDD\\xd5\\x14\\x83U\"\"\\xaa\\x91\\x84:\\xb5`\\xfan\\x05L\\x9f,\\x86\\xb6Y\\xdd\\xaanG1\\xedM-`\\xfa\\xe6\\x1d\\x98\\xbfz\\xdb/\\xfb\\xc6\\xaa\\xcd\\xa1\\x88X\\xf8\\x18j\\x1f\\xf9\\n\\xc6\\xfb\\x07\\x01B%\\xfe/\\x82V\\x83\\x90GF\\xa2\\xf6\\xd1\\xaf\\x10\\xfa\\xd0P\\x9f\\x03V\\xc1dD\\xf0\\xa8\\xfe\\xa8\\xbd\\xe73\\x84\\xcd{\\xa4\\xd2\\x1f\\x85\\xd6\\xf7\\x8aC\\xad\\xfd\\xeb\\x10\\xb5b\\x8e_\\xb6\\x9d\\xd0\\xb5k\\x02\\xd3\\'\\x8ba\\xda\\xfa!\\xb4\\xedj\\xe8^\\x87A\\x06\\x84N\\x19\\x87Z\\xbfnB\\xd8\\xd4\\x07 \\x98\\x8c~\\x19V\\xd3\\xd0\\x84\\xf09\\x13Q;\\xe5+\\x18\\'\\x0e\\x05T*\\xbf\\x8c+\\xc5pw\\x0f\\xd4:\\xf0%\\xa2\\xdex\\x06j\\xb3\\xef\\xab\\xa9u\\xcdo\\x84\\xe9\\x8bW`\\xda\\xf2\\x014m\\xae\\xc1}\\xa4+\\x81aHO\\xd4\\xde\\xb7\\x1e\\x91\\xaf>\\x03M\\x83h\\x9f\\xc7\\xd3\\xb4l\\x00\\xd3\\xca\\x97\\x11\\xf3\\xdd*\\xe8b\\xfd\\xbf\\xc2\\xd9\\x1bu\\x93F\\x88^\\xf9\\nb~\\xf8\\x08\\xfa[}\\xdf\\xaaE\\xd0\\xe9\\x11\\xf6\\xf4X\\xd4:\\xb6\\t!\\x13G\\x00\\xdak\\x7f\\xffk\"\"\\xa2\\xca\\xc2\\xffj\\x12\\x11Q\\x8df\\x18\\xd8\\x1d\\x86\\xbeq\\xb0\\xfd\\xb0\\x0f%\\xeb\\xbf\\x85\\xed\\xab\\x04\\x88NGU\\xb7%\\x9b\\xbeG,bz\\xc4\\xc2\\x95\\xfc\\x1bJv\\xee\\x86\\xed\\xfbD8\\x0e\\xfc.\\xebZMd\\x04\\xf4\\xfd\\xba\"\\xe8\\x8e\\xae\\xd0\\xf7\\xba\\x15*cP\\x80\\xbb\\xf5N\\x15\\x1d\\x81\\xf0\\xd7\\xa6#\\xfc\\xa5\\'a\\xdb\\xbe\\x07%\\xeb\\xbf\\x83\\xed\\xc7\\x9f f\\x97J^+\\xe8\\xf4\\xd0\\xc5\\xdd\\x84\\xe0\\xfb\\xfa\"h`\\xaf\\xaa\\x7fL^\\x10`\\x1c>\\x10\\xc6{\\xee\\x82}\\xdf\\x01\\xd8\\xe2w\\xa3t\\xd3\\x1e\\xb8\\xd2O\\xcb\\xba\\\\S\\xbf\\x0e\\x82\\xfa\\xc4\\xc18\\xba\\x1f\\xb4\\xd7\\xe2\\x81k\\x01\"\\x84\\x87#l\\xded\\x84=;\\t\\xf6\\xc4_a\\x8b\\xdf\\x0b\\xfb\\xb6}p\\x9c\\xfcK\\xf6\\x18\\xda\\xa6u\\xa0\\xeb\\xd8\\x16A=n\\x83a\\xf0\\xed\\x95\\xfb!\\xc2\\xc5\\x04\\x01\\xc6\\x07\\xef\\x81q\\xd4@\\xd8\\x13\\x93Q\\xfa\\xfd\\x1e\\xd8\\xb6\\'\\xc2\\xf5\\xe7YY\\x97k\\x1a\\xd4E\\xd0\\xa08\\x18\\x87\\xf7\\x87\\xb6U\\xb3\\x007[M\\xa8\\xd5\\x08\\x9ep\\x0f\\x82\\xc7\\x0e\\x84-\\xe1g\\xd8\\xb6\\xfd\\x08\\xdb\\xa6\\xbdp\\x9d;\\'\\xebr\\xdd\\xf5\\x8d`\\xe8\\xdb\\x15\\x86\\x81]\\xa1\\xeb\\xd8\\xb6\\xea\\xee\\x9d\\x0b\\xfdt\\xb8\\t\\xe6\\xef?\\x80+\\xe5\\x0f\\x94\\xc6\\xef\\x86m\\xcb\\x1e8\\x7f=\\nQF[\\xea\\xe0P\\xe8\\x07\\xdc\\nc\\xcf8\\x18zt\\x02\\xa2\\xc2\\x02\\xdf0\\x11\\x11Q5\\xa4\\xf2x<\\x9e\\xaan\\x82\\x88\\x88\\xe8j\\xe1)*\\x81#\\xe9\\x08\\x9c\\xc7\\xff\\x80\\xdb\\x9a\\x0bOn1\\xa0\\x11\\xfd6\\xbeq\\xd0\\x9d\\xd0\\x05x\\x0b\\x02\\xf1\\xcc98\\x8e\\xfc\\x0e1;\\x07\\xa2%\\x17\\xee\\xcc\\x1cxD\\x1b\\xd4f\\x13\\x04s4\\xd4u\\xa2\\xa0\\xaeW\\xa7,\\x8c\\xa9\\xa4\\x15z\\x15\\xe6\\xf1\\xc0\\xfd\\xbfL\\xb8~O\\x83\\xf3\\xb7\\x13\\x10\\x8bJ\\x00\\x97\\n\\xd0\\xab\\xa0\\xd2\\xe9\\xa0m\\xd4\\x10\\xda67@}\\xfdu^C\\x8e\\xc2wV\\xc3}2\\xc3\\xebT\\xe1\\xcf<\\x0cUt`\\x1f\\x7fu\\xffq\\x12\\xce\\x93\\x19\\x10-\\xd9\\x10\\xcff\\xc3\\x9d\\x93\\r8=PE\\x85A\\x88\\x08\\x83\\xb6I\\x03\\xe8\\xda\\xb6\\n\\xf8c\\xb8\\xae\\x94?P\\xf4\\xd1\\x1a\\xaf5\\xba\\xd8\\xb6e\\xab\\x97\\xaf\\x01\\xee\\x8c\\xb3p\\xa7\\xa5C<\\x97\\r\\xd7\\x99\\x1c\\xb8\\x8b\\xac@z!`6B\\x1d\\x1e\\x06UT\\x04\\xd4\\xa6h\\xe8ni\\x05\\xc1\\x0f+D\\x03\\xc9}<\\r\\xae\\xffe\\xc0\\x9d\\x95\\x03w\\xa6\\x15b~\\xce\\xe5\\xf7\\xc8\\xcd\\xad\\x02z\\xaf\\x16,Z\\x0e\\xf1\\xb4\\xf7\\xb01\\xfc\\x85\\xe9P\\x85\\xfa\\xb6]H\\xd1k\\x1f\\xc2u*\\xddkM\\xd8\\xec\\xc7!\\xc4\\xf8\\xbe\\xc2\\xd4\\x1bW\\xca\\x1fpe\\x96\\xbd\\xe6\\xa25\\x07nk\\x0eT.\\x01\\xeaz\\xd1\\x10\\xeaDC\\x88\\x8e\\x86\\xae\\xc9\\xf5\\x01\\xdds\\xda_<\\x96\\x1c\\xd8\\x0f\\x1f\\x83\\xc7\\x92]v\\x0fYs\\xe0))\\x81`\\x8a\\x82\\xba\\x96\\t\\xea\\xa8h\\x08\\rk\\x95=\\xe9\\x10\\xe0`8\\x7f\\xc6\\xcb\\xf0\\xd8\\xbc\\x7f0\\x16\\xb1t~@{ \"\"\\n4\\x06\\xabDDDDDDDDDD\\nq\\x8fU\"\"\"\"\"\"\"\"\"\"\\x85\\x18\\xac\\x12\\x11\\x11\\x11\\x11\\x11\\x11\\x11\\x11\\x11)\\xc4`\\x95\\x88\\x88\\x88\\x88\\x88\\x88\\x88\\x88\\x88H!\\x06\\xabDDDDDDDDDD\\n1X%\"\"\"\"\"\"\"\"\"R\\x88\\xc1*\\x11\\x11\\x11\\x11\\x11\\x11\\x11\\x11\\x11\\x91B\\x0cV\\x89\\x88\\x88\\x88\\x88\\x88\\x88\\x88\\x88\\x88\\x14b\\xb0JDDDDDDDDD\\xa4\\x10\\x83U\"\"\"\"\"\"\"\"\"\"\\x85\\x18\\xac\\x12\\x11\\x11\\x11\\x11\\x11\\x11\\x11\\x11\\x11)\\xc4`\\x95\\x88\\x88\\x88\\x88\\x88\\x88\\x88\\x88\\x88H!\\x06\\xabDDDDDDDDDD\\n1X%\"\"\"\"\"\"\"\"\"R\\x88\\xc1*\\x11\\x11\\x11\\x11\\x11\\x11\\x11\\x11\\x11\\x91B\\x0cV\\x89\\x88\\x88\\x88\\x88\\x88\\x88\\x88\\x88\\x88\\x14b\\xb0JDDDDDDDDD\\xa4\\x10\\x83U\"\"\"\"\"\"\"\"\"\"\\x85\\x18\\xac\\x12\\x11\\x11\\x11\\x11\\x11\\x11\\x11\\x11\\x11)\\xc4`\\x95\\x88\\x88\\x88\\x88\\x88\\x88\\x88\\x88\\x88H!\\x06\\xabDDDDDDDDDD\\n1X%\"\"\"\"\"\"\"\"\"R\\x88\\xc1*\\x11\\x11\\x11\\x11\\x11\\x11\\x11\\x11\\x11\\x91B\\x0cV\\x89\\x88\\x88\\x88\\x88\\x88\\x88\\x88\\x88\\x88\\x14b\\xb0JDDDDDDDDD\\xa4\\x10\\x83U\"\"\"\"\"\"\"\"\"\"\\x85\\x18\\xac\\x12\\x11\\x11\\x11\\x11\\x11\\x11\\x11\\x11\\x11)\\xc4`\\x95\\x88\\x88\\x88\\x88\\x88\\x88\\x88\\x88\\x88H!\\x06\\xabDDDDDDDDDD\\n1X%\"\"\"\"\"\"\"\"\"R\\x88\\xc1*\\x11\\x11\\x11\\x11\\x11\\x11\\x11\\x11\\x11\\x91B\\x0cV\\x89\\x88\\x88\\xe8\\x9af\\xdf:\\x01\\xcd\\x9b\\xb6D\\xe3\\xa6\\xa3\\xb1\\xc6R\\xd5\\xdd\\\\\\xfb~{\\xb5\\'\\x1a7m\\x89\\xc6\\xedgb\\x7fU7CW\\xa5\\xfdO\\xc7\\x96\\xdd#\\xbd\\x97\\xe0\\xb7\\xaan\\x86\\x88\\x88\\x88\\xa8\\ni\\xaa\\xba\\x01\"\"\"\\xaa\\x89\\n\\xb0y\\\\\\x1c\\x9eHtx\\xad\\xd2\\xe9Ban\\xdc\\x1c\\xedb\\xfb\\xe2\\xeea\\x83\\xd0\\xad\\x89\\xbe\\x92\\xfa#\"\"\"\"\"\\xf2\\x8e+V\\x89\\x88\\x88\\xe8\\xaa\\xe5p\\x14\"\\xf3\\xd8\\xcf\\xd8\\xf2\\xf1s\\x18\\xdb\\xa7\\x17\\x86\\xaf8\\x84\\x82\\xaan\\x8a\\x88\\x88\\x88\\x88\\x88\\x08\\\\\\xb1JDDDU\\xcd4\\x08\\xef~\\xfd\\x14\\xda]\\xf6\\x05\\x07\\n\\xac\\x99\\xf8-a\\x13V\\xbe\\xb7\\t)\\x85V$\\xbd6\\x01\\x93\\xcd[\\xb0j\\x88\\xb9\\n\\x1a%\"\"\"\"\"\\xfa\\x07\\x83U\"\"\"\\xaab:\\x98\\xcdf\\x94\\x17\\x95\\x9a\\xcd\\xf5\\xd0\\xa4EG\\xf4\\xbf\\xab\\x03\\xc6\\x0c\\x9c\\x85\\x84\\xc2B$,\\xfb\\x00\\xbf\\ry\\x16-+\\xbdO\"\"\"\"\"\\xa2\\x7fp+\\x00\"\"\"\\xba\\xfa\\xd5\\x1f\\x8c\\'\\x86\\xd4-\\xfb\\xfb\\xccC\\xd8\\x9f\\xa1\\xe4b\\x0b\\x0en\\\\\\x82\\xc9#\\x87\\xa0k\\xfb\\xb6h\\xde\\xb4%\\x9a\\xb7\\x8aC\\xd7\\x01\\x130}\\xc5\\x0f8a\\x97\\xb8:\\xe5+,~r4\\xee\\xba=\\x16\\xcd[\\xb5D\\xe3\\xa6-\\xd1\\xbc}O\\xdc5r*\\x16oM\\xf5\\xb25\\x81\\x1d\\'\\xb6\\xbf\\x8f\\xd9\\xe3\\x86\\xa1g\\xa7\\xd8\\xf3\\x07l\\xb5E\\x9bNwa\\xc8\\xb8\\xf9X\\xbe=\\xcd\\xeb\\xb5\\x19I\\x9fc\\xc1#\\xa3\\xff\\xb9\\xb6U,:\\xf6\\x1e\\x86\\x89s?\\xc7\\xee\\x0c\\x89\\xa6\\xbd\\xb1\\xa7!\\xfe\\xd5\\xa9\\x18\\xd2;\\xee\\x9fq\\x07L\\xc0\\xf4U\\xc9\\xf0z\\xf6W\\xc6j\\x0ci\\xda\\x12\\x8d\\x9b\\xf6\\xc4\\x82T\\xc0~\\xe2+\\xcc\\xbe\\xb7\\'\\xda\\xb4j\\x89\\xe6\\x03\\xde\\xc7\\x89\\x7f\\x15\\x17\\xe0\\xb7\\xed\\xefczy\\xdf\\xfb#/aM\\xca%3\\x9dx\\x1fw5m\\x89\\xc6M\\xe30=\\xa9\\xfc\\xe9\\x0f\\xce=\\x7f\\xa8V\\xd3XL\\xde^\\xfe\\xf7\\x7fb\\xc5\\x90\\xb2\\x9aN\\xf3qP\\xfe+\\x02\\xbb%\\x19k^\\x98\\x8a\\xe1\\xbd\\xcb\\xbe\\x9f\\xc6\\xe7_\\x17\\xb9\\xf7H\\xf9R\\xb1\\xb8w\\xd9XCVe\\x02\\xb0#c\\xfb\\xfb\\x98<\\xf2.tl\\xdf\\xb6\\xec>\\xea\\xd4\\x13C\\x9e\\\\\\x82\\xf8r&\\xc8X7\\xec\\xfc\\xf7;\\x01\\xeb\\xaft\\xa3X>\\xc7\\xf0\\xa6es\\x8c\\xd9zq\\xd1\\xa5s\\x17\\xe0\\xe0\\xba\\xf9\\x183 \\x0em\\xfe\\xfe\\xde\\x1e\\xc3\\xe2\\xedi\\xb80\\xb3\\xfd\\xc4\\x0fX\\xfc\\xe40t\\xfd\\xbb\\xb7\\xbb0\\xfc\\xe9\\xd5\\xd8/\\xe3@8K\\xd2jL\\x1f7\\xe4\\x9f\\xef\\xab}O\\x0cy\\xe4%\\xacO\\xf5\\xbeq\\x87\\xfdD\">\\x9a\\xfb\\x18\\x86\\xf4\\x8e;\\xff\\xba\\x9f\\xbfG\\x9e|\\t\\xeb/\\xbdG\\xce+\\xb8pX]\\xfb\\x99\\xd8\\r c\\xfbK\\x18\\xd3;\\x16\\xcd\\x9b\\xb6E\\xd7\\xb9\\xc9\\xd2\\xcd\\x12\\x11\\x11\\x11\\xf9\\x11W\\xac\\x12\\x11\\x11\\xd15\\xc1\\\\\\xcf\\x04\\xe04\\x80BX\\x0be^dI\\xc4\\x82G\\xa6a\\xe5\\xa1\\xf3\\x17\\xe8BQ\\xafq=\\xc0\\x92\\x89\\xccc{\\xb0\\xe1\\xd8\\x1el\\xfe\\xac;\\x16~\\xf0\\x1a\\xee\\xb9\\xec`,;~[5\\x01\\xc3_\\xfc\\x19\\x17\\xa6\\xd3\\x99L\\xa8\\x07;,\\xd6\\xd3HM>\\x8d\\xd4\\xe4\\xef\\xb0~\\xeb\\x0b\\xd8\\xf8\\xce`\\xd4\\xff\\xd7\\xb5\\x99\\xd8\\xfc\\xe4h<\\xf1\\xed\\xe9\\x0bW\"\\xd4T\\x17a(D\\x81\\xf5$R\\x12O\"%q\\x13\\xd6\\xf6}\\x11\\xeb\\xde\\xe8{\\xd9\\xb5\\xf1OO\\xc0\\xe4\\xafN\\xc2q\\xfeZS\\xbd\\xeb\\xa1\\xb7[\\x91\\x99v\\x18\\xdb\\xd3\\x0ec\\xfb\\xc6\\xd5\\xb8\\xfb\\xf5Ux\\xa5\\x97\\xc2-\\x11\\n\\x92\\xb1`\\xe4\\x04\\xac<\\xe6\\xb8\\xf0\\r\\xa1^\\xfdP 3\\x19\\x1b^\\xdc\\x83\\xdd\\x89\\xf30\\xa7\\xf1\\x15\\x0e\\x08\\xd3\\xebQ\\xf6\\x15\\x07\\xec\\x96d,\\x987\\x0bk3\\xcf\\x7f\\xcdQ\\x88\\x7f\\xa2\\xc1L\\xac\\x7fd8f\\xec\\xb0^\\xf2\\xbd[a\\xb5\\x9eD\\xca\\x8e\\x93H\\xd9\\xb1\\t[f\\xae\\xc2\\xaa1-\\xca\\xc6l\\xd2\\x11\\xb7\\xd4\\x03R3\\xad8\\x98\\x98\\n\\xc4\\xb6\\xb8d\\xf24\\xecO\\xb9\\xf0Z\\x16\\xe2`\\xf21\\xa0W\\x9bKj,\\xd8\\x9fx\\x0c\\x00\\x10\\xda\\xb5\\x87\\xec\\x15\\xcd\\x05I/a\\xf8\\xb8O\\x90z\\xe1%\\t5\\xc1d\\x06\\xec\\x16\\xeb?\\xf7\\xc8W\\x83\\xb0\\xf4\\x93\\x17q\\x87\\xa2\\x97[\\x8f\\xd0\\x0bsX\\xad8\\xb8b*\\xc6\\xbcv\\x18\\x85\\xd0!4T\\x0f\\x9d\\xce\\x01\\x87\\xf54R\\xbe\\xfd\\x00\\x0f\\'\\x1e\\xc2\\x82\\xaf?\\xc6\\xfd\\xf5\\xbd\\x0eX\\xc1\\xb93\\xb1{\\xees\\x98\\xf8\\xd9I8t\\xa1\\x08\\r\\xd5\\x01\\x85\\x85\\xc8<\\xb6\\x13\\xef>z\\x18\\'^\\xdf\\x80\\xa5\\x8d7a\\xf8\\xc8\\xd7\\x91Rx\\xbe78\\xe0\\xb0\\x9eD\\xd2W\\x8b0\\xe2P&6|\\xfd,\\xda]\\xe1\\xb6\\xc8X7\\x01c\\xe6\\xed\\x81\\x15\\x80.4\\x14\\xa1:\\x07\\n\\x0bO#e\\xc7\\'HI\\xd8\\x83\\xa4w\\xd6\\xe1\\x95\\xb8\\xb0K\\xae\\xb2\\xe3\\xc4\\xc6\\xa9\\x183w\\'2\\xcf\\xbf\\xee\\xa1\\xa6\\xbah\\xacw #\\xf3$R\\xbe=\\x89\\x94o7a\\xed\\x84eX5\\xad#.\\xbeZ\\xaf\\xd3\\x9d\\x1f\\xa2\\x00\\x05)\\xefc\\xe2S\\xff\\xfc\\xec\\n|\\xf8\\xbc\\x81\\x88\\x88\\x88\\xa8\"\\xb8b\\x95\\x88\\x88\\x88\\xae\\t\\x96\\xcc\\x0bA](\\xea\\x99\\xe4\\\\\\x91\\x86\\x8f\\x1ey\\xbc,T\\r\\xbd\\tc\\xdf\\xde\\x82\\x94\\xa3IH\\xdc\\xb6\\x15\\x89\\x07\\x92\\x90\\xf4\\xc53\\xe8U\\x0fpd\\xee\\xc4\\x8cG\\x97\\xe0\\xe0\\xa5\\xa1L\\xea\\xdb\\x98|>T5u}\\x06\\x1b\\xf6\\x1e\\xc4\\xb1}\\tH\\xdc\\x97\\x84cG\\xb6\\xe0\\xdda\\xcd\\xa1\\x03`\\xdd\\xf1\\x1cfo\\xfc\\xf7\\xea\\xba\\x82\\xedK0\\xfb\\xdb\\xd3\\x00L\\x88\\x9b\\xb9\\x0eIGRph\\xdf\\x0e$\\xefK\\xc2\\xb1#\\xdb\\xb1vf\\x17\\xd4\\x83\\x03\\x99\\xdf>\\x87\\x05\\xffZih\\xc7\\xc1\\x17.\\x84\\xaa&\\xc4N]\\x81\\x84#)H\\xde\\xb5\\x15\\x89\\xfb\\x92\\x90\\xbas\\x05\\xa6w4\\x01\\x8e\\x93\\xd8\\xf0\\xd4\\xe3\\xf8\\xe8\\xdf\\xcbD%\\xd8\\xb1\\xff\\xd5\\x99\\xe7C\\xd5P\\xc4N]\\x87\\xa4\\xa3\\t\\xff\\xbc\\x1e\\x9f<\\x85&\\xa9/a\\xc1V\\xeb\\x15\\xae\\xd7\\xfd=N\\xc6\\xc6\\x0f\\xb0\\xd9r=\\xfaM}\\x15+?Y\\x85\\x95\\xcf\\r\\xfa;\\x1c\\xceX7\\x15\\xb3wX\\x01\\x84\\xa2\\xed\\x84\\xb2\\xfe\\xcb\\xbe\\xf7\\x14\\xa4\\xee\\\\\\x81\\x87;\\x86\\x02(D\\xd2\\x8b\\xb3.\\xea\\xbf9zu,\\xfb\\xa1\\xa6\\xa5\\x1c\\xbe|\\xe5\\xac\\xe5g$\\x1c\\x03\\xd0\\xb89\\x1a\\x03\\xc8LJ\\xc6e\\xdf\\xba\\xfd0\\x12R\\xca\\xfa\\xbc\\xa5gG\\\\!\\x07\\xbc\\xe4\\x9ad,\\xb8\\x10\\xcc\\xd5\\xeb\\x83\\xc5_\\xef\\xc7\\xb1\\x03\\tH\\xde\\x95\\x80CG\\xf7c\\xcb\\xa2>\\xa8\\x07\\xc0\\x91\\xb6\\t\\xb3_\\xf8A\\xf9\\xc1i\\xe7_\\xb2\\x82\\xa4\\x970y\\x99\\x15\\xb7\\xcc\\\\U\\xf6z\\x1cH\\xc2\\xb1\\xa3\\xfb\\xb1\\xe5\\xb9\\xee0\\x01@\\xe1\\xcfxsY2\\xfc\\x9a\\x0b^\\x98;a\\tfo\\r\\xc5\\x83\\x1flG\\xea\\xd1$\\x1c:\\x90\\x82\\x94\\xaf\\x9fA\\x9c\\t\\x00\\xac\\xd8\\xbe\\xec9L~\\xeamXb\\xe7a\\xc3\\xde\\xf3\\xbd\\x1d\\xd9\\x8d\\x95\\xa3\\xcb\\xeeo\\xa4}\\x8e7w\\\\\\xe1;\\xb7|\\x8b\\xd9/$\\xc3<\\xec\\x05l\\xd9{\\x10\\xc7\\x0e$\\xe1\\xd0\\xd1\\x83H\\xf8`<\\xda\\x86\\xa2\\xec>}f\\x11\\xf6_\\xf2\\x8d\\x15$<\\x871\\xcf\\x94\\x85\\xaa\\xf5z\\xce\\xc3\\x86\\xbd\\x07qh\\xdf\\x0e\\xec\\xd8\\x95\\x80c\\xbfl\\xc1\\xbb\\xa3oB(\\n\\x91\\xf2\\xde\\xe3\\x98|\\xc9\\xef\\xd6\\xdf?WG!\\xb6\\xbf\\xf7\\tN\\x98\\xbb\\xe0\\xe1E\\xcb\\xb0\\xf6\\x93UX:\\xe6z\\x7f\\xbdzDDDD\\xb20X%\"\"\\xa2\\xab\\x9f\\xe5\\x07\\xac\\xdcz~\\xc5b\\xf3\\x1e\\xb8E\\xc6\\xca\\xc1\\x82\\xedK\\xf0\\xe6!\\x07\\x80\\xba\\xb8\\xfb\\xf5\\xf70\\xa7W\\xe3\\x8bV\\xbe\\xe9an\\xfb\\x00\\x96\\xbe3\\x1e-\\x00 \\xeds,\\xde\\xfa\\xef\\x00\\xe7\\xb7\\xad? \\r\\x00\\xd0\\x01O,z\\x00\\xed\\xcc\\x17Eu\\xfa\\xc6\\xb8\\xe3\\xf9y\\xb8\\xbf\\x1e\\x008\\x90\\xb0q\\xcf\\xbf\\xc2\\xc0\\xdf\\x12\\xcf\\xafrm>\\ns\\xc6\\xb4\\xc1\\xc5\\x97B_\\x0f\\xb7\\x8cY\\x86WFw@\\xdb\\x8em\\x10V\\x90\\xf9\\xcf\\xd726a\\xf1\\xba\\xb2\\x95\\xaa\\x8d\\',\\xc3\\xaa\\x89]Q\\xff\\xe2i\\xebw\\xc5\\xa4\\x0f_\\xc5\\x88z\\x00\\x1c\\x87\\xf1\\xe62\\x05a_\\xc1?\\xafah\\xcfyX1\\xb1\\xcdE\\xfb\\xda\\xeaa\\x8e}\\x08+\\x16\\xf5\\xc5\\x15\\x97\\x03\\xff\\xddG!\\x12v\\xa4\\xe1\\x8ew\\xd6a\\xe9\\xc4\\xbe\\xe8\\x16\\xdb\\x11\\xddb/\\xbc\\xb6\\x99\\x88\\xdfx\\xb8l\\xa5m\\xe3\\xf1xe\\xda\\xe5\\xfd\\xcfX\\xf4(\\xda\\x02\\x00\\x8ea\\xcb\\x8e\\xb4\\xbf\\x07o\\xd7\\xf3\\xa6\\xb2U\\x96)\\x89\\x97\\x85\\xdc\\x05\\xc9\\x898\\x08\\xa0^\\xc7\\xa1\\xb8\\xa31\\x80\\xb4=8xi\\xfa\\x9a\\x92\\x88\\x83\\x0e\\x00\\xba\\x8e\\xe8\\x15++V\\x85=i\\x13\\xe2\\xad\\x00\\x10\\x8a^3\\xe7\\xe1\\x9e\\x16\\x17\\xaf\\x8d\\x0cC\\xcb!/b\\xe1\\xe0\\xb2\\xc0\\xd7\\xba\\xe3\\xdb\\xcb\\x02B\\xb9\\xac\\x87\\x8e\\xa1\\xfe\\xac\\x8f\\xb1bL\\xc7\\x8b^\\x8f0\\xb4\\x1c>\\x0fOt\\xd4\\x9d\\xaf\\xd9syX\\xec\\x07\\xd6c\\xa7\\xd1n\\xd1{\\x98\\x11W\\xef\\xef\\x1faX\\x8b\\x070gt\\xf3\\xb2\\x7fH\\xdb\\x89\\xed\\xba\\x07\\xb0\\xe2\\x9d\\xa1hw\\xe1\\x86\\xd0\\x9b\\xd1m\\xdaS\\xe8\\x1f\\n\\x00\\x0e\\xfc\\x96p\\xac\\xfc\\xc1\\x0bO\\xc3\\x1e\\xfb\"V=?\\x18-\\xff\\xbe\\xc9\\xf5\\xa8\\x1f7\\x05+\\x9e\\xbdm\\x1f\\x8b\\x00\\x00 \\x00IDAT\\xefR\\xf6\\xf3\\xb4~\\x8b\\x95;\\xfe\\xbdM\\xc1\\xbb/nB&\\x00]\\x9bg\\xb0\\xea\\x9d\\xa1\\xff\\xfe\\xdd\\nk\\x8c;f-\\xc3\\xc2\\x9ee\\x01|\\xc2\\xb2\\xb7/\\xb9\\x1f.\\xd4\\xfe\\x8c\\xf8\\x94\\xe6X\\xf8\\xc5{\\x981\\xa4\\x07n\\x89\\xed\\x88n-x\\xa8\\x1d\\x11\\x11\\x11U.\\x06\\xabDDDt\\xd5\\xb2[\\xd2\\xb0\\x7f\\xeb\\x12L\\xbco*\\xb6X\\x01\\xc0\\x84~\\x8f\\x0fE\\x13\\xc9+\\x0b\\xb0\\xfb\\xb3=\\xe7\\xc3\\xcd\\xa1x\\xf8\\xb2G\\x91\\xcb\\xe8[\\x8c\\xc2\\x88\\x8e\\x00\\xe0\\xc0\\xc1\\xad{\\xfe\\x15R\\xb6\\x9c\\xb6\\x15iG\\xf6#i\\xef2\\xdcSn^\\xd3\\x1c\\xb1m\\xce/\\x0b\\xcc<V\\xfe\\xfe\\xa4\\xd6LX\\xca\\r\\xe3\\xf4\\xb8e\\xd6\\xc7\\xd8\\xf8\\xe9{xe\\xf8?\\x8f\\xbdg\\xec\\xf8\\nI\\x0e\\x00\\xba\\x0exxt\\x9b\\xf2W]\\xea;b\\xec]e+\\xf3\\n\\x13\\xbf\\xbd|\\xa5\\xed\\x15\\xd8S\\xf6`\\x7f!\\x00\\x84\\xa2\\xdb\\xe0\\x1e(\\xef\\x15\\t\\x8b\\x1b\\x8a\\xfe\\xf5d\\x0c\\xd6\\xf8J\\xafi=<\\xf8\\xe5oH\\xfde7\\x92>y\\xa0\\xfc\\x9fS\\xfd6hy~\\xc5qF\\xda?\\xa1\\xb2>\\xb6\\x07\\xda\\xe9\\x008\\x0e#!\\xf5_\\x9d\\xe3`\\xc2a8\\xa0C\\xcb\\xae}\\x10\\xdb&\\x14p\\x1cCB\\xca\\xbf\\xbf\\xf1\\xdf\\x12\\x7f\\x86\\x15\\x00Z\\xf4\\xc0-\\xe5\\xff\\xb8/\\xa3\\x8f{\\x11\\x87~?\\x88\\x94\\xbd[\\xcay\\\\\\x1d\\x00\\xf4h\\x19{~\\x15\\xa4#\\x13\\x192\\xf6\\x1b-\\x97\\xa9/\\x1e\\x1eR\\xde\\x0bkF\\xbb\\x16\\xe7_\\x0cK\\xa6\\xf7=n+\\xca\\xd4\\x1dc{]\\xfe\\xbd\\xd5oq\\xfd\\xdfk\\x90\\xdb\\x0e\\x1fz\\xf9\\xd6\\t\\xfa\\xe6h\\xdb\\xb8\\xeco\\x0b\\xac\\xd6+\\xac\\xa65\\xa1\\xff\\x84\\x1e\\xe5\\x1f<\\xd7s(n9\\x1f\\xcc\\xeeO8\\xf4\\xcf\\x17R7as\\x1a\\x00\\x84\\xe2\\x8e\\tW\\xfa]6\\xa3\\xff\\xe8>e\\xaby3\\xf7`Kj\\xb9E0\\xdf\\xf5\\xe8\\x15~7\\x89\\x88\\x88\\x88*\\x07\\x83U\"\"\"\\xaaZ\\xd6/p\\xf7\\xf9\\x03x.\\xfd\\xabE\\xe7~\\x18\\xf1\\xd4\\x07\\xd8\\x9e\\xe9\\x00`B\\xdcs+\\xf0J9!\\xd1\\xe5\\x8e!\\xe9\\xfc\\xc6\\x8b\\xa1-\\x9a{\\tb\\xcdh\\xd9\\xa2\\xecP,G\\xea\\xa1\\xcbW\\x0c\\xea\\xc3`6\\x87]\\xe1\\xb1r=\\xc2\\xf4\\xff|\\xe5\\xe2\\xe0\\xa9e\\xcf\\x0ee\\xa1\\x90\\xf5\\x0bL\\x1c9\\x1fk\\x12\\xbc\\x1dT\\xf5\\xcf\\x08\\xff\\xcf\\xde\\xfd\\xc7\\xd6]\\xdf\\xf7\\x1e\\x7fY\\xeb\\xecU\\x9b\\x1d\\xa3\\xda\\xab\\x8a3%q\\xa4\\xca\\xc9*l6\\x91D\\x1bI\\xcc\\x05\\xaa\\xb6\\xd0\\x92\\x84\\xaem\\xd8Z\\xd2\\x95\\x12nw[\\xa0\\xa5\\\\\\n\\xa5\\xa4#t\\xdcA\\x0b\\x85\\x95\\x017\\x94Pn\\xc7\\x8f\\x8e$]\\x93\\xb6\\x02:\\x9c\\x80\\xa6$\\xdc\\xab\\xd8\\xacJ\\xd2?p\\x1c)\\x8e&\\xd9U\\x8d=M\\xb35\\xc9\\xf7\\x0f;\\x89\\x01\\xfb\\xd8\\xdf\\x90\\x1c;\\xf1\\xe3\\xf1W\\xc8\\xe7{\\x8e\\xdf\\xe7\\xd8H\\xd63\\x9f\\xf3\\xf9\\xee\\xdf;\\xba3pns\\x16\\x97\\x08F\\x0b\\x974\\x8f\\xec\\x06\\x1c8\\x94\\xfdS\\xbc\\x91WOg\\xe7\\xe8Y\\xb1\\rY4\\xd19\\xaai\\xca\\xd2E\\x95\\x13\\xac\\x9d\\xd0\\xb0tI\\xc9\\xb8]US\\x9f\\xfa\\xfa\\x89\\xbeFejF\\xbf\\x85\\x83c\\xdf\\xb4\\x9a%Y\\xb1(Iz\\xb3oO\\xe7\\x98\\x85\\xce\\xec\\xda\\xdb\\x9b\\xa49+Zjr\\xfe\\xd2\\xe6Tf\\xe0\\xf8y\\xaa#\\xba\\xb3{\\xcf\\xa1$\\xc9\\xa2K.H\\xb1\\xa3J\\xabRS_\\x9f\\x9a\\t\\xc6\\xad\\xa9\\xaa\\x1a\\r\\x90Co\\x9e\\xb7\\x88\\xc6\\x0b&<\\xa3\\xb4\\xaa\\xee\\xc4\\x9bqZ\\x8e\\x08]4\\xfe\\xf7\\xaa\\xaa\\xaaz4\\xae\\xd7eq\\xe3x\\xd1\\xb7\\xea\\xf8\\xf7ih\\xa2\\xd9*\\xcf\\xcb\\xd2\\x96\\x89^\\xd8\\x82\\xb4\\x8c>\\xed@\\xe7\\xd1\\x1c\\xfb1\\xedi?\\x98\\x91\\x9c\\xbe -\\x8bJ\\xec,^\\xb4$\\x8b+\\x93\\xe4h\\xf6\\x1f\\x18/9W\\xe7\\xfc\\xe5M\\x13?\\x1e\\x00\\xa0\\x0c\\xdc\\xbc\\n\\x00\\x98\\xd1\\xaa\\x1b\\x9ar\\xfe\\x92\\x0f\\xe7\\xaak?\\x93\\x0f\\xbe\\xed\\x06S\\x13\\x18\\xec\\xcd\\x91\\xd1\\x929\\xb0u}\\x1a\\xb7N\\xe11\\xfd\\xbd92\\x987\\x07\\xb0\\xc1\\xee\\xec\\xdc\\xf2\\x83<\\xb7\\xe3\\xd5\\xec\\xef\\xeeMOOo\\x06\\x86&\\x7f\\xaa\\x9a\\x15w\\xe4\\x81k\\xbb\\xb3\\xfe\\xd1\\xd72\\xd0\\xf1ln\\xbf\\xe6\\xd9\\xdc^Y\\x97\\xc6\\x96\\x0b\\xb2l\\xf9\\x85\\xb9\\xf4\\x92\\x8b\\xb3r\\xe1[\\x03qo\\x8e\\xf4\\x8c>y\\xe7\\xa6\\\\\\xfe\\xfeMS\\x18\\xba;\\x9d\\xbd\\xc9\\x14\\xb6\\xf0\\x8e9\\xa3\\xb6.\\xf5\\x13F\\xdb\\xaa\\xd4\\xd7\\xd5$\\x99\\xe8\\x9c\\xd5\\x11\\xf5\\x93\\x1cr;\\xd8\\xb37?yb[\\xb6\\xef\\xe9\\xc8\\xeb\\xdd\\xbd\\xe9\\xe9\\x1f\\xc8\\xd0\\xa4\\xef[CV^\\xd2\\x94\\x8d\\x1d\\x07\\xf3\\xfa\\xcb\\x1d\\xe9Y\\xdf8\\xb2\\x13\\xf2\\xc8\\xab\\xd9\\xdd\\x9d\\xa4\\xb19\\xe7\\xd7\\'5K.\\xcc\\xc2\\xbc\\x92\\x03\\xed{\\xf3z\\x9aG^z\\x7f\\xc7\\xe8.\\xd7s\\xb3lE\\xe3d_\\xe8-\\xfa\\xf3\\xfa\\x0b\\xdb\\xf2\\xf8\\xd6_d_gwzzz\\xd3;\\x95or\\x01\\x955\\x13\\xc5\\xf9\\xa4j\\x8a?\\xd2\\'\\xfd\\xb5\\xab\\xab\\xc6\\xdd\\x9d|B\\xf5\\xf1\\x80:\\xce\\xa3\\x93\\x94x/\\xea\\xeb\\xdet\\xd4\\xc3\\x9b\\x8d\\xfe\\x9c\\x1dL2\\xd0}\\xfc\\x1f\\x16N\\xfc\\x1c\\xbe\\x96\\x8d\\xffmq6\\x96\\x9cm\\xecc\\xde\\xfaC[\\x97\\xb9\\x13\\xc6{\\x00\\x80\\xf2\\x10V\\x01\\x80\\xe9U\\xb7*\\x8f\\xff\\xfc\\x96\\x9c\\xff\\x96\\xbf\\xae\\xaa\\xaa\\x1as\\'\\xfa\\x82\\x06\\x07O\\xf4\\xa0\\xca\\xea\\xd4M\\xb4\\x1d\\xf1\\xcd_pd\\xdb\\xe9\\xb1K_\\xdf\\x9a\\xf5\\xd7\\xdc\\x96\\x17\\x8e}Z\\xbd\\xfa\\xdc4.\\xba \\x8bkN\\xcc\\xd4s\\xe0\\x95\\x1c\\x18\\xb7A\\xd6d\\xd9MO\\xe7\\xc5K~\\x9a\\xc77?\\x93\\xe7_~5\\x9d\\x03\\xbd\\xe9\\xdc\\xfb\\xb3t\\xee\\xfdY\\xfe\\xe1\\xdb\\xb7\\xa5\\xaeyU\\xae\\xbf\\xed\\x96\\xfcy\\xcb\\x89\\xaaubGdu\\xea\\xea\\xa6\\xf2\\xca+S5\\xd5m\\x8e\\x83\\xc7n{_Y:\\xe6UM\\xbec\\xb5\\xaaf\\xe2kz^\\xb85ko\\xdc\\x96\\xcec_\\xaenA\\x16.jJ\\xfd\\xf1\\xefA\\x7f^\\xdf\\xf3\\xda\\xf1\\xbb\\xc1\\x8f\\xb5p\\xe9\\x05i\\xc8\\xc1t\\x1fx%\\xfb\\x06W\\xe7\\x83UI\\xff\\xde\\x91\\xb3G\\xeb\\x96\\\\8\\xf2q\\xf5\\xb9\\xcdY\\xd6\\x90\\x1c\\xe8|%\\xfbz>\\x9f\\x85\\xf5#\\xc7\\x1c\\xec\\x1bJRwa.]\\xf4\\xf6\\xe7\\x9d\\xd0\\xe0\\x81|\\xffs\\xeb\\xb3q\\xef\\xe87\\xb1\\xb2:\\r\\x8dMYZSs\\xe2=\\xea9\\x98]\\x07K\\x87\\xe6IU\\xe6\\xe4~\\x8eO\\x89\\xc9\\xbf\\x9f\\'\\xadj\\xe2`\\x9cT\\xa5\\xeaX\\x98\\x1d\\xb3\\xe3u\\xf0\\xf8\\x0fye\\xaa\\xebJ=~\\xec3\\x8d\\xff\\xb7\\xd5\\xa7\\xf1\\xa5\\x01\\x00L\\x85\\xb0\\n\\x00L\\xb3\\xca\\xd4\\xd4\\xd4L\\xb2\\xab\\xae\\xa0\\xaa\\xaa\\x91>8\\x944\\xac}4/\\xdf\\xd6\\\\\\xf0\\t:\\xf3\\xf77~s$\\xaaV6\\xe5\\xaa\\xfb\\xee\\xcd\\xcdo\\xba\\xf9\\xd5\\x88\\xdd\\xffsi\\xae\\xda:\\xc1\\xcd\\x9e\\x92\\xd4\\xb7|$7\\xdf\\xff\\x91\\xdc\\x9c\\xc1\\x1ci\\xdf\\x9b\\xdd{~\\x91\\x17^|%;;\\x8e\\xa6\\xb7c[n\\xff\\x8b\\x8e\\x1cx\\xec\\xa9l\\\\Z\\x93\\xa4\\xf2\\xc4\\xc7\\xd1\\x9b\\xae\\xc9S\\xff\\xf4\\xf9\\xa9lD\\x9d\\xb2\\xaac\\xc1th\\xf4#\\xed\\x13\\x14\\xad\\xc1\\xc1w\\xb0[\\xb3gk\\xbe4\\x1aU+\\x1b?\\x9c\\x8d\\xf7\\xbd\\xf5\\x86PIr \\x7f\\xfb\\xa1+\\xf3p\\xe78\\x8f_tq\\x96\\xd5=\\x99\\xe7z;\\xb2\\xe7@\\xf2\\xc1\\x96\\xc1\\xec\\xde\\xd5\\x91\\xa1T\\xe6\\xfc\\xe5\\xc7\\xbe\\x87MY\\xda\\\\\\x9d\\xc7\\x7f:r\\xce\\xea\\xc7/\\xad\\xca\\xfe\\x97\\xf7f I\\xf5\\x92\\x8b\\xdf\\x16\\xe8\\'6\\x98}\\xf7~q4\\xaaVg\\xe9\\xb5\\xf7\\xe6\\x9e/.\\x7f\\xdb\\x0e\\xcc\\xc1\\x1d\\xd7\\xa6\\xf9\\xc6WJ\\xed\\xdb\\x9c\\xbdJ\\x1e_0\\x98\\xc1c\\xef\\xda\\x98\\x7f \\xa9:^\\xac\\x9bs\\xfb\\xcf\\x9f\\xc8\\xc7O\\xe9\\xff\\xf8\\x00\\x00\\xe5\\xe5\\x8cU\\x00\\xe0\\xecS\\xd5\\x90\\xfa\\xd1`\\xd3\\xd3=\\xd1\\x8dwJ8\\xb0-\\xcf\\x1d\\x1c\\x89B-7=\\x98\\x8d\\xe3D\\xd5d0=\\x03S}\\xe6\\xaa\\xccmY\\x9e\\x8f\\xaf\\xdf\\x90G~\\xf4b\\xf6\\xfe\\xf8\\x8e\\\\Z\\x97d\\xe8P\\xfe\\xe1\\xdem\\xa3\\xe7O\\xd6\\xa4\\xbea4~\\xf6\\x9e\\xfa\\x1b\\x19\\xd5\\x1c\\xff\\xf8~o\\xfa\\'<\\xf0\\xb5?=\\xdd\\x93\\x9f\\x06;\\x91\\x9e\\x17\\x9f\\x19\\xb9\\xf9V\\x16\\xe4\\xcf\\xef\\xfe\\xf68Q5I\\x06\\xd23\\xd1\\x8b\\xabj\\xce\\xa5-\\x95I\\x8efw{w\\x92\\x8e\\xec\\xda;\\x90\\x91\\xf3UO\\xdcu\\xfe\\xfc\\x15Mc\\xceY\\xed\\xce\\xbe=G\\x93Tf\\xd9\\xa5\\x13\\xdc\\xf0k\\\\\\x1dyn\\xc7\\xd1$I\\xe5\\xf2[\\xf2\\xc0Mo\\x8f\\xaaI\\xd2\\xd3\\xdf?-QuJ\\xaf\\xa3\\xbf\\x7f\\ng\\xf7\\x9eF=\\xbd\\x13\\xdc\\x9c-IzO|\\x9f\\xab\\x1b\\x8e\\x7f\\x90\\x7fn\\xe3\\x89\\x9f\\xc31\\xf7.\\x03\\x008#\\t\\xab\\x00\\xc0YhA\\x96\\xb6\\x8c\\xder\\xa8\\xfd\\xe5\\xec+ZV\\x8f\\xdf\\xa1\\xbd.\\x8b[\\xc6\\xbb\\xb1O\\x92\\xfeW\\xf2\\xc2\\x9e\\x93Kn5\\x8b>\\x99\\x9b\\xaf\\x1e\\xbd\\xf1N\\xe7\\xb1\\x9bfU\\xe5\\xfc\\xa5\\xa3\\x7f\\xd7\\xfb\\xea\\xe8\\x99\\xa1\\xa7N}c\\xc3\\xc8\\r\\xaf\\xd2\\x9d\\xf6\\x03\\x13\\xbc!\\x83\\x07\\xb3\\xeb\\xc0\\xc9g\\xc4#\\x9d\\xc7>R\\xdf\\x94\\xa5\\x13|$\\x7f\\xb0\\xfd\\x17\\xd9=\\xe1&\\xdf\\xaa,\\xbbdI*\\x93\\xbc\\xfe\\xf2\\xde\\xf4\\x1cx%\\xbb{\\x9346g\\xd9\\x98#6\\xeb\\x9b/\\xcc\\xc2$\\xbd\\xed{\\xf3z\\xcf\\xde\\xec\\xeaLR\\xd9\\x9cK\\x97\\x14\\xd8\\xfe\\xd8\\xdf\\x9d#\\xa3\\xe3.\\\\\\xd2<\\xee\\x9d\\xed\\x93\\x9e\\xec\\xdeqp\\xdc\\x95\\xd3\\xed\\xc4\\xce\\xce\\xfe\\tCx\\x7f\\xc7\\xabo\\xbf\\xe1Z9\\r\\x1dL\\xfbx;\\x8f\\x93d\\xf0P\\xdaG\\xc3i]\\xe3\\x82\\xe3\\xefo\\xcd\\xa2\\xe6\\x8c\\x9c\\x82\\xdb\\x9d}\\xed\\xa7\\xfa\\x9f\\x0f\\x00\\x00\\xcaKX\\x05\\x00\\xceB5Y\\xb9\\xfa\\xc2\\x91\\x90\\xd8\\xfb\\xb3|w\\xcbD[\\xe3:\\xf3\\xfd?[\\x9a%\\x1f\\xbb6_\\x7fa\\xcc5U\\xd5\\xa3;\\x06\\x07\\xd3?\\xee\\x96\\xbc\\xfe\\xec\\xbe\\xf7;y\\xfeX \\x1c\\xfb\\x91\\xe8\\xfe_\\xe4\\xab\\x1f[\\x91\\xa6\\x0f\\\\\\x96;\\xdbK|P\\xfa\\xd8n\\xd7\\xe3wgO\\xea/Y\\x9d\\xa5\\x95Ir(\\xff\\xf8\\xc8/&\\xd8\\x8d8\\x98}w]\\x96\\xe6?Y\\x93\\xf5\\xf7\\xbe<\\xe5\\x9d\\xadU-\\x17\\xe7\\xfc\\xca$\\x19\\xc8\\xce\\xad\\xe3?w\\xcf\\x8eMy\\xfe\\x1d\\x1c\\'Zs\\xec\\x0e\\xf7C\\xbd\\xe9\\x1f\\xef\\xa5\\x0f\\x1e\\xc8\\xf7\\xefz&\\xc7\\xdf\\xe9\\xa1\\xa1\\xb7\\xed&\\xae\\x19=Ku\\xa8\\xfd\\xd5\\xec\\xdc\\xd3\\x91\\xce\\x8c\\x9c\\xaf\\xfa\\xa6c\\x11\\x166\\xe7\\xfc\\xba$\\x9d\\xafd\\xe7\\xcb\\xaf\\x8e\\x9c\\xaf\\xba\\xe8\\xe27\\xc5\\xd7IU\\xd5\\x1c?N\\xb6\\xbf{\\xfc\\xd2\\xdb\\xf3\\xc2\\xdd\\xf9\\xdb\\xbd\\xc7B\\xf3`&>\\xf4\\xe1\\xd4\\xab\\xaa;\\x16\\xc2\\x0f\\x8d\\x1f\\xc2\\x07\\x0f\\xe4\\xe1\\xcd\\xd3}D\\xc1\\xa1\\xfcd\\xf3\\xdeqw\\x84\\xf7\\xbf\\xb8u4\\xa0Wg\\xd9%c\\x8e\\xe2X\\xb4*W6&\\xc9P\\xf6<\\xfa\\xbd\\xec\\x9e\\xe0\\x7f\\x91\\xfe]\\xb7f\\xf9\\x1f_\\x9257\\xfc\\xa0\\xf8?\\x8c\\x00\\x00\\x94\\x89\\xb0\\n\\x00\\x9c\\x95j.\\xfdr\\xaeo\\xaeL2\\x90=w]\\x9b/=\\xd5\\xf1\\xa6\\x089xdo\\xbe\\xff\\x85k\\xb3\\xb1c \\xbd\\x9d\\xdd\\xa9\\x99;\\xe6N\\xf7\\x8b\\x96\\xe7\\xfc\\xea$\\x19\\xc8\\xf3\\x8f~/\\xfb\\xc6T\\xc8\\xc1\\x9e\\xbd\\xf9\\xe1\\rk\\xb3\\xee\\xc5\\x86\\xfc\\xe5\\xa7\\x8e\\xed0}-\\xfb\\x8f\\x1c\\xfb\\xc2Mi\\xa9\\xe9\\xcf\\xd0\\xd0\\xa1<\\xfe\\x85/\\xe6\\xefwu\\xbe%b\\xf6\\xe7\\xf5\\x17\\xfe&_\\x7f\\xeaP\\x92\\xa4\\xee\\x92\\x8f\\x8c\\xdc\\x94)I\\xeaW\\xe5\\xe6\\xb5\\x0bR\\x99\\xa4\\xf7\\xa7_\\xc9\\xdao\\xfc4\\xfb\\xc7>\\xb8\\xbf3\\xcf\\xdf{m\\xd6?q(\\x03\\xbd\\x9d\\xe9ih\\x9c`\\xa7\\xe5xo\\xc8\\x85\\xf9\\xece#\\xafq\\xe0\\xc5of\\xfd#/\\xe7\\xc8\\xf1;\\n\\xf5d\\xff\\x8e[\\xb3\\xee\\x1b{\\xc7\\x1c\\x19P\\xdc\\xdc\\x96\\xf32\\xf2\\xe8W\\xf3\\xf0[\\xa2o\\xff\\x81\\xad\\xf9\\xfa\\x9f\\xad\\xcb\\xc3\\xf9L>\\xbbdt7\\xf1\\x81\\xbd\\xd9\\xff\\xd6h6\\xf7\\xc2\\\\\\xda\\x98d`o\\x1e\\x7f\\xba#y\\xd3\\xf9\\xaa\\xc74gEKe2\\xd4\\x91\\x7f\\xd8<r\\xbej\\xe3\\xd2\\x0b3\\xb7\\xc8\\xb0U\\xe7\\x8d<G\\x92\\xee\\x1d\\xdf\\xcb\\xf7\\xc7\\xc6\\xcb\\xc1\\xee\\xec|\\xe4\\xda\\xac\\xb9\\xb1#+\\xaf]\\x95\\x91=\\xcb\\xdd\\xd9\\xdfQ\\xbe\\x1d\\x96U-\\x17\\x1e\\x0f\\xe1\\xcf\\x7f\\xfb\\x9by\\xfe\\xf5\\x13\\xf3\\r\\x1ey9\\x7f\\xff\\xb9\\xf5\\xf9~\\xce\\xcb\\xa2c7p*c|<q\\x8f\\xb5\\xba\\xf4\\xef\\xb8)\\xeb7\\xbf\\xf9\\xff\\xad\\xfe\\xf6\\x1f\\xe4Kw\\xfd\\xf3H\\x88nX\\x95\\xcf\\xae\\x18{\\xb0Ac\\xfe\\xfc\\xd6\\xd1\\xf7\\xb4\\xfb\\xd9\\xac\\xff\\x8b\\xef\\xbc\\xe9\\xb5%\\xfd\\xd9\\xbfcC\\xd6\\xde\\xb8-\\xdd\\x03G\\xf3\\xfaP\\xdd\\xb8G4\\x00\\x00\\xcc\\x04n^\\x05\\x00\\x9c\\xa5\\x1a\\xf3\\x97\\x0f=\\x98\\xee\\xcf\\xdd\\x94\\xc7\\x0f\\x1e\\xca\\xf6;\\xd6f\\xfb]\\xd5i\\xa8\\xafN\\x06\\x07\\xd2\\xdd;\\xba\\xff\\xb0\\xf2\\xdc\\\\\\xfe\\xbf\\x1e\\xcd\\xcd\\x8b\\xc6\\xd4\\x9b\\x9a\\x8bs\\xf3\\x17\\xcf\\xcb\\xceo\\xbd\\x96\\xa1\\x8eM\\xb9\\xf2O\\xb6\\xa5\\xb1\\xb1.\\x19\\xe8\\xce\\x91\\xee\\x81\\x0cU6\\xe5\\xaa\\x87\\xee\\xcd\\xf55\\xdf\\xcbO\\x9e>\\x98\\xee\\x1c\\xcc\\xc6+.\\xc9s\\x8dKr\\xfdc\\xdf\\xca\\x9f\\xdf\\xfd\\xad\\xec\\xf9\\xf4\\xad\\xd9\\xde\\xfdJ\\xee\\xb9\\xe6\\xf2\\xdc\\x93\\xea\\xd4\\xd5U\\xa7*C\\xe9\\xef\\xed=\\xbe\\xf3\\xb1\\xba\\xf9\\x9a<p\\xd3\\x921\\xe7iV\\xe5\\xfc\\xdb\\x1e\\xcd==\\xd7\\xe6\\xab?=\\x94\\x03O\\xdf\\x94\\xcb\\x9f\\xbe5u\\ru\\xa9\\xcaPz\\xba{Gw(Vf\\xd1\\xa7\\x1e\\xcc#k\\'8\\xa6`\\\\5Yy\\xd3\\x1d\\xb9r\\xef\\x17\\xf3\\\\\\xf7@\\xf6|{}V|\\xbb2\\xd5\\xd5U\\x19\\x1c\\x18\\xc8P\\x92\\xba\\xe5w\\xe5\\x81\\xe5\\xcf\\xe4\\xaao\\x8dl[-\\xda\\xea\\xaa\\x96~>7/\\xffYn~y \\x9dO\\xaf\\xcf\\xf2\\x1d\\xe7faCU\\xfa{\\xbb\\xd3\\xdd;\\x94\\xca\\x86\\x0f\\xe7\\x9e\\x87\\xbe\\x9c\\xc5;^\\xc9\\xe3{\\x0f&\\xddOf\\xedE\\xafda\\xcbg\\xf2\\xc8C\\x9f\\x1c\\r\\xa3\\x8dY\\xb6\\xfc\\xdc\\xa4\\xf3h\\x0et&\\xc9\\x05c\\xceW\\x1d\\xf3>-oJ^|-\\x9d\\x07\\x8f&97+/i,8m}>~\\xd3\\'\\xf3\\xf8_<\\x99\\xce\\x81W\\xb2\\xf1\\x8a\\xa5y\\xb8\\xb11\\xf5\\xe9\\xcf\\x91#G30T\\x9d\\x96\\xaf<\\x9a\\xdb\\xd7\\xf5\\xe7\\xebOmK\\xf7\\xc0Pv\\xddry\\x96o^\\x90\\x0f\\xde\\xf6tn_Z\\xf0\\xcb\\x15Usqn^\\xd7\\x94\\xdd\\x8f\\x1e\\xccP\\xe7\\xb6\\\\\\xf7\\xe1m\\xa9\\xac\\xaeNU\\x06300\\x94\\xd4]\\x98;\\x9f\\xfct\\xda?\\xbd>\\x07z\\xcb\\xdaUO|\\xb1\\xc6O\\xe7\\x9e\\xcb^\\xc9W\\xbf\\xb56K\\xef\\xadK\\xc3\\xdc\\xeaT\\r\\xf6\\xa6\\xf3\\xd8\\x0e\\xe0\\xca\\xa6\\\\w\\xdf\\x97s\\xfe[\\xbe}5+\\xee\\xc8#\\xdf\\xec\\xcd\\xba;^Io\\xc7\\xa6\\\\\\xf7\\xe1M\\xa9\\xac;7\\xf5UI\\x7f\\xcf\\xd1\\x0c\\x8cn\\xc3\\xadn\\xbe&\\x9b\\xef\\xfe\\xc8\\xd4\\xff\\xf1\\x00\\x00\\xa0\\xcc\\xecX\\x05\\x00\\xce^\\xf5\\xcbs\\xfb?m\\xcfsw\\x7f:\\x97/Y\\x90\\xba\\xaa\\xc1tw\\x1fMw\\x7fR\\xd7x^.\\xfd\\xd4-y\\xfc\\xe7;\\xf2\\xc0eo\\x0f\\x94\\x0b\\xd7=\\x91\\x1d\\xf7}:\\x976\\x9f\\x9b\\xea\\xf4\\xa6\\xf3`gz\\x06\\xebr\\xfe\\xea\\x1b\\xf3\\xf0\\xcf\\x9f\\xca\\xc6\\x155\\xa9j\\xf9\\xab\\xdc\\xf3\\x95\\x0b\\xd3X]\\x99\\x0c\\xf6\\xa6gp\\xf4\\x08\\x81\\xb9\\x1f\\xc9\\x03?\\xdf\\x92\\x87o\\xfdD.m^\\x90\\x86\\xea\\xc1\\xf4\\xf7\\x1eMwo\\x7fR\\xb7 \\x8b\\x96\\xaf\\xcauw?\\x95\\x17\\x7f\\xf4\\xe5,{\\xdb\\xb1\\xa0\\r\\xf9\\xe8\\xfd[\\xf2\\xe2\\xa6;r\\xd5%\\xe7\\xa5\\xb1\\xae*\\xfd\\xddG\\xd3\\xdd\\xdd\\x9f\\xaa\\xba\\x05Y\\xfa\\x91O\\xe7o\\x9f|![\\xfezy\\xf1\\xe0T\\x7fq\\xee\\xf9\\xf1s\\xf9\\xdb\\xab\\xff[Z\\x1a\\xaaS\\x99\\xa1\\x0c\\x0c&5M\\x17\\xe6\\xca[7g\\xc7c\\xab\\xb3\\xb8ft\\xa0\\x92w|\\x9fHC>\\xfe\\xd0\\x96<\\xfe\\x95\\x0f\\xa7\\xa5\\xb1.\\x198\\x9a\\x03\\x9d\\xdd\\x19\\xaci\\xca\\xe5\\xd7\\xde\\x9b-?\\xfev>:7Y\\xb8\\xee\\xae\\xdcy\\xc9\\x82TW&C\\xfd\\x03\\x19\\xac\\xac~\\xd3\\xcd\\x9a\\x16/_\\x92\\xe3\\xfbf\\x9b.\\x1c\\xf7#\\xfe\\xf5-Kr<\\xa5\\xd6-\\xc9\\xa5\\x13\\x9c\\xe9ZJU\\xcb\\xd7\\xb2\\xe5Gw\\xe5\\xaa\\xe5Mi\\xa8Nz;\\x0f\\xe6\\xf5\\x9ed\\xee\\xd2O\\xe4\\xebOn\\xcf\\x96\\xf5\\xcd\\xa9\\xa9Z\\x9e\\xdb\\xef\\xfbt\\x966T&\\x19L\\xff@RW\\x96\\x1d\\x94UY|\\xd3\\xe6l\\xb9\\xfb\\xd3\\xb9\\xb4\\xe9\\xdc\\x91\\xf7j`0\\xa9j\\xc8\\xd2\\xd5\\xb7\\xe4\\x1f~\\xfch\\xfe|aMjFg\\x19\\x1c,WZ\\x1d\\xcc\\xe0\\xd0\\xb1c,\\xea\\xb2l\\xdd\\xa3\\xd9\\xb1\\xe9\\x96\\\\\\xd9R\\x9d\\xc1\\x9e\\xeetv\\x0f\\xa4\\xb2\\xfa\\xdc\\xb4|\\xe4\\x9a<\\xfc\\xe3\\xa7r\\xf3\\xdb\\xa2\\xf8\\xe8k[\\xfbh^\\xfe\\xd9\\x83\\xf9\\xfa\\xa7.\\xcc\\xa2\\x86\\xba\\xa4\\xf7h\\xba\\xbb\\x8ff\\xb0\\xea\\xdc,Z\\xb2*\\xd7\\xdd\\xf7\\\\^\\xfe\\xd1\\x97s~\\x81cs\\x01\\x00\\xca\\xadbxxxx\\xba\\x87\\x00\\x00\\x00\\x00\\x008\\x93\\xd8\\xb1\\n\\x00\\x00\\x00\\x00P\\x90\\xb0\\n\\x00\\x00\\x00\\x00P\\x90\\xb0\\n\\x00\\x00\\x00\\x00P\\x90\\xb0\\n\\x00\\x00\\x00\\x00P\\x90\\xb0\\n\\x00\\x00\\x00\\x00P\\x90\\xb0\\n\\x00\\x00\\x00\\x00P\\x90\\xb0\\n\\x00\\x00\\x00\\x00P\\x90\\xb0\\n\\x00\\x00\\x00\\x00P\\x90\\xb0\\n\\x00\\x00\\x00\\x00P\\x90\\xb0\\n\\x00\\x00\\x00\\x00P\\x90\\xb0\\n\\x00\\x00\\x00\\x00P\\x90\\xb0\\n\\x00\\x00\\x00\\x00P\\x90\\xb0\\n\\x00\\x00\\x00\\x00P\\x90\\xb0\\n\\x00\\x00\\x00\\x00P\\x90\\xb0\\n\\x00\\x00\\x00\\x00P\\x90\\xb0\\n\\x00\\x00\\x00\\x00P\\x90\\xb0\\n\\x00\\x00\\x00\\x00P\\x90\\xb0\\n\\x00\\x00\\x00\\x00P\\x90\\xb0\\n\\x00\\x00\\x00\\x00P\\x90\\xb0\\n\\x00\\x00\\x00\\x00P\\x90\\xb0\\n\\x00\\x00\\x00\\x00P\\x90\\xb0\\n\\x00\\x00\\x00\\x00P\\x90\\xb0\\n\\x00\\x00\\x00\\x00P\\x90\\xb0\\n\\x00\\x00\\x00\\x00P\\x90\\xb0\\n\\x00\\x00\\x00\\x00P\\x90\\xb0\\n\\x00\\x00\\x00\\x00P\\x90\\xb0\\n\\x00\\x00\\x00\\x00P\\x90\\xb0\\n\\x00\\x00\\x00\\x00P\\x90\\xb0\\n\\x00\\x00\\x00\\x00P\\x90\\xb0\\n\\x00\\x00\\x00\\x00P\\x90\\xb0\\n\\x00\\x00\\x00\\x00P\\x90\\xb0\\n\\x00\\x00\\x00\\x00P\\x90\\xb0\\n\\x00\\x00\\x00\\x00P\\x90\\xb0\\n\\x00\\x00\\x00\\x00P\\x90\\xb0\\n\\x00\\x00\\x00\\x00P\\x90\\xb0\\n\\x00\\x00\\x00\\x00P\\x90\\xb0\\n\\x00\\x00\\x00\\x00P\\x90\\xb0\\n\\x00\\x00\\x00\\x00P\\x90\\xb0\\n\\x00\\x00\\x00\\x00P\\x90\\xb0\\n\\x00\\x00\\x00\\x00P\\x90\\xb0\\n\\x00\\x00\\x00\\x00P\\x90\\xb0\\n\\x00\\x00\\x00\\x00P\\x90\\xb0\\n\\x00\\x00\\x00\\x00P\\x90\\xb0\\n\\x00\\x00\\x00\\x00P\\x90\\xb0\\n\\x00\\x00\\x00\\x00P\\x90\\xb0\\n\\x00\\x00\\x00\\x00P\\x90\\xb0\\n\\x00\\x00\\x00\\x00P\\x90\\xb0\\n\\x00\\x00\\x00\\x00P\\x90\\xb0\\n\\x00\\x00\\x00\\x00P\\x90\\xb0\\n\\x00\\x00\\x00\\x00P\\x90\\xb0\\n\\x00\\x00\\x00\\x00P\\x90\\xb0\\n\\x00\\x00\\x00\\x00P\\x90\\xb0\\n\\x00\\x00\\x00\\x00P\\x90\\xb0\\n\\x00\\xc0\\xb4\\xe8\\xea\\xeaJ__\\xdft\\x8f\\x01\\x00\\x00\\'EX\\x05\\x00\\xa0\\xac\\xee\\xbb\\xef\\xbeTUUe\\xc1\\x82\\x059\\xe7\\x9csr\\xce9\\xe7\\xe4s\\x9f\\xfb\\\\\\x9ex\\xe2\\x89\\xb4\\xb7\\xb7O\\xf7x\\x00\\x000%\\x15\\xc3\\xc3\\xc3\\xc3\\xd3=\\x04\\x00\\x00\\xb3\\xc3\\xa6M\\x9b\\xf2\\xf9\\xcf\\x7f~\\xd2\\xebV\\xadZ\\x95\\xeb\\xaf\\xbf>\\xad\\xad\\xad\\xa7\\x7f(\\x00\\x008\\t\\xc2*\\x00\\x00e\\xd1\\xd7\\xd7\\x97\\x86\\x86\\x86\\xfc\\xc7\\x7f\\xfc\\xc7\\x94\\x1f\\xb3u\\xeb\\xd6\\xacZ\\xb5\\xea4N\\x05\\x00\\x00\\'GX\\x05\\x00\\xa0,Z[[\\xb3s\\xe7\\xceB\\x8f\\x99?\\x7f~\\x0e\\x1d:t\\x9a&\\x02\\x00\\x80\\x93\\xe7\\x8cU\\x00\\x00N\\xbbu\\xeb\\xd6\\x15\\x8e\\xaa\\xc9\\xc8\\r\\xae\\x00\\x00`&\\x12V\\x01\\x008\\xad6o\\xde\\x9c\\'\\x9exb\\xba\\xc7\\x00\\x00\\x80SJX\\x05\\x00\\xe0\\xb4ioo\\xcfg?\\xfb\\xd9\\x93~\\xfc\\x15W\\\\q\\n\\xa7\\x01\\x00\\x80SGX\\x05\\x00\\xe0\\xb4\\xe8\\xea\\xea\\xcaE\\x17]\\xf4\\x8e\\x9e\\xe3\\x86\\x1bn8E\\xd3\\x00\\x00\\xc0\\xa9%\\xac\\x02\\x00p\\xca\\xf5\\xf5\\xf5e\\xf5\\xea\\xd5\\xe9\\xeb\\xeb\\x9b\\xf4\\xda+\\xae\\xb8\"\\xd7_\\x7f}V\\xae\\\\y\\xfc\\xef\\xe6\\xcd\\x9b\\x97\\xad[\\xb7\\xa6\\xb5\\xb5\\xf54N\\t\\x00\\x00\\'\\xef]\\xd3=\\x00\\x00\\x00g\\x9f\\x1bn\\xb8!\\xed\\xed\\xed\\x93^w\\xf5\\xd5Wg\\xf3\\xe6\\xcd\\xa7\\x7f \\x00\\x008\\xc5\\xecX\\x05\\x00\\xe0\\x94\\xda\\xb0a\\xc3\\x94nV\\xd5\\xdc\\xdc\\x9c\\xfb\\xef\\xbf\\xbf\\x0c\\x13\\x01\\x00\\xc0\\xa9W1<<<<\\xddC\\x00\\x00pv\\xf8\\xda\\xd7\\xbe\\x96\\xbb\\xef\\xbe{\\xd2\\xeb\\xe6\\xcc\\x99\\x93\\xf6\\xf6\\xf6\\xcc\\x9f?\\xff\\xf4\\x0f\\x05\\x00\\x00\\xa7\\x81\\xb0\\n\\x00\\xc0)\\xf1\\xdak\\xaf\\xa5\\xa5\\xa5%S\\xf9\\xf5r\\xdf\\xbe}iii)\\xc3T\\x00\\x00pz8\\n\\x00\\x00\\x80S\\xe2\\x83\\x1f\\xfc\\xe0\\x94\\xa2\\xea\\xe3\\x8f?>\\xe3\\xa3\\xea\\xb6m\\xdbr\\xd1E\\x17\\xe5\\x9cs\\xceIEEE.\\xba\\xe8\\xa2\\xb4\\xb5\\xb5M\\xf7X\\x00\\x00\\xcc v\\xac\\x02\\x00\\xf0\\x8e\\x1d>|xJ\\x1f\\xeb?\\x13nV\\xb5m\\xdb\\xb6\\xac^\\xbdz\\xdc\\xb5\\x97^z)\\xad\\xad\\xad\\xe5\\x1d\\x08\\x00\\x80\\x19\\xc9\\x8eU\\x00\\x00\\xde\\xb1\\xa9\\xdc\\xacj\\xe5\\xca\\x953>\\xaa&)yC\\xad\\r\\x1b6\\x94o\\x10\\x00\\x00f4;V\\x01\\x00x\\xc7V\\xadZ\\x95\\x1f\\xff\\xf8\\xc7\\x13\\xae\\xbf\\xfb\\xdd\\xef\\xce\\xd1\\xa3GS[[[\\xc6\\xa9NNEE\\xc5\\x84k\\xbf\\xf7{\\xbf\\x97\\x81\\x81\\x812N\\x03\\x00\\xc0Le\\xc7*\\x00\\x00\\xefH___\\xc9\\xa8\\x9a$\\xb7\\xdcr\\xcb\\x19\\x11U\\'\\xf3\\xef\\xff\\xfe\\xef\\xd3=\\x02\\x00\\x003\\x84\\xb0\\n\\x00\\xc0;\\xb2i\\xd3\\xa6I\\xaf\\xf9\\xd2\\x97\\xbeT\\x86I\\x00\\x00\\xa0|\\x1c\\x05\\x00\\x00\\xc0;RWW\\x97_\\xff\\xfa\\xd7\\x13\\xae_q\\xc5\\x15\\xd9\\xb6m[\\x19\\'zgJ\\x1d\\x05\\x90$~}\\x06\\x00 \\xb1c\\x15\\x00\\x80w\\xa0\\xad\\xad\\xaddTMF\\xce_\\x05\\x00\\x80\\xb3\\x8d\\xb0\\n\\x00\\xc0I\\xdb\\xb0a\\xc3\\xa4\\xd7\\\\t\\xd1E\\xa7\\x7f\\x10\\x00\\x00(3a\\x15\\x00\\x80\\x93\\xd2\\xd6\\xd6\\x96\\x9d;w\\x96\\xbc\\xe6\\x0f\\xfe\\xe0\\x0f2o\\xde\\xbc2M\\x04\\x00\\x00\\xe5#\\xac\\x02\\x00pR\\xa6\\xb2[\\xf5\\xa1\\x87\\x1e:\\xfd\\x83\\x00\\x00\\xc04p\\xf3*\\x00\\x00\\nkkk\\x9b\\xf4#\\xfe\\x7f\\xf8\\x87\\x7f\\x98_\\xfe\\xf2\\x97e\\x9a\\xe8\\xd4q\\xf3*\\x00\\x00\\xa6\\xc2\\x8eU\\x00\\x00\\n\\x9b\\xcan\\xd5\\xbf\\xfb\\xbb\\xbf;\\xfd\\x83\\x00\\x00\\xc04\\x11V\\x01\\x00(d*g\\xab\\xae\\\\\\xb92\\xad\\xad\\xad\\xe5\\x19\\x08\\x00\\x00\\xa6\\x81\\xa3\\x00\\x00\\x00(\\xa4\\xa5\\xa5%\\x1d\\x1d\\x1d%\\xafy\\xe9\\xa5\\x97\\xce\\xd8\\xb0\\xea(\\x00\\x00\\x00\\xa6\\xc2\\x8eU\\x00\\x00\\xa6l\\xfb\\xf6\\xed\\x93FU\\xbbU\\x01\\x00\\x98\\r\\xecX\\x05\\x00`\\xca\\xde\\xf7\\xbe\\xf7\\xe5\\xdf\\xfe\\xed\\xdfJ^s&\\xefVM\\xecX\\x05\\x00`j\\xecX\\x05\\x00`J^{\\xed\\xb5I\\xa3\\xea\\x9f\\xfe\\xe9\\x9f\\x9e\\xd1Q\\x15\\x00\\x00\\xa6JX\\x05\\x00`J\\xbe\\xf3\\x9d\\xefLz\\xcd\\xc6\\x8d\\x1b\\xcb0\\t\\x00\\x00L?G\\x01\\x00\\x000\\xa9\\xbe\\xbe\\xbe,X\\xb0 }}}\\x13^\\xf3\\x9e\\xf7\\xbc\\'\\xbd\\xbd\\xbde\\x9c\\xea\\xf4p\\x14\\x00\\x00\\x00Sa\\xc7*\\x00\\x00\\x93\\xda\\xbcys\\xc9\\xa8z\\xec\\x1a\\x00\\x00\\x98-\\xecX\\x05\\x00`R\\xf3\\xe7\\xcf\\xcf\\xe1\\xc3\\x87\\'\\\\\\x7f\\xdf\\xfb\\xde\\x97\\xa3G\\x8f\\x96q\\xa2\\xd3\\xc7\\x8eU\\x00\\x00\\xa6\\xc2\\x8eU\\x00\\x00J\\xda\\xbcys\\xc9\\xa8\\x9a$\\xdf\\xfa\\xd6\\xb7\\xca4\\r\\x00\\x00\\xcc\\x0cv\\xac\\x02\\x00PRkkkv\\xee\\xdc9\\xe1\\xfa\\x9c9s&=&\\xe0Lb\\xc7*\\x00\\x00Sa\\xc7*\\x00\\x00\\x13joo/\\x19U\\x93\\xe4\\x86\\x1bn(\\xd34\\x00\\x000s\\x08\\xab\\x00\\x00L\\xe8\\xfe\\xfb\\xef\\x9f\\xf4\\x9au\\xeb\\xd6\\x9d\\xfeA\\x00\\x00`\\x86\\x11V\\x01\\x00\\x18WWWW\\x9ex\\xe2\\x89\\x92\\xd7\\\\}\\xf5\\xd5\\x99?\\x7f~y\\x06\\x02\\x00\\x80\\x19DX\\x05\\x00`\\\\\\x9b7o\\x9e\\xf4\\x1a\\xc7\\x00\\x00\\x000[\\xb9y\\x15\\x00\\x00\\xe3\\xaa\\xad\\xad\\xcd\\x1bo\\xbc1\\xe1\\xfa\\xca\\x95+\\xd3\\xd6\\xd6V\\xbe\\x81\\xca\\xc4\\xcd\\xab\\x00\\x00\\x98\\n;V\\x01\\x00x\\x9b\\xcd\\x9b7\\x97\\x8c\\xaa\\x89\\xb3U\\x01\\x00\\x98\\xdd\\xecX\\x05\\x00\\xe0m~\\xff\\xf7\\x7f?===\\x13\\xae\\xcf\\x9b7/]]]\\xe5\\x1b\\xa8\\x8c\\xecX\\x05\\x00`*\\xecX\\x05\\x00\\xe0M\\xee\\xbf\\xff\\xfe\\x92Q5q\\xb6*\\x00\\x00\\xd8\\xb1\\n\\x00\\xc0\\x9b\\xd4\\xd5\\xd5\\xe5\\xd7\\xbf\\xfe\\xf5\\x84\\xebs\\xe6\\xccIWWWjkk\\xcb8U\\xf9\\xd8\\xb1\\n\\x00\\xc0T\\xd8\\xb1\\n\\x00\\xc0\\x9b\\x94\\x8a\\xaaI\\xb2j\\xd5\\xaa\\xb36\\xaa\\x02\\x00\\xc0T\\xd9\\xb1\\n\\x00\\xc0q}}}9\\xe7\\x9csJ^s\\xe8\\xd0\\xa1\\xcc\\x9f?\\xbf<\\x03M\\x03;V\\x01\\x00\\x98\\n;V\\x01\\x008\\xae\\xbd\\xbd\\xbd\\xe4\\xfa\\xbb\\xdf\\xfd\\xee\\xb3:\\xaa\\x02\\x00\\xc0T\\t\\xab\\x00\\x00L\\xd9\\x1f\\xfd\\xd1\\x1fM\\xf7\\x08\\x00\\x000#\\x08\\xab\\x00\\x00\\x1c\\xd7\\xd5\\xd5Ur\\xfd]\\xefzWy\\x06\\x01\\x00\\x80\\x19NX\\x05\\x00\\xe0\\xb8\\xc9\\xc2jkkkY\\xe6\\x00\\x00\\x80\\x99NX\\x05\\x00\\x00\\x00\\x00(HX\\x05\\x00\\xe0\\xb8\\xb6\\xb6\\xb6\\x92\\xebn\\\\\\x05\\x00\\x00#\\x84U\\x00\\x00\\x8e\\xfb\\xcf\\xff\\xfc\\xcf\\x92\\xeb\\xc2*\\x00\\x00\\x8c\\x10V\\x01\\x008\\xae\\xbd\\xbd}\\xbaG\\x00\\x00\\x803\\x82\\xb0\\n\\x00@\\x92d\\xdb\\xb6m\\x19\\x1c\\x1c,y\\x8d\\x9bW\\x01\\x00\\xc0\\x88\\x8a\\xe1\\xe1\\xe1\\xe1\\xe9\\x1e\\x02\\x00\\x80\\xe97\\x7f\\xfe\\xfc\\x1c>|\\xb8\\xe45\\xb3\\xe1W\\xc7\\x8a\\x8a\\x8a\\x92\\xeb\\xb3\\xe1=\\x00\\x00`rv\\xac\\x02\\x00\\x90\\r\\x1b6L\\x1aU\\xdf\\xfb\\xde\\xf7\\x96i\\x1a\\x00\\x00\\x98\\xf9\\x84U\\x00\\x80Y\\xae\\xaf\\xaf/\\xdf\\xfd\\xeew\\'\\xbdn\\xe3\\xc6\\x8de\\x98\\x06\\x00\\x00\\xce\\x0c\\xc2*\\x00\\xc0,\\xb7f\\xcd\\x9a\\xf4\\xf5\\xf5\\x95\\xbc\\xe6\\xa2\\x8b.\\xca5\\xd7\\\\S\\xa6\\x89\\x00\\x00`\\xe6\\x13V\\x01\\x00f\\xb1M\\x9b6\\xe5\\xa5\\x97^*y\\xcd\\x9c9s\\xb2e\\xcb\\x962M\\x04\\x00\\x00g\\x06a\\x15\\x00`\\x16\\xfb\\xeb\\xbf\\xfe\\xebI\\xaf\\xb9\\xe1\\x86\\x1bR[[[\\x86i\\x00\\x00\\xe0\\xccQ1\\xec\\xb6\\xa6\\x00\\x00\\xb3VEEE\\xc9\\xf5y\\xf3\\xe6\\xa5\\xab\\xab\\xab<\\xc3\\xcc\\x10\\x93\\xbd\\'~}\\x06\\x00 \\xb1c\\x15\\x00`\\xd6joo\\x9f\\xf4\\x9a\\xfb\\xef\\xbf\\xbf\\x0c\\x93\\x00\\x00\\xc0\\x99GX\\x05\\x00\\x98\\xa5&\\x0b\\xabs\\xe6\\xcc\\xc9\\xaaU\\xab\\xca4\\r\\x00\\x00\\x9cY\\x84U\\x00\\x80Yj\\xfb\\xf6\\xed%\\xd7\\xd7\\xacYS\\xa6I\\x00\\x00\\xe0\\xcc#\\xac\\x02\\x00\\xccRmmm%\\xd7W\\xacXQ\\x9eA\\x00\\x00\\xe0\\x0c$\\xac\\x02\\x00\\xccR\\xbf\\xfe\\xf5\\xafK\\xae\\xb7\\xb4\\xb4\\x94i\\x12\\x00\\x008\\xf3\\x08\\xab\\x00\\x00\\xb3\\xd0d\\xbbU\\x13a\\x15\\x00\\x00J\\x11V\\x01\\x00f\\xa1\\xa7\\x9f~\\xba\\xe4\\xfa{\\xde\\xf3\\x9e2M\\x02\\x00\\x00g&a\\x15\\x00`\\x96ioo\\xcfc\\x8f=V\\xf2\\x9a\\xcb/\\xbf\\xbcL\\xd3\\x00\\x00\\xc0\\x99IX\\x05\\x00\\x98E\\xee\\xbb\\xef\\xbe\\\\p\\xc1\\x05\\xf9\\xaf\\xff\\xfa\\xaf\\x92\\xd7}\\xe8C\\x1f*\\xd3D\\x00\\x00pfz\\xd7t\\x0f\\x00\\x00@y<\\xfa\\xe8\\xa3\\xf9\\xf2\\x97\\xbf<\\xa5k\\x97-[v\\x9a\\xa7a&\\xeb\\xea\\xeaJ\\x92\\xcc\\x9f?\\x7fZ\\xe7\\x00\\x00\\x98\\xc9*\\x86\\x87\\x87\\x87\\xa7{\\x08\\x00\\x00N\\xbf\\xdf\\xf9\\x9d\\xdf\\xc9\\xe0\\xe0\\xe0\\xa4\\xd7\\xd5\\xd4\\xd4\\xe4\\x8d7\\xde(\\xc3D3SEEE\\xc9\\xf5\\xb3\\xf9\\xd7\\xe7\\xae\\xae\\xae\\xac^\\xbd:\\xed\\xed\\xedIFn`\\xb6u\\xebV\\x81\\x15\\x00`\\x1c\\xc2*\\x00\\xc0,\\xd0\\xd5\\xd5\\x95\\x05\\x0b\\x16L\\xf7\\x18\\x9c\\x81jkk\\xb3o\\xdf>q\\x15\\x00\\xe0-\\x9c\\xb1\\n\\x00\\x00L\\xa8\\xaf\\xaf/\\xabW\\xaf\\x9e\\xee1\\x00\\x00f\\x1c;V\\x01\\x00f\\x89\\xc9>\\xe2\\x0e\\xa5\\x1c:t\\xc8\\xaeU\\x00\\x801\\xecX\\x05\\x00\\x00\\x00\\x00(HX\\x05\\x00\\x98%~\\xfb\\xb7\\x7f{\\xbaG\\xe0\\x0c\\xd5\\xdc\\xdcl\\xb7*\\x00\\xc0[\\x08\\xab\\x00\\x00\\xb3\\xc4u\\xd7]7\\xdd#p\\x06\\xfa\\xad\\xdf\\xfa\\xadl\\xdb\\xb6m\\xba\\xc7\\x00\\x00\\x98q\\x84U\\x00\\x80Y\\xe2\\x81\\x07\\x1e\\xc8\\x9dw\\xde\\x99\\xf7\\xbe\\xf7\\xbd\\xd3=\\ng\\x90\\x87\\x1f~\\xd8nU\\x00\\x80q\\xb8y\\x15\\x00\\xc0,\\xd5\\xd6\\xd6\\x96\\x87\\x1f~8?\\xff\\xf9\\xcf\\xf3\\xc6\\x1boL\\xf78\\xcc0\\xbf\\xfb\\xbb\\xbf\\x9bM\\x9b6\\xe5S\\x9f\\xfa\\xd4t\\x8f\\x02\\x000#\\t\\xab\\x00\\x000Fkkkv\\xee\\xdc9\\xe1\\xfaK/\\xbd\\x94\\xd6\\xd6\\xd6\\xf2\\rTf]]]Ib\\x97*\\x00\\xc0$\\xde5\\xdd\\x03\\x00\\x00\\x003\\x87\\xa0\\n\\x0005\\xceX\\x05\\x00\\x00\\x00\\x00(HX\\x05\\x00\\x00\\x00\\x00(HX\\x05\\x00\\x801ZZZJ\\xae\\xb7\\xb5\\xb5\\x95g\\x10\\x00\\x00f4a\\x15\\x00\\x00\\xc6\\xa8\\xad\\xad\\x9d\\xee\\x11\\x00\\x008\\x03\\x08\\xab\\x00\\x00\\x00\\x00\\x00\\x05\\t\\xab\\x00\\x00\\x00\\x00\\x00\\x05\\t\\xab\\x00\\x00P@__\\xdft\\x8f\\x00\\x00\\xc0\\x0c \\xac\\x02\\x00\\xc0\\x18\\xad\\xad\\xad%\\xd7\\xdb\\xdb\\xdb\\xcb3\\x08\\x00\\x003\\x9a\\xb0\\n\\x00\\x00\\x00\\x00P\\x90\\xb0\\n\\x00\\x00\\x00\\x00P\\x90\\xb0\\n\\x00\\x00\\x00\\x00P\\x90\\xb0\\n\\x00\\x00c\\xd4\\xd6\\xd6\\x96\\\\?|\\xf8p\\x99&\\x01\\x00`&\\xab\\x18\\x1e\\x1e\\x1e\\x9e\\xee!\\x00\\x00`&\\xa9\\xa8\\xa8(\\xb9\\xeeWh\\x00\\x00\\xecX\\x05\\x00\\x00\\x00\\x00(HX\\x05\\x00\\x00\\x00\\x00(HX\\x05\\x00\\x00\\x00\\x00(HX\\x05\\x00\\x80\\xb7\\x987o^\\xc9\\xf5\\xf6\\xf6\\xf62M\\x02\\x00\\xc0L%\\xac\\x02\\x00\\xc0[\\xcc\\x9f?\\xbf\\xe4z___y\\x06\\x01\\x00`\\xc6\\x12V\\x01\\x00\\x00\\x00\\x00\\n\\x12V\\x01\\x00\\x00\\x00\\x00\\n\\x12V\\x01\\x00\\x00\\x00\\x00\\n\\x12V\\x01\\x00\\xe0-ZZZJ\\xae\\xb7\\xb5\\xb5\\x95g\\x10\\x00\\x00f,a\\x15\\x00\\x00\\xde\\xa2\\xb6\\xb6v\\xbaG\\x00\\x00`\\x86\\x13V\\x01\\x00\\x00\\x00\\x00\\n\\x12V\\x01\\x00\\x00\\x00\\x00\\n\\x12V\\x01\\x00\\xa0\\xa0\\xbe\\xbe\\xbe\\xe9\\x1e\\x01\\x00\\x80i&\\xac\\x02\\x00\\xc0[\\xb4\\xb6\\xb6\\x96\\\\ooo/\\xcf \\x00\\x00\\xccX\\xc2*\\x00\\x00\\x00\\x00@A\\xc2*\\x00\\x00\\x00\\x00@A\\xc2*\\x00\\x00\\x00\\x00@A\\xc2*\\x00\\x00\\xbcEmmm\\xc9\\xf5_\\xfd\\xeaWe\\x9a\\x04\\x00\\x80\\x99\\xaabxxxx\\xba\\x87\\x00\\x00\\x80\\x99\\xa6\\xa2\\xa2\\xa2\\xe4\\xba_\\xa3\\x01\\x00f7;V\\x01\\x00\\x00\\x00\\x00\\n\\x12V\\x01\\x00\\xe0$tuuM\\xf7\\x08\\x00\\x00L#a\\x15\\x00\\x00\\xc61g\\xce\\x9c\\x92\\xeb\\xc2*\\x00\\xc0\\xec&\\xac\\x02\\x00\\xc08\\x96-[Vr\\xbd\\xad\\xad\\xad<\\x83\\x00\\x000#\\t\\xab\\x00\\x000\\x8e\\xc9\\xc2j{{{\\x99&\\x01\\x00`&\\x12V\\x01\\x00`\\x1c\\xad\\xad\\xad%\\xd7\\x0f\\x1f>\\\\\\x9eA\\x00\\x00\\x98\\x91*\\x86\\x87\\x87\\x87\\xa7{\\x08\\x00\\x00\\x98i\\xba\\xba\\xba\\xb2`\\xc1\\x82\\x92\\xd7\\xf8U\\x1a\\x00`\\xf6\\xb2c\\x15\\x00\\x00\\xc61\\x7f\\xfe\\xfcI\\xafq\\x1c\\x00\\x00\\xc0\\xec%\\xac\\x02\\x00\\xc0\\x04V\\xae\\\\Yr\\xbd\\xab\\xab\\xab<\\x83\\x00\\x000\\xe3\\x08\\xab\\x00\\x000\\x81\\xc9v\\xad\\xda\\xb1\\n\\x000{\\t\\xab\\x00\\x000\\x01a\\x15\\x00\\x80\\x89\\x08\\xab\\x00\\x000\\x81\\xd6\\xd6\\xd6\\x92\\xeb\\x87\\x0f\\x1f.\\xcf \\x00\\x00\\xcc8\\x15\\xc3ne\\n\\x00\\x00\\xe3\\xea\\xeb\\xeb\\xcb9\\xe7\\x9cS\\xf2\\x1a\\xbfN\\x03\\x00\\xccNv\\xac\\x02\\x00\\xc0\\x04jkk3g\\xce\\x9c\\x92\\xd78\\x0e\\x00\\x00`v\\x12V\\x01\\x00\\xa0\\x84\\x96\\x96\\x96\\x92\\xeb]]]\\xe5\\x19\\x04\\x00\\x80\\x19EX\\x05\\x00\\x80\\x12&\\x0b\\xabv\\xac\\x02\\x00\\xccN\\xc2*\\x00\\x00\\x940\\x7f\\xfe\\xfc\\x92\\xebmmme\\x99\\x03\\x00\\x80\\x99EX\\x05\\x00\\x80\\x12&\\xdb\\xb1z\\xf8\\xf0\\xe12M\\x02\\x00\\xc0LR1\\xec6\\xa6\\x00\\x000\\xa1\\xbe\\xbe\\xbe\\x9cs\\xce9%\\xaf\\xf1+5\\x00\\xc0\\xecc\\xc7*\\x00\\x00\\x94P[[\\x9b9s\\xe6\\x94\\xbc\\xc6q\\x00\\x00\\x00\\xb3\\x8f\\xb0\\n\\x00\\x00\\x93\\x98\\xec8\\x80\\xae\\xae\\xae\\xf2\\x0c\\x02\\x00\\xc0\\x8c!\\xac\\x02\\x00\\xc0$\\x84U\\x00\\x00\\xdeJX\\x05\\x00\\x80I\\xcc\\x9f?\\xbf\\xe4\\xba\\xa3\\x00\\x00\\x00f\\x1fa\\x15\\x00\\x00&1\\xd9\\x8e\\xd5\\xc3\\x87\\x0f\\x97i\\x12\\x00\\x00f\\x8a\\x8aa\\xb70\\x05\\x00\\x80IUTT\\x94\\\\\\xf7k5\\x00\\xc0\\xecb\\xc7*\\x00\\x00L\\xc1\\xbcy\\xf3J\\xae;\\x0e\\x00\\x00`v\\x11V\\x01\\x00`\\n&;g\\xd5\\r\\xac\\x00\\x00f\\x17a\\x15\\x00\\x00\\xa6\\xa0\\xb5\\xb5\\xb5\\xe4z{{{y\\x06\\x01\\x00`F\\x10V\\x01\\x00`\\n&\\xdb\\xb1*\\xac\\x02\\x00\\xcc.\\xc2*\\x00\\x00L\\xc1da\\xb5\\xa3\\xa3\\xa3<\\x83\\x00\\x000#T\\x0c\\xbb})\\x00\\x00LIEEE\\xc9\\xf5\\xdf\\xfc\\xe67\\xa9\\xad\\xad-\\xd34\\x00\\x00L\\';V\\x01\\x00`\\x8a\\xe6\\xcd\\x9bWr\\xddq\\x00\\x00\\x00\\xb3\\x87\\xb0\\n\\x00\\x00S\\xe4\\x9cU\\x00\\x00\\x8e\\x11V\\x01\\x00`\\x8aZ[[K\\xaewuu\\x95e\\x0e\\x00\\x00\\xa6\\x9f\\xb0\\n\\x00\\x00Sd\\xc7*\\x00\\x00\\xc7\\x08\\xab\\x00\\x000E---%\\xd7;::\\xca4\\t\\x00\\x00\\xd3\\xadbxxxx\\xba\\x87\\x00\\x00\\x803EEEE\\xc9\\xf5\\xdf\\xfc\\xe67\\xa9\\xad\\xad-\\xd34\\x00\\x00L\\x17;V\\x01\\x00\\xa0\\x80\\xe6\\xe6\\xe6\\x92\\xeb\\x8e\\x03\\x00\\x00\\x98\\x1d\\x84U\\x00\\x00(\\xc09\\xab\\x00\\x00$\\xc2*\\x00\\x00\\x142\\xd99\\xab\\xc2*\\x00\\xc0\\xec \\xac\\x02\\x00@\\x01\\x93\\x85\\xd5\\xae\\xae\\xae\\xf2\\x0c\\x02\\x00\\xc0\\xb4\\x12V\\x01\\x00\\xa0\\x80\\xc9\\x8e\\x02\\xd8\\xb9sgy\\x06\\x01\\x00`ZU\\x0c\\x0f\\x0f\\x0fO\\xf7\\x10\\x00\\x00p&\\xa9\\xa8\\xa8(\\xb9~\\xe8\\xd0\\xa1I\\x03,\\x00\\x00g6;V\\x01\\x00\\xa0\\xa0\\xe6\\xe6\\xe6\\x92\\xeb\\x8e\\x03\\x00\\x008\\xfb\\t\\xab\\x00\\x00P\\xd0d\\xbbQ\\xdb\\xda\\xda\\xca2\\x07\\x00\\x00\\xd3GX\\x05\\x00\\x80\\x82&\\xbb\\x81\\xd5\\xee\\xdd\\xbb\\xcb4\\t\\x00\\x00\\xd3EX\\x05\\x00\\x80\\x82\\x84U\\x00\\x00\\x84U\\x00\\x00(hyIt\\xae\\x00\\x00 \\x00IDAT\\xb2\\xb0\\xfa\\xc6\\x1bo\\x94i\\x12\\x00\\x00\\xa6K\\xc5\\xf0\\xf0\\xf0\\xf0t\\x0f\\x01\\x00\\x00g\\x9a\\x8a\\x8a\\x8a\\x92\\xeb~\\xcd\\x06\\x008\\xbb\\xd9\\xb1\\n\\x00\\x00\\x00\\x00P\\x90\\xb0\\n\\x00\\x00\\'\\xe1\\xbd\\xef}o\\xc9\\xf5\\xf6\\xf6\\xf62M\\x02\\x00\\xc0t\\x10V\\x01\\x00\\xe0$455\\x95\\\\\\xef\\xeb\\xeb+\\xd3$\\x00\\x00L\\x07a\\x15\\x00\\x00\\x00\\x00\\xa0 a\\x15\\x00\\x00\\x00\\x00\\xa0 a\\x15\\x00\\x00\\x00\\x00\\xa0 a\\x15\\x00\\x00NBKKK\\xc9\\xf5\\xb6\\xb6\\xb6\\xf2\\x0c\\x02\\x00\\xc0\\xb4\\x10V\\x01\\x00\\xe0$\\xd4\\xd6\\xd6N\\xf7\\x08\\x00\\x00L#a\\x15\\x00\\x00\\x00\\x00\\xa0 a\\x15\\x00\\x00\\x00\\x00\\xa0 a\\x15\\x00\\x00N\\x83\\xbe\\xbe\\xbe\\xe9\\x1e\\x01\\x00\\x80\\xd3HX\\x05\\x00\\x80\\x93\\xd0\\xda\\xdaZr\\xbd\\xbd\\xbd\\xbd<\\x83\\x00\\x000-\\x84U\\x00\\x00\\x00\\x00\\x80\\x82\\x84U\\x00\\x00\\x00\\x00\\x80\\x82\\x84U\\x00\\x00\\x00\\x00\\x80\\x82\\x84U\\x00\\x008\\t\\xb5\\xb5\\xb5%\\xd7\\x7f\\xf5\\xab_\\x95i\\x12\\x00\\x00\\xa6C\\xc5\\xf0\\xf0\\xf0\\xf0t\\x0f\\x01\\x00\\x00g\\xa2\\x8a\\x8a\\x8a\\x92\\xeb~\\xd5\\x06\\x008{\\xd9\\xb1\\n\\x00\\x00\\x00\\x00P\\x90\\xb0\\n\\x00\\x00\\xa7I[[\\xdbt\\x8f\\x00\\x00\\xc0i\"\\xac\\x02\\x00\\xc0I\\x9a3gN\\xc9ua\\x15\\x00\\xe0\\xec%\\xac\\x02\\x00\\xc0IZ\\xb5jU\\xc9ua\\x15\\x00\\xe0\\xec\\xe5\\xe6U\\x00\\x00p\\x92\\xda\\xda\\xdar\\xd1E\\x17\\x95\\xbc\\xc6\\xaf\\xdb\\x00\\x00g\\';V\\x01\\x00\\xe0$\\xb5\\xb6\\xb6Nz\\x8d]\\xab\\x00\\x00g\\'a\\x15\\x00\\x00\\xde\\x81\\x95+W\\x96\\\\\\xdf\\xbcysy\\x06\\x01\\x00\\xa0\\xac\\x84U\\x00\\x00x\\x07&\\xdb\\xb5\\xbam\\xdb\\xb6\\xf2\\x0c\\x02\\x00@Y\\t\\xab\\x00\\x00\\xf0\\x0eL\\x16V\\xdfx\\xe3\\x8d\\xf2\\x0c\\x02\\x00@Y\\xb9y\\x15\\x00\\x00\\xbcC\\x15\\x15\\x15%\\xd7\\xfd\\xca\\r\\x00p\\xf6\\xb1c\\x15\\x00\\x00\\x00\\x00\\xa0 a\\x15\\x00\\x00\\x00\\x00\\xa0 a\\x15\\x00\\x00\\x00\\x00\\xa0 a\\x15\\x00\\x00\\x00\\x00\\xa0 a\\x15\\x00\\x00\\x00\\x00\\xa0 a\\x15\\x00\\x00\\x00\\x00\\xa0 a\\x15\\x00\\x00\\x00\\x00\\xa0 a\\x15\\x00\\x00\\x00\\x00\\xa0 a\\x15\\x00\\x00\\x00\\x00\\xa0 a\\x15\\x00\\x00\\x00\\x00\\xa0 a\\x15\\x00\\x00\\x00\\x00\\xa0 a\\x15\\x00\\x00\\x00\\x00\\xa0 a\\x15\\x00\\x00\\x00\\x00\\xa0 a\\x15\\x00\\x00\\x00\\x00\\xa0 a\\x15\\x00\\x00\\x00\\x00\\xa0 a\\x15\\x00\\x00\\x00\\x00\\xa0 a\\x15\\x00\\x00\\x00\\x00\\xa0 a\\x15\\x00\\x00\\x00\\x00\\xa0 a\\x15\\x00\\x00\\x00\\x00\\xa0 a\\x15\\x00\\x00\\x00\\x00\\xa0 a\\x15\\x00\\x00\\x00\\x00\\xa0 a\\x15\\x00\\x00\\x00\\x00\\xa0 a\\x15\\x00\\x00\\x00\\x00\\xa0 a\\x15\\x00\\x00\\x00\\x00\\xa0 a\\x15\\x00\\x00\\x00\\x00\\xa0 a\\x15\\x00\\x00\\x00\\x00\\xa0 a\\x15\\x00\\x00\\x00\\x00\\xa0 a\\x15\\x00\\x00\\x00\\x00\\xa0 a\\x15\\x00\\x00\\x00\\x00\\xa0 a\\x15\\x00\\x00\\x00\\x00\\xa0 a\\x15\\x00\\x00\\x00\\x00\\xa0 a\\x15\\x00\\x00\\x00\\x00\\xa0 a\\x15\\x00\\x00\\x00\\x00\\xa0 a\\x15\\x00\\x00N\\xa39s\\xe6L\\xf7\\x08\\x00\\x00\\x9c\\x06\\xc2*\\x00\\x00\\xbcC+W\\xae\\x9cp\\xad\\xa5\\xa5\\xa5\\x8c\\x93\\x00\\x00P.\\xc2*\\x00\\x00\\xbcC7\\xdcp\\xc3\\x84k\\x1b6l(\\xdf \\x00\\x00\\x94\\x8d\\xb0\\n\\x00\\x00\\xef\\xd0\\xaaU\\xab\\xb2u\\xeb\\xd6\\xac\\\\\\xb9\\xf2\\xf8G\\xffW\\xae\\\\\\x99\\x97^z)\\xad\\xad\\xad\\xd3;\\x1c\\x00\\x00\\xa7E\\xc5\\xf0\\xf0\\xf0\\xf0t\\x0f\\x01\\x00\\x00\\x00\\x00p&\\xb1c\\x15\\x00\\x00\\x00\\x00\\xa0 a\\x15\\x00\\x00\\x00\\x00\\xa0 a\\x15\\x00\\x00\\x00\\x00\\xa0 a\\x15\\x00\\x00\\x00\\x00\\xa0 a\\x15\\x00\\x00\\x00\\x00\\xa0 a\\x15\\x00\\x00\\x00\\x00\\xa0 a\\x15\\x00\\x00\\x00\\x00\\xa0 a\\x15\\x00\\x00\\x00\\x00\\xa0 a\\x15\\x00\\x00\\x00\\x00\\xa0 a\\x15\\x00\\x00\\x00\\x00\\xa0 a\\x15\\x00\\x00\\x00\\x00\\xa0 a\\x15\\x00\\x00\\x00\\x00\\xa0 a\\x15\\x00\\x00\\x00\\x00\\xa0 a\\x15\\x00\\x00\\x00\\x00\\xa0 a\\x15\\x00\\x00\\x00\\x00\\xa0 a\\x15\\x00\\x00\\x00\\x00\\xa0 a\\x15\\x00\\x00\\x00\\x00\\xa0 a\\x15\\x00\\x00\\x00\\x00\\xa0 a\\x15\\x00\\x00\\x00\\x00\\xa0 a\\x15\\x00\\x00\\x00\\x00\\xa0 a\\x15\\x00\\x00\\x00\\x00\\xa0 a\\x15\\x00\\x00\\x00\\x00\\xa0 a\\x15\\x00\\x00\\x00\\x00\\xa0 a\\x15\\x00\\x00\\x00\\x00\\xa0 a\\x15\\x00\\x00\\x00\\x00\\xa0 a\\x15\\x00\\x00\\x00\\x00\\xa0 a\\x15\\x00\\x00\\x00\\x00\\xa0 a\\x15\\x00\\x00\\x00\\x00\\xa0 a\\x15\\x00\\x00\\x00\\x00\\xa0 a\\x15\\x00\\x00\\x00\\x00\\xa0 a\\x15\\x00\\x00\\x00\\x00\\xa0 a\\x15\\x00\\x00\\x00\\x00\\xa0 a\\x15\\x00\\x00\\x00\\x00\\xa0 a\\x15\\x00\\x00\\x00\\x00\\xa0 a\\x15\\x00\\x00\\x00\\x00\\xa0 a\\x15\\x00\\x00\\x00\\x00\\xa0 a\\x15\\x00\\x00\\x00\\x00\\xa0 a\\x15\\x00\\x00\\x00\\x00\\xa0 a\\x15\\x00\\x00\\x00\\x00\\xa0 a\\x15\\x00\\x00\\x00\\x00\\xa0 a\\x15\\x00\\x00\\x00\\x00\\xa0 a\\x15\\x00\\x00\\x00\\x00\\xa0 a\\x15\\x00\\x00\\x00\\x00\\xa0 a\\x15\\x00\\x00\\x00\\x00\\xa0 a\\x15\\x00\\x00\\x00\\x00\\xa0 a\\x15\\x00\\x00\\x00\\x00\\xa0 a\\x15\\x00\\x00\\x00\\x00\\xa0 a\\x15\\x00\\x00\\x00\\x00\\xa0 a\\x15\\x00\\x00\\x00\\x00\\xa0 a\\x15\\x00\\x00\\x00\\x00\\xa0 a\\x15\\x00\\x00\\x00\\x00\\xa0 a\\x15\\x00\\x00\\x00\\x00\\xa0 a\\x15\\x00\\x00\\x00\\x00\\xa0 a\\x15\\x00\\x00\\x00\\x00\\xa0 a\\x15\\x00\\x00\\x00\\x00\\xa0 a\\x15\\x00\\x00\\x00\\x00\\xa0 a\\x15\\x00\\x00\\x00\\x00\\xa0 a\\x15\\x00\\x00\\x00\\x00\\xa0 a\\x15\\x00\\x00\\x00\\x00\\xa0 a\\x15\\x00\\x00\\x00\\x00\\xa0 a\\x15\\x00\\x00\\x00\\x00\\xa0 a\\x15\\x00\\x00\\x00\\x00\\xa0 a\\x15\\x00\\x00\\x00\\x00\\xa0 a\\x15\\x00\\x00\\x00\\x00\\xa0 a\\x15\\x00\\x00\\x00\\x00\\xa0 a\\x15\\x00\\x00\\x00\\x00\\xa0 a\\x15\\x00\\x00\\x00\\x00\\xa0 a\\x15\\x00\\x00\\x00\\x00\\xa0 a\\x15\\x00\\x00\\x00\\x00\\xa0 a\\x15\\x00\\x00\\x00\\x00\\xa0 a\\x15\\x00\\x00\\x00\\x00\\xa0 a\\x15\\x00\\x00\\x00\\x00\\xa0 a\\x15\\x00\\x00\\x00\\x00\\xa0 a\\x15\\x00\\x00\\x00\\x00\\xa0 a\\x15\\x00\\x00\\x00\\x00\\xa0 a\\x15\\x00\\x00\\x00\\x00\\xa0 a\\x15\\x00\\x00\\x00\\x00\\xa0 a\\x15\\x00\\x00\\x00\\x00\\xa0 a\\x15\\x00\\x00\\x00\\x00\\xa0 a\\x15\\x00\\x00\\x00\\x00\\xa0 a\\x15\\x00\\x00\\x00\\x00\\xa0 a\\x15\\x00\\x00\\x00\\x00\\xa0 a\\x15\\x00\\x00\\x00\\x00\\xa0 a\\x15\\x00\\x00\\x00\\x00\\xa0 a\\x15\\x00\\x00\\x00\\x00\\xa0 a\\x15\\x00\\x00\\x00\\x00\\xa0 a\\x15\\x00\\x00\\x00\\x00\\xa0 a\\x15\\x00\\x00\\x00\\x00\\xa0 a\\x15\\x00\\x00\\x00\\x00\\xa0 a\\x15\\x00\\x00\\x00\\x00\\xa0 a\\x15\\x00\\x00\\x00\\x00\\xa0 a\\x15\\x00\\x00\\x00\\x00\\xa0 a\\x15\\x00\\x00\\x00\\x00\\xa0 a\\x15\\x00\\x00\\x00\\x00\\xa0 a\\x15\\x00\\x00\\x00\\x00\\xa0 a\\x15\\x00\\x00\\x00\\x00\\xa0 a\\x15\\x00\\x00\\x00\\x00\\xa0 a\\x15\\x00\\x00\\x00\\x00\\xa0 a\\x15\\x00\\x00\\x00\\x00\\xa0 a\\x15\\x00\\x00\\x00\\x00\\xa0 a\\x15\\x00\\x00\\x00\\x00\\xa0 a\\x15\\x00\\x00\\x00\\x00\\xa0 a\\x15\\x00\\x00\\x00\\x00\\xa0 a\\x15\\x00\\x00\\x00\\x00\\xa0 a\\x15\\x00\\x00\\x00\\x00\\xa0 a\\x15\\x00\\x00\\x00\\x00\\xa0 a\\x15\\x00\\x00\\x00\\x00\\xa0 a\\x15\\x00\\x00\\x00\\x00\\xa0 a\\x15\\x00\\x00\\x00\\x00\\xa0 a\\x15\\x00\\x00\\x00\\x00\\xa0 a\\x15\\x00\\x00\\x00\\x00\\xa0 a\\x15\\x00\\x00\\x00\\x00\\xa0 a\\x15\\x00\\x00\\x00\\x00\\xa0 a\\x15\\x00\\x00\\x00\\x00\\xa0 a\\x15\\x00\\x00\\x00\\x00\\xa0 a\\x15\\x00\\x00\\x00\\x00\\xa0 a\\x15\\x00\\x00\\x00\\x00\\xa0 a\\x15\\x00\\x00\\x00\\x00\\xa0 a\\x15\\x00\\x00\\x00\\x00\\xa0 a\\x15\\x00\\x00\\x00\\x00\\xa0 a\\x15\\x00\\x00\\x00\\x00\\xa0 a\\x15\\x00\\x00\\x00\\x00\\xa0 a\\x15\\x00\\x00\\x00\\x00\\xa0 a\\x15\\x00\\x00\\x00\\x00\\xa0 a\\x15\\x00\\x00\\x00\\x00\\xa0 a\\x15\\x00\\x00\\x00\\x00\\xa0 a\\x15\\x00\\x00\\x00\\x00\\xa0 a\\x15\\x00\\x00\\x00\\x00\\xa0 a\\x15\\x00\\x00\\x00\\x00\\xa0 a\\x15\\x00\\x00\\x00\\x00\\xa0 a\\x15\\x00\\x00\\x00\\x00\\xa0 a\\x15\\x00\\x00\\x00\\x00\\xa0 a\\x15\\x00\\x00\\x00\\x00\\xa0 a\\x15\\x00\\x00\\x00\\x00\\xa0 a\\x15\\x00\\x00\\x00\\x00\\xa0 a\\x15\\x00\\x00\\x00\\x00\\xa0 a\\x15\\x00\\x00\\x00\\x00\\xa0 a\\x15\\x00\\x00\\x00\\x00\\xa0 a\\x15\\x00\\x00\\x00\\x00\\xa0 a\\x15\\x00\\x00\\x00\\x00\\xa0 a\\x15\\x00\\x00\\x00\\x00\\xa0 a\\x15\\x00\\x00\\x00\\x00\\xa0 a\\x15\\x00\\x00\\x00\\x00\\xa0 a\\x15\\x00\\x00\\x00\\x00\\xa0 a\\x15\\x00\\x00\\x00\\x00\\xa0 a\\x15\\x00\\x00\\x00\\x00\\xa0 a\\x15\\x00\\x00\\x00\\x00\\xa0 a\\x15\\x00\\x00\\x00\\x00\\xa0 a\\x15\\x00\\x00\\x00\\x00\\xa0 a\\x15\\x00\\x00\\x00\\x00\\xa0 a\\x15\\x00\\x80b\\x06\\x7f\\x9au\\x1fX\\x9c\\xc6\\xf7/\\xce\\x9a\\xa7\\xba\\xc7,t\\xe4\\xce\\x8bF\\xfe~\\xc97\\xf6\\x96a\\x90r\\x7f=\\x00\\x008\\xe1]\\xd3=\\x00\\x00\\xc0\\xd9\\xad??\\xf9\\xdc\\x8a\\\\\\xff\\xf2P\\xc9\\xab*+\\xabS\\xdf\\xd8\\x94\\xf3\\x97~$W~jUV.\\xac*\\xd3|3\\xdf\\x91]?\\xc8O\\x0eTg\\xe5\\xba\\xd5Y<\\x8b\\xdf\\x96#\\x9b?\\x95\\x15\\xdfzmJ\\xd76\\\\\\xfb\\\\^\\xbei\\xd1i\\x9e\\x08\\x00`v\\x13V\\x01\\x00f\\x80\\xa1\\xa1\\x81t\\x1f|5\\xdd\\x07_\\xcd\\xf6\\'\\xbe\\x97\\xa5_y0\\x8f\\xacoN\\xcdt\\x0fV\\xc8\\x82\\\\\\xf5\\xcd\\x07\\xd32\\x90\\xd446\\x9d\\xa2\\xe7\\xec\\xc9\\xceG\\xef\\xce={/H\\xcd\\x9a\\xd5Y\\\\\\x7f\\xba\\xbf\\xde\\xcc\\xd5\\xdf;0\\xdd#\\x00\\x000\\x86\\xb0\\n\\x00P.u\\xab\\xf2\\xf0\\x8fo\\xcc\\xf9o[\\x18J\\x7fow\\xf6\\xef\\xda\\x96\\xc7\\x1f\\xdd\\x96\\xf6\\x81\\xde\\xec\\xf9\\xf6\\xb5\\xf9R\\xfd\\xf6l^S?\\xce\\x13\\xcdT5Y\\xb8\\xe2\\xe2,<\\x95O9x0\\xed\\x07\\xca\\xf8\\xf5f\\xb0\\xfe\\xfe\\xd1\\xb0\\xdatc\\xb6?\\xb6*\\x13\\xffdT\\xa5\\xaa\\xe6\\xccJ\\xf2\\x00\\x00g\"a\\x15\\x00\\xa0l*S__?n\\x10\\xab\\xafo\\xc8\\xc2EK\\xf2\\xd1\\xcb.\\xc8\\xba+n\\xcb\\xae\\x81\\x81\\xeczpS\\xf6\\xaf\\xf9Z\\x16\\x97}\\xce\\x19\\xe4\\xc8\\xc1\\xec\\xb7Q3\\xc9`\\xfa{\\xfbG\\xfeX_\\x97\\xb9\\xf5\\xf5g\\xd8nf\\x00\\x80\\xb3\\x8f\\x9bW\\x01\\x00\\xcc$sW\\xe7\\xfa5\\xe7\\x8e\\xfc\\xb9\\xbb#\\xbb\\x8f\\x9cX\\xea\\xdfqm\\x9a\\xde\\xbf8\\x8d\\x7f|kv&9\\xf2\\xc2\\xdfd\\xdd\\x87\\x96\\xa6\\xe9\\xfd-Y\\xfe\\xb6\\x9b7\\r\\xe6\\xc8\\x9egr\\xe7\\x17\\xae\\xce%\\x7f\\xb2t\\xe4q\\x1fX\\x9a%\\x1f\\xfaT\\xd6\\x7f\\xe3\\x99\\xec<2Xr\\x8c\\x9e\\xf6g\\xf2\\xf5\\xcf\\xad\\xc9\\xf2?nI\\xe3\\xfb\\x17\\xa7\\xe9O.\\xcb\\x9a/|\\'?9\\xd0_\\xe2QS\\xb8\\x99TOG\\xfe\\xf1\\xde\\xafd\\xed\\x87.I\\xf3\\x07Z\\x8e\\xcf\\xf4\\xa5\\xbb\\xb6f_\\xcf\\xd8\\xeb\\x9e\\xc9\\xda\\xf7/N\\xe3\\x87\\xef\\xcb\\xc8\\x86\\xd5Ws\\xfb\\x9f\\x8e<w\\xe3\\xc7\\xfew^\\x9f\\xe2\\xd7\\x1b\\xec\\xd9\\x9b\\x1f\\xde\\xf5\\x95\\xac\\xfd\\xd0\\x8a4\\x8f\\xdep\\xab\\xe9\\x8fW\\xe4\\x92\\xbf\\xf8\\x1f\\xb9\\xf3\\xa9\\xbd\\x19\\xf7m8\\xf2\\x83\\xacy\\xff\\xe24\\xbe\\xff\\x92\\xdc\\xd9\\x9e$=\\xd9\\xbd\\xf9\\xd6\\xac\\xfb\\xd8\\xb1\\xe7hI\\xf3Ek\\xb2\\xfe\\xae\\xad\\xd9?\\xd1\\xdb\\xd1\\xd3\\x91\\x7f\\xbc\\xeb+Y\\xfb\\xb1\\xd1\\xd7\\xf9\\xfe\\xc5i\\xfa\\xc0\\xd2,\\xff\\xd8\\xd5o\\x7f\\xadS2\\x98\\xfe\\xfe\\x91sz+\\xab\\xebDU\\x00\\x80\\x19\\xc0\\x8eU\\x00\\x80\\x19\\xa6\\xbe\\xa1.\\xc9\\xd1$\\x03\\x19{\\xacfUe\\xe5\\xc8\\x1f\\x06\\xfb\\xd3\\xdf\\xfe\\xbf\\xb3\\xfe\\xc6\\'s`\\xf4\\x9eX\\xfdo\\n\\x84\\xddy\\xfe\\x7f^\\x9b/m=\\x94\\xd1\\x14\\x97\\xba\\x86\\x05\\xa9\\x1a\\xecMw\\xe7ky\\xa1\\xf3\\xb5\\xbc\\xb0\\xe5\\x07\\xb9\\xf2\\xbe\\xcd\\xb9\\xe7\\xd2\\xb7\\xef\\x9f=\\xb2\\xe5\\x7fd\\xcd-\\xff\\x9c\\xde\\xd1\\xc7V7,H}\\x06\\xb2\\xff\\xc5M\\xb9~\\xd7/\\xb2\\xe7\\xbe\\xcf\\x9c\\xd4\\xeb\\xea\\xdf\\xf37Y\\xfb\\x85\\'s\\xe0\\xd8k\\xaa\\xacLe\\x06\\xd2\\xdb\\xf9Z\\xb6w\\xbe\\x96\\xed[\\xb6\\xe5\\xab\\x8f=\\x9a\\xff\\xdeR\\x95T\\xd5easS\\xfa{\\xbbs\\xa0{ Ie\\x1a\\x9a\\x1aS\\x93\\xa4\\xaa\\xb1.S\\xb9\\x87U\\xcf\\xae\\rY\\xfb\\x85g\\xd39\\xfa\\x1eU\\xd6\\x9d\\x9b\\xc6\\x9a\\xa4\\xff\\xc8\\xd1t\\xee\\xfd\\xe7t\\xee\\xfd\\xe7\\xfc\\xf0\\x89O\\xe4\\x91\\'7d\\xe5\\xd8\\xb7\\xa1\\xaaj\\xf4\\xf9\\x872\\xd8\\xdf\\x99\\x1f~nmn\\x7fy \\xa9\\xacNuUu*\\x87\\x062\\xd0}0/<q[v\\xee\\xe9\\xcd\\x96\\x1f}\\xfeM7\\xd5\\x1al\\xffN\\xd6~nS\\xdaG_geu]\\xeaj\\x92\\xc1\\xfe\\xde\\x13\\xe7\\xe8ny&_}\\xec\\x89\\x91\\xd7:%\\x03\\xe9\\x1f\\x8d\\xb85>\\xe6\\x0f\\x000#\\xd8\\xb1\\n\\x000\\xc3\\xf4t\\xf7\\x8e\\xfe\\xa9:\\ru\\'\\xfe\\xfex\\x82\\x1b\\x1a\\xc8\\x0b\\x8f>\\x99\\xd7\\xeb/\\xccuw?\\x98\\x7fxrs\\x1eX\\xb7`tq0\\xfb\\xee:\\x16U\\xeb\\xb2\\xf4+\\x8fd\\xd7\\xbf\\xb6g\\xefK;\\xf2\\xf2\\xbf\\xec\\xc9\\x81\\x7f~$_]R\\x97\\x0c\\x1d\\xcas7~1\\xdf\\x7f\\xfd-_\\xfc\\xc83\\xf9\\xea7F\\xa2je\\xe3\\xaa|\\xf7g{\\xd2\\xf1\\xd2\\x8e\\xbc\\xf8\\xd2\\xae\\x1c\\xfc\\xbf\\xcf\\xe5\\xbb\\x97%\\xffx\\xc7\\xf7\\xb2\\x7f\\xa8\\xe0\\x8b:\\xb25\\xebG\\xa3ju\\xf35y\\xf8g\\xbb\\xd3\\xf9\\xcb\\xf6\\x1c\\xfc\\xe5\\xbe\\xecy\\xf6\\x8e\\\\\\xdeP\\x99\\x0c\\xbc\\x9a{\\xbe\\xf0\\xcd\\xec\\xecORsq6\\xfehK\\xb6\\xdc\\xd4\\x9c\\x91\\x9c\\xdc\\x9c\\xeb\\x1e\\xdb\\x92\\x1d\\xff\\xb4%[\\xee_\\x9d\\xb9\\x93}\\xbd\\xd7\\x7f\\x90\\xf5\\xa3Q\\xb5\\xb2\\xe9\\x13\\xf9\\xee\\xcfv\\xe7\\xe0\\xbf\\xbc\\x98\\x17\\x7f\\xfeb\\xf6\\xferw^\\xb8\\xef\\x13YT\\x99\\x0cu>\\x9b\\xf57>\\x93#c\\x1f[5\\x1a\\xb0\\xd3\\x9f}\\x0f\\xde\\x94;\\x0f4\\xe5\\xbaM\\xdb\\xd3\\xfe\\xcb=\\xe9\\xf8\\x7f{r\\xf0\\xffn\\xcfwW\\x8f\\xec*\\x1e:\\xb8)\\xdf}q\\xec\\xb6\\xd5\\xce|\\xff\\x1b#Q\\xb5\\xb2\\xe9\\x13y\\xf8g\\xbbs\\xf0\\xff\\xed\\xca\\xde\\x7f\\xd9\\x95\\x8e_\\xeeO\\xfb\\x8f\\xef\\xcdUM\\x95\\xc9\\xc0k\\xb9\\xe7\\x96\\xefe\\xff\\x94\\xdf\\xc0\\xfe\\xf4\\x8e\\xbe\\xe755\\x83\\xd9\\xb7\\xe3;\\xf9\\xd2\\x9f]\\x96%\\x1fh\\x19\\xd9A\\xfb\\'\\x97d\\xcd\\x176\\xe4\\xfb\\xbb:Sz/2\\x00\\x00\\xa7\\x8a\\xb0\\n\\x000\\x93\\xf4\\xfc\"\\x8f\\xef8:\\xf2\\xe7\\xa6\\x8b\\xb3\\xecM\\x1bJ\\x8f\\xa5\\xd5W\\xf3|{S6>\\xfbhn^sq\\x96-]\\x92\\x95\\x8bF/<\\xb2-\\x7f\\xfb\\xd4\\xc8N\\xd5\\xc6k\\x1f\\xcc\\xe6\\xf5\\xcb3w\\xcc\\xa6\\xc8\\xaa\\xb9\\xcb\\xf3\\xdf\\x1f\\xbb7W5$\\x19z-\\xdf}\\xf0\\x17\\x19\\x9b\\x05\\xf7?\\xfd\\x83\\xec\\x19J\\x92\\x05\\xf9\\xcb\\xfb\\xbe\\x95\\x8f.\\x1c\\xf3\\xe0\\x9aE\\xf9\\xe8\\xffz077\\xf4\\xa77E\\x0cf\\xf7\\x83\\xf7e\\xcf@\\x92\\xba\\x0f\\xe7\\x81\\xc7\\xbe\\x9c\\x0f.<\\xb6\\xeb\\xb2*\\xf5-\\x9f\\xcc\\x03\\x0f}&\\x8dI\\xd2\\xfb\\xd3<\\xbc\\xa3\\xbb\\xd0\\xb3\\xbf]\\x7f\\x9e\\x7f\\xf0{i\\x1fJRyA6>\\xb4!\\x1f]8v\\x97gM\\x16^\\xb6!\\x8f\\xdcv^*\\x93\\x0c\\xed\\xfd^\\x1e\\xde3^\\x8e\\x1c\\xca\\x81\\x03\\xc9_>\\xf6hn^\\xd1x\\xe2\\xe3\\xf75\\x8d\\xf9\\xe8m_\\xcb\\xa5\\xd5I2\\x90\\xdd\\xbb\\x0e\\x9exH\\xcf\\xab\\x19\\xf9\\xcf\\xca|\\xf0\\x8b_\\x1b\\xf3:G\\x1f\\xba\\xe8#\\xd9\\xf8\\xd0\\x1d\\xb9\\xb4\\xe9\\xbc\\xachLz\\xa6|$\\xc0@zF\\xbfQG6_\\x9b+o\\xdc\\x94\\xed\\x1d\\x87\\xd2;4\\x94d(\\x03\\xbdG\\xd3\\xfe\\xe2\\xb3\\xd9x\\xcd\\x9a\\\\\\xf2\\x85\\xady]]\\x05\\x008\\xed\\x84U\\x00\\x80\\x19`\\xb0\\xa73\\xbbw|\\'\\xeb?\\xf1\\x95l\\xefM\\x92\\xba\\\\\\xfe\\xc5ONx\\xc7\\xfb\\xfa\\xcb\\xfe*\\x1f\\x1f\\xe7.XG^\\xdc:\\x12F+/\\xc8uW7\\x8f\\xff\\x91\\xf9\\xaa%\\xf9\\xece#;\\\\\\x07^\\xfei\\xf6\\x1d\\x8fp\\xdd\\xd9\\xbd\\xe7\\xd0\\xc8\\x1f\\x9bV\\xe5\\xcaE\\xe3=\\xb81\\x1f_\\xbb$\\x95\\xe3-Md\\xb0#\\xcf\\xbd<\\x92b\\xeb.\\xf9LV\\x8e\\xf7I\\xf6E\\x9f\\xcc\\xed\\xb7\\xde\\x98\\xaf\\x7f\\xf3k\\xb9jQ\\xa1g\\x1f\\xe7\\xeb\\xbd\\x9a\\xed/\\x8f|\\x0e\\xbf\\xfa\\x92\\xcf\\xe4\\xa3\\x13lo\\x9d{\\xd9g\\xb2\\xac2Iz\\xf3\\xfc\\x8e\\x83\\xe3^S\\xb9\\xf4\\x9a\\\\\\xb7h\\x9cw\\xb1\\xa6)K\\x1bG\\xfe8\\xd0\\xdb\\x9d\\xf1\\x8eZ\\xed\\xe9\\x9d\\xe0\\x00\\xd6\\xb9\\xab\\xf3\\xc8?=\\x9d\\xcd\\x0f}\\xf9\\xcdG\\x10\\x942x\\xe2(\\x80\\xa1\\xa1\\xaa,Z}K\\x1e~\\xf6\\x85\\xb4\\xff\\xeb\\xfet\\xfe\\xeb\\xce\\xbc\\xf0\\xe4\\x1d\\xb9\\xaa\\xb9:\\xc9P\\xba_\\xbc-\\xeb\\xee\\xdak\\xe7*\\x00\\xc0i\\xe6\\x8cU\\x00\\x80r\\xe9}6W\\xbe\\xff\\xd9)\\\\X\\x97\\x15\\xdf|$\\xf7\\\\:\\xd1Y\\x9a\\xd59\\x7fy\\xd38\\x7f?\\x98\\xfd{G\\x03\\xe1\\xdc\\xe6,.\\x11\\xed\\x16.iN\\xf5\\xa3\\x8720p(\\xfb\\x8f$+\\x17&Ig\\x0et\\x8e~\\x85\\xc6\\xa6\\t?n_\\xd3|A\\xe6\\xe6\\x95tN\\xe1\\x95$I\\x8etd\\xff\\xe8\\x16\\xd7\\xc5-\\x0b&\\xb8\\xa8!+\\xd7}>+\\xa7\\xfa\\x9c\\xa5tvd\\xff\\xe8\\xf9\\xa6\\x8b\\x97\\x9e7\\xf1y\\xac\\xa3qt\\xd7\\xc1\\xa4\\xb7\\xf3`z\\xd2\\x9c\\xb7\\xbee\\x0b\\x974Mp\\xa3\\xa8\\xea\\xd4\\x1c{\\xe2\\xc1\\xa1\\x13\\x11\\xb3\\xfe\\x82\\xach\\xaa\\xcc\\x9e\\x83C\\xd9s\\xd7\\xba\\xac\\xef\\xff\\xab\\\\\\xb7\\xe6\\xe2\\x9c_?\\xd5\\xb3T\\'\\xb2 W\\xdetK\\x96&\\xa9Ytq>\\xbe\\xb4a\\xccZ}\\x16.\\xfdd6\\xfe\\x9f\\xf3\\xd2\\xf0\\x17ksO\\xc7P\\xba\\xb7|\\'?\\xbc\\xf6\\xe9\\xfc\\xe5\\xa4g&\\x00\\x00p\\xb2\\x84U\\x00\\x80\\x19\\xa2\\xba\\xa1\\xe9\\xff\\xb7w\\xef\\xd1U\\x95w\\xfe\\xc7\\xdf\\x0c\\xb9*\\'%\\x90@ A\\t`IP\\x08(7-\\x88\\xa8\\xb1#\\n*\\x8c\\x03\\xd4\\xaaX\\xbcV\\xad\\xd6[Q\\xa7?\\xe9\\xb4\\x83v\\xa9m\\xad\\xbd\\xa0\\xd6\\xe2e\\xb4h\\xcbEi\\xc1\\x1a-(\\x8c\\x80P\\r\\xa8\\x04\\x07I($\\x18HJ\\x98\\x1c0\\xb7c\\xf3\\xfb\\xe3\\x04I \\xc1\\xec\\nD\\xe0\\xfdZ++9\\xfb<\\xfb\\xd9\\xdf}\\xf8\\xe7\\xac\\x0f\\xcf\\xf3\\xdd\\x0c\\x1az>\\xdf\\xb8\\xf6\\n\\xce\\xeb}\\xa0 .\\x85\\x8cf\\x83\\xbar\\x8a\\xcb\\x1a\\x1aq\\x16\\xfe\\x86\\x0b\\xbf\\xfa\\x9bV\\\\\\xb5\\x84\\xc2r\\xa07P\\x19\\xa6\\xac!\\x90LJM:@ \\x99B*\\xb4>X-/\"\\xba\\xe3=DR\\xcaax\\xf0RYy\\xc3\\xf5\\xe2HM?\\xd0\\x92\\xd0\\x14R\\xf7\\x94S^B\\x19\\xec\\x17\\xac&%\\x85Z>\\xbd\\xd9\\x0f\\xa8\\x177\\xfc\\xf4>\\xf2\\xaf\\xbe\\x97\\xbc\\x92\"\\xf2\\x1e\\xbe\\x83\\xbc\\x87!\\x94>\\x80AC\\x87\\x92{\\xee9\\x9cwf\\x0e\\x81s\\xd6\\xf8^\\x9c7\\xa5\\xd7\\xe7\\x8c\\xc9\\xe6[w\\\\\\xcc\\xf3\\x97\\xbfHI\\xedZ\\xfe\\xb8\\xb4\\x8coMn\\xed\\x92XI\\x92$\\x05e\\xb0*I\\x92t\\xb8\\xa4\\\\\\xcc\\xacW\\xa61h\\x9f\\xc3\\xf1\\xf1\\xf1\\x8d\\x9eD\\xdf\\x1a\\xf1\\x84Z\\xd8-_\\xf3\\xd9\\xd2\\xc9\\x10))\\xad\\x991\\x8e\\xf8=\\xe7\\xd4\\xd4|\\xb6\\xf22>\\xfe\\x00\\xdb\\xf1\\x03\\xd5\\x1a\\x9dw\\xcf\\xa6\\xf8\\xf8/\\xbap\\xb3\\x95\\xd7\\x8b\\xdeG\\xfc\\xe7\\\\/\\xbe\\xe1>k\\x9b\\xdc\\xfb>C\\x82\\xeb}\\t\\x8f\\xbd2\\x947~\\xf7\\x04\\xb3\\xe6\\xfe\\x85\\x15\\xeb\\xcb\\t\\x97\\xac\\xe5\\xcdykys\\xdeo\\xf8~\\\\w\\xce\\x9cr7?\\xba\\xf9\\x9c&\\xfdo\\x0f\\x86\\xf8\\x81#\\x19\\x14\\xf7\"%\\xb5P\\x9c_\\x04\\x06\\xab\\x92$I\\x87\\x8c\\xc1\\xaa$I\\xd2a\\x13GRRR\\x0b[\\xcb\\x0f\\xd2\\xfc{\\x82\\xba\\xac\\xab\\xf9\\xdd\\xcb\\xd7\\xb4\\xd8\\xa3\\xb5Y\\xf1\\xf1\\xec\\xcd\\x19k[\\x1eW\\x13\\x0e\\xd6\\xbf\\xb3!\\x88\\xad\\xa5\\xa6Q\\xf0{\\x085\\xbe^\\x0bmN\\xa3j\\xf6\\xdeg\\xd0\\xb0\\xf8skHg\\xd4\\x94\\xe9\\x8c\\x9a2\\x9d\\x9a\\xcaB\\xde]\\xba\\x8a7\\xdf|\\x9dW_[Fax+o>~3\\x17\\x14\\xdc\\xc7\\x9f\\x9e\\x9c\\xd8b\\xcb\\x85\\x7f\\xee\\xba!\\x92\\x92\\x80r\\xa89,\\x1f\\xb6$I\\xd2\\xb1\\xcb\\x87WI\\x92$\\x1d5\\x92HMoXi\\xda\\xb0\\xb5=\\xd8\\xe9{\\xfb\\x86V\\x96\\x1d \\x91,)\\xa48\\xc8\\xbc)\\x99\\r\\xe1a-e%\\x81\\xab\\n.5\\xa5aK\\x7f-e\\xe5\\x07\\xba^C\\x1b\\x04\\x80\\x94\\xf4\\xfd\\xda\\x00\\x1c,\\xf1I\\xbd\\x18~\\xc1D\\xee\\xfa\\xf1\\xe3\\xbc\\xf6V\\x1e\\xb3\\xae\\xcc\"\\x0e\\x08/\\xfd%\\x8f\\xac<\\xc8\\xe1ge9\\xc5\\r\\xfftI\\xa9\\x87\\xa1\\xed\\x82$I\\xd21\\xcc`U\\x92$\\xe9\\xa8\\x11\\xcf\\xa0a\\r\\x0f\\xb5*_\\xc5\\x9b\\x05A\\xcf\\xef\\xc5\\xc0\\x86g\"\\x85\\x0b\\xd7\\xb3\\xb1\\x85Q\\xc5\\xf9k(\\t2mF\\x16\\xfd\\x1aZ\\x95\\xae[\\xb9\\xb6\\x85\\xd5\\xaee\\xbc\\xf1\\xd0M\\\\\\xf7\\xed\\x9b\\xf8\\xceSk\\xbe\\xd8\\x13\\xed{\\ri\\xc5\\xf5\\x80\\xb2\\xf5\\xbc\\xdb\\x90\\x10\\xa7g\\x0f8d\\xc1j\\x13\\xf1\\xe9\\x8c\\xba\\xe3\\xbb\\x9c\\x17\\x02(gcA\\xf9\\xe7\\x9d\\x01@\\xf1\\xdc\\xdb\\xb9\\xe0_\\xcf$\\xe7\\x8c\\x9bXp\\x80\\xcc\\xbbr\\xe5\\xeb\\xbc[\\x0b\\x10G\\xbf\\xa1\\xcd=\\xe0L\\x92$I\\x07\\x8b\\xc1\\xaa$I\\xd2Q$\\xf5\\xdcK\\x18\\x16\\x07P\\xc4\\x1f\\x1e{\\x9d\\xe63\\xb8\\x1a\\xde\\xfd\\xaf\\x0b\\xc89c<\\xd7=\\xb4\\xb4\\xd1\\xca\\xd6t\\x86\\x0f\\xeb\\x1e\\xfds\\xfd|\\xe64\\x17\\xcc\\xd6\\xaca\\xd6\\xec\\xb5\\xc1\\x8a\\x8a\\x1f\\xca\\x85\\xe7\\xa6\\x00\\x10~\\xed\\x19\\xfe\\xd0\\xdcr\\xd7\\xe2E<\\xf2\\xd4_\\xc8{\\xed/\\x14\\x93\\xd2h[\\xfe\\x9e^\\xaf\\x01\\xda\\x08\\xc4\\x0fe\\xc2\\xe7]\\x0f\\xd88\\xf7\\xd9\\x86\\x102\\x93\\xb1\\xe3\\xb3[9\\xf9\\x81\\xad{\\xeaJF\\x9e6\\x90\\x9c\\xa9\\xf3Z^1\\\\\\x13\\xfe\\xec^\\x0e\\xd8\\xcb\\xb6\\x91\\xd4\\xf4\\x10e\\x85\\xe5\\x84\\xcb\\xff\\xc2#\\x8f\\xb6\\x10<\\xd7\\xaca\\xe6\\xa3\\xaf\\x13\\x06\\x08\\x9d\\xc3\\x84a\\x87\\xa3\\xa1\\xad$I\\xd2\\xb1\\xcb`U\\x92$\\xe9h\\x92z1wM\\xce$\\x0e(_x;\\x93\\xff\\xdfB\\xd65NW+\\x0by\\xf5\\xa1k\\xb9\\xee\\xe9\"\\xc2\\xe5\\x85\\x94\\xa5\\xf7j\\xb2R\\xb3\\xdf\\xa4+\\x18\\xd8\\x10\\xcc\\xfe\\xf6\\xbb\\xf7\\xf0\\x87\\x82\\xbd\\'\\xd7\\x14/\\xe5\\xd7\\xdf\\xbe\\x99Y\\x95\\xddIo]\\x1e\\xd8 \\x9eQ7\\xdf\\x18\\r|kW\\xf1\\xc3\\xabo\\xe7\\x0f\\xf9{b\\xc7\\x1a\\xca\\xf2\\xe7q\\xe7\\xd5?!\\xbf\\x16H9\\x9f\\xeb\\xc7\\xa7\\xef=3\\x94\\xd4\\x10\\xb2\\xae\\'\\xef\\xb5\\xc2h\\xa0\\xd8\\xd2\\x83\\xa6\\xf6\\xbd^\\xa8\\xe1z\\xdf\\x9e\\xce\\xab\\x1b\\x1b\\x9fQ\\xc9\\xba\\xb9\\xf7p\\xdd\\xa3\\xeb\\xa9\\x05R\\xce\\xbd\\x8d\\xab\\x0eN\\xaeJ\\xef\\xecL\\x08\\xd7\\x12^\\xfa\\x03\\xa6|o\\x1e\\xef\\x965\\xad\\xb4\\xa6l\\r\\xcfM\\xfb\\ty\\xb5@\\xdc\\x10.\\x1c\\xd9\\xbau\\xb2\\xf1\\xc3\\xae\\xe1\\xae\\xa1\\xd1e\\xb8\\x85O_\\xcb\\xf8\\xef\\xbd\\xc0\\x1b\\x1b\\xcb\\x1a>\\x8f26\\xbe\\xf9\\x02w^z-3\\xd7\\xd7\\x02!\\xce\\xbc\\xf76\\xce\\xb3\\x13\\x80$I\\xd2!\\xe5\\xc3\\xab$I\\x92\\x8e*\\xf1\\x0c\\xba\\xf7q\\x1e,\\xbb\\x96;\\x17\\x16Q0\\xfb\\x0e.\\x9c}\\x0f)\\xe9)\\xc4SKYI9\\xd1\\xc75\\xc5\\x91=\\xe9Q\\x1e\\x9b\\x9c\\xde\\xf4\\xf4\\xde\\x13\\xf9\\xd1\\x1d\\xaf3y\\xc6*\\xc2\\x85\\xf3\\xb9\\xeb\\xa2\\xf9\\xfcG(D<5\\x84\\xc3\\xb5\\x10\\x97\\xc9U\\xbf\\xba\\x91\\xca\\xef\\xde\\xc1\\x9cZh\\xf5\\x9e\\xfd\\x8c\\x89\\xfc\\xfcW\\x05L\\xf9\\xf6\\x8b\\x14\\x14.\\xe2\\xae\\x7f_\\xc4]q!B\\x84\\t\\xefyNVh\\x00w\\xfe\\xea\\xbe\\xa6\\x81\\xe0\\xc0\\x11\\x0c\\x0f\\xcd\\'/\\\\\\xcb\\xca\\x19\\x17\\x92=\\x03\\x88\\x1b\\xc2\\x0f\\x17?\\xcde\\x07\\xca$3&\\xf2\\xd8O\\x0b\\x99\\xfc\\xddg)X\\xff\"\\xd7\\x9f?\\x9fPz:\\xa9\\xf15T\\x16o\\xa5\\xbc\\xe1\\x9a)C\\xa7\\xf1\\xd8O\\xcf9hm\\x00\\xe2\\x87\\xdd\\xc6\\xcf\\xaf]\\xcf\\x94\\xc7\\xd7R0\\xef^&\\xcc\\xbb\\x97\\xb8P\\n\\xa9Iq\\xd4T\\x96S\\xfe\\xd9\\xcdv\\'\\xf7?gpY\\xab\\x9f\\\\\\x95\\xce\\xbf\\xfd\\xeaQ\\n\\xa7\\xde\\xcc\\xcc5a\\n\\xe6\\xfd\\x80\\xab\\xe6\\xfd\\xa0\\x99q)\\x0c\\xbb\\xfdQ~>>\\xbd\\x99\\xf7$I\\x92t0\\x19\\xacJ\\x92$\\x1du\\xd2\\x19\\xfb\\xb3\\xb9\\x0c\\x1a?\\x9f\\x99\\xb3\\xe7\\xb1\"\\xbf\\x88\\xe2\\x92\\xad\\xd4\\x12G(%\\x93ACG0a\\xf2\\xd5\\x8c\\x1d\\x96\\xca\\xfe\\x9b\\xc5\\xe3\\xe97\\xe5q\\xfe\\xd4\\xeb\\x19\\x1ey|>o\\xe4\\x17Q\\x1e\\x0eC\\xa8;\\x03\\xcf\\x1d\\xc3U7_\\xcd\\xd8\\xec\"~\\x98\\x04\\x84\\x83=y>\\xf5\\xcc\\xe9\\xcc]<\\x86?<\\xfa\\x0cs\\x96\\xaee]I9\\xe1\\xb88R\\xd2\\xb3\\x18t\\xee%\\\\\\x7f\\xedD\\x06\\xed\\x9bp&\\x8d\\xe1G\\xbfZO\\xcd}/\\xb0\\xa20Lm\\\\\\x88\\xf4^Yd\\xb4b\\x97{\\xd2\\x99w\\xf3\\xa7W\\xce\\xe1\\xb9\\xc7_\\xe0\\x8f+\\xd7\\xb0\\xae\\xb0\\x84\\xc2\\xdaZ\\xe2B\\xdd\\xc9\\x1e6\\x94\\x0b\\xc7_\\xcee\\x17dsp\\x17v&1\\xe8\\x8e\\xd9\\xbcv\\xee<f=\\xb5\\x887\\xd6\\xac\\xa7\\xb8\\xac\\x9c\\x92\\x12\\x88\\x8b\\x0b\\x91\\x9e\\x95C\\xbf\\x81\\xe7\\xf0\\x8d+\\'2\\xaaw\\xc0\\xad\\xfaIC\\xb9\\xeb\\xf7y\\\\\\xf8\\xa7\\xdf0\\xf3w\\xcbx\\xb7\\xa0\\x90\\x92p-\\x10GJz/\\xfa\\r=\\x9fo\\\\;\\x91\\xf3z\\xbbTU\\x92$\\xe9phW___\\xdf\\xd6EH\\x92$I\\x92$I\\xd2\\x91\\xc4\\x1e\\xab\\x92$I\\x92$I\\x92\\x14\\x90\\xc1\\xaa$I\\x92$I\\x92$\\x05d\\xb0*I\\x92$I\\x92$I\\x01\\x19\\xacJ\\x92$I\\x92$IR@\\x06\\xab\\x92$I\\x92$I\\x92\\x14\\x90\\xc1\\xaa$I\\x92$I\\x92$\\x05d\\xb0*I\\x92$I\\x92$I\\x01\\x19\\xacJ\\x92$I\\x92$IR@\\x06\\xab\\x92$I\\x92$I\\x92\\x14\\x90\\xc1\\xaa$I\\x92$I\\x92$\\x05d\\xb0*I\\x92$I\\x92$I\\x01\\x19\\xacJ\\x92$I\\x92$IR@\\x06\\xab\\x92$I\\x92$I\\x92\\x14\\x90\\xc1\\xaa$I\\x92$I\\x92$\\x05d\\xb0*I\\x92$I\\x92$I\\x01\\x19\\xacJ\\x92$I\\x92$IR@\\x06\\xab\\x92$I\\x92$I\\x92\\x14\\x90\\xc1\\xaa$I\\x92$I\\x92$\\x05d\\xb0*I\\x92$I\\x92$I\\x01\\xc5\\xb4u\\x01\\x92$I\\xc7\\xaa\\x1dU\\xb0\\xa4\\x08J*\\xdb\\xba\\x92/\\xbf\\xe3\\xe3\\xe0\\x8c\\x1e\\x90\\x95\\xda\\xd6\\x95H\\x92$IQ\\xed\\xea\\xeb\\xeb\\xeb\\xdb\\xba\\x08I\\x92\\xa4cMA\\x19\\xbc\\xb6\\xb1\\xad\\xab8\\xf2\\x0cH\\x83Q=\\xdb\\xba\\nI\\x92$\\xc9V\\x00\\x92$I\\x87\\xdd\\xb6]\\x86\\xaa\\xff\\xac\\xb5\\xa5\\xf0\\xce\\xd6\\xb6\\xaeB\\x92$I\\xb2\\x15\\x80$I\\xd2a\\xf7?\\x9b\\x9b\\xbe.\\r\\xc3oVE[\\x03D\\xdcK\\xd4DL;\\xe8\\x94\\x08W\\x0f\\x81\\xb4P\\xf4\\xd8\\xea\\xad\\xd0\\xbf+\\xc4\\xb6\\x8f\\xbe~\\xa7\\xfc=nY\\xf6_T\\xd4\\xfc\\x1f\\x9f\\xd6\\x7f\\xdav\\xc5\\x1e\\x06\\xed\\xdb\\xb5\\'9\\xfe+<2\\xe2^NM\\xe9\\xdf\\xd6\\xe5H\\x92$\\x1d\\xd3\\\\\\xb1*I\\x92t\\x985\\xee\\xa9Z\\x1a\\x86\\xfb\\xdf\\x80\\xed\\x9f\\x18\\xaa6\\'R\\x0f\\xdbwG?\\xa3\\xd2p\\xf4XM\\x04\\xfe\\xf7\\xef\\xd1\\xbf\\xdf)\\x7f\\x8f\\xcb^\\xbb\\x9d\\xf2\\xea\\x1d|Z\\x1fi\\xbbB\\x0f\\x93O\\xeb#\\x94W\\xff\\x9d\\xcb^\\xbb\\x9dw\\xca\\xdfk\\xebr$I\\x92\\x8ei\\x06\\xab\\x92$Im\\xe8\\x89\\xd5`\\x9e\\xfa9\\xdaA}}\\xf4\\xb3\\xdac\\xfb\\xee\\xe8\\xef[\\x96\\xfd\\xa8\\xe9\\xc0\\xa3^\\xbb\\x86\\x9f\\xfa}\\xee]\\x92$I\\x87\\x9b\\xc1\\xaa$IR\\x1b*\\xdf\\xdd\\xd6\\x15\\x1c!\\xdaA\\xc5\\'{_VTE\\x7f\\x97WW\\x1c\\x1byj3*j*?\\x7f\\x90$I\\x92\\x0e\\x19\\x83UI\\x92\\xa46\\xe4j\\xd5\\xd6k\\xb1U\\xc21\\xf9!\\xb6;\\xea\\xfb\\xc9J\\x92$}\\xd9\\x19\\xacJ\\x92$I\\x92$IR@\\x06\\xab\\x92$I\\x92$I\\x92\\x14\\x90\\xc1\\xaa$I\\x92$I\\x92$\\x05d\\xb0*I\\x92$I\\x92$I\\x01\\x19\\xacJ\\x92$I\\x92$IR@\\x06\\xab\\x92$I\\x92$I\\x92\\x14\\x90\\xc1\\xaa$I\\x92$I\\x92$\\x05\\x14\\xd3\\xd6\\x05H\\x92$)\\xb8Y\\xf7\\xc2\\x94\\xc4\\xa6\\xc7\\xaa\\xab`}\\x11L\\x7f\\x15^*?4\\xd7\\xfd\\xde\\x8dp\\xeb\\x16\\xe8\\xf62t\\x1d\\x02\\xa5c\\xe0\\xe2\\x1f\\xc0K\\x87\\xe6r\\x87\\xd8\\xf1d\\x9d0\\x91k\\xbez\\x06C\\x92\\xd3Hm\\x0f\\x95\\xbb\\xb7\\xf0v\\xf1\\\\~\\xf3~\\x1ek\\xea\\xa2\\xa3Rz?\\xc8\\xd2S+\\xb8\\xe9\\xf73x\\xbdm\\x0b\\x96$I\\xd2\\x97\\x88\\xc1\\xaa$I\\xd2\\x11\\xaat\\x1dLZ\\xbe\\xf7u\\xc7\\x8e0\\xe5l\\x98?\\x15.\\xfe%\\xbc\\xb4\\xeb\\xd0^\\x7fg\\x11Ly\\x19\\xf2[9\\xbe\\xeb\\x10\\xc8\\xef\\x01\\xdd\\xe6\\x1e\\xd2\\xb2Z)\\x99sN\\x7f\\x84\\x87O\\xec@a\\xf1\\x1f\\xf9\\xe5\\xca\\xb5\\x94\\xd4\\xc6\\x91\\xd2\\xe5,\\xae\\xe8s\\'\\xb33\\x86pS\\xde\\x0c^\\xafn\\xeb:%I\\x92\\xf4ee\\xb0*I\\x92t\\x84\\xaa\\xde\\to\\x145=\\xf6\\xd2\\x16x\\xf7V\\x98\\x96\\r/\\xad:\\xb4\\xd7\\xaf)\\x87\\xa7\\x03\\xac\\x8c\\x1d\\xd8\\x03\\x12\\x0e]9\\x81\\xa4d\\xde\\xc1\\x8c\\x13;\\xf0\\xf6\\xaa[\\xb8v\\xe3\\x96\\xbdo\\x94\\xbe\\xc5\\xfc\\x8dkx\\xfc\\xeb\\xb7p\\xdf\\xa0WY\\xba|u\\xdb\\x15)I\\x92\\xa4/5\\x83UI\\x92\\xa4\\xa3I9\\xe4W\\xc1Y\\xa9\\xd1\\x97]\\x87\\xc0\\xa6\\xb3\\xa3+K\\xa7\\x8d\\x87\\x8e\\xefB\\xe6B \\x01n\\x19\\x07\\xb7\\x9e\\x04=\\x13\\xa1\\xf4cx`!<\\xd2(\\xa8\\xfdJ\\x06<u\\x11\\xfck7\\xa8.\\x83\\xa7^\\x85\\xeaF\\xdf\\x1e\\xf7k\\x05\\x10\\x03\\x17\\x9d\\r\\xd3\\x07AV\\x08v6\\x9a\\xf3\\xba\\xa9033z^\\xfd\\xa9\\xf0\\xc0/\\xe0\\xee\\xd2\\xc3\\xf4\\x99\\xec\\xa7\\x07\\x17\\x7fu\\x08I\\xe5\\xbffz\\xe3Pu\\x8f\\xdd\\x7f\\xe2\\x9e\\xbc\\x02\\xd8]Hm\\xb3\\xe7\\'3\"\\xfb;\\xdc\\xf6\\xd5\\x1cz%\\xc6Q\\xb3{#\\xaf\\xaf{\\x84\\xfb7\\x16\\x12\\xde3$a\\x00W\\x0f\\x9e\\xca\\xa4.\\xbdI\\x8f\\x8b\\xa3\\xb2j#\\xcb\\xfe\\xf7\\xd7L/X\\xdb0f\\x00\\xf7]4\\x83^\\x05\\xd3y\\xbd\\xdbw\\xb8\\xad\\xcb\\x16\\xa6\\xcf\\xbf\\x97\\xf9u\\x87\\xe6\\x8e%I\\x92t\\xf0\\x19\\xacJ\\x92$\\x1dM:@\\xcf\\x18(\\xad\\x88\\xbe\\xac\\x8e\\x00\\t0m\\x08\\xfc\\xecy\\xc8o8\\xfe\\xbd\\xa90=\\x06n}\\x1e^\\xa9\\x80\\x81g\\xc0SW@\\xc2/\\xe1\\xc7\\xe5\\xd1sf^\\x06\\xc3?\\x86\\x7f}\\x016\\x01\\x93\\xc6\\xc0\\xad\\x1dZ\\xbe\\xf4\\xa810;\\x1b\\xa6\\xcf\\x85\\xf9a\\x18~\\x06\\xcc\\xbc\\x02\\xf8%\\xcc|\\x0e:N\\x85ie\\x90\\xf52\\xecl\\xcb-\\xf6\\xb1Y\\x8cL\\x86\\x825\\xab\\xd9\\xda\\xc2\\x90\\xf2paK\\'\\x933\\xe8A\\x9e\\xe8S\\xc7\\xec\\x95\\xf7p\\xd3\\xdf+H\\xedr93\\x06?\\xc4\\xc3\\xff\\xb8\\x81k\\x8b\\xb6\\x01\\xc9\\\\<l\\x06\\xb7\\x1f\\xbf\\x84\\xbb\\xdfx\\x88\\xb7\\xab!\\xb5\\xf3Df\\x0c\\x9b\\xce\\x8c\\xdd\\x97s\\xf3\\xe6\\xdd@-5\\xff\\x88#\\xbd\\xcf\\xe5\\x8c(\\x9a\\xc9\\x95k\\xb6Ph\\xa8*I\\x92tD1X\\x95$I:R\\xc5@<P\\xd3\\xf0\\xf2+\\x1d\\xa3\\xe1\\xe7Y\\x11\\xb8\\xbe`\\xef\\xb0\\x84X\\xc8_\\x0eO7\\xacF\\x8d?\\t\\xa6u\\x83\\xa7f\\xc2c\\xc5\\xd1c\\x7f[\\x08\\x0fd\\xc2\\xadg\\xc2\\xcf\\xe6B\\xc2Ipq\\x08\\xa6?\\to4l\\xf7\\xff\\xf1\\xcbp\\xf1\\x1d\\xd0\\xb3\\xb9Z\\x12`\\xda X\\xf12\\xfcxC\\xf4\\xd0\\x87/C\\xc7\\x18HK\\x8e\\xb6\\r\\xa8\\x8e\\x00\\x11\\xd8\\xd6\\xd6}K\\x13z\\x90B-\\x85\\xbb\\xff\\x89%\\xb3\\xb1gpc\\x9f\\x13(x\\x7f*?\\xd8\\x1c]\\xed\\xba\\xb5\\xe8\\x11\\xa6w\\x1e\\xc03\\xd9\\x17\\x90U\\xf4[\\xd6\\xb3\\x8b\\xd7W\\xdf\\xc0\\x18J)\\xda\\x1dMK\\xb7\\xee~\\x96\\x17\\xbez\\x1e7v\\xcb\\x86\\xcd{\\xdb\\x0b\\xa4\\xd7.\\xe1\\x8a\\x82\\xb7Z\\x0cx%I\\x92\\xf4\\xe5e\\xb0*I\\x92t\\x84\\xea9\\x14\\xaa\\x876=V]\\x01\\xd3\\x9e\\x87\\xc7v6=\\xbe\\xa4\\xd1\\x8e\\xf7\\x9ei\\xd0\\xb1\\x0e^\\xd9\\'W\\\\\\xb1\\x05\\xd2zD\\x83\\xd3\\x84n\\x90P\\x05\\xf9\\x8d{\\xa8\\xee\\x84\\x15\\x15-\\x04\\xab\\xdd``,\\xcc\\xfe\\xb8\\xd1\\xb1\\x08<\\xf2b\\xc0\\x9b:,vSC4\\x94\\x0e,)\\x87\\xac\\xf6\\xa5,\\xdc\\xde\\xb8\\x85@\\x1dk>\\xdeHM\\x9flr\\x12`}u\\x1d\\xe1O\\x93\\xb9$\\xe7zft\\xeeAzl\\x1c\\xf1\\xed\\xe3\\x88\\x8f\\x03v\\xc75\\x99\\xaedg\\x81\\xa1\\xaa$I\\xd2\\x11\\xca`U\\x92$\\xe9\\x08U\\xba\\x16.~\\x13\\xf6,\\x00\\xad\\xae\\x86M;\\xf7\\xae`\\xfdL]\\xc3j\\xd1\\x06\\x1dC@,\\xcc\\x9f\\xde\\xcc\\xa4aH\\x03\\xaa\\x13\\x80\\xc8\\xde\\xb9\\xf7h<O\\x131\\xd1\\x07S\\x95\\xb6\\xf4\\xfe\\x97Iu)\\xe5\\x9f\\xc6\\x91\\xde\\xb1\\x07lni\\xcb\\x7f\\x0bb;\\x10O\\x1aW\\xe6\\xbe\\xca\\x95\\xfb\\xbd\\xb9\\x99P,P\\x9b\\xc5\\xb4\\xb3\\x1fb\\xd2\\xa7\\xaf2}\\xf5L\\xde\\xae\\xdcE-\\xc9\\\\<b&7\\xedsFMm\\xf3]\\\\%I\\x92\\xf4\\xe5g\\xb0*I\\x92t\\x84\\xaa\\xde\\x05+\\xff\\x89\\xdd\\xec;\\xc3@\\x15Ly\\x0cV\\xec;g\\x04J\\x81\\xacj>\\x0bK\\x1b\\xeb\\xb8\\xef\\x81=\\xaa\\xa2!lZK\\xef\\x7f\\x99\\xd4\\x15\\xf2v%\\xdc\\x9eq\\x16Yk\\x0bY\\xdf\\xcc\\x90\\x94\\xf4\\x89\\x8c\\xf9t\\t\\xb3K\\xb7\\xeds\\xee.j(e\\xde\\xd2{y\\xa2r\\x9f\\x93\\xfeQK\\xf9n\\xa0\\xf3y\\x8cI\\xda\\xc1\\xbc\\xbc\\x87\\x98\\xff\\xf7=o&\\x93\\x14\\x07\\xec>\\xd87#I\\x92\\xa4\\xb6\\xf2/m]\\x80$I\\x92\\x0e\\xafM\\xa5P\\x9a\\x18]\\x99\\xfaa\\xf9\\xde\\x9fM\\xd5\\xb0sWt\\xc5\\xeb\\xa6\\x8f\\xa1:\\x11\\x06\\xa64:\\xb1#\\x0c\\x0f\\xb50i9\\xe4\\xd7\\xc1\\xf0\\x1eM\\x0f\\x7fo*\\xfcnP\\xa3\\x03_\\x8a\\xff\\xd6\\xdf\\xc2\\xfc\\xff]Ee\\xd2xf\\x0c\\xc8\"n\\x9fw\\xe3B\\x170c\\xd8T\\xae\\xce\\xec\\xb1\\x7f\\xbb\\x80\\xca5\\xac\\xf9\\xb4\\x13\\xe9q\\xbb(\\no\\xd9\\xfbS]KM\\xed6\\xc2\\x00\\xb1q\\xc4SAI\\xa3\\xc5\\xa8q\\x1d\\xcf\\xe2\\x9c$\\xa0\\xfd\\xa1\\xbc/I\\x92$\\x1dN\\x06\\xab\\x92$I\\xc7\\x98\\x9a\\r\\xf0\\xb3\\x8fa\\xda\\x04\\x98\\x98\\x01];@N6\\xbcr\\x0b,9=:\\xe6\\xff6\\xc0+Up\\xeb\\x18\\xf8z\\n\\xf4M\\x83\\xfb\\'@\\xc7\\xaa\\x16&\\xad\\x86\\x07\\xde\\x83\\xe1g\\xc3\\xfd\\xd9\\x90\\x93\\x06W\\x8e\\x83\\xe9\\x19\\xd1\\xde\\xad\\x8b\\xd8\\x86\\xed\\x00\\x00\\x10HIDAT\\x00;#\\xd01\\x15\\xbe\\x9e\\x06\\'\\xb6\\xf1\\xca\\xd6\\xf2\\xa2\\x87\\xb8\\xbd\\xa8\\x94^\\xfd\\x1eb\\xe1\\xa8\\xeb\\xb9\\xe2\\x843\\x18\\x91v\\x06\\x17\\x0f\\xb8\\x87\\xd9\\xb9\\xb70t\\xf7\\\\n_\\xbd:\\x1a\\x946V\\xf7\\x16\\xcf\\x14\\xed g\\xc0=\\xdc\\x96\\xde\\x8b\\xee\\t\\xc9dv\\xce\\xe5\\xbe\\xb3\\x9fd\\xde\\x19\\xb9\\xa4\\x00\\xec,`\\xfd\\xa7\\xbd\\xb9\\xa4\\xef\\x19d&$\\x93\\xd9\\xe5\\x12\\x1e\\x1e\\x9c\\xc6\\xfa\\xed\\xb5\\xc4\\x1f\\x9fENl\\xec\\xe1\\xbfaI\\x92$\\x1dt_\\x8a5\\x03\\x92$I:\\xbc~\\xfc$T\\x8f\\x83\\x07\\xae\\x84\\x9e\\x89\\xb0\\xb3\\x02^\\xf9\\x0bLZ\\xde0\\xa0\\x1a\\xae\\x7f\\x1e\\x9e\\x1a\\x07\\xf3o\\x8d>\\x14\\xeb\\xa9\\x85\\xf0\\xb33aZ\\x0bs\\xbe\\xf12L\\xaa\\x86\\xe9\\xe3`Z\\x08J?\\x86\\xe9\\xcf\\xc0#\\r\\x0f\\xc0z\\xe5-X?\\x1e^\\xb9\\x0ef>\\x037\\x14\\x1d\\x8e;mI\\x05\\xcbV\\xde\\xc0%\\xc5\\x97s[\\xf6Y\\xdc8l<I\\xedk\\xa9\\xdc\\xbd\\x91e\\x1fM\\xe7\\xf6\\xf7\\xdf\\xa2\\xe8\\x1f\\xcd\\x9dW\\xc7\\xaa\\xd5wrS\\xed\\xf5\\xdc6\\xf8!\\xaeH\\xec\\x00\\xb5\\x9bYS\\xf2k\\xae}\\'\\x8fr\\x80\\xeaW\\x99\\xbe:\\x9b\\x87\\x07\\xdc\\xc3\\xc2>PV\\xbe\\x84\\x9f\\xac~\\x90\\xd7\\x13n k\\xe4$\\x9e>\\x1b&\\xfd\\xf9\\xad\\xc3{\\xbb\\x92$I:\\xe8\\xda\\xd5\\xd7\\xd7\\xd7\\xb7u\\x11\\x92$I\\xc7\\x92G\\x1b56\\xfd\\xce\\x1f\\xdb\\xae\\x8e#\\xd1\\xcf/\\x8c\\xfeNO\\x82\\xf1\\xfd {\\xf6ym[P\\x1b+\\x98\\xf4j[\\x97 I\\x92t\\xcc\\xb2\\x15\\x80$I\\x92$I\\x92$\\x05d\\xb0*I\\x92$I\\x92$I\\x01\\x19\\xacJ\\x92$I\\x92$IR@\\x06\\xab\\x92$I\\x92$I\\x92\\x14\\x90\\xc1\\xaa$I\\x92$I\\x92$\\x05d\\xb0*I\\x92$I\\x92$I\\x01\\x19\\xacJ\\x92$I\\x92$IR@\\x06\\xab\\x92$I\\x92$I\\x92\\x14\\x90\\xc1\\xaa$I\\x92$I\\x92$\\x05d\\xb0*I\\x92\\xd4\\x86\\xda\\xb5u\\x01G\\x90\\x98F\\xdf\\\\\\xe3\\xdb7z\\xe3\\x98\\xfc\\x10\\xebi\\xefWyI\\x92\\xa46\\xe5\\xb71I\\x92\\xa46\\x94r<P\\xdf\\xd6U\\x1c\\x01\\xea!9q\\xef\\xcb\\x0eq\\xd1\\xdf)\\t\\xc9P\\x7fl~\\x80\\xc9\\t_i\\xeb\\x12$I\\x92\\x8ei\\x06\\xab\\x92$I\\x87Y\\xa7F\\x01\\xe15\\x83\\xa1\\xdd1\\xb9\\xe22\\x98v\\xed\\xa2\\x9f\\xd5\\x1e\\x99\\xc9\\xd1\\xdf\\x8f\\x8c\\xf8\\x0f\\xf6.Y=\\x16\\x02\\xd6=\\xf7\\xd8\\xae\\xe1\\xde%I\\x92\\xd4V\\x0cV%I\\x92\\x0e\\xb3\\x11\\'\\xee\\xfd;-\\x04w\\x8f\\x82\\xd4\\xe3\\x9bnuWT\\xcc\\xbfD?\\x9b\\xbbGE?+\\x80\\xce\\xc7\\xc1\\t\\x1d\\xa3\\x7f\\x9f\\x9a\\xd2\\x9f\\xe7\\xce}\\x98\\x94\\x84d\\xda\\xd3\\xbe\\xe5\\x89\\x8e\\x12\\xediOJB2\\xcf\\x9d\\xfb0\\xa7\\xa6\\xf4o\\xebr$I\\x92\\x8ei\\xed\\xea\\xeb\\x8f\\xd1\\xbdS\\x92$Imhe1\\xbc]\\xdc\\xd6U\\x1cyb\\xdb\\xc3\\xbf\\x9d\\x0c)\\xc7\\xb5u%\\x92$I:\\xd6\\x19\\xacJ\\x92$\\xb5\\x91\\xfc\\x8f\\xa3\\x01k\\xed\\xa7m]\\xc9\\x91\\xa1\\xf3q\\xf0\\xf5>\\xd1\\xdf\\x92$IR[3X\\x95$IjC\\x9f\\xd4\\xc1\\xdaR\\xd8\\x1a\\x86\\x92\\xca\\xb6\\xae\\xe6\\xcb\\'\\x14\\x1fm\\x05\\x90\\x91\\x049im]\\x8d$I\\x92\\xb4\\x97\\xc1\\xaa$I\\x92$I\\x92$\\x05\\xe4#\\x12$I\\x92$I\\x92$) \\x83UI\\x92$I\\x92$I\\n\\xc8`U\\x92$I\\x92$I\\x92\\x022X\\x95$I\\x92$I\\x92\\xa4\\x80\\x0cV%I\\x92$I\\x92$) \\x83UI\\x92$I\\x92$I\\n\\xc8`U\\x92$I\\x92$I\\x92\\x022X\\x95$I\\x92$I\\x92\\xa4\\x80\\x0cV%I\\x92$I\\x92$) \\x83UI\\x92$I\\x92$I\\n\\xc8`U\\x92$I\\x92$I\\x92\\x022X\\x95$I\\x92$I\\x92\\xa4\\x80\\x0cV%I\\x92$I\\x92$) \\x83UI\\x92$I\\x92$I\\n\\xc8`U\\x92$I\\x92$I\\x92\\x022X\\x95$I\\x92$I\\x92\\xa4\\x80\\x0cV%I\\x92$I\\x92$) \\x83UI\\x92$I\\x92$I\\n\\xc8`U\\x92$I\\x92$I\\x92\\x022X\\x95$I\\x92$I\\x92\\xa4\\x80\\x0cV%I\\x92$I\\x92$) \\x83UI\\x92$I\\x92$I\\n\\xc8`U\\x92$I\\x92$I\\x92\\x022X\\x95$I\\x92$I\\x92\\xa4\\x80\\x0cV%I\\x92$I\\x92$) \\x83UI\\x92$I\\x92$I\\n\\xc8`U\\x92$I\\x92$I\\x92\\x022X\\x95$I\\x92$I\\x92\\xa4\\x80\\x0cV%I\\x92$I\\x92$) \\x83UI\\x92$I\\x92$I\\n\\xc8`U\\x92$I\\x92$I\\x92\\x022X\\x95$I\\x92$I\\x92\\xa4\\x80\\x0cV%I\\x92$I\\x92$) \\x83UI\\x92$I\\x92$I\\n\\xc8`U\\x92$I\\x92$I\\x92\\x022X\\x95$I\\x92$I\\x92\\xa4\\x80\\x0cV%I\\x92$I\\x92$) \\x83UI\\x92$I\\x92$I\\n\\xc8`U\\x92$I\\x92$I\\x92\\x022X\\x95$I\\x92$I\\x92\\xa4\\x80\\x0cV%I\\x92$I\\x92$) \\x83UI\\x92$I\\x92$I\\n\\xc8`U\\x92$I\\x92$I\\x92\\x022X\\x95$I\\x92$I\\x92\\xa4\\x80\\x0cV%I\\x92$I\\x92$) \\x83UI\\x92$I\\x92$I\\n\\xc8`U\\x92$I\\x92$I\\x92\\x022X\\x95$I\\x92$I\\x92\\xa4\\x80\\x0cV%I\\x92$I\\x92$)\\xa0\\x98\\xb6.@\\x92$I\\x07Q]\\x98\\rk\\x96\\xb2\\xec\\x83r*\\xab\\xaa\\x89D\\x12\\xe8\\xda\\xab?_\\x1b9\\x88\\xccPk\\xce\\xaf`\\xed\\xb2\\xc5,^\\xfd\\x11%\\x15\\xbb\\xa8\"\\x81Pj\\x06\\x03\\x06\\x8fd\\xcc\\xc8L\\x92\\xbeh}\\xef?\\xcfw\\x9f\\xa9f\\xc2\\xf7\\xbf\\xc5\\x88\\xd6\\xd4s U\\x1f\\xf3\\xd7\\xbc\\xc5,\\xf9`\\x13\\xc5\\x15\\xd5D\\x88!\\x94\\x9cF\\xcf\\x9c\\x91\\\\\\x94\\x9bM\\xd7\\xd8\\xd6L\\xb2\\x859\\xf7?\\xc1\\xba\\x9c\\x1b\\xf8\\xfe\\x98n_\\xb0\\xa0\\xcf\\xb1\\xfdU~\\xf8P>\\'\\xddx\\x17\\x93N<\\xb4\\x97\\x92$I\\xd2\\xa1g\\xb0*I\\x92t\\xb4\\x08\\x170\\xfb\\xb9\\xe5DrF3\\xee\\x1b\\x99t\\x8e\\x05\\xa8b\\xdb\\xfb\\xabY\\xf8\\xf4oy\\'\\xf7R&\\xf4=@\\x9aYU\\xc4\\x9c\\x99\\xcf\\xb2\\xa4\\xac\\x03\\xd9\\xc3G2\\xb1o\\n\\x89u\\xbb(\\xf9`\\x15\\x8b\\x17\\xccb\\xed\\x87c\\xb9\\xe5\\xea!t=\\\\\\xf7s@e,~\\xf2\\t\\xe6\\x86{rn\\xee\\xa5\\x8c\\xef\\xde\\x91Xv\\xb1\\xe3\\xc3U\\xbc\\x94\\xf7;\\x1e\\xa9\\x98\\xcc\\x7f\\\\\\x96\\xcdqm]\\xa6$I\\x92\\x8eZ\\x06\\xab\\x92$IG\\x83\\xba-\\xbc\\xf4\\xdc*\\xba\\x8e\\xbb\\x9c\\xd1\\xa1M\\xbc\\xf4\\xfc\\xe3\\xac\\xdd\\xba\\x0bBi\\x0c\\xcf\\x1d\\xcbU\\xd7\\xf5a\\xf1\\xd3\\xf3\\xc8\\x0bM&\\xb7{sK9\\xabX\\xf7\\xf2\\xefYR\\x96\\xc6\\xb8\\x9b\\xaej2\\xa6\\xdf)\\x83\\x18v\\xf2\\x8b<\\xf0\\xcc\"\\xe6\\xac\\xce\\xe2\\xdb\\x83\\xbf\\xe8R\\xd3\\x83`\\xfb\\xbb,\\xdb\\x1c\\xc3\\xa9S\\'sQ\\xdf=\\xb5\\xa6\\x92\\xd1=\\x93\\xf4\\x84j~\\xf5\\xd7\"6Ue\\xd3/\\xb1M\\xab\\x94$I\\xd2Q\\xcc`U\\x92$\\xe9(\\xf0\\xf7\\x15\\x8b\\xd96\\xf8\\x12.\\xea\\xbe\\x93\\xbc_,`\\xdb\\xf0\\xcb\\x99ve*l_\\xc5\\x13O\\xfe\\x9e\\xc4\\xeb\\xbe\\xc5\\xe8\\xf1\\xd9<\\xbe\\xe0}*\\xaf\\x1c\\xb4\\xff\\x96\\xfe\\xf0z\\xf2\\xd6\\xec\\xa2\\xcb\\xf0\\xcb\\x9b\\r^\\x93N\\x19\\xcb-\\xb7\\xe6\\x12\\xea\\xbe7T\\xfd\\xe4o\\xcb\\x99\\xbb`9k\\xb7\\xee\\xa4\\x8a\\x04\\xba\\x9c\\x90\\xc5\\xe8q\\xe73\\xa2\\xfb\\x9e4\\xb3\\x82\\xb5s\\xe71\\'\\xbf\\x98\\xcaH\\x02]O\\x1e\\xc9\\x84\\xbe\\xfb\\xce\\\\\\xc7\\xb6\\xf7\\xf3\\x98\\xb3\\xe8}6\\x94\\xed\\x82\\x84\\x14z\\x0e\\x1c\\xcd\\xa4\\xb1\\xfd\\x1b\\xb6\\xf2\\x171\\xfb?\\x9fe\\xdb\\xe8\\xc9\\x0c\\xf8p\\x01/\\x17\\xa60\\xf1\\xfbW0\\xbc*B$z\\xfa~:\\x9f~\\x05\\xdf?\\xbd\\xf1%*X\\x9b\\xb7\\x80\\x85\\xab7\\xb1m\\x17$v\\xcb\"w\\xdcXF\\xf7n\\x9c\\xbaV\\xb3a\\xf1\\xf3\\xcc^\\xfc\\x11\\xdb#1t:a \\x13/\\x1bC\\xbfP\\xa39\\x16-`a~t\\x8e\\xd8\\x0e)\\xf4\\x19\\x9c\\xcb\\x841\\'\\xd1\\x99\\x00c$I\\x92t\\xd4h?}\\xfa\\xf4\\xe9m]\\x84$I\\x92\\xbe\\x88\\nV\\xe6m\\xa5\\xdf\\xd7\\x07\\x92\\xba\\xed\\x7fx~\\xed\\x89\\\\6!\\x9b$\\xa0\\xfd\\xf1\\xe9\\x0c\\x1c\\x9cEFR,\\xed\\x13\\xbb\\x10\\xfb\\xc1\\xebl\\xce\\xcc\\xe1\\x84\\xf8\\xa63\\xd4mX\\xca\\xef\\xdf\\xade\\xc0\\xd8\\xf38\\xa5cs\\xd7\\x88\\xa5C(\\x91\\xcf\"\\xd7\\xed\\xcb\\xf9\\xf9/\\xf3(\\xeb\\xf5u\\xa6N\\x1e\\xcb\\x85\\xc3{s\\\\\\xf1\\n^\\xf8\\xf3&:\\xe5\\xe4\\x90\\x91\\x08\\xdb\\x16\\xcf\\xe2\\x17\\xcb\"\\x0c\\xfc\\xb7\\xcb\\xb8j\\xdc0N\\xe2=\\xfe\\x98\\xf7\\x11\\xe5\\xd5\\x1d8e\\xd4 N\\x88\\x87O\\xde\\x9f\\xc3\\x83\\xcf\\xac#v\\xe8E\\\\3)\\x97Q}\\x8fg\\xe3\\x9b\\x0b\\xf8sq\\x17N\\x1f\\x90J,\\xbb\\xf8\\xf0\\xad\\xd5l\\xda\\xba\\x83\\xaaS\\xce\\xe1\\x9bcr\\xe8\\xdd\\xe9xb\\x8f\\x8fa\\xdb\\xbb\\xaby\\xfb\\x83\\xcdT\\x1d\\xdf\\x91\\xce\\xc9\\xc9th\\xb6\\xa7j\\x1d\\x1b^z\\x8c\\'\\xf2\\x8fc\\xd4\\xc4K\\x990\\xead\\xbaV\\xbc\\xc3\\xdcE\\xeb\\x88\\xef\\x7f\\x1a\\x99\\xc7WR\\xb0\\xec\\x1d6\\xff\\xbd\\x94\\xf2\\xd0\\x10&\\x8c\\x1f\\xcd\\x99}\\x8fg\\xd3[o\\xb2\\xf4\\xff28\\xeb\\x94\\xce\\xb4\\xa7\\x8au\\x7fx\\x82\\xc7\\xd6\\xc41l\\xf2D\\xbey\\xe1\\xd78\\xad\\xfb.\\xde\\xf9\\xf3B\\xde\\n\\xf7\\xe1\\x8c\\xbe_i\\xdd\\x98\\xdd\\x1by\\xf3\\xadR:\\x0f\\xfdZ\\x0b\\x9f\\xb1$I\\x92\\x8e$\\xff\\xd2\\xd6\\x05H\\x92$\\xe9\\x8b*\\xa7\\x84\\x1ed\\xc4B\\xdd\\x8er\\xc2\\x9dR\\xe8\\xd4\\xe8\\xdd\\xd8\\xc4=\\x81h,\\xe9\\'@\\xf1\\xf6\\xfdg\\xa8\\n\\xef\"B\\x072Z\\xb9\\xcb\\xbfh\\xc5r6%\\x9c\\xc2\\xa4\\xf1\\x83\\xc8\\xec\\x12\"\\xa9K&#\\xc6\\xe7\\xd2?\\xf2\\x11K\\xd6\\x94\\x01\\x1f\\xb3bu)\\xb1\\'\\xe72a`7:\\x87\\x92\\xc9\\x1c<\\x961\\xbd\\x1ao\\x98\\xaa`\\xe5\\x92\\xf7\\xa9\\xeau>\\xd7\\x8c\\xc9&\\xa3S2]{\\x0f\\xe1\\x9bc\\xfb\\x10\\xf9`)+w\\xec\\x1d\\xb9#\\xb1?\\x13Gg\\x93\\xd9=5\\xda756\\x93\\tS/\\xe5k\\x9d\\xcaY\\xf2\\xe2,~t\\xdf\\x7fr\\xcf\\x83\\xbf\\xe5\\xf1\\x97\\x97\\xb3vkU\\xa3\\x1b{\\x9f\\xbc\\xd5\\xbb\\xe89\\xe6\\x12r\\xfbv\\xa3k\\xf7L\\x86\\x8f\\xbf\\x84q\\'w\\xa4\\xb2b\\xef\\xb8\\xaa\\xc4!L\\x1c\\xd7\\x9f\\xcc.\\xa9d\\xf4\\x1dNn\\xdf\\x04\\xaa\\xb6\\x96\\xb2\\x03 \\xbc\\x9e%kv\\xd23\\xf7\\x12.\\xea\\x1b\\xbd\\x97\\x8cS\\xc60qx\\n\\xdbW/\\xa7\\xa0\\xae\\x95c$I\\x92tT1X\\x95$I:\\xa64\\xdf\\t*\\xa6a\\xb5g\\xeb\\xf2\\xbf0%[wB\\xf7L\\xd2\\x1b\\xaf\\x12ML#3\\x15\\xb6m.\\xa7\\xae\\xae\\x9cm\\x15\\xd0\\xf5\\x84\\x94\\xbd\\xab\\\\\\x89%\\xbdw\\xda\\xde\\xf1u\\xa5l\\xd8\\n]\\xfbf4iMp\\xdc\\x89\\'\\x91\\x1e)e\\xc3\\xd6\\xbd\\xd5t\\xea\\x9e\\xb1\\xdfv\\xfa\\xd8.\\xfd\\x99t\\xd3]\\xfc\\xf8\\x8e\\xab\\x982v8\\xfd\\x92\\xab\\xd9\\xb4b\\x11O\\xfc\\xecA\\x1e\\x98\\xbb\\x81J\\x80\\xad[(\\x8et \\xa3Q\\x0b\\x03b{0\\xfa\\xb2\\x7f\\xe7\\xa2\\xbe{[\\x01$\\x9d\\xd0x\\xfeX\\x12C\\t\\x10\\xa9\\x8a~\\x1e\\xdb\\xb7P\\x1c\\xe9H\\xcf\\x13\\x92\\x9b\\\\\\xbfk\\xef4b\\xaaK)\\xaah\\xe5\\x18I\\x92$\\x1dU\\xec\\xb1*I\\x92t\\xc4K!\\x9d\\xf7(\\xae\\x1bB\\xbf.)t\\xda\\xbe\\x85md\\x93\\xd1\\xf0\\xee\\'\\xdb\\xb7\\x10\\x0e\\xf5\\xa0kb\\x1d%\\x9b!c\\xe0\\xfe3\\xc4\\x86:\\x92\\xc8G\\x94T@\\x93\\xe5\\xae\\xcd\\xaa\\xa6\\xaa\\nb:%\\xd0t\\xf7}\\x02\\x89\\x89\\x10\\xa9\\xab\\xa6.\\x02U\\x11\\x88\\x89i\\xfau36!\\x86\\x98hwT\\x88T\\x13\\x89@\\xc9\\xa2G\\xb9y\\xd1\\xfeW\\xe9\\x13\\xae\\xfe\\xec\\xef\\x98\\x84\\x96\\xbf\\xb6\\x1e\\xd7%\\x93\\xd3\\xbadr\\xda\\xc8\\xf3\\xa2}N\\xe7>\\xcb\\xac\\x15\\xf3X\\x98s\\x17\\x93\"\\xd5D\\x88!\\xe9s\\xbe\\xf5\\xc6\\x1c\\xe8\\xfd\\xaaj\\xaa\\x88!i\\x9f\\x07a\\xc5\\xc6$\\x90H\\x84HU+\\xc7\\xf8 -I\\x92\\xa4\\xa3\\x8a\\xc1\\xaa$I\\xd2\\x11/\\x99\\x01}w1gM\\x98~\\x83\\x870,q\\x16//\\xed\\xcf5#\\xbb\\xc1\\xf6w\\xf9\\xef\\'Wq\\xd2\\xd4k\\xe9Z\\x95\\xcf\\xb2\\xc8I|\\xb3\\x99\\xed\\xfe\\xb1\\xdd3\\xe9\\x19\\x93\\xcf\\xba\\xd5\\x1b\\xa8\\xeb}\\x12\\xfb\\xb7+\\xadb\\xc3\\xd2\\xd5T\\xf6\\x1d\\xcci]\\x1a\\x05\\xa8\\xd0hl\\xa3\\xc05&Bl\\x0cTE\"Mf\\xa9\\xab\\xae\\xe6\\xb3#1\\t$\\xc6@\\xfa\\x88\\xab\\xb8jp\\x87}\\xae\\x17Cb(\\x04\\xecl\\xe1\\x9e\\xab\\xa8\\x0cCRh\\xdf$3\\x99\\x01cF\\xd2\\xf3\\xaf\\xf3\\xd8\\xb6=\\x0c\\xdd\\x13\\x88!BeU\\xf3\\xb3\\xb4Jb4\\x1c\\xddw\\x8e\\xba\\xaaj\\xaaH\\x88\\x86\\xa9\\x91V\\x8c\\x91$I\\xd2Q\\xc5V\\x00\\x92$IG\\x81\\xce\\xc3G\\xd3y\\xc5<\\x96m\\xef\\xc0\\xe8+/\\xe1\\xa4\\xc2\\x05<p\\xffO\\xf8\\xd1s\\x05t\\x1d?\\x99\\xd1\\xc9\\x1f\\xb3x\\xee{\\xa4\\xe7\\x0el\\xb2\\xed\\xfe3\\xa1,\\xce\\xca\\xe9@\\xf8\\xaf\\x8b\\x98\\xf3\\xe1\\xfe)d\\xe5\\xfb\\x0b\\x98\\xb5`)+7G\\x80\\x10\\xe9\\xdd;\\xc2\\xd6\"65\\xee\\x1dPU\\xca\\x862\\xc8\\xe8\\x95Fll\\n]C\\rm\\x01>\\x1bP\\xc7\\xa6\\x0fK\\xf7\\x8e\\x8fM\\xa3g\\xf7\\x18vTT\\xd3\\xa9K*]?\\xfb\\xe9@LL\\x87\\x03\\x84\\x91u\\xac{\\xe1Q\\xee\\xfd\\xe9\\x02\\xd66\\x13\\x98\\xd6\\xed\\xf8\\x98\\x1d$\\x90\\xd4)\\x01\\xbad\\x92\\x11\\xb3\\x93M\\x9b\\x1b\\xef\\xc5\\xdfB\\xde\\xcc\\xc7\\x99\\xb5\\xba\\x95\\xfb\\xf3\\xbb\\xf7hf\\x0e\\xd8VXJ$!\\x8d\\xf4\\xe4V\\x8e\\x91$I\\xd2Q\\xc5\\x15\\xab\\x92$IG\\x83\\xd8\\x1eL\\xf8\\xc6\\x10\\xfe\\xfb\\xf9g\\xd9t\\xdah\\xce\\xff\\xc6\\xb5\\xe4\\xc6\\x02T\\xb1\\xed\\xc3|f=V@b\\xee\\xa5L\\xea\\xbe\\xffZ\\xd4\\xa8D\\xfa\\x8d\\xbb\\x94s\\xcb~\\xc7kO>J\\xc9i\\xa7\\xf3\\xb5\\x93\\xd3Hb\\x17%\\x1f\\xacb\\xf1_K\\x89=\\xedR\\xbe98\\xba\\xdc5s\\xc4H\\xfa\\xacX\\xc4\\x9c\\xb9\\x99$\\xe6\\xf6\\xa1s\\xa4\\x9c\\xb5\\x8b\\xf2(H\\xc8b\\xca\\xc0h\\x8a8,\\'\\x85%\\xcb\\x161\\'?\\x81\\xd1\\'$P\\xf9\\xe1b\\x16m\\x8ei\\xf4\\x054\\x99age\\x91\\xf7\\xfc\"f-M\\xe0\\xa2\\x81)\\xc4T\\x95S\\x90\\xb7\\x809\\x1b\\xd3\\xb8\\xe6\\xce\\x7f\\xa7_\\xb3\\xe1j,\\xfdrG\\xd3\\xe7\\x83\\x05\\xcc\\xfaE\\x84\\xb3F\\x0f\\xa1_j\\x07\\x12\\xa9f\\xdb\\xe6\\xf7X\\xb2x5\\x95\\xddr\\xc9\\xed\\x15\\x0b\\xb1Y\\xe4\\xe6t\\xe4\\xe7y\\xf3x)9\\x97\\xd3:E(^\\xb1\\x88\\x85\\x9bc\\x187>\\x19\\xd8\\xf5\\xf9\\x9fmb\\x16\\xb9\\x83\\xa3s\\xe4u\\x19\\xcb\\xa9\\xddc\\xa8\\xfa\\xdbr\\xfe{\\xc5N\\xd2G\\\\\\xcaI\\xb1D\\xaf\\xf3yc$I\\x92tTiW___\\xdf\\xd6EH\\x92$\\xe9 \\xa9\\x0b\\xb3a\\xf5R\\x96}PJeu\\x84HL\\x02\\x9d\\xba\\xf7\\xe7\\xac\\xd1\\x83\\xc8l\\xa6\\x05\\xc0\\xfe\\xe7W\\xb0n\\xd9b\\xf2V\\x7f\\xc4\\xa6\\xb2]\\xd1\\xf3S{2`\\xf4h\\xce\\x1f\\xd8\\x8d\\xe3\\x1a\\r\\xfd\\xe4o\\xcbya\\xc1r\\n\\xb6\\xee\\xa4\\x8a\\x0et\\xe9\\x95\\xc5\\x98q\\xe7sZ\\x97=O\\xc2*c\\xc5\\xdcy,ZS\\xcc\\x0e:\\x90~\\xf2H&\\xe6|\\xcc\\x13\\xcf\\xefd\\xcc\\xdd\\xdfbD\\x08\\xa0\\x8em\\xf9y\\xcc\\xc9{\\x9f\\re\\xbb\\x88\\xc4t\\xa0K\\xafS\\x183.\\xb7a\\x9e-\\xcc\\xb9\\xff\\t\\xd6\\xe5\\xdc\\xc0\\xf7\\xc7tkZ\\xea\\x8e\\r,\\xc9[\\xca\\x8a\\x0fK\\xd9\\xb1\\xab\\x9aHL\\x0c\\xa1P\\x1a=sNg\\xcc\\xe8\\xfed\\xec\\te\\xeb\\xca\\xf8\\xeb\\xa2E,\\xcc\\xdf\\xc4\\xf6]\\x10\\xea\\xd6\\x87\\xd1\\xe3\\xc6\\x92\\xdb;\\xd4\\xe2\\xfcE/\\xff\\x84\\x9f|x\\n\\xdf\\xbb\\xf3\\xbch\\xaf\\xda\\xba\\n\\xd6.Z\\xc0K\\rs$&\\xa7\\x91=<\\x97\\t\\xa33\\xf7\\xae\\x00\\xfe\\xbc1\\xdb_\\xe5\\x87\\x0f\\xe5s\\xd2\\x8dw1\\xe9\\xc4\\x80\\xff\\xae\\x92$I\\xfa\\xd21X\\x95$I\\x92$I\\x92\\xa4\\x80\\xec\\xb1*I\\x92$I\\x92$I\\x01\\x19\\xacJ\\x92$I\\x92$IR@\\x06\\xab\\x92$I\\x92$I\\x92\\x14\\x90\\xc1\\xaa$I\\x92$I\\x92$\\x05d\\xb0*I\\x92$I\\x92$I\\x01\\x19\\xacJ\\x92$I\\x92$IR@\\x06\\xab\\x92$I\\x92$I\\x92\\x14\\x90\\xc1\\xaa$I\\x92$I\\x92$\\x05d\\xb0*I\\x92$I\\x92$I\\x01\\x19\\xacJ\\x92$I\\x92$IR@\\x06\\xab\\x92$I\\x92$I\\x92\\x14\\x90\\xc1\\xaa$I\\x92$I\\x92$\\x05d\\xb0*I\\x92$I\\x92$I\\x01\\x19\\xacJ\\x92$I\\x92$IR@\\x06\\xab\\x92$I\\x92$I\\x92\\x14\\x90\\xc1\\xaa$I\\x92$I\\x92$\\x05d\\xb0*I\\x92$I\\x92$I\\x01\\x19\\xacJ\\x92$I\\x92$IR@\\x06\\xab\\x92$I\\x92$I\\x92\\x14\\x90\\xc1\\xaa$I\\x92$I\\x92$\\x05d\\xb0*I\\x92$I\\x92$I\\x01\\x19\\xacJ\\x92$I\\x92$IR@\\x06\\xab\\x92$I\\x92$I\\x92\\x14\\xd0\\xff\\x07?:\\x9eI\\xcd\\xe8\\xdc\\xe3\\x00\\x00\\x00\\x00IEND\\xaeB`\\x82'}"
            ]
          },
          "metadata": {
            "tags": []
          },
          "execution_count": 29
        }
      ]
    },
    {
      "cell_type": "code",
      "metadata": {
        "id": "0hpCc4pVYKF_",
        "colab_type": "code",
        "colab": {
          "base_uri": "https://localhost:8080/",
          "height": 686
        },
        "outputId": "1e3f1d9c-8c50-4a9a-8317-ff799b31a126"
      },
      "source": [
        "Image('image.png')"
      ],
      "execution_count": 30,
      "outputs": [
        {
          "output_type": "execute_result",
          "data": {
            "image/png": "[encoded data removed]",
            "text/plain": [
              "<IPython.core.display.Image object>"
            ]
          },
          "metadata": {
            "tags": []
          },
          "execution_count": 30
        }
      ]
    },
    {
      "cell_type": "markdown",
      "metadata": {
        "colab_type": "text",
        "id": "1BVyCBz2m0Lz"
      },
      "source": [
        "## Embedding the model into a web application"
      ]
    },
    {
      "cell_type": "markdown",
      "metadata": {
        "colab_type": "text",
        "id": "0Y2hes6WnfxV"
      },
      "source": [
        "### Project structure\n",
        "\n",
        "* Clone the files of the repository\n",
        "\n",
        "```bash\n",
        "git clone https://github.com/dhminh1024/flask_doc.git\n",
        "```\n",
        "\n",
        "* Change directory\n",
        "\n",
        "```bash\n",
        "cd flask_doc\n",
        "```\n",
        "\n",
        "* Create the following folders and files\n",
        "\n",
        "|-app/\n",
        "    |-templates/\n",
        "        |-base.html\n",
        "    |-static/\n",
        "        |-js/\n",
        "            |-index.js\n",
        "        |-css/\n",
        "            |-style.css\n",
        "        |-images/\n",
        "    |-blueprints/\n",
        "        |-__ init__.py\n",
        "    |-middlewares/\n",
        "    |-models/\n",
        "    |-main.py\n",
        "\n",
        "```bash\n",
        "mkdir app app/templates app/static app/static/js app/static/css app/static/images app/blueprints app/middlewares app/models\n",
        "touch app/main.py app/templates/base.html app/static/js/index.js app/static/css/style.css\n",
        "touch app/blueprints/__init__.py\n",
        "```\n",
        "\n",
        "* Add jquery (optional)\n",
        "\n",
        "```bash\n",
        "mv ./jquery-3.4.1.min.js app/static/js/\n",
        "```\n",
        "\n",
        "* Add Canvas (optional)\n",
        "\n",
        "```bash\n",
        "mv ./index.js app/static/js/index.js\n",
        "```\n",
        "\n",
        "* Add Coderschool logo (optional)\n",
        "\n",
        "```bash\n",
        "mv ./images/coderschool-logo.png app/static/images/\n",
        "```\n",
        "\n",
        "* Add this code in **app/main.py**\n",
        "\n",
        "```python\n",
        "from flask import Flask, render_template\n",
        "from blueprints import *\n",
        "\n",
        "app = Flask(__name__)\n",
        "app.register_blueprint(home)\n",
        "\n",
        "if __name__ == '__main__':\n",
        "  app.run(host='127.0.0.1', port=5000, debug=True)\n",
        "```\n",
        "> *Hints: most of this code can be automaticaly generated with a VSCode Extension called flask-snippets by only writting \"fapp\"*\n",
        "> ![](https://i.imgur.com/npmdsha.png=500x)"
      ]
    },
    {
      "cell_type": "markdown",
      "metadata": {
        "colab_type": "text",
        "id": "oK1kJUy5rzRK"
      },
      "source": [
        "### Generating a new blueprint of our Flask app\n",
        "\n",
        "> A blueprint is a template for generating a \"section\" of our Flask app\n",
        "\n",
        "* In **flask_doc** directory, run this code in the **Terminal**\n",
        "\n",
        "```bash\n",
        "export NEW_BLUEPRINT=home\n",
        "mkdir app/blueprints/$NEW_BLUEPRINT\n",
        "touch app/blueprints/$NEW_BLUEPRINT/__init__.py app/blueprints/$NEW_BLUEPRINT/blueprint.py\n",
        "echo \"from .$NEW_BLUEPRINT import $NEW_BLUEPRINT\" >> app/blueprints/__init__.py\n",
        "echo \"from .blueprint import $NEW_BLUEPRINT\" > app/blueprints/$NEW_BLUEPRINT/__init__.py\n",
        "printf \\\n",
        "\"from flask import Blueprint, render_template, request\\n\\\n",
        "\\n\\\n",
        "$NEW_BLUEPRINT = Blueprint('$NEW_BLUEPRINT', __name__)\\\n",
        "\\n\\\n",
        "@$NEW_BLUEPRINT.route('/home')\\n\\\n",
        "def route_name():\\n\\\n",
        "    return render_template('$NEW_BLUEPRINT.html') \\n\\\n",
        "\" > app/blueprints/$NEW_BLUEPRINT/blueprint.py\n",
        "cp ./sample_page.html app/templates/$NEW_BLUEPRINT.html\n",
        "```\n",
        "> Hints: change 'home' to make a new blueprint (line 1 & 14)"
      ]
    },
    {
      "cell_type": "markdown",
      "metadata": {
        "colab_type": "text",
        "id": "57kzglW3rzRN"
      },
      "source": [
        "### HTML Template\n",
        "\n",
        "* Add this code in **app/templates/base.html**\n",
        "\n",
        "```html\n",
        "<!doctype html>\n",
        "<html lang=\"en\">\n",
        "  <head>\n",
        "    <title>Title</title>\n",
        "    <!-- Required meta tags -->\n",
        "    <meta charset=\"utf-8\">\n",
        "    <meta name=\"viewport\" content=\"width=device-width, initial-scale=1, shrink-to-fit=no\">\n",
        "\n",
        "    <!-- Bootstrap CSS -->\n",
        "    <link rel=\"stylesheet\" href=\"https://stackpath.bootstrapcdn.com/bootstrap/4.3.1/css/bootstrap.min.css\" integrity=\"sha384-ggOyR0iXCbMQv3Xipma34MD+dH/1fQ784/j6cY/iJTQUOhcWr7x9JvoRxT2MZw1T\" crossorigin=\"anonymous\">\n",
        "    <!-- CSS -->\n",
        "    <link href=\"static/css/style.css\" rel=\"stylesheet\">\n",
        "</head>\n",
        "  <body class=\"text-center\">\n",
        "    {% block content%} {% endblock %} \n",
        "    \n",
        "    <script src=\"static/js/jquery-3.4.1.min.js\"></script>\n",
        "    <script src=\"static/js/index.js\"></script>\n",
        "    <!-- AJAX optional -->\n",
        "    <script type=\"text/javascript\">\n",
        "        $(\"#myButton\").click(function(){\n",
        "            $('#result').text('  Predicting...');\n",
        "            var $SCRIPT_ROOT = {{request.script_root|tojson|safe}};\n",
        "            var canvasObj = document.getElementById(\"canvas\");\n",
        "            var img = canvasObj.toDataURL('image/jpeg');\n",
        "            $.ajax({\n",
        "                type: \"POST\",\n",
        "                url: $SCRIPT_ROOT + \"/upload/\",\n",
        "                data: img,\n",
        "                success: function(data){\n",
        "                    $('#result').text('Predictions ' + data);\n",
        "                }\n",
        "            });\n",
        "        });\n",
        "    </script>\n",
        "  </body>\n",
        "</html>\n",
        "```\n",
        "\n",
        "> *Hints: most of this code can be automaticaly generated with VSCode Extensions called Bootstrap 4, Font awesome 4, Font Awesome 5 Free & Pro snippets by only writting \"b4-$\"*"
      ]
    },
    {
      "cell_type": "markdown",
      "metadata": {
        "colab_type": "text",
        "id": "UBe_IHzKrzRP"
      },
      "source": [
        "### Run the app\n",
        "\n",
        "* Change directory\n",
        "\n",
        "```bash\n",
        "cd app\n",
        "```\n",
        "\n",
        "* Run the app\n",
        "\n",
        "```bash\n",
        "python main.py\n",
        "```\n",
        "\n",
        "Congratulation, you have just created your Flask app. Here is the link of your Flask app: http://127.0.0.1:5000/home\n",
        "\n",
        "### Html for MNIST example\n",
        "\n",
        "* Replace the code of **app/templates/home.html** by this code \n",
        "\n",
        "```html\n",
        "{% extends \"base.html\" %} {% block content %}\n",
        "<div style=\"margin-top:50px\">\n",
        "  <img class=\"mb-4\" src=\"static/images/coderschool-logo.png\" alt=\"\" />\n",
        "  <h1 class=\"h3 mb-3 font-weight-normal\">Please draw a number</h1>\n",
        "\n",
        "  <canvas id=\"canvas\" width=\"400\" height=\"400\"></canvas>\n",
        "\n",
        "  <h1 class=\"h3 mb-3 font-weight-normal\" id=\"result\">Predictions:</h1>\n",
        "\n",
        "  <button id=\"myButton\" class=\"btn  btn-primary \" type=\"submit\">\n",
        "    Predict\n",
        "  </button>\n",
        "  <button id=\"clearButton\" class=\"btn btn-success\" type=\"submit\">\n",
        "    Clear\n",
        "  </button>\n",
        "\n",
        "  <p class=\"mt-5 mb-3 text-muted\">&copy; CoderSchool</p>\n",
        "</div>\n",
        "{% endblock %}\n",
        "\n",
        "```\n",
        "\n",
        "### Python for MNIST example\n",
        "\n",
        "* In **flask_doc** directory, run this code to generate the blueprint related to upload\n",
        "\n",
        "```bash\n",
        "export NEW_BLUEPRINT=upload_api\n",
        "mkdir app/blueprints/$NEW_BLUEPRINT\n",
        "touch app/blueprints/$NEW_BLUEPRINT/__init__.py app/blueprints/$NEW_BLUEPRINT/blueprint.py\n",
        "echo \"from .$NEW_BLUEPRINT import $NEW_BLUEPRINT\" >> app/blueprints/__init__.py\n",
        "echo \"from .blueprint import $NEW_BLUEPRINT\" > app/blueprints/$NEW_BLUEPRINT/__init__.py\n",
        "printf \\\n",
        "\"from flask import Blueprint, render_template, request\\n\\\n",
        "\\n\\\n",
        "$NEW_BLUEPRINT = Blueprint('$NEW_BLUEPRINT', __name__)\\\n",
        "\\n\\\n",
        "@$NEW_BLUEPRINT.route('/upload_api')\\n\\\n",
        "def route_name():\\n\\\n",
        "    return render_template('$NEW_BLUEPRINT.html') \\n\\\n",
        "\" > app/blueprints/$NEW_BLUEPRINT/blueprint.py\n",
        "cp ./sample_page.html app/templates/$NEW_BLUEPRINT.html\n",
        "```\n",
        "\n",
        "\n",
        "* Replace the code of **app/blueprints/upload_api/blueprint.py** by this code\n",
        "\n",
        "```python\n",
        "from flask import Blueprint, render_template, request\n",
        "import re\n",
        "import base64\n",
        "import numpy as np\n",
        "import pickle\n",
        "from skimage import io, color, transform\n",
        "import matplotlib.pyplot as plt\n",
        "\n",
        " \n",
        "def parse_image(imgData):\n",
        "    img_str = re.search(b\"base64,(.*)\", imgData).group(1)\n",
        "    img_decode = base64.decodebytes(img_str)\n",
        "    with open('output.png', \"wb\") as f:\n",
        "        f.write(img_decode)\n",
        "    return img_decode\n",
        "\n",
        "def preprocess_base64(base64_decoded):\n",
        "    img = io.imread(base64_decoded, plugin='imageio')\n",
        "    img = (255 - img)/255\n",
        "    img = color.rgb2gray(img)\n",
        "    img = transform.resize(img, (28,28))\n",
        "    # Testing purpose\n",
        "    # plt.imsave('processed.jpg', img, cmap='gray')\n",
        "    img = img.reshape((1, -1))\n",
        "    return img\n",
        " \n",
        "# Load your model here\n",
        "with open('models/svm_mnist.pkl', 'rb') as model:\n",
        "    model = pickle.load(model)\n",
        " \n",
        "upload_api = Blueprint('upload_api', __name__)\n",
        " \n",
        " \n",
        "@upload_api.route('/upload/', methods=['POST'])\n",
        "def upload():\n",
        "    img_decode = parse_image(request.get_data())\n",
        "    img = preprocess_base64(img_decode)\n",
        "    prediction = model.predict(img)[0]\n",
        "    return str(prediction)\n",
        "\n",
        "```\n",
        "\n",
        "* Register the upload API in **app/main.py**:\n",
        "\n",
        "```python\n",
        "from flask import Flask, render_template\n",
        "from blueprints import *\n",
        "\n",
        "app = Flask(__name__)\n",
        "app.register_blueprint(home)\n",
        "app.register_blueprint(upload_api)\n",
        "\n",
        "if __name__ == '__main__':\n",
        "    app.run(host='127.0.0.1', port=5000, debug=True)\n",
        "```"
      ]
    }
  ]
}